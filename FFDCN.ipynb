{
 "cells": [
  {
   "cell_type": "markdown",
   "metadata": {},
   "source": [
    "# Optuna FFDCN 모델"
   ]
  },
  {
   "cell_type": "code",
   "execution_count": 1,
   "metadata": {},
   "outputs": [
    {
     "name": "stderr",
     "output_type": "stream",
     "text": [
      "/opt/conda/lib/python3.8/site-packages/requests/__init__.py:89: RequestsDependencyWarning: urllib3 (1.26.12) or chardet (3.0.4) doesn't match a supported version!\n",
      "  warnings.warn(\"urllib3 ({}) or chardet ({}) doesn't match a supported \"\n"
     ]
    }
   ],
   "source": [
    "import time\n",
    "import argparse\n",
    "import json\n",
    "import pandas as pd\n",
    "import tqdm\n",
    "import argparse\n",
    "import warnings\n",
    "import joblib\n",
    "from src import seed_everything\n",
    "\n",
    "from src.data import context_data_load, context_data_split, context_data_loader\n",
    "\n",
    "from src import FFDCNModel\n",
    "\n",
    "import optuna\n",
    "from optuna import Trial, visualization\n",
    "from optuna.samplers import TPESampler\n",
    "\n",
    "from sklearn.metrics import mean_absolute_error\n",
    "from sklearn.model_selection import train_test_split\n",
    "from sklearn.model_selection import StratifiedKFold\n",
    "\n",
    "warnings.filterwarnings(action='ignore')"
   ]
  },
  {
   "cell_type": "code",
   "execution_count": 2,
   "metadata": {},
   "outputs": [],
   "source": [
    "parser = argparse.ArgumentParser()\n",
    "args = argparse.Namespace()\n",
    "with open('config.json','rt') as f:\n",
    "    args.__dict__.update(json.load(f))"
   ]
  },
  {
   "cell_type": "code",
   "execution_count": 3,
   "metadata": {},
   "outputs": [],
   "source": [
    "seed_everything(42)"
   ]
  },
  {
   "cell_type": "code",
   "execution_count": 4,
   "metadata": {},
   "outputs": [],
   "source": [
    "ffmdataset = context_data_load(args)"
   ]
  },
  {
   "cell_type": "code",
   "execution_count": 5,
   "metadata": {},
   "outputs": [],
   "source": [
    "def objective(trial):\n",
    "    seed_everything(args.SEED)\n",
    "    args.BATCH_SIZE = trial.suggest_categorical('BATCH_SIZE',[256, 512, 1024])\n",
    "    args.EPOCHS = 1 #trial.suggest_int('EPOCH',5,10)\n",
    "    args.LR = trial.suggest_loguniform('LR',0.001,0.01)\n",
    "    args.WEIGHT_DECAY = trial.suggest_loguniform('WEIGHT_DECAY',1e-07,5e-06)\n",
    "    args.FFM_EMBED_DIM = trial.suggest_int('FFM_EMBED_DIM', 3, 32)\n",
    "    args.DCN_EMBED_DIM = trial.suggest_int('DCN_EMBED_DIM', 1, 16)\n",
    "    DCN_MLP_DIM_LAYERS = trial.suggest_int('DCN_MLP_DIM_LAYERS',1,3)\n",
    "    args.DCN_MLP_DIMS = [trial.suggest_int('DCN_MLP_DIM_NUM',1,16)]*DCN_MLP_DIM_LAYERS\n",
    "    args.DCN_DROPOUT = trial.suggest_categorical(\"DCN_DROPOUT\",[0.2,0.25,0.3])\n",
    "    args.DCN_NUM_LAYERS = trial.suggest_int('DCN_NUM_LAYERS',1 , 4)\n",
    "    # args.USER_N_D = trial.suggest_int('USER_N_D',0,3)\n",
    "    # args.USER_F_D = trial.suggest_int('USER_N_F',3,6)\n",
    "    # args.ISBN_N_D = trial.suggest_categorical('ISBN_N_D',[12,14,16,18,20,22])\n",
    "    # args.ISBN_N_F = trial.suggest_int('ISBN_N_F',28,32)\n",
    "    # ffmdataset = context_data_load(args)\n",
    "    dataffm = context_data_split(args,ffmdataset)\n",
    "    dataffm = context_data_loader(args,dataffm)\n",
    "    model = FFDCNModel(args,dataffm)\n",
    "    model.train()\n",
    "    log_score = model.predict_train()\n",
    "    \n",
    "    return log_score"
   ]
  },
  {
   "cell_type": "code",
   "execution_count": 6,
   "metadata": {},
   "outputs": [
    {
     "name": "stderr",
     "output_type": "stream",
     "text": [
      "\u001b[32m[I 2022-11-08 04:05:38,171]\u001b[0m A new study created in memory with name: FFDCN_parameter_opt\u001b[0m\n"
     ]
    },
    {
     "name": "stdout",
     "output_type": "stream",
     "text": [
      "42\n"
     ]
    },
    {
     "name": "stderr",
     "output_type": "stream",
     "text": [
      "100%|██████████| 240/240 [00:09<00:00, 25.70it/s, loss=2.26]\n",
      "100%|██████████| 60/60 [00:00<00:00, 78.50it/s]\n",
      "  0%|          | 0/60 [00:00<?, ?it/s]"
     ]
    },
    {
     "name": "stdout",
     "output_type": "stream",
     "text": [
      "epoch: 0 validation: rmse: 2.204603349985907\n"
     ]
    },
    {
     "name": "stderr",
     "output_type": "stream",
     "text": [
      "100%|██████████| 60/60 [00:00<00:00, 78.28it/s]\n",
      "\u001b[32m[I 2022-11-08 04:05:53,907]\u001b[0m Trial 0 finished with value: 2.204603349985907 and parameters: {'BATCH_SIZE': 1024, 'LR': 0.0077911835931194886, 'WEIGHT_DECAY': 1.4483273098046678e-06, 'FFM_EMBED_DIM': 20, 'DCN_EMBED_DIM': 9, 'DCN_MLP_DIM_LAYERS': 1, 'DCN_MLP_DIM_NUM': 13, 'DCN_DROPOUT': 0.2, 'DCN_NUM_LAYERS': 2}. Best is trial 0 with value: 2.204603349985907.\u001b[0m\n"
     ]
    },
    {
     "name": "stdout",
     "output_type": "stream",
     "text": [
      "42\n"
     ]
    },
    {
     "name": "stderr",
     "output_type": "stream",
     "text": [
      "100%|██████████| 480/480 [00:13<00:00, 36.35it/s, loss=2.21]\n",
      "100%|██████████| 120/120 [00:00<00:00, 144.44it/s]\n",
      "  0%|          | 0/120 [00:00<?, ?it/s]"
     ]
    },
    {
     "name": "stdout",
     "output_type": "stream",
     "text": [
      "epoch: 0 validation: rmse: 2.177058035188404\n"
     ]
    },
    {
     "name": "stderr",
     "output_type": "stream",
     "text": [
      "100%|██████████| 120/120 [00:00<00:00, 144.74it/s]\n",
      "\u001b[32m[I 2022-11-08 04:06:09,606]\u001b[0m Trial 1 finished with value: 2.177058035188404 and parameters: {'BATCH_SIZE': 512, 'LR': 0.00916574016328639, 'WEIGHT_DECAY': 1.2592167291059558e-07, 'FFM_EMBED_DIM': 11, 'DCN_EMBED_DIM': 5, 'DCN_MLP_DIM_LAYERS': 3, 'DCN_MLP_DIM_NUM': 12, 'DCN_DROPOUT': 0.2, 'DCN_NUM_LAYERS': 2}. Best is trial 1 with value: 2.177058035188404.\u001b[0m\n"
     ]
    },
    {
     "name": "stdout",
     "output_type": "stream",
     "text": [
      "42\n"
     ]
    },
    {
     "name": "stderr",
     "output_type": "stream",
     "text": [
      "100%|██████████| 959/959 [00:32<00:00, 29.60it/s, loss=2.21]\n",
      "100%|██████████| 240/240 [00:01<00:00, 203.89it/s]\n",
      "  0%|          | 0/240 [00:00<?, ?it/s]"
     ]
    },
    {
     "name": "stdout",
     "output_type": "stream",
     "text": [
      "epoch: 0 validation: rmse: 2.2058791628448327\n"
     ]
    },
    {
     "name": "stderr",
     "output_type": "stream",
     "text": [
      "100%|██████████| 240/240 [00:01<00:00, 203.96it/s]\n",
      "\u001b[32m[I 2022-11-08 04:06:46,416]\u001b[0m Trial 2 finished with value: 2.2058791628448327 and parameters: {'BATCH_SIZE': 256, 'LR': 0.0011913726566930207, 'WEIGHT_DECAY': 2.6747249467803637e-07, 'FFM_EMBED_DIM': 30, 'DCN_EMBED_DIM': 14, 'DCN_MLP_DIM_LAYERS': 2, 'DCN_MLP_DIM_NUM': 16, 'DCN_DROPOUT': 0.2, 'DCN_NUM_LAYERS': 3}. Best is trial 1 with value: 2.177058035188404.\u001b[0m\n"
     ]
    },
    {
     "name": "stdout",
     "output_type": "stream",
     "text": [
      "42\n"
     ]
    },
    {
     "name": "stderr",
     "output_type": "stream",
     "text": [
      "100%|██████████| 480/480 [00:13<00:00, 36.86it/s, loss=2.26]\n",
      "100%|██████████| 120/120 [00:00<00:00, 143.65it/s]\n",
      "  0%|          | 0/120 [00:00<?, ?it/s]"
     ]
    },
    {
     "name": "stdout",
     "output_type": "stream",
     "text": [
      "epoch: 0 validation: rmse: 2.2176707587991125\n"
     ]
    },
    {
     "name": "stderr",
     "output_type": "stream",
     "text": [
      "100%|██████████| 120/120 [00:00<00:00, 123.11it/s]\n",
      "\u001b[32m[I 2022-11-08 04:07:01,879]\u001b[0m Trial 3 finished with value: 2.2176707587991125 and parameters: {'BATCH_SIZE': 512, 'LR': 0.003022398945713271, 'WEIGHT_DECAY': 4.1121792888582303e-07, 'FFM_EMBED_DIM': 7, 'DCN_EMBED_DIM': 15, 'DCN_MLP_DIM_LAYERS': 2, 'DCN_MLP_DIM_NUM': 14, 'DCN_DROPOUT': 0.3, 'DCN_NUM_LAYERS': 4}. Best is trial 1 with value: 2.177058035188404.\u001b[0m\n"
     ]
    },
    {
     "name": "stdout",
     "output_type": "stream",
     "text": [
      "42\n"
     ]
    },
    {
     "name": "stderr",
     "output_type": "stream",
     "text": [
      "100%|██████████| 959/959 [00:31<00:00, 30.62it/s, loss=2.2] \n",
      "100%|██████████| 240/240 [00:01<00:00, 201.73it/s]\n",
      "  0%|          | 0/240 [00:00<?, ?it/s]"
     ]
    },
    {
     "name": "stdout",
     "output_type": "stream",
     "text": [
      "epoch: 0 validation: rmse: 2.1922133761398594\n"
     ]
    },
    {
     "name": "stderr",
     "output_type": "stream",
     "text": [
      "100%|██████████| 240/240 [00:01<00:00, 201.56it/s]\n",
      "\u001b[32m[I 2022-11-08 04:07:37,398]\u001b[0m Trial 4 finished with value: 2.1922133761398594 and parameters: {'BATCH_SIZE': 256, 'LR': 0.0018022428281616561, 'WEIGHT_DECAY': 1.1183165348233472e-06, 'FFM_EMBED_DIM': 27, 'DCN_EMBED_DIM': 1, 'DCN_MLP_DIM_LAYERS': 3, 'DCN_MLP_DIM_NUM': 3, 'DCN_DROPOUT': 0.3, 'DCN_NUM_LAYERS': 2}. Best is trial 1 with value: 2.177058035188404.\u001b[0m\n"
     ]
    },
    {
     "name": "stdout",
     "output_type": "stream",
     "text": [
      "42\n"
     ]
    },
    {
     "name": "stderr",
     "output_type": "stream",
     "text": [
      "100%|██████████| 240/240 [00:10<00:00, 23.29it/s, loss=2.27]\n",
      "100%|██████████| 60/60 [00:00<00:00, 76.57it/s]\n",
      "  0%|          | 0/60 [00:00<?, ?it/s]"
     ]
    },
    {
     "name": "stdout",
     "output_type": "stream",
     "text": [
      "epoch: 0 validation: rmse: 2.1953796110814143\n"
     ]
    },
    {
     "name": "stderr",
     "output_type": "stream",
     "text": [
      "100%|██████████| 60/60 [00:00<00:00, 91.77it/s]\n",
      "\u001b[32m[I 2022-11-08 04:07:51,334]\u001b[0m Trial 5 finished with value: 2.1953796110814143 and parameters: {'BATCH_SIZE': 1024, 'LR': 0.004243496023412251, 'WEIGHT_DECAY': 1.0484640154622636e-06, 'FFM_EMBED_DIM': 32, 'DCN_EMBED_DIM': 10, 'DCN_MLP_DIM_LAYERS': 2, 'DCN_MLP_DIM_NUM': 13, 'DCN_DROPOUT': 0.25, 'DCN_NUM_LAYERS': 4}. Best is trial 1 with value: 2.177058035188404.\u001b[0m\n"
     ]
    },
    {
     "name": "stdout",
     "output_type": "stream",
     "text": [
      "42\n"
     ]
    },
    {
     "name": "stderr",
     "output_type": "stream",
     "text": [
      "100%|██████████| 240/240 [00:07<00:00, 31.48it/s, loss=2.5] \n",
      "100%|██████████| 60/60 [00:00<00:00, 76.47it/s]\n",
      "  0%|          | 0/60 [00:00<?, ?it/s]"
     ]
    },
    {
     "name": "stdout",
     "output_type": "stream",
     "text": [
      "epoch: 0 validation: rmse: 2.3209264728785284\n"
     ]
    },
    {
     "name": "stderr",
     "output_type": "stream",
     "text": [
      "100%|██████████| 60/60 [00:00<00:00, 76.29it/s]\n",
      "\u001b[32m[I 2022-11-08 04:08:01,027]\u001b[0m Trial 6 finished with value: 2.3209264728785284 and parameters: {'BATCH_SIZE': 1024, 'LR': 0.003684294309478835, 'WEIGHT_DECAY': 3.7322105018994498e-06, 'FFM_EMBED_DIM': 6, 'DCN_EMBED_DIM': 5, 'DCN_MLP_DIM_LAYERS': 3, 'DCN_MLP_DIM_NUM': 2, 'DCN_DROPOUT': 0.2, 'DCN_NUM_LAYERS': 3}. Best is trial 1 with value: 2.177058035188404.\u001b[0m\n"
     ]
    },
    {
     "name": "stdout",
     "output_type": "stream",
     "text": [
      "42\n"
     ]
    },
    {
     "name": "stderr",
     "output_type": "stream",
     "text": [
      "100%|██████████| 959/959 [00:27<00:00, 34.84it/s, loss=2.17]\n",
      "100%|██████████| 240/240 [00:01<00:00, 207.50it/s]\n",
      "  0%|          | 0/240 [00:00<?, ?it/s]"
     ]
    },
    {
     "name": "stdout",
     "output_type": "stream",
     "text": [
      "epoch: 0 validation: rmse: 2.171417291437393\n"
     ]
    },
    {
     "name": "stderr",
     "output_type": "stream",
     "text": [
      "100%|██████████| 240/240 [00:01<00:00, 186.00it/s]\n",
      "\u001b[32m[I 2022-11-08 04:08:32,419]\u001b[0m Trial 7 finished with value: 2.171417291437393 and parameters: {'BATCH_SIZE': 256, 'LR': 0.004614632299697881, 'WEIGHT_DECAY': 6.803565761812968e-07, 'FFM_EMBED_DIM': 21, 'DCN_EMBED_DIM': 1, 'DCN_MLP_DIM_LAYERS': 2, 'DCN_MLP_DIM_NUM': 6, 'DCN_DROPOUT': 0.25, 'DCN_NUM_LAYERS': 2}. Best is trial 7 with value: 2.171417291437393.\u001b[0m\n"
     ]
    },
    {
     "name": "stdout",
     "output_type": "stream",
     "text": [
      "42\n"
     ]
    },
    {
     "name": "stderr",
     "output_type": "stream",
     "text": [
      "100%|██████████| 959/959 [00:27<00:00, 35.04it/s, loss=2.19]\n",
      "100%|██████████| 240/240 [00:01<00:00, 183.96it/s]\n",
      "  0%|          | 0/240 [00:00<?, ?it/s]"
     ]
    },
    {
     "name": "stdout",
     "output_type": "stream",
     "text": [
      "epoch: 0 validation: rmse: 2.185521998186778\n"
     ]
    },
    {
     "name": "stderr",
     "output_type": "stream",
     "text": [
      "100%|██████████| 240/240 [00:01<00:00, 203.35it/s]\n",
      "\u001b[32m[I 2022-11-08 04:09:03,578]\u001b[0m Trial 8 finished with value: 2.185521998186778 and parameters: {'BATCH_SIZE': 256, 'LR': 0.0022217899774699666, 'WEIGHT_DECAY': 2.8358562244571478e-06, 'FFM_EMBED_DIM': 19, 'DCN_EMBED_DIM': 15, 'DCN_MLP_DIM_LAYERS': 2, 'DCN_MLP_DIM_NUM': 7, 'DCN_DROPOUT': 0.25, 'DCN_NUM_LAYERS': 3}. Best is trial 7 with value: 2.171417291437393.\u001b[0m\n"
     ]
    },
    {
     "name": "stdout",
     "output_type": "stream",
     "text": [
      "42\n"
     ]
    },
    {
     "name": "stderr",
     "output_type": "stream",
     "text": [
      "100%|██████████| 240/240 [00:07<00:00, 30.83it/s, loss=2.43]\n",
      "100%|██████████| 60/60 [00:00<00:00, 93.33it/s]\n",
      "  0%|          | 0/60 [00:00<?, ?it/s]"
     ]
    },
    {
     "name": "stdout",
     "output_type": "stream",
     "text": [
      "epoch: 0 validation: rmse: 2.2820642356218594\n"
     ]
    },
    {
     "name": "stderr",
     "output_type": "stream",
     "text": [
      "100%|██████████| 60/60 [00:00<00:00, 77.21it/s]\n",
      "\u001b[32m[I 2022-11-08 04:09:13,431]\u001b[0m Trial 9 finished with value: 2.2820642356218594 and parameters: {'BATCH_SIZE': 1024, 'LR': 0.002572312718841013, 'WEIGHT_DECAY': 2.0338368400495325e-07, 'FFM_EMBED_DIM': 8, 'DCN_EMBED_DIM': 15, 'DCN_MLP_DIM_LAYERS': 3, 'DCN_MLP_DIM_NUM': 11, 'DCN_DROPOUT': 0.2, 'DCN_NUM_LAYERS': 1}. Best is trial 7 with value: 2.171417291437393.\u001b[0m\n"
     ]
    },
    {
     "name": "stdout",
     "output_type": "stream",
     "text": [
      "42\n"
     ]
    },
    {
     "name": "stderr",
     "output_type": "stream",
     "text": [
      "100%|██████████| 959/959 [00:28<00:00, 34.04it/s, loss=2.18]\n",
      "100%|██████████| 240/240 [00:01<00:00, 218.23it/s]\n",
      "  0%|          | 0/240 [00:00<?, ?it/s]"
     ]
    },
    {
     "name": "stdout",
     "output_type": "stream",
     "text": [
      "epoch: 0 validation: rmse: 2.1691109536218107\n"
     ]
    },
    {
     "name": "stderr",
     "output_type": "stream",
     "text": [
      "100%|██████████| 240/240 [00:01<00:00, 217.98it/s]\n",
      "\u001b[32m[I 2022-11-08 04:09:45,425]\u001b[0m Trial 10 finished with value: 2.1691109536218107 and parameters: {'BATCH_SIZE': 256, 'LR': 0.005677583803250558, 'WEIGHT_DECAY': 5.04735431213903e-07, 'FFM_EMBED_DIM': 24, 'DCN_EMBED_DIM': 1, 'DCN_MLP_DIM_LAYERS': 1, 'DCN_MLP_DIM_NUM': 7, 'DCN_DROPOUT': 0.25, 'DCN_NUM_LAYERS': 1}. Best is trial 10 with value: 2.1691109536218107.\u001b[0m\n"
     ]
    },
    {
     "name": "stdout",
     "output_type": "stream",
     "text": [
      "42\n"
     ]
    },
    {
     "name": "stderr",
     "output_type": "stream",
     "text": [
      "100%|██████████| 959/959 [00:27<00:00, 34.59it/s, loss=2.19]\n",
      "100%|██████████| 240/240 [00:01<00:00, 218.17it/s]\n",
      "  0%|          | 0/240 [00:00<?, ?it/s]"
     ]
    },
    {
     "name": "stdout",
     "output_type": "stream",
     "text": [
      "epoch: 0 validation: rmse: 2.1718536837128344\n"
     ]
    },
    {
     "name": "stderr",
     "output_type": "stream",
     "text": [
      "100%|██████████| 240/240 [00:01<00:00, 217.42it/s]\n",
      "\u001b[32m[I 2022-11-08 04:10:16,935]\u001b[0m Trial 11 finished with value: 2.1718536837128344 and parameters: {'BATCH_SIZE': 256, 'LR': 0.004697672886723397, 'WEIGHT_DECAY': 5.045013022258652e-07, 'FFM_EMBED_DIM': 24, 'DCN_EMBED_DIM': 1, 'DCN_MLP_DIM_LAYERS': 1, 'DCN_MLP_DIM_NUM': 6, 'DCN_DROPOUT': 0.25, 'DCN_NUM_LAYERS': 1}. Best is trial 10 with value: 2.1691109536218107.\u001b[0m\n"
     ]
    },
    {
     "name": "stdout",
     "output_type": "stream",
     "text": [
      "42\n"
     ]
    },
    {
     "name": "stderr",
     "output_type": "stream",
     "text": [
      "100%|██████████| 959/959 [00:27<00:00, 34.69it/s, loss=2.19]\n",
      "100%|██████████| 240/240 [00:01<00:00, 218.14it/s]\n",
      "  0%|          | 0/240 [00:00<?, ?it/s]"
     ]
    },
    {
     "name": "stdout",
     "output_type": "stream",
     "text": [
      "epoch: 0 validation: rmse: 2.169603617249184\n"
     ]
    },
    {
     "name": "stderr",
     "output_type": "stream",
     "text": [
      "100%|██████████| 240/240 [00:01<00:00, 193.75it/s]\n",
      "\u001b[32m[I 2022-11-08 04:10:48,442]\u001b[0m Trial 12 finished with value: 2.169603617249184 and parameters: {'BATCH_SIZE': 256, 'LR': 0.0060216844104495895, 'WEIGHT_DECAY': 6.381487407289953e-07, 'FFM_EMBED_DIM': 23, 'DCN_EMBED_DIM': 4, 'DCN_MLP_DIM_LAYERS': 1, 'DCN_MLP_DIM_NUM': 5, 'DCN_DROPOUT': 0.25, 'DCN_NUM_LAYERS': 1}. Best is trial 10 with value: 2.1691109536218107.\u001b[0m\n"
     ]
    },
    {
     "name": "stdout",
     "output_type": "stream",
     "text": [
      "42\n"
     ]
    },
    {
     "name": "stderr",
     "output_type": "stream",
     "text": [
      "100%|██████████| 959/959 [00:23<00:00, 41.47it/s, loss=2.17]\n",
      "100%|██████████| 240/240 [00:01<00:00, 193.34it/s]\n",
      "  0%|          | 0/240 [00:00<?, ?it/s]"
     ]
    },
    {
     "name": "stdout",
     "output_type": "stream",
     "text": [
      "epoch: 0 validation: rmse: 2.168015103825705\n"
     ]
    },
    {
     "name": "stderr",
     "output_type": "stream",
     "text": [
      "100%|██████████| 240/240 [00:01<00:00, 214.90it/s]\n",
      "\u001b[32m[I 2022-11-08 04:11:14,915]\u001b[0m Trial 13 finished with value: 2.168015103825705 and parameters: {'BATCH_SIZE': 256, 'LR': 0.006190705184211986, 'WEIGHT_DECAY': 3.1728946034951174e-07, 'FFM_EMBED_DIM': 14, 'DCN_EMBED_DIM': 4, 'DCN_MLP_DIM_LAYERS': 1, 'DCN_MLP_DIM_NUM': 4, 'DCN_DROPOUT': 0.25, 'DCN_NUM_LAYERS': 1}. Best is trial 13 with value: 2.168015103825705.\u001b[0m\n"
     ]
    },
    {
     "name": "stdout",
     "output_type": "stream",
     "text": [
      "42\n"
     ]
    },
    {
     "name": "stderr",
     "output_type": "stream",
     "text": [
      "100%|██████████| 959/959 [00:23<00:00, 40.53it/s, loss=2.17]\n",
      "100%|██████████| 240/240 [00:01<00:00, 201.16it/s]\n",
      "  0%|          | 0/240 [00:00<?, ?it/s]"
     ]
    },
    {
     "name": "stdout",
     "output_type": "stream",
     "text": [
      "epoch: 0 validation: rmse: 2.1707571670279044\n"
     ]
    },
    {
     "name": "stderr",
     "output_type": "stream",
     "text": [
      "100%|██████████| 240/240 [00:01<00:00, 217.38it/s]\n",
      "\u001b[32m[I 2022-11-08 04:11:41,871]\u001b[0m Trial 14 finished with value: 2.1707571670279044 and parameters: {'BATCH_SIZE': 256, 'LR': 0.0061102293145710255, 'WEIGHT_DECAY': 2.9425415175611037e-07, 'FFM_EMBED_DIM': 14, 'DCN_EMBED_DIM': 4, 'DCN_MLP_DIM_LAYERS': 1, 'DCN_MLP_DIM_NUM': 9, 'DCN_DROPOUT': 0.25, 'DCN_NUM_LAYERS': 1}. Best is trial 13 with value: 2.168015103825705.\u001b[0m\n"
     ]
    },
    {
     "name": "stdout",
     "output_type": "stream",
     "text": [
      "42\n"
     ]
    },
    {
     "name": "stderr",
     "output_type": "stream",
     "text": [
      "100%|██████████| 959/959 [00:23<00:00, 40.11it/s, loss=2.18]\n",
      "100%|██████████| 240/240 [00:01<00:00, 217.63it/s]\n",
      "  0%|          | 0/240 [00:00<?, ?it/s]"
     ]
    },
    {
     "name": "stdout",
     "output_type": "stream",
     "text": [
      "epoch: 0 validation: rmse: 2.1748270738278985\n"
     ]
    },
    {
     "name": "stderr",
     "output_type": "stream",
     "text": [
      "100%|██████████| 240/240 [00:01<00:00, 216.76it/s]\n",
      "\u001b[32m[I 2022-11-08 04:12:09,048]\u001b[0m Trial 15 finished with value: 2.1748270738278985 and parameters: {'BATCH_SIZE': 256, 'LR': 0.00640518177017244, 'WEIGHT_DECAY': 1.40448414760014e-07, 'FFM_EMBED_DIM': 15, 'DCN_EMBED_DIM': 7, 'DCN_MLP_DIM_LAYERS': 1, 'DCN_MLP_DIM_NUM': 1, 'DCN_DROPOUT': 0.25, 'DCN_NUM_LAYERS': 1}. Best is trial 13 with value: 2.168015103825705.\u001b[0m\n"
     ]
    },
    {
     "name": "stdout",
     "output_type": "stream",
     "text": [
      "42\n"
     ]
    },
    {
     "name": "stderr",
     "output_type": "stream",
     "text": [
      "100%|██████████| 480/480 [00:11<00:00, 43.25it/s, loss=2.22]\n",
      "100%|██████████| 120/120 [00:00<00:00, 152.06it/s]\n",
      "  0%|          | 0/120 [00:00<?, ?it/s]"
     ]
    },
    {
     "name": "stdout",
     "output_type": "stream",
     "text": [
      "epoch: 0 validation: rmse: 2.184603907573254\n"
     ]
    },
    {
     "name": "stderr",
     "output_type": "stream",
     "text": [
      "100%|██████████| 120/120 [00:00<00:00, 152.10it/s]\n",
      "\u001b[32m[I 2022-11-08 04:12:22,044]\u001b[0m Trial 16 finished with value: 2.184603907573254 and parameters: {'BATCH_SIZE': 512, 'LR': 0.008929038562263193, 'WEIGHT_DECAY': 3.419472069784891e-07, 'FFM_EMBED_DIM': 3, 'DCN_EMBED_DIM': 3, 'DCN_MLP_DIM_LAYERS': 1, 'DCN_MLP_DIM_NUM': 4, 'DCN_DROPOUT': 0.25, 'DCN_NUM_LAYERS': 1}. Best is trial 13 with value: 2.168015103825705.\u001b[0m\n"
     ]
    },
    {
     "name": "stdout",
     "output_type": "stream",
     "text": [
      "42\n"
     ]
    },
    {
     "name": "stderr",
     "output_type": "stream",
     "text": [
      "100%|██████████| 959/959 [00:25<00:00, 38.13it/s, loss=2.18]\n",
      "100%|██████████| 240/240 [00:01<00:00, 161.53it/s]\n",
      "  0%|          | 0/240 [00:00<?, ?it/s]"
     ]
    },
    {
     "name": "stdout",
     "output_type": "stream",
     "text": [
      "epoch: 0 validation: rmse: 2.165372905929111\n"
     ]
    },
    {
     "name": "stderr",
     "output_type": "stream",
     "text": [
      "100%|██████████| 240/240 [00:01<00:00, 148.02it/s]\n",
      "\u001b[32m[I 2022-11-08 04:12:51,296]\u001b[0m Trial 17 finished with value: 2.165372905929111 and parameters: {'BATCH_SIZE': 256, 'LR': 0.006000363528870203, 'WEIGHT_DECAY': 1.7964717429196392e-06, 'FFM_EMBED_DIM': 14, 'DCN_EMBED_DIM': 7, 'DCN_MLP_DIM_LAYERS': 1, 'DCN_MLP_DIM_NUM': 9, 'DCN_DROPOUT': 0.3, 'DCN_NUM_LAYERS': 2}. Best is trial 17 with value: 2.165372905929111.\u001b[0m\n"
     ]
    },
    {
     "name": "stdout",
     "output_type": "stream",
     "text": [
      "42\n"
     ]
    },
    {
     "name": "stderr",
     "output_type": "stream",
     "text": [
      "100%|██████████| 959/959 [00:24<00:00, 38.53it/s, loss=2.18]\n",
      "100%|██████████| 240/240 [00:01<00:00, 187.68it/s]\n",
      "  0%|          | 0/240 [00:00<?, ?it/s]"
     ]
    },
    {
     "name": "stdout",
     "output_type": "stream",
     "text": [
      "epoch: 0 validation: rmse: 2.1768067372237394\n"
     ]
    },
    {
     "name": "stderr",
     "output_type": "stream",
     "text": [
      "100%|██████████| 240/240 [00:01<00:00, 210.64it/s]\n",
      "\u001b[32m[I 2022-11-08 04:13:19,685]\u001b[0m Trial 18 finished with value: 2.1768067372237394 and parameters: {'BATCH_SIZE': 256, 'LR': 0.007490274293087808, 'WEIGHT_DECAY': 2.1015237076370165e-06, 'FFM_EMBED_DIM': 15, 'DCN_EMBED_DIM': 11, 'DCN_MLP_DIM_LAYERS': 1, 'DCN_MLP_DIM_NUM': 10, 'DCN_DROPOUT': 0.3, 'DCN_NUM_LAYERS': 2}. Best is trial 17 with value: 2.165372905929111.\u001b[0m\n"
     ]
    },
    {
     "name": "stdout",
     "output_type": "stream",
     "text": [
      "42\n"
     ]
    },
    {
     "name": "stderr",
     "output_type": "stream",
     "text": [
      "100%|██████████| 480/480 [00:12<00:00, 37.72it/s, loss=2.25]\n",
      "100%|██████████| 120/120 [00:00<00:00, 149.91it/s]\n",
      "  0%|          | 0/120 [00:00<?, ?it/s]"
     ]
    },
    {
     "name": "stdout",
     "output_type": "stream",
     "text": [
      "epoch: 0 validation: rmse: 2.2007844083333445\n"
     ]
    },
    {
     "name": "stderr",
     "output_type": "stream",
     "text": [
      "100%|██████████| 120/120 [00:00<00:00, 149.23it/s]\n",
      "\u001b[32m[I 2022-11-08 04:13:34,834]\u001b[0m Trial 19 finished with value: 2.2007844083333445 and parameters: {'BATCH_SIZE': 512, 'LR': 0.0033703438398565736, 'WEIGHT_DECAY': 4.81423963699945e-06, 'FFM_EMBED_DIM': 11, 'DCN_EMBED_DIM': 7, 'DCN_MLP_DIM_LAYERS': 1, 'DCN_MLP_DIM_NUM': 8, 'DCN_DROPOUT': 0.3, 'DCN_NUM_LAYERS': 2}. Best is trial 17 with value: 2.165372905929111.\u001b[0m\n"
     ]
    },
    {
     "name": "stdout",
     "output_type": "stream",
     "text": [
      "42\n"
     ]
    },
    {
     "name": "stderr",
     "output_type": "stream",
     "text": [
      "100%|██████████| 959/959 [00:26<00:00, 36.16it/s, loss=2.22]\n",
      "100%|██████████| 240/240 [00:01<00:00, 202.48it/s]\n",
      "  0%|          | 0/240 [00:00<?, ?it/s]"
     ]
    },
    {
     "name": "stdout",
     "output_type": "stream",
     "text": [
      "epoch: 0 validation: rmse: 2.2072557480582295\n"
     ]
    },
    {
     "name": "stderr",
     "output_type": "stream",
     "text": [
      "100%|██████████| 240/240 [00:01<00:00, 201.94it/s]\n",
      "\u001b[32m[I 2022-11-08 04:14:04,932]\u001b[0m Trial 20 finished with value: 2.2072557480582295 and parameters: {'BATCH_SIZE': 256, 'LR': 0.0014789200693873248, 'WEIGHT_DECAY': 1.8375191825424641e-06, 'FFM_EMBED_DIM': 17, 'DCN_EMBED_DIM': 12, 'DCN_MLP_DIM_LAYERS': 2, 'DCN_MLP_DIM_NUM': 9, 'DCN_DROPOUT': 0.3, 'DCN_NUM_LAYERS': 3}. Best is trial 17 with value: 2.165372905929111.\u001b[0m\n"
     ]
    },
    {
     "name": "stdout",
     "output_type": "stream",
     "text": [
      "42\n"
     ]
    },
    {
     "name": "stderr",
     "output_type": "stream",
     "text": [
      "100%|██████████| 959/959 [00:22<00:00, 43.03it/s, loss=2.17]\n",
      "100%|██████████| 240/240 [00:01<00:00, 218.35it/s]\n",
      "  0%|          | 0/240 [00:00<?, ?it/s]"
     ]
    },
    {
     "name": "stdout",
     "output_type": "stream",
     "text": [
      "epoch: 0 validation: rmse: 2.169798529865744\n"
     ]
    },
    {
     "name": "stderr",
     "output_type": "stream",
     "text": [
      "100%|██████████| 240/240 [00:01<00:00, 194.91it/s]\n",
      "\u001b[32m[I 2022-11-08 04:14:30,363]\u001b[0m Trial 21 finished with value: 2.169798529865744 and parameters: {'BATCH_SIZE': 256, 'LR': 0.005542378126885837, 'WEIGHT_DECAY': 9.649728637002423e-07, 'FFM_EMBED_DIM': 11, 'DCN_EMBED_DIM': 7, 'DCN_MLP_DIM_LAYERS': 1, 'DCN_MLP_DIM_NUM': 7, 'DCN_DROPOUT': 0.3, 'DCN_NUM_LAYERS': 1}. Best is trial 17 with value: 2.165372905929111.\u001b[0m\n"
     ]
    },
    {
     "name": "stdout",
     "output_type": "stream",
     "text": [
      "42\n"
     ]
    },
    {
     "name": "stderr",
     "output_type": "stream",
     "text": [
      "100%|██████████| 959/959 [00:29<00:00, 31.99it/s, loss=2.16]\n",
      "100%|██████████| 240/240 [00:01<00:00, 194.99it/s]\n",
      "  0%|          | 0/240 [00:00<?, ?it/s]"
     ]
    },
    {
     "name": "stdout",
     "output_type": "stream",
     "text": [
      "epoch: 0 validation: rmse: 2.1684356784894665\n"
     ]
    },
    {
     "name": "stderr",
     "output_type": "stream",
     "text": [
      "100%|██████████| 240/240 [00:01<00:00, 217.91it/s]\n",
      "\u001b[32m[I 2022-11-08 04:15:04,372]\u001b[0m Trial 22 finished with value: 2.1684356784894665 and parameters: {'BATCH_SIZE': 256, 'LR': 0.0051155729819066095, 'WEIGHT_DECAY': 1.9945785830262645e-07, 'FFM_EMBED_DIM': 26, 'DCN_EMBED_DIM': 3, 'DCN_MLP_DIM_LAYERS': 1, 'DCN_MLP_DIM_NUM': 5, 'DCN_DROPOUT': 0.25, 'DCN_NUM_LAYERS': 1}. Best is trial 17 with value: 2.165372905929111.\u001b[0m\n"
     ]
    },
    {
     "name": "stdout",
     "output_type": "stream",
     "text": [
      "42\n"
     ]
    },
    {
     "name": "stderr",
     "output_type": "stream",
     "text": [
      "100%|██████████| 959/959 [00:26<00:00, 36.87it/s, loss=2.17]\n",
      "100%|██████████| 240/240 [00:01<00:00, 214.58it/s]\n",
      "  0%|          | 0/240 [00:00<?, ?it/s]"
     ]
    },
    {
     "name": "stdout",
     "output_type": "stream",
     "text": [
      "epoch: 0 validation: rmse: 2.168279124185033\n"
     ]
    },
    {
     "name": "stderr",
     "output_type": "stream",
     "text": [
      "100%|██████████| 240/240 [00:01<00:00, 213.92it/s]\n",
      "\u001b[32m[I 2022-11-08 04:15:33,816]\u001b[0m Trial 23 finished with value: 2.168279124185033 and parameters: {'BATCH_SIZE': 256, 'LR': 0.007415044187274809, 'WEIGHT_DECAY': 1.8799699910194802e-07, 'FFM_EMBED_DIM': 17, 'DCN_EMBED_DIM': 3, 'DCN_MLP_DIM_LAYERS': 1, 'DCN_MLP_DIM_NUM': 4, 'DCN_DROPOUT': 0.25, 'DCN_NUM_LAYERS': 2}. Best is trial 17 with value: 2.165372905929111.\u001b[0m\n"
     ]
    },
    {
     "name": "stdout",
     "output_type": "stream",
     "text": [
      "42\n"
     ]
    },
    {
     "name": "stderr",
     "output_type": "stream",
     "text": [
      "100%|██████████| 959/959 [00:25<00:00, 37.87it/s, loss=2.17]\n",
      "100%|██████████| 240/240 [00:01<00:00, 212.28it/s]\n",
      "  0%|          | 0/240 [00:00<?, ?it/s]"
     ]
    },
    {
     "name": "stdout",
     "output_type": "stream",
     "text": [
      "epoch: 0 validation: rmse: 2.163184038333742\n"
     ]
    },
    {
     "name": "stderr",
     "output_type": "stream",
     "text": [
      "100%|██████████| 240/240 [00:01<00:00, 213.30it/s]\n",
      "\u001b[32m[I 2022-11-08 04:16:02,563]\u001b[0m Trial 24 finished with value: 2.163184038333742 and parameters: {'BATCH_SIZE': 256, 'LR': 0.0071779678007221435, 'WEIGHT_DECAY': 1.877158483125801e-07, 'FFM_EMBED_DIM': 17, 'DCN_EMBED_DIM': 6, 'DCN_MLP_DIM_LAYERS': 1, 'DCN_MLP_DIM_NUM': 3, 'DCN_DROPOUT': 0.3, 'DCN_NUM_LAYERS': 2}. Best is trial 24 with value: 2.163184038333742.\u001b[0m\n"
     ]
    },
    {
     "name": "stdout",
     "output_type": "stream",
     "text": [
      "42\n"
     ]
    },
    {
     "name": "stderr",
     "output_type": "stream",
     "text": [
      "100%|██████████| 959/959 [00:23<00:00, 40.63it/s, loss=2.2] \n",
      "100%|██████████| 240/240 [00:01<00:00, 214.96it/s]\n",
      "  0%|          | 0/240 [00:00<?, ?it/s]"
     ]
    },
    {
     "name": "stdout",
     "output_type": "stream",
     "text": [
      "epoch: 0 validation: rmse: 2.164818647296655\n"
     ]
    },
    {
     "name": "stderr",
     "output_type": "stream",
     "text": [
      "100%|██████████| 240/240 [00:01<00:00, 213.92it/s]\n",
      "\u001b[32m[I 2022-11-08 04:16:29,345]\u001b[0m Trial 25 finished with value: 2.164818647296655 and parameters: {'BATCH_SIZE': 256, 'LR': 0.0096218334531984, 'WEIGHT_DECAY': 1.185391967600046e-07, 'FFM_EMBED_DIM': 13, 'DCN_EMBED_DIM': 6, 'DCN_MLP_DIM_LAYERS': 1, 'DCN_MLP_DIM_NUM': 1, 'DCN_DROPOUT': 0.3, 'DCN_NUM_LAYERS': 2}. Best is trial 24 with value: 2.163184038333742.\u001b[0m\n"
     ]
    },
    {
     "name": "stdout",
     "output_type": "stream",
     "text": [
      "42\n"
     ]
    },
    {
     "name": "stderr",
     "output_type": "stream",
     "text": [
      "100%|██████████| 959/959 [00:23<00:00, 40.79it/s, loss=2.17]\n",
      "100%|██████████| 240/240 [00:01<00:00, 206.82it/s]\n",
      "  0%|          | 0/240 [00:00<?, ?it/s]"
     ]
    },
    {
     "name": "stdout",
     "output_type": "stream",
     "text": [
      "epoch: 0 validation: rmse: 2.2334695019800774\n"
     ]
    },
    {
     "name": "stderr",
     "output_type": "stream",
     "text": [
      "100%|██████████| 240/240 [00:01<00:00, 187.04it/s]\n",
      "\u001b[32m[I 2022-11-08 04:16:56,181]\u001b[0m Trial 26 finished with value: 2.2334695019800774 and parameters: {'BATCH_SIZE': 256, 'LR': 0.009721586607980054, 'WEIGHT_DECAY': 1.4125085937762393e-07, 'FFM_EMBED_DIM': 12, 'DCN_EMBED_DIM': 8, 'DCN_MLP_DIM_LAYERS': 2, 'DCN_MLP_DIM_NUM': 1, 'DCN_DROPOUT': 0.3, 'DCN_NUM_LAYERS': 2}. Best is trial 24 with value: 2.163184038333742.\u001b[0m\n"
     ]
    },
    {
     "name": "stdout",
     "output_type": "stream",
     "text": [
      "42\n"
     ]
    },
    {
     "name": "stderr",
     "output_type": "stream",
     "text": [
      "100%|██████████| 959/959 [00:22<00:00, 42.53it/s, loss=2.18]\n",
      "100%|██████████| 240/240 [00:01<00:00, 188.51it/s]\n",
      "  0%|          | 0/240 [00:00<?, ?it/s]"
     ]
    },
    {
     "name": "stdout",
     "output_type": "stream",
     "text": [
      "epoch: 0 validation: rmse: 2.175584336920356\n"
     ]
    },
    {
     "name": "stderr",
     "output_type": "stream",
     "text": [
      "100%|██████████| 240/240 [00:01<00:00, 209.62it/s]\n",
      "\u001b[32m[I 2022-11-08 04:17:21,856]\u001b[0m Trial 27 finished with value: 2.175584336920356 and parameters: {'BATCH_SIZE': 256, 'LR': 0.007881078201690435, 'WEIGHT_DECAY': 1.0450614072776833e-07, 'FFM_EMBED_DIM': 9, 'DCN_EMBED_DIM': 6, 'DCN_MLP_DIM_LAYERS': 1, 'DCN_MLP_DIM_NUM': 2, 'DCN_DROPOUT': 0.3, 'DCN_NUM_LAYERS': 3}. Best is trial 24 with value: 2.163184038333742.\u001b[0m\n"
     ]
    },
    {
     "name": "stdout",
     "output_type": "stream",
     "text": [
      "42\n"
     ]
    },
    {
     "name": "stderr",
     "output_type": "stream",
     "text": [
      "100%|██████████| 480/480 [00:14<00:00, 33.48it/s, loss=2.21]\n",
      "100%|██████████| 120/120 [00:00<00:00, 148.80it/s]\n",
      "  0%|          | 0/120 [00:00<?, ?it/s]"
     ]
    },
    {
     "name": "stdout",
     "output_type": "stream",
     "text": [
      "epoch: 0 validation: rmse: 2.1708139590149775\n"
     ]
    },
    {
     "name": "stderr",
     "output_type": "stream",
     "text": [
      "100%|██████████| 120/120 [00:00<00:00, 142.62it/s]\n",
      "\u001b[32m[I 2022-11-08 04:17:39,121]\u001b[0m Trial 28 finished with value: 2.1708139590149775 and parameters: {'BATCH_SIZE': 512, 'LR': 0.009874724187988428, 'WEIGHT_DECAY': 1.7132410638449287e-07, 'FFM_EMBED_DIM': 18, 'DCN_EMBED_DIM': 9, 'DCN_MLP_DIM_LAYERS': 1, 'DCN_MLP_DIM_NUM': 2, 'DCN_DROPOUT': 0.3, 'DCN_NUM_LAYERS': 2}. Best is trial 24 with value: 2.163184038333742.\u001b[0m\n"
     ]
    },
    {
     "name": "stdout",
     "output_type": "stream",
     "text": [
      "42\n"
     ]
    },
    {
     "name": "stderr",
     "output_type": "stream",
     "text": [
      "100%|██████████| 240/240 [00:08<00:00, 27.47it/s, loss=2.24]\n",
      "100%|██████████| 60/60 [00:00<00:00, 78.82it/s]\n",
      "  0%|          | 0/60 [00:00<?, ?it/s]"
     ]
    },
    {
     "name": "stdout",
     "output_type": "stream",
     "text": [
      "epoch: 0 validation: rmse: 2.1872939652354755\n"
     ]
    },
    {
     "name": "stderr",
     "output_type": "stream",
     "text": [
      "100%|██████████| 60/60 [00:00<00:00, 78.33it/s]\n",
      "\u001b[32m[I 2022-11-08 04:17:50,785]\u001b[0m Trial 29 finished with value: 2.1872939652354755 and parameters: {'BATCH_SIZE': 1024, 'LR': 0.007381011255266335, 'WEIGHT_DECAY': 1.0471186792487711e-07, 'FFM_EMBED_DIM': 20, 'DCN_EMBED_DIM': 8, 'DCN_MLP_DIM_LAYERS': 1, 'DCN_MLP_DIM_NUM': 3, 'DCN_DROPOUT': 0.3, 'DCN_NUM_LAYERS': 2}. Best is trial 24 with value: 2.163184038333742.\u001b[0m\n"
     ]
    },
    {
     "name": "stdout",
     "output_type": "stream",
     "text": [
      "42\n"
     ]
    },
    {
     "name": "stderr",
     "output_type": "stream",
     "text": [
      "100%|██████████| 240/240 [00:08<00:00, 29.68it/s, loss=2.33]\n",
      "100%|██████████| 60/60 [00:00<00:00, 93.17it/s]\n",
      "  0%|          | 0/60 [00:00<?, ?it/s]"
     ]
    },
    {
     "name": "stdout",
     "output_type": "stream",
     "text": [
      "epoch: 0 validation: rmse: 2.2335154678640543\n"
     ]
    },
    {
     "name": "stderr",
     "output_type": "stream",
     "text": [
      "100%|██████████| 60/60 [00:00<00:00, 76.93it/s]\n",
      "\u001b[32m[I 2022-11-08 04:18:01,226]\u001b[0m Trial 30 finished with value: 2.2335154678640543 and parameters: {'BATCH_SIZE': 1024, 'LR': 0.003860778634351469, 'WEIGHT_DECAY': 1.4047089987093946e-06, 'FFM_EMBED_DIM': 13, 'DCN_EMBED_DIM': 6, 'DCN_MLP_DIM_LAYERS': 2, 'DCN_MLP_DIM_NUM': 10, 'DCN_DROPOUT': 0.3, 'DCN_NUM_LAYERS': 3}. Best is trial 24 with value: 2.163184038333742.\u001b[0m\n"
     ]
    },
    {
     "name": "stdout",
     "output_type": "stream",
     "text": [
      "42\n"
     ]
    },
    {
     "name": "stderr",
     "output_type": "stream",
     "text": [
      "100%|██████████| 959/959 [00:24<00:00, 39.04it/s, loss=2.16]\n",
      "100%|██████████| 240/240 [00:01<00:00, 215.65it/s]\n",
      "  0%|          | 0/240 [00:00<?, ?it/s]"
     ]
    },
    {
     "name": "stdout",
     "output_type": "stream",
     "text": [
      "epoch: 0 validation: rmse: 2.166230856891185\n"
     ]
    },
    {
     "name": "stderr",
     "output_type": "stream",
     "text": [
      "100%|██████████| 240/240 [00:01<00:00, 215.25it/s]\n",
      "\u001b[32m[I 2022-11-08 04:18:29,162]\u001b[0m Trial 31 finished with value: 2.166230856891185 and parameters: {'BATCH_SIZE': 256, 'LR': 0.008165732314233596, 'WEIGHT_DECAY': 2.513046759921622e-07, 'FFM_EMBED_DIM': 16, 'DCN_EMBED_DIM': 5, 'DCN_MLP_DIM_LAYERS': 1, 'DCN_MLP_DIM_NUM': 3, 'DCN_DROPOUT': 0.3, 'DCN_NUM_LAYERS': 2}. Best is trial 24 with value: 2.163184038333742.\u001b[0m\n"
     ]
    },
    {
     "name": "stdout",
     "output_type": "stream",
     "text": [
      "42\n"
     ]
    },
    {
     "name": "stderr",
     "output_type": "stream",
     "text": [
      "100%|██████████| 959/959 [00:26<00:00, 36.51it/s, loss=2.18]\n",
      "100%|██████████| 240/240 [00:01<00:00, 162.99it/s]\n",
      "  0%|          | 0/240 [00:00<?, ?it/s]"
     ]
    },
    {
     "name": "stdout",
     "output_type": "stream",
     "text": [
      "epoch: 0 validation: rmse: 2.170663801528947\n"
     ]
    },
    {
     "name": "stderr",
     "output_type": "stream",
     "text": [
      "100%|██████████| 240/240 [00:01<00:00, 170.73it/s]\n",
      "\u001b[32m[I 2022-11-08 04:18:59,450]\u001b[0m Trial 32 finished with value: 2.170663801528947 and parameters: {'BATCH_SIZE': 256, 'LR': 0.00821566416119953, 'WEIGHT_DECAY': 2.3947125535127553e-07, 'FFM_EMBED_DIM': 16, 'DCN_EMBED_DIM': 6, 'DCN_MLP_DIM_LAYERS': 1, 'DCN_MLP_DIM_NUM': 1, 'DCN_DROPOUT': 0.3, 'DCN_NUM_LAYERS': 2}. Best is trial 24 with value: 2.163184038333742.\u001b[0m\n"
     ]
    },
    {
     "name": "stdout",
     "output_type": "stream",
     "text": [
      "42\n"
     ]
    },
    {
     "name": "stderr",
     "output_type": "stream",
     "text": [
      "100%|██████████| 959/959 [00:27<00:00, 34.92it/s, loss=2.19]\n",
      "100%|██████████| 240/240 [00:01<00:00, 214.23it/s]\n",
      "  0%|          | 0/240 [00:00<?, ?it/s]"
     ]
    },
    {
     "name": "stdout",
     "output_type": "stream",
     "text": [
      "epoch: 0 validation: rmse: 2.1893406796016093\n"
     ]
    },
    {
     "name": "stderr",
     "output_type": "stream",
     "text": [
      "100%|██████████| 240/240 [00:01<00:00, 214.72it/s]\n",
      "\u001b[32m[I 2022-11-08 04:19:30,563]\u001b[0m Trial 33 finished with value: 2.1893406796016093 and parameters: {'BATCH_SIZE': 256, 'LR': 0.008507539531789635, 'WEIGHT_DECAY': 1.4513886612661467e-07, 'FFM_EMBED_DIM': 21, 'DCN_EMBED_DIM': 5, 'DCN_MLP_DIM_LAYERS': 1, 'DCN_MLP_DIM_NUM': 3, 'DCN_DROPOUT': 0.3, 'DCN_NUM_LAYERS': 2}. Best is trial 24 with value: 2.163184038333742.\u001b[0m\n"
     ]
    },
    {
     "name": "stdout",
     "output_type": "stream",
     "text": [
      "42\n"
     ]
    },
    {
     "name": "stderr",
     "output_type": "stream",
     "text": [
      "100%|██████████| 959/959 [00:21<00:00, 43.60it/s, loss=2.18]\n",
      "100%|██████████| 240/240 [00:01<00:00, 212.33it/s]\n",
      "  0%|          | 0/240 [00:00<?, ?it/s]"
     ]
    },
    {
     "name": "stdout",
     "output_type": "stream",
     "text": [
      "epoch: 0 validation: rmse: 2.167779294740784\n"
     ]
    },
    {
     "name": "stderr",
     "output_type": "stream",
     "text": [
      "100%|██████████| 240/240 [00:01<00:00, 190.92it/s]\n",
      "\u001b[32m[I 2022-11-08 04:19:55,720]\u001b[0m Trial 34 finished with value: 2.167779294740784 and parameters: {'BATCH_SIZE': 256, 'LR': 0.006729757954154558, 'WEIGHT_DECAY': 4.000231692860131e-07, 'FFM_EMBED_DIM': 10, 'DCN_EMBED_DIM': 10, 'DCN_MLP_DIM_LAYERS': 1, 'DCN_MLP_DIM_NUM': 16, 'DCN_DROPOUT': 0.3, 'DCN_NUM_LAYERS': 2}. Best is trial 24 with value: 2.163184038333742.\u001b[0m\n"
     ]
    },
    {
     "name": "stdout",
     "output_type": "stream",
     "text": [
      "42\n"
     ]
    },
    {
     "name": "stderr",
     "output_type": "stream",
     "text": [
      "100%|██████████| 480/480 [00:12<00:00, 37.49it/s, loss=2.21]\n",
      "100%|██████████| 120/120 [00:00<00:00, 129.69it/s]\n",
      "  0%|          | 0/120 [00:00<?, ?it/s]"
     ]
    },
    {
     "name": "stdout",
     "output_type": "stream",
     "text": [
      "epoch: 0 validation: rmse: 2.1781689458897895\n"
     ]
    },
    {
     "name": "stderr",
     "output_type": "stream",
     "text": [
      "100%|██████████| 120/120 [00:00<00:00, 150.72it/s]\n",
      "\u001b[32m[I 2022-11-08 04:20:11,176]\u001b[0m Trial 35 finished with value: 2.1781689458897895 and parameters: {'BATCH_SIZE': 512, 'LR': 0.007088109055721213, 'WEIGHT_DECAY': 2.5286002998944555e-07, 'FFM_EMBED_DIM': 13, 'DCN_EMBED_DIM': 5, 'DCN_MLP_DIM_LAYERS': 1, 'DCN_MLP_DIM_NUM': 5, 'DCN_DROPOUT': 0.3, 'DCN_NUM_LAYERS': 2}. Best is trial 24 with value: 2.163184038333742.\u001b[0m\n"
     ]
    },
    {
     "name": "stdout",
     "output_type": "stream",
     "text": [
      "42\n"
     ]
    },
    {
     "name": "stderr",
     "output_type": "stream",
     "text": [
      "100%|██████████| 959/959 [00:25<00:00, 37.52it/s, loss=2.18]\n",
      "100%|██████████| 240/240 [00:01<00:00, 215.97it/s]\n",
      "  0%|          | 0/240 [00:00<?, ?it/s]"
     ]
    },
    {
     "name": "stdout",
     "output_type": "stream",
     "text": [
      "epoch: 0 validation: rmse: 2.1931823188533595\n"
     ]
    },
    {
     "name": "stderr",
     "output_type": "stream",
     "text": [
      "100%|██████████| 240/240 [00:01<00:00, 215.43it/s]\n",
      "\u001b[32m[I 2022-11-08 04:20:40,205]\u001b[0m Trial 36 finished with value: 2.1931823188533595 and parameters: {'BATCH_SIZE': 256, 'LR': 0.00992718451711527, 'WEIGHT_DECAY': 1.1378949362840676e-07, 'FFM_EMBED_DIM': 18, 'DCN_EMBED_DIM': 8, 'DCN_MLP_DIM_LAYERS': 1, 'DCN_MLP_DIM_NUM': 12, 'DCN_DROPOUT': 0.2, 'DCN_NUM_LAYERS': 2}. Best is trial 24 with value: 2.163184038333742.\u001b[0m\n"
     ]
    },
    {
     "name": "stdout",
     "output_type": "stream",
     "text": [
      "42\n"
     ]
    },
    {
     "name": "stderr",
     "output_type": "stream",
     "text": [
      "100%|██████████| 959/959 [00:22<00:00, 42.50it/s, loss=2.18]\n",
      "100%|██████████| 240/240 [00:01<00:00, 201.23it/s]\n",
      "  0%|          | 0/240 [00:00<?, ?it/s]"
     ]
    },
    {
     "name": "stdout",
     "output_type": "stream",
     "text": [
      "epoch: 0 validation: rmse: 2.166123832308077\n"
     ]
    },
    {
     "name": "stderr",
     "output_type": "stream",
     "text": [
      "100%|██████████| 240/240 [00:01<00:00, 201.31it/s]\n",
      "\u001b[32m[I 2022-11-08 04:21:05,672]\u001b[0m Trial 37 finished with value: 2.166123832308077 and parameters: {'BATCH_SIZE': 256, 'LR': 0.008742618812011372, 'WEIGHT_DECAY': 8.644543111679059e-07, 'FFM_EMBED_DIM': 6, 'DCN_EMBED_DIM': 6, 'DCN_MLP_DIM_LAYERS': 2, 'DCN_MLP_DIM_NUM': 3, 'DCN_DROPOUT': 0.3, 'DCN_NUM_LAYERS': 4}. Best is trial 24 with value: 2.163184038333742.\u001b[0m\n"
     ]
    },
    {
     "name": "stdout",
     "output_type": "stream",
     "text": [
      "42\n"
     ]
    },
    {
     "name": "stderr",
     "output_type": "stream",
     "text": [
      "100%|██████████| 959/959 [00:23<00:00, 40.36it/s, loss=2.18]\n",
      "100%|██████████| 240/240 [00:01<00:00, 186.92it/s]\n",
      "  0%|          | 0/240 [00:00<?, ?it/s]"
     ]
    },
    {
     "name": "stdout",
     "output_type": "stream",
     "text": [
      "epoch: 0 validation: rmse: 2.177771960273299\n"
     ]
    },
    {
     "name": "stderr",
     "output_type": "stream",
     "text": [
      "100%|██████████| 240/240 [00:01<00:00, 195.55it/s]\n",
      "\u001b[32m[I 2022-11-08 04:21:32,344]\u001b[0m Trial 38 finished with value: 2.177771960273299 and parameters: {'BATCH_SIZE': 256, 'LR': 0.008573392702429255, 'WEIGHT_DECAY': 9.020483067783613e-07, 'FFM_EMBED_DIM': 4, 'DCN_EMBED_DIM': 7, 'DCN_MLP_DIM_LAYERS': 3, 'DCN_MLP_DIM_NUM': 14, 'DCN_DROPOUT': 0.3, 'DCN_NUM_LAYERS': 4}. Best is trial 24 with value: 2.163184038333742.\u001b[0m\n"
     ]
    },
    {
     "name": "stdout",
     "output_type": "stream",
     "text": [
      "42\n"
     ]
    },
    {
     "name": "stderr",
     "output_type": "stream",
     "text": [
      "100%|██████████| 240/240 [00:08<00:00, 28.87it/s, loss=2.42]\n",
      "100%|██████████| 60/60 [00:00<00:00, 76.62it/s]\n",
      "  0%|          | 0/60 [00:00<?, ?it/s]"
     ]
    },
    {
     "name": "stdout",
     "output_type": "stream",
     "text": [
      "epoch: 0 validation: rmse: 2.2754102979692234\n"
     ]
    },
    {
     "name": "stderr",
     "output_type": "stream",
     "text": [
      "100%|██████████| 60/60 [00:00<00:00, 75.97it/s]\n",
      "\u001b[32m[I 2022-11-08 04:21:42,757]\u001b[0m Trial 39 finished with value: 2.2754102979692234 and parameters: {'BATCH_SIZE': 1024, 'LR': 0.00450691878686145, 'WEIGHT_DECAY': 1.3963655282588482e-06, 'FFM_EMBED_DIM': 6, 'DCN_EMBED_DIM': 9, 'DCN_MLP_DIM_LAYERS': 2, 'DCN_MLP_DIM_NUM': 2, 'DCN_DROPOUT': 0.3, 'DCN_NUM_LAYERS': 4}. Best is trial 24 with value: 2.163184038333742.\u001b[0m\n"
     ]
    },
    {
     "name": "stdout",
     "output_type": "stream",
     "text": [
      "42\n"
     ]
    },
    {
     "name": "stderr",
     "output_type": "stream",
     "text": [
      "100%|██████████| 959/959 [00:24<00:00, 39.24it/s, loss=2.2] \n",
      "100%|██████████| 240/240 [00:01<00:00, 178.49it/s]\n",
      "  0%|          | 0/240 [00:00<?, ?it/s]"
     ]
    },
    {
     "name": "stdout",
     "output_type": "stream",
     "text": [
      "epoch: 0 validation: rmse: 2.2022199917200607\n"
     ]
    },
    {
     "name": "stderr",
     "output_type": "stream",
     "text": [
      "100%|██████████| 240/240 [00:01<00:00, 197.70it/s]\n",
      "\u001b[32m[I 2022-11-08 04:22:10,229]\u001b[0m Trial 40 finished with value: 2.2022199917200607 and parameters: {'BATCH_SIZE': 256, 'LR': 0.0028394328616383347, 'WEIGHT_DECAY': 2.471087177766744e-06, 'FFM_EMBED_DIM': 5, 'DCN_EMBED_DIM': 10, 'DCN_MLP_DIM_LAYERS': 3, 'DCN_MLP_DIM_NUM': 8, 'DCN_DROPOUT': 0.2, 'DCN_NUM_LAYERS': 3}. Best is trial 24 with value: 2.163184038333742.\u001b[0m\n"
     ]
    },
    {
     "name": "stdout",
     "output_type": "stream",
     "text": [
      "42\n"
     ]
    },
    {
     "name": "stderr",
     "output_type": "stream",
     "text": [
      "100%|██████████| 959/959 [00:22<00:00, 42.29it/s, loss=2.18]\n",
      "100%|██████████| 240/240 [00:01<00:00, 203.40it/s]\n",
      "  0%|          | 0/240 [00:00<?, ?it/s]"
     ]
    },
    {
     "name": "stdout",
     "output_type": "stream",
     "text": [
      "epoch: 0 validation: rmse: 2.2074503338230604\n"
     ]
    },
    {
     "name": "stderr",
     "output_type": "stream",
     "text": [
      "100%|██████████| 240/240 [00:01<00:00, 203.53it/s]\n",
      "\u001b[32m[I 2022-11-08 04:22:35,901]\u001b[0m Trial 41 finished with value: 2.2074503338230604 and parameters: {'BATCH_SIZE': 256, 'LR': 0.00888567447917169, 'WEIGHT_DECAY': 8.361319181356355e-07, 'FFM_EMBED_DIM': 8, 'DCN_EMBED_DIM': 6, 'DCN_MLP_DIM_LAYERS': 2, 'DCN_MLP_DIM_NUM': 3, 'DCN_DROPOUT': 0.3, 'DCN_NUM_LAYERS': 3}. Best is trial 24 with value: 2.163184038333742.\u001b[0m\n"
     ]
    },
    {
     "name": "stdout",
     "output_type": "stream",
     "text": [
      "42\n"
     ]
    },
    {
     "name": "stderr",
     "output_type": "stream",
     "text": [
      "100%|██████████| 959/959 [00:24<00:00, 38.52it/s, loss=2.25]\n",
      "100%|██████████| 240/240 [00:01<00:00, 207.70it/s]\n",
      "  0%|          | 0/240 [00:00<?, ?it/s]"
     ]
    },
    {
     "name": "stdout",
     "output_type": "stream",
     "text": [
      "epoch: 0 validation: rmse: 2.2392537927586575\n"
     ]
    },
    {
     "name": "stderr",
     "output_type": "stream",
     "text": [
      "100%|██████████| 240/240 [00:01<00:00, 207.31it/s]\n",
      "\u001b[32m[I 2022-11-08 04:23:04,165]\u001b[0m Trial 42 finished with value: 2.2392537927586575 and parameters: {'BATCH_SIZE': 256, 'LR': 0.0010594409739269365, 'WEIGHT_DECAY': 1.167485322518369e-06, 'FFM_EMBED_DIM': 15, 'DCN_EMBED_DIM': 5, 'DCN_MLP_DIM_LAYERS': 2, 'DCN_MLP_DIM_NUM': 2, 'DCN_DROPOUT': 0.3, 'DCN_NUM_LAYERS': 2}. Best is trial 24 with value: 2.163184038333742.\u001b[0m\n"
     ]
    },
    {
     "name": "stdout",
     "output_type": "stream",
     "text": [
      "42\n"
     ]
    },
    {
     "name": "stderr",
     "output_type": "stream",
     "text": [
      "100%|██████████| 959/959 [00:25<00:00, 37.07it/s, loss=2.18]\n",
      "100%|██████████| 240/240 [00:01<00:00, 214.04it/s]\n",
      "  0%|          | 0/240 [00:00<?, ?it/s]"
     ]
    },
    {
     "name": "stdout",
     "output_type": "stream",
     "text": [
      "epoch: 0 validation: rmse: 2.169788192640328\n"
     ]
    },
    {
     "name": "stderr",
     "output_type": "stream",
     "text": [
      "100%|██████████| 240/240 [00:01<00:00, 213.70it/s]\n",
      "\u001b[32m[I 2022-11-08 04:23:33,557]\u001b[0m Trial 43 finished with value: 2.169788192640328 and parameters: {'BATCH_SIZE': 256, 'LR': 0.005230110540617127, 'WEIGHT_DECAY': 1.6184256512062603e-07, 'FFM_EMBED_DIM': 19, 'DCN_EMBED_DIM': 2, 'DCN_MLP_DIM_LAYERS': 1, 'DCN_MLP_DIM_NUM': 3, 'DCN_DROPOUT': 0.3, 'DCN_NUM_LAYERS': 2}. Best is trial 24 with value: 2.163184038333742.\u001b[0m\n"
     ]
    },
    {
     "name": "stdout",
     "output_type": "stream",
     "text": [
      "42\n"
     ]
    },
    {
     "name": "stderr",
     "output_type": "stream",
     "text": [
      "100%|██████████| 959/959 [00:25<00:00, 37.66it/s, loss=2.17]\n",
      "100%|██████████| 240/240 [00:01<00:00, 204.53it/s]\n",
      "  0%|          | 0/240 [00:00<?, ?it/s]"
     ]
    },
    {
     "name": "stdout",
     "output_type": "stream",
     "text": [
      "epoch: 0 validation: rmse: 2.175128033514982\n"
     ]
    },
    {
     "name": "stderr",
     "output_type": "stream",
     "text": [
      "100%|██████████| 240/240 [00:01<00:00, 181.93it/s]\n",
      "\u001b[32m[I 2022-11-08 04:24:02,395]\u001b[0m Trial 44 finished with value: 2.175128033514982 and parameters: {'BATCH_SIZE': 256, 'LR': 0.00682339673245879, 'WEIGHT_DECAY': 2.3239913603880256e-07, 'FFM_EMBED_DIM': 12, 'DCN_EMBED_DIM': 6, 'DCN_MLP_DIM_LAYERS': 2, 'DCN_MLP_DIM_NUM': 6, 'DCN_DROPOUT': 0.3, 'DCN_NUM_LAYERS': 3}. Best is trial 24 with value: 2.163184038333742.\u001b[0m\n"
     ]
    },
    {
     "name": "stdout",
     "output_type": "stream",
     "text": [
      "42\n"
     ]
    },
    {
     "name": "stderr",
     "output_type": "stream",
     "text": [
      "100%|██████████| 959/959 [00:28<00:00, 33.37it/s, loss=2.19]\n",
      "100%|██████████| 240/240 [00:01<00:00, 180.30it/s]\n",
      "  0%|          | 0/240 [00:00<?, ?it/s]"
     ]
    },
    {
     "name": "stdout",
     "output_type": "stream",
     "text": [
      "epoch: 0 validation: rmse: 2.180459918080132\n"
     ]
    },
    {
     "name": "stderr",
     "output_type": "stream",
     "text": [
      "100%|██████████| 240/240 [00:01<00:00, 199.59it/s]\n",
      "\u001b[32m[I 2022-11-08 04:24:35,138]\u001b[0m Trial 45 finished with value: 2.180459918080132 and parameters: {'BATCH_SIZE': 256, 'LR': 0.007897518371145131, 'WEIGHT_DECAY': 5.563346144275397e-07, 'FFM_EMBED_DIM': 22, 'DCN_EMBED_DIM': 4, 'DCN_MLP_DIM_LAYERS': 2, 'DCN_MLP_DIM_NUM': 1, 'DCN_DROPOUT': 0.3, 'DCN_NUM_LAYERS': 4}. Best is trial 24 with value: 2.163184038333742.\u001b[0m\n"
     ]
    },
    {
     "name": "stdout",
     "output_type": "stream",
     "text": [
      "42\n"
     ]
    },
    {
     "name": "stderr",
     "output_type": "stream",
     "text": [
      "100%|██████████| 959/959 [00:24<00:00, 38.76it/s, loss=2.17]\n",
      "100%|██████████| 240/240 [00:01<00:00, 189.01it/s]\n",
      "  0%|          | 0/240 [00:00<?, ?it/s]"
     ]
    },
    {
     "name": "stdout",
     "output_type": "stream",
     "text": [
      "epoch: 0 validation: rmse: 2.1887142769941956\n"
     ]
    },
    {
     "name": "stderr",
     "output_type": "stream",
     "text": [
      "100%|██████████| 240/240 [00:01<00:00, 212.39it/s]\n",
      "\u001b[32m[I 2022-11-08 04:25:03,409]\u001b[0m Trial 46 finished with value: 2.1887142769941956 and parameters: {'BATCH_SIZE': 256, 'LR': 0.002061447182514545, 'WEIGHT_DECAY': 3.1762685043125387e-06, 'FFM_EMBED_DIM': 16, 'DCN_EMBED_DIM': 7, 'DCN_MLP_DIM_LAYERS': 1, 'DCN_MLP_DIM_NUM': 4, 'DCN_DROPOUT': 0.2, 'DCN_NUM_LAYERS': 2}. Best is trial 24 with value: 2.163184038333742.\u001b[0m\n"
     ]
    },
    {
     "name": "stdout",
     "output_type": "stream",
     "text": [
      "42\n"
     ]
    },
    {
     "name": "stderr",
     "output_type": "stream",
     "text": [
      "100%|██████████| 240/240 [00:07<00:00, 30.95it/s, loss=2.29]\n",
      "100%|██████████| 60/60 [00:00<00:00, 92.18it/s]\n",
      "  0%|          | 0/60 [00:00<?, ?it/s]"
     ]
    },
    {
     "name": "stdout",
     "output_type": "stream",
     "text": [
      "epoch: 0 validation: rmse: 2.2061391898119087\n"
     ]
    },
    {
     "name": "stderr",
     "output_type": "stream",
     "text": [
      "100%|██████████| 60/60 [00:00<00:00, 75.86it/s]\n",
      "\u001b[32m[I 2022-11-08 04:25:13,298]\u001b[0m Trial 47 finished with value: 2.2061391898119087 and parameters: {'BATCH_SIZE': 1024, 'LR': 0.008842473685085565, 'WEIGHT_DECAY': 7.478100072715475e-07, 'FFM_EMBED_DIM': 9, 'DCN_EMBED_DIM': 5, 'DCN_MLP_DIM_LAYERS': 3, 'DCN_MLP_DIM_NUM': 2, 'DCN_DROPOUT': 0.3, 'DCN_NUM_LAYERS': 2}. Best is trial 24 with value: 2.163184038333742.\u001b[0m\n"
     ]
    },
    {
     "name": "stdout",
     "output_type": "stream",
     "text": [
      "42\n"
     ]
    },
    {
     "name": "stderr",
     "output_type": "stream",
     "text": [
      "100%|██████████| 480/480 [00:16<00:00, 28.69it/s, loss=2.2] \n",
      "100%|██████████| 120/120 [00:00<00:00, 148.16it/s]\n",
      "  0%|          | 0/120 [00:00<?, ?it/s]"
     ]
    },
    {
     "name": "stdout",
     "output_type": "stream",
     "text": [
      "epoch: 0 validation: rmse: 2.1769867755710544\n"
     ]
    },
    {
     "name": "stderr",
     "output_type": "stream",
     "text": [
      "100%|██████████| 120/120 [00:00<00:00, 126.06it/s]\n",
      "\u001b[32m[I 2022-11-08 04:25:33,747]\u001b[0m Trial 48 finished with value: 2.1769867755710544 and parameters: {'BATCH_SIZE': 512, 'LR': 0.006675298349537869, 'WEIGHT_DECAY': 3.977970076721117e-07, 'FFM_EMBED_DIM': 29, 'DCN_EMBED_DIM': 8, 'DCN_MLP_DIM_LAYERS': 1, 'DCN_MLP_DIM_NUM': 5, 'DCN_DROPOUT': 0.3, 'DCN_NUM_LAYERS': 3}. Best is trial 24 with value: 2.163184038333742.\u001b[0m\n"
     ]
    },
    {
     "name": "stdout",
     "output_type": "stream",
     "text": [
      "42\n"
     ]
    },
    {
     "name": "stderr",
     "output_type": "stream",
     "text": [
      "100%|██████████| 959/959 [00:27<00:00, 35.45it/s, loss=2.17]\n",
      "100%|██████████| 240/240 [00:01<00:00, 205.74it/s]\n",
      "  0%|          | 0/240 [00:00<?, ?it/s]"
     ]
    },
    {
     "name": "stdout",
     "output_type": "stream",
     "text": [
      "epoch: 0 validation: rmse: 2.1675844502622263\n"
     ]
    },
    {
     "name": "stderr",
     "output_type": "stream",
     "text": [
      "100%|██████████| 240/240 [00:01<00:00, 183.84it/s]\n",
      "\u001b[32m[I 2022-11-08 04:26:04,648]\u001b[0m Trial 49 finished with value: 2.1675844502622263 and parameters: {'BATCH_SIZE': 256, 'LR': 0.005795081878096881, 'WEIGHT_DECAY': 1.7306345758223813e-06, 'FFM_EMBED_DIM': 20, 'DCN_EMBED_DIM': 4, 'DCN_MLP_DIM_LAYERS': 1, 'DCN_MLP_DIM_NUM': 11, 'DCN_DROPOUT': 0.3, 'DCN_NUM_LAYERS': 4}. Best is trial 24 with value: 2.163184038333742.\u001b[0m\n"
     ]
    },
    {
     "name": "stdout",
     "output_type": "stream",
     "text": [
      "42\n"
     ]
    },
    {
     "name": "stderr",
     "output_type": "stream",
     "text": [
      "100%|██████████| 959/959 [00:20<00:00, 46.13it/s, loss=2.19]\n",
      "100%|██████████| 240/240 [00:01<00:00, 190.47it/s]\n",
      "  0%|          | 0/240 [00:00<?, ?it/s]"
     ]
    },
    {
     "name": "stdout",
     "output_type": "stream",
     "text": [
      "epoch: 0 validation: rmse: 2.1747480518440443\n"
     ]
    },
    {
     "name": "stderr",
     "output_type": "stream",
     "text": [
      "100%|██████████| 240/240 [00:01<00:00, 212.43it/s]\n",
      "\u001b[32m[I 2022-11-08 04:26:28,386]\u001b[0m Trial 50 finished with value: 2.1747480518440443 and parameters: {'BATCH_SIZE': 256, 'LR': 0.008018329362071017, 'WEIGHT_DECAY': 1.303377884535885e-07, 'FFM_EMBED_DIM': 7, 'DCN_EMBED_DIM': 2, 'DCN_MLP_DIM_LAYERS': 1, 'DCN_MLP_DIM_NUM': 7, 'DCN_DROPOUT': 0.3, 'DCN_NUM_LAYERS': 2}. Best is trial 24 with value: 2.163184038333742.\u001b[0m\n"
     ]
    },
    {
     "name": "stdout",
     "output_type": "stream",
     "text": [
      "42\n"
     ]
    },
    {
     "name": "stderr",
     "output_type": "stream",
     "text": [
      "100%|██████████| 959/959 [00:27<00:00, 35.24it/s, loss=2.17]\n",
      "100%|██████████| 240/240 [00:01<00:00, 205.93it/s]\n",
      "  0%|          | 0/240 [00:00<?, ?it/s]"
     ]
    },
    {
     "name": "stdout",
     "output_type": "stream",
     "text": [
      "epoch: 0 validation: rmse: 2.168366508402575\n"
     ]
    },
    {
     "name": "stderr",
     "output_type": "stream",
     "text": [
      "100%|██████████| 240/240 [00:01<00:00, 204.84it/s]\n",
      "\u001b[32m[I 2022-11-08 04:26:59,320]\u001b[0m Trial 51 finished with value: 2.168366508402575 and parameters: {'BATCH_SIZE': 256, 'LR': 0.005675866244331865, 'WEIGHT_DECAY': 1.9142479729136514e-06, 'FFM_EMBED_DIM': 20, 'DCN_EMBED_DIM': 4, 'DCN_MLP_DIM_LAYERS': 1, 'DCN_MLP_DIM_NUM': 11, 'DCN_DROPOUT': 0.3, 'DCN_NUM_LAYERS': 4}. Best is trial 24 with value: 2.163184038333742.\u001b[0m\n"
     ]
    },
    {
     "name": "stdout",
     "output_type": "stream",
     "text": [
      "42\n"
     ]
    },
    {
     "name": "stderr",
     "output_type": "stream",
     "text": [
      "100%|██████████| 959/959 [00:25<00:00, 37.05it/s, loss=2.16]\n",
      "100%|██████████| 240/240 [00:01<00:00, 205.80it/s]\n",
      "  0%|          | 0/240 [00:00<?, ?it/s]"
     ]
    },
    {
     "name": "stdout",
     "output_type": "stream",
     "text": [
      "epoch: 0 validation: rmse: 2.1758092174991415\n"
     ]
    },
    {
     "name": "stderr",
     "output_type": "stream",
     "text": [
      "100%|██████████| 240/240 [00:01<00:00, 205.23it/s]\n",
      "\u001b[32m[I 2022-11-08 04:27:28,657]\u001b[0m Trial 52 finished with value: 2.1758092174991415 and parameters: {'BATCH_SIZE': 256, 'LR': 0.004126137219895658, 'WEIGHT_DECAY': 1.1942866394709555e-06, 'FFM_EMBED_DIM': 16, 'DCN_EMBED_DIM': 6, 'DCN_MLP_DIM_LAYERS': 1, 'DCN_MLP_DIM_NUM': 11, 'DCN_DROPOUT': 0.3, 'DCN_NUM_LAYERS': 4}. Best is trial 24 with value: 2.163184038333742.\u001b[0m\n"
     ]
    },
    {
     "name": "stdout",
     "output_type": "stream",
     "text": [
      "42\n"
     ]
    },
    {
     "name": "stderr",
     "output_type": "stream",
     "text": [
      "100%|██████████| 959/959 [00:26<00:00, 35.99it/s, loss=2.2] \n",
      "100%|██████████| 240/240 [00:01<00:00, 205.09it/s]\n",
      "  0%|          | 0/240 [00:00<?, ?it/s]"
     ]
    },
    {
     "name": "stdout",
     "output_type": "stream",
     "text": [
      "epoch: 0 validation: rmse: 2.176528073398382\n"
     ]
    },
    {
     "name": "stderr",
     "output_type": "stream",
     "text": [
      "100%|██████████| 240/240 [00:01<00:00, 205.41it/s]\n",
      "\u001b[32m[I 2022-11-08 04:27:58,958]\u001b[0m Trial 53 finished with value: 2.176528073398382 and parameters: {'BATCH_SIZE': 256, 'LR': 0.0061934275713102175, 'WEIGHT_DECAY': 1.7426312780759772e-06, 'FFM_EMBED_DIM': 19, 'DCN_EMBED_DIM': 5, 'DCN_MLP_DIM_LAYERS': 1, 'DCN_MLP_DIM_NUM': 10, 'DCN_DROPOUT': 0.3, 'DCN_NUM_LAYERS': 4}. Best is trial 24 with value: 2.163184038333742.\u001b[0m\n"
     ]
    },
    {
     "name": "stdout",
     "output_type": "stream",
     "text": [
      "42\n"
     ]
    },
    {
     "name": "stderr",
     "output_type": "stream",
     "text": [
      "100%|██████████| 959/959 [00:24<00:00, 38.96it/s, loss=2.19]\n",
      "100%|██████████| 240/240 [00:01<00:00, 205.81it/s]\n",
      "  0%|          | 0/240 [00:00<?, ?it/s]"
     ]
    },
    {
     "name": "stdout",
     "output_type": "stream",
     "text": [
      "epoch: 0 validation: rmse: 2.173152788358432\n"
     ]
    },
    {
     "name": "stderr",
     "output_type": "stream",
     "text": [
      "100%|██████████| 240/240 [00:01<00:00, 184.63it/s]\n",
      "\u001b[32m[I 2022-11-08 04:28:27,044]\u001b[0m Trial 54 finished with value: 2.173152788358432 and parameters: {'BATCH_SIZE': 256, 'LR': 0.004944288407359488, 'WEIGHT_DECAY': 2.7275752545848866e-06, 'FFM_EMBED_DIM': 14, 'DCN_EMBED_DIM': 7, 'DCN_MLP_DIM_LAYERS': 1, 'DCN_MLP_DIM_NUM': 12, 'DCN_DROPOUT': 0.3, 'DCN_NUM_LAYERS': 4}. Best is trial 24 with value: 2.163184038333742.\u001b[0m\n"
     ]
    },
    {
     "name": "stdout",
     "output_type": "stream",
     "text": [
      "42\n"
     ]
    },
    {
     "name": "stderr",
     "output_type": "stream",
     "text": [
      "100%|██████████| 959/959 [00:28<00:00, 34.24it/s, loss=2.16]\n",
      "100%|██████████| 240/240 [00:01<00:00, 191.26it/s]\n",
      "  0%|          | 0/240 [00:00<?, ?it/s]"
     ]
    },
    {
     "name": "stdout",
     "output_type": "stream",
     "text": [
      "epoch: 0 validation: rmse: 2.1740467280085114\n"
     ]
    },
    {
     "name": "stderr",
     "output_type": "stream",
     "text": [
      "100%|██████████| 240/240 [00:01<00:00, 213.30it/s]\n",
      "\u001b[32m[I 2022-11-08 04:28:59,055]\u001b[0m Trial 55 finished with value: 2.1740467280085114 and parameters: {'BATCH_SIZE': 256, 'LR': 0.009253831447014827, 'WEIGHT_DECAY': 1.5385742921439836e-06, 'FFM_EMBED_DIM': 24, 'DCN_EMBED_DIM': 4, 'DCN_MLP_DIM_LAYERS': 1, 'DCN_MLP_DIM_NUM': 9, 'DCN_DROPOUT': 0.2, 'DCN_NUM_LAYERS': 2}. Best is trial 24 with value: 2.163184038333742.\u001b[0m\n"
     ]
    },
    {
     "name": "stdout",
     "output_type": "stream",
     "text": [
      "42\n"
     ]
    },
    {
     "name": "stderr",
     "output_type": "stream",
     "text": [
      "100%|██████████| 959/959 [00:28<00:00, 33.65it/s, loss=2.18]\n",
      "100%|██████████| 240/240 [00:01<00:00, 204.19it/s]\n",
      "  0%|          | 0/240 [00:00<?, ?it/s]"
     ]
    },
    {
     "name": "stdout",
     "output_type": "stream",
     "text": [
      "epoch: 0 validation: rmse: 2.1706121034246526\n"
     ]
    },
    {
     "name": "stderr",
     "output_type": "stream",
     "text": [
      "100%|██████████| 240/240 [00:01<00:00, 204.48it/s]\n",
      "\u001b[32m[I 2022-11-08 04:29:31,356]\u001b[0m Trial 56 finished with value: 2.1706121034246526 and parameters: {'BATCH_SIZE': 256, 'LR': 0.007302506503875089, 'WEIGHT_DECAY': 2.2099807991515985e-06, 'FFM_EMBED_DIM': 21, 'DCN_EMBED_DIM': 16, 'DCN_MLP_DIM_LAYERS': 1, 'DCN_MLP_DIM_NUM': 13, 'DCN_DROPOUT': 0.3, 'DCN_NUM_LAYERS': 4}. Best is trial 24 with value: 2.163184038333742.\u001b[0m\n"
     ]
    },
    {
     "name": "stdout",
     "output_type": "stream",
     "text": [
      "42\n"
     ]
    },
    {
     "name": "stderr",
     "output_type": "stream",
     "text": [
      "100%|██████████| 959/959 [00:25<00:00, 38.02it/s, loss=2.16]\n",
      "100%|██████████| 240/240 [00:01<00:00, 213.61it/s]\n",
      "  0%|          | 0/240 [00:00<?, ?it/s]"
     ]
    },
    {
     "name": "stdout",
     "output_type": "stream",
     "text": [
      "epoch: 0 validation: rmse: 2.1766655295181367\n"
     ]
    },
    {
     "name": "stderr",
     "output_type": "stream",
     "text": [
      "100%|██████████| 240/240 [00:01<00:00, 213.26it/s]\n",
      "\u001b[32m[I 2022-11-08 04:29:59,997]\u001b[0m Trial 57 finished with value: 2.1766655295181367 and parameters: {'BATCH_SIZE': 256, 'LR': 0.005816331447318522, 'WEIGHT_DECAY': 1.666212889771069e-07, 'FFM_EMBED_DIM': 17, 'DCN_EMBED_DIM': 3, 'DCN_MLP_DIM_LAYERS': 1, 'DCN_MLP_DIM_NUM': 4, 'DCN_DROPOUT': 0.3, 'DCN_NUM_LAYERS': 2}. Best is trial 24 with value: 2.163184038333742.\u001b[0m\n"
     ]
    },
    {
     "name": "stdout",
     "output_type": "stream",
     "text": [
      "42\n"
     ]
    },
    {
     "name": "stderr",
     "output_type": "stream",
     "text": [
      "100%|██████████| 959/959 [00:24<00:00, 39.30it/s, loss=2.16]\n",
      "100%|██████████| 240/240 [00:01<00:00, 213.26it/s]\n",
      "  0%|          | 0/240 [00:00<?, ?it/s]"
     ]
    },
    {
     "name": "stdout",
     "output_type": "stream",
     "text": [
      "epoch: 0 validation: rmse: 2.172885355751377\n"
     ]
    },
    {
     "name": "stderr",
     "output_type": "stream",
     "text": [
      "100%|██████████| 240/240 [00:01<00:00, 213.29it/s]\n",
      "\u001b[32m[I 2022-11-08 04:30:27,572]\u001b[0m Trial 58 finished with value: 2.172885355751377 and parameters: {'BATCH_SIZE': 256, 'LR': 0.009242901972145142, 'WEIGHT_DECAY': 3.725941965193935e-06, 'FFM_EMBED_DIM': 13, 'DCN_EMBED_DIM': 2, 'DCN_MLP_DIM_LAYERS': 1, 'DCN_MLP_DIM_NUM': 6, 'DCN_DROPOUT': 0.3, 'DCN_NUM_LAYERS': 2}. Best is trial 24 with value: 2.163184038333742.\u001b[0m\n"
     ]
    },
    {
     "name": "stdout",
     "output_type": "stream",
     "text": [
      "42\n"
     ]
    },
    {
     "name": "stderr",
     "output_type": "stream",
     "text": [
      "100%|██████████| 959/959 [00:29<00:00, 32.25it/s, loss=2.17]\n",
      "100%|██████████| 240/240 [00:01<00:00, 200.33it/s]\n",
      "  0%|          | 0/240 [00:00<?, ?it/s]"
     ]
    },
    {
     "name": "stdout",
     "output_type": "stream",
     "text": [
      "epoch: 0 validation: rmse: 2.1666697264081645\n"
     ]
    },
    {
     "name": "stderr",
     "output_type": "stream",
     "text": [
      "100%|██████████| 240/240 [00:01<00:00, 200.52it/s]\n",
      "\u001b[32m[I 2022-11-08 04:31:01,282]\u001b[0m Trial 59 finished with value: 2.1666697264081645 and parameters: {'BATCH_SIZE': 256, 'LR': 0.006420777350735224, 'WEIGHT_DECAY': 3.0342419164642464e-07, 'FFM_EMBED_DIM': 23, 'DCN_EMBED_DIM': 4, 'DCN_MLP_DIM_LAYERS': 3, 'DCN_MLP_DIM_NUM': 1, 'DCN_DROPOUT': 0.3, 'DCN_NUM_LAYERS': 3}. Best is trial 24 with value: 2.163184038333742.\u001b[0m\n"
     ]
    },
    {
     "name": "stdout",
     "output_type": "stream",
     "text": [
      "42\n"
     ]
    },
    {
     "name": "stderr",
     "output_type": "stream",
     "text": [
      "100%|██████████| 480/480 [00:18<00:00, 26.11it/s, loss=2.2] \n",
      "100%|██████████| 120/120 [00:00<00:00, 142.10it/s]\n",
      "  0%|          | 0/120 [00:00<?, ?it/s]"
     ]
    },
    {
     "name": "stdout",
     "output_type": "stream",
     "text": [
      "epoch: 0 validation: rmse: 2.177349256170313\n"
     ]
    },
    {
     "name": "stderr",
     "output_type": "stream",
     "text": [
      "100%|██████████| 120/120 [00:00<00:00, 142.67it/s]\n",
      "\u001b[32m[I 2022-11-08 04:31:23,481]\u001b[0m Trial 60 finished with value: 2.177349256170313 and parameters: {'BATCH_SIZE': 512, 'LR': 0.006574038299547391, 'WEIGHT_DECAY': 3.402199291727138e-07, 'FFM_EMBED_DIM': 32, 'DCN_EMBED_DIM': 5, 'DCN_MLP_DIM_LAYERS': 3, 'DCN_MLP_DIM_NUM': 1, 'DCN_DROPOUT': 0.3, 'DCN_NUM_LAYERS': 3}. Best is trial 24 with value: 2.163184038333742.\u001b[0m\n"
     ]
    },
    {
     "name": "stdout",
     "output_type": "stream",
     "text": [
      "42\n"
     ]
    },
    {
     "name": "stderr",
     "output_type": "stream",
     "text": [
      "100%|██████████| 959/959 [00:30<00:00, 30.98it/s, loss=2.2] \n",
      "100%|██████████| 240/240 [00:01<00:00, 195.37it/s]\n",
      "  0%|          | 0/240 [00:00<?, ?it/s]"
     ]
    },
    {
     "name": "stdout",
     "output_type": "stream",
     "text": [
      "epoch: 0 validation: rmse: 2.1753208867107894\n"
     ]
    },
    {
     "name": "stderr",
     "output_type": "stream",
     "text": [
      "100%|██████████| 240/240 [00:01<00:00, 175.14it/s]\n",
      "\u001b[32m[I 2022-11-08 04:31:58,720]\u001b[0m Trial 61 finished with value: 2.1753208867107894 and parameters: {'BATCH_SIZE': 256, 'LR': 0.00535165650236206, 'WEIGHT_DECAY': 2.7934061993708645e-07, 'FFM_EMBED_DIM': 25, 'DCN_EMBED_DIM': 4, 'DCN_MLP_DIM_LAYERS': 3, 'DCN_MLP_DIM_NUM': 3, 'DCN_DROPOUT': 0.3, 'DCN_NUM_LAYERS': 4}. Best is trial 24 with value: 2.163184038333742.\u001b[0m\n"
     ]
    },
    {
     "name": "stdout",
     "output_type": "stream",
     "text": [
      "42\n"
     ]
    },
    {
     "name": "stderr",
     "output_type": "stream",
     "text": [
      "100%|██████████| 959/959 [00:29<00:00, 33.06it/s, loss=2.18]\n",
      "100%|██████████| 240/240 [00:01<00:00, 183.10it/s]\n",
      "  0%|          | 0/240 [00:00<?, ?it/s]"
     ]
    },
    {
     "name": "stdout",
     "output_type": "stream",
     "text": [
      "epoch: 0 validation: rmse: 2.17494306180193\n"
     ]
    },
    {
     "name": "stderr",
     "output_type": "stream",
     "text": [
      "100%|██████████| 240/240 [00:01<00:00, 203.20it/s]\n",
      "\u001b[32m[I 2022-11-08 04:32:31,764]\u001b[0m Trial 62 finished with value: 2.17494306180193 and parameters: {'BATCH_SIZE': 256, 'LR': 0.007683862486679795, 'WEIGHT_DECAY': 2.052984307929862e-07, 'FFM_EMBED_DIM': 23, 'DCN_EMBED_DIM': 7, 'DCN_MLP_DIM_LAYERS': 2, 'DCN_MLP_DIM_NUM': 2, 'DCN_DROPOUT': 0.3, 'DCN_NUM_LAYERS': 3}. Best is trial 24 with value: 2.163184038333742.\u001b[0m\n"
     ]
    },
    {
     "name": "stdout",
     "output_type": "stream",
     "text": [
      "42\n"
     ]
    },
    {
     "name": "stderr",
     "output_type": "stream",
     "text": [
      "100%|██████████| 959/959 [00:29<00:00, 32.22it/s, loss=2.16]\n",
      "100%|██████████| 240/240 [00:01<00:00, 195.58it/s]\n",
      "  0%|          | 0/240 [00:00<?, ?it/s]"
     ]
    },
    {
     "name": "stdout",
     "output_type": "stream",
     "text": [
      "epoch: 0 validation: rmse: 2.1675085063549497\n"
     ]
    },
    {
     "name": "stderr",
     "output_type": "stream",
     "text": [
      "100%|██████████| 240/240 [00:01<00:00, 195.62it/s]\n",
      "\u001b[32m[I 2022-11-08 04:33:05,499]\u001b[0m Trial 63 finished with value: 2.1675085063549497 and parameters: {'BATCH_SIZE': 256, 'LR': 0.007096988102070974, 'WEIGHT_DECAY': 4.477368386056609e-07, 'FFM_EMBED_DIM': 22, 'DCN_EMBED_DIM': 6, 'DCN_MLP_DIM_LAYERS': 3, 'DCN_MLP_DIM_NUM': 1, 'DCN_DROPOUT': 0.3, 'DCN_NUM_LAYERS': 4}. Best is trial 24 with value: 2.163184038333742.\u001b[0m\n"
     ]
    },
    {
     "name": "stdout",
     "output_type": "stream",
     "text": [
      "42\n"
     ]
    },
    {
     "name": "stderr",
     "output_type": "stream",
     "text": [
      "100%|██████████| 959/959 [00:26<00:00, 35.65it/s, loss=2.18]\n",
      "100%|██████████| 240/240 [00:01<00:00, 202.00it/s]\n",
      "  0%|          | 0/240 [00:00<?, ?it/s]"
     ]
    },
    {
     "name": "stdout",
     "output_type": "stream",
     "text": [
      "epoch: 0 validation: rmse: 2.1628770801609694\n"
     ]
    },
    {
     "name": "stderr",
     "output_type": "stream",
     "text": [
      "100%|██████████| 240/240 [00:01<00:00, 202.71it/s]\n",
      "\u001b[32m[I 2022-11-08 04:33:36,036]\u001b[0m Trial 64 finished with value: 2.1628770801609694 and parameters: {'BATCH_SIZE': 256, 'LR': 0.008225496841664449, 'WEIGHT_DECAY': 5.998495963064125e-07, 'FFM_EMBED_DIM': 18, 'DCN_EMBED_DIM': 6, 'DCN_MLP_DIM_LAYERS': 3, 'DCN_MLP_DIM_NUM': 1, 'DCN_DROPOUT': 0.3, 'DCN_NUM_LAYERS': 2}. Best is trial 64 with value: 2.1628770801609694.\u001b[0m\n"
     ]
    },
    {
     "name": "stdout",
     "output_type": "stream",
     "text": [
      "42\n"
     ]
    },
    {
     "name": "stderr",
     "output_type": "stream",
     "text": [
      "100%|██████████| 959/959 [00:25<00:00, 37.92it/s, loss=2.19]\n",
      "100%|██████████| 240/240 [00:01<00:00, 203.76it/s]\n",
      "  0%|          | 0/240 [00:00<?, ?it/s]"
     ]
    },
    {
     "name": "stdout",
     "output_type": "stream",
     "text": [
      "epoch: 0 validation: rmse: 2.175222239040083\n"
     ]
    },
    {
     "name": "stderr",
     "output_type": "stream",
     "text": [
      "100%|██████████| 240/240 [00:01<00:00, 202.11it/s]\n",
      "\u001b[32m[I 2022-11-08 04:34:04,711]\u001b[0m Trial 65 finished with value: 2.175222239040083 and parameters: {'BATCH_SIZE': 256, 'LR': 0.008139353017882081, 'WEIGHT_DECAY': 7.084822023252145e-07, 'FFM_EMBED_DIM': 14, 'DCN_EMBED_DIM': 8, 'DCN_MLP_DIM_LAYERS': 3, 'DCN_MLP_DIM_NUM': 2, 'DCN_DROPOUT': 0.3, 'DCN_NUM_LAYERS': 2}. Best is trial 64 with value: 2.1628770801609694.\u001b[0m\n"
     ]
    },
    {
     "name": "stdout",
     "output_type": "stream",
     "text": [
      "42\n"
     ]
    },
    {
     "name": "stderr",
     "output_type": "stream",
     "text": [
      "100%|██████████| 240/240 [00:10<00:00, 23.93it/s, loss=2.24]\n",
      "100%|██████████| 60/60 [00:00<00:00, 77.11it/s]\n",
      "  0%|          | 0/60 [00:00<?, ?it/s]"
     ]
    },
    {
     "name": "stdout",
     "output_type": "stream",
     "text": [
      "epoch: 0 validation: rmse: 2.185393440364858\n"
     ]
    },
    {
     "name": "stderr",
     "output_type": "stream",
     "text": [
      "100%|██████████| 60/60 [00:00<00:00, 76.85it/s]\n",
      "\u001b[32m[I 2022-11-08 04:34:18,185]\u001b[0m Trial 66 finished with value: 2.185393440364858 and parameters: {'BATCH_SIZE': 1024, 'LR': 0.008394070332158287, 'WEIGHT_DECAY': 6.10451563290081e-07, 'FFM_EMBED_DIM': 28, 'DCN_EMBED_DIM': 6, 'DCN_MLP_DIM_LAYERS': 3, 'DCN_MLP_DIM_NUM': 1, 'DCN_DROPOUT': 0.3, 'DCN_NUM_LAYERS': 2}. Best is trial 64 with value: 2.1628770801609694.\u001b[0m\n"
     ]
    },
    {
     "name": "stdout",
     "output_type": "stream",
     "text": [
      "42\n"
     ]
    },
    {
     "name": "stderr",
     "output_type": "stream",
     "text": [
      "100%|██████████| 959/959 [00:27<00:00, 34.80it/s, loss=2.19]\n",
      "100%|██████████| 240/240 [00:01<00:00, 184.17it/s]\n",
      "  0%|          | 0/240 [00:00<?, ?it/s]"
     ]
    },
    {
     "name": "stdout",
     "output_type": "stream",
     "text": [
      "epoch: 0 validation: rmse: 2.2056502512865777\n"
     ]
    },
    {
     "name": "stderr",
     "output_type": "stream",
     "text": [
      "100%|██████████| 240/240 [00:01<00:00, 204.43it/s]\n",
      "\u001b[32m[I 2022-11-08 04:34:49,481]\u001b[0m Trial 67 finished with value: 2.2056502512865777 and parameters: {'BATCH_SIZE': 256, 'LR': 0.0014955736854664937, 'WEIGHT_DECAY': 2.2149063980208564e-07, 'FFM_EMBED_DIM': 18, 'DCN_EMBED_DIM': 7, 'DCN_MLP_DIM_LAYERS': 3, 'DCN_MLP_DIM_NUM': 3, 'DCN_DROPOUT': 0.3, 'DCN_NUM_LAYERS': 2}. Best is trial 64 with value: 2.1628770801609694.\u001b[0m\n"
     ]
    },
    {
     "name": "stdout",
     "output_type": "stream",
     "text": [
      "42\n"
     ]
    },
    {
     "name": "stderr",
     "output_type": "stream",
     "text": [
      "100%|██████████| 959/959 [00:25<00:00, 37.90it/s, loss=2.15]\n",
      "100%|██████████| 240/240 [00:01<00:00, 208.88it/s]\n",
      "  0%|          | 0/240 [00:00<?, ?it/s]"
     ]
    },
    {
     "name": "stdout",
     "output_type": "stream",
     "text": [
      "epoch: 0 validation: rmse: 2.174138076277063\n"
     ]
    },
    {
     "name": "stderr",
     "output_type": "stream",
     "text": [
      "100%|██████████| 240/240 [00:01<00:00, 208.68it/s]\n",
      "\u001b[32m[I 2022-11-08 04:35:17,956]\u001b[0m Trial 68 finished with value: 2.174138076277063 and parameters: {'BATCH_SIZE': 256, 'LR': 0.006286918006503637, 'WEIGHT_DECAY': 3.04110071908844e-07, 'FFM_EMBED_DIM': 12, 'DCN_EMBED_DIM': 5, 'DCN_MLP_DIM_LAYERS': 3, 'DCN_MLP_DIM_NUM': 4, 'DCN_DROPOUT': 0.2, 'DCN_NUM_LAYERS': 1}. Best is trial 64 with value: 2.1628770801609694.\u001b[0m\n"
     ]
    },
    {
     "name": "stdout",
     "output_type": "stream",
     "text": [
      "42\n"
     ]
    },
    {
     "name": "stderr",
     "output_type": "stream",
     "text": [
      "100%|██████████| 959/959 [00:25<00:00, 37.94it/s, loss=2.17]\n",
      "100%|██████████| 240/240 [00:01<00:00, 209.47it/s]\n",
      "  0%|          | 0/240 [00:00<?, ?it/s]"
     ]
    },
    {
     "name": "stdout",
     "output_type": "stream",
     "text": [
      "epoch: 0 validation: rmse: 2.1884300366445153\n"
     ]
    },
    {
     "name": "stderr",
     "output_type": "stream",
     "text": [
      "100%|██████████| 240/240 [00:01<00:00, 209.05it/s]\n",
      "\u001b[32m[I 2022-11-08 04:35:46,672]\u001b[0m Trial 69 finished with value: 2.1884300366445153 and parameters: {'BATCH_SIZE': 256, 'LR': 0.009871403369546566, 'WEIGHT_DECAY': 1.210583182496285e-07, 'FFM_EMBED_DIM': 16, 'DCN_EMBED_DIM': 6, 'DCN_MLP_DIM_LAYERS': 2, 'DCN_MLP_DIM_NUM': 1, 'DCN_DROPOUT': 0.25, 'DCN_NUM_LAYERS': 2}. Best is trial 64 with value: 2.1628770801609694.\u001b[0m\n"
     ]
    },
    {
     "name": "stdout",
     "output_type": "stream",
     "text": [
      "42\n"
     ]
    },
    {
     "name": "stderr",
     "output_type": "stream",
     "text": [
      "100%|██████████| 480/480 [00:13<00:00, 34.53it/s, loss=2.2] \n",
      "100%|██████████| 120/120 [00:01<00:00, 98.13it/s]\n",
      "  0%|          | 0/120 [00:00<?, ?it/s]"
     ]
    },
    {
     "name": "stdout",
     "output_type": "stream",
     "text": [
      "epoch: 0 validation: rmse: 2.18279629222527\n"
     ]
    },
    {
     "name": "stderr",
     "output_type": "stream",
     "text": [
      "100%|██████████| 120/120 [00:01<00:00, 109.73it/s]\n",
      "\u001b[32m[I 2022-11-08 04:36:03,699]\u001b[0m Trial 70 finished with value: 2.18279629222527 and parameters: {'BATCH_SIZE': 512, 'LR': 0.009367762992983574, 'WEIGHT_DECAY': 4.437613162226646e-07, 'FFM_EMBED_DIM': 11, 'DCN_EMBED_DIM': 3, 'DCN_MLP_DIM_LAYERS': 3, 'DCN_MLP_DIM_NUM': 2, 'DCN_DROPOUT': 0.3, 'DCN_NUM_LAYERS': 2}. Best is trial 64 with value: 2.1628770801609694.\u001b[0m\n"
     ]
    },
    {
     "name": "stdout",
     "output_type": "stream",
     "text": [
      "42\n"
     ]
    },
    {
     "name": "stderr",
     "output_type": "stream",
     "text": [
      "100%|██████████| 959/959 [00:28<00:00, 33.51it/s, loss=2.18]\n",
      "100%|██████████| 240/240 [00:01<00:00, 206.94it/s]\n",
      "  0%|          | 0/240 [00:00<?, ?it/s]"
     ]
    },
    {
     "name": "stdout",
     "output_type": "stream",
     "text": [
      "epoch: 0 validation: rmse: 2.1801500252556747\n"
     ]
    },
    {
     "name": "stderr",
     "output_type": "stream",
     "text": [
      "100%|██████████| 240/240 [00:01<00:00, 206.03it/s]\n",
      "\u001b[32m[I 2022-11-08 04:36:36,140]\u001b[0m Trial 71 finished with value: 2.1801500252556747 and parameters: {'BATCH_SIZE': 256, 'LR': 0.007147562471263397, 'WEIGHT_DECAY': 4.578339920210568e-07, 'FFM_EMBED_DIM': 22, 'DCN_EMBED_DIM': 6, 'DCN_MLP_DIM_LAYERS': 3, 'DCN_MLP_DIM_NUM': 1, 'DCN_DROPOUT': 0.3, 'DCN_NUM_LAYERS': 2}. Best is trial 64 with value: 2.1628770801609694.\u001b[0m\n"
     ]
    },
    {
     "name": "stdout",
     "output_type": "stream",
     "text": [
      "42\n"
     ]
    },
    {
     "name": "stderr",
     "output_type": "stream",
     "text": [
      "100%|██████████| 959/959 [00:30<00:00, 31.83it/s, loss=2.17]\n",
      "100%|██████████| 240/240 [00:01<00:00, 206.47it/s]\n",
      "  0%|          | 0/240 [00:00<?, ?it/s]"
     ]
    },
    {
     "name": "stdout",
     "output_type": "stream",
     "text": [
      "epoch: 0 validation: rmse: 2.1792722390273913\n"
     ]
    },
    {
     "name": "stderr",
     "output_type": "stream",
     "text": [
      "100%|██████████| 240/240 [00:01<00:00, 206.21it/s]\n",
      "\u001b[32m[I 2022-11-08 04:37:10,343]\u001b[0m Trial 72 finished with value: 2.1792722390273913 and parameters: {'BATCH_SIZE': 256, 'LR': 0.007532898092904995, 'WEIGHT_DECAY': 3.6084188635646863e-07, 'FFM_EMBED_DIM': 26, 'DCN_EMBED_DIM': 5, 'DCN_MLP_DIM_LAYERS': 3, 'DCN_MLP_DIM_NUM': 1, 'DCN_DROPOUT': 0.3, 'DCN_NUM_LAYERS': 2}. Best is trial 64 with value: 2.1628770801609694.\u001b[0m\n"
     ]
    },
    {
     "name": "stdout",
     "output_type": "stream",
     "text": [
      "42\n"
     ]
    },
    {
     "name": "stderr",
     "output_type": "stream",
     "text": [
      "100%|██████████| 959/959 [00:27<00:00, 34.61it/s, loss=2.17]\n",
      "100%|██████████| 240/240 [00:01<00:00, 199.31it/s]\n",
      "  0%|          | 0/240 [00:00<?, ?it/s]"
     ]
    },
    {
     "name": "stdout",
     "output_type": "stream",
     "text": [
      "epoch: 0 validation: rmse: 2.165533069159939\n"
     ]
    },
    {
     "name": "stderr",
     "output_type": "stream",
     "text": [
      "100%|██████████| 240/240 [00:01<00:00, 179.25it/s]\n",
      "\u001b[32m[I 2022-11-08 04:37:41,903]\u001b[0m Trial 73 finished with value: 2.165533069159939 and parameters: {'BATCH_SIZE': 256, 'LR': 0.007101336974700658, 'WEIGHT_DECAY': 5.327478604265162e-07, 'FFM_EMBED_DIM': 19, 'DCN_EMBED_DIM': 7, 'DCN_MLP_DIM_LAYERS': 3, 'DCN_MLP_DIM_NUM': 3, 'DCN_DROPOUT': 0.3, 'DCN_NUM_LAYERS': 3}. Best is trial 64 with value: 2.1628770801609694.\u001b[0m\n"
     ]
    },
    {
     "name": "stdout",
     "output_type": "stream",
     "text": [
      "42\n"
     ]
    },
    {
     "name": "stderr",
     "output_type": "stream",
     "text": [
      "100%|██████████| 959/959 [00:25<00:00, 37.97it/s, loss=2.17]\n",
      "100%|██████████| 240/240 [00:01<00:00, 182.21it/s]\n",
      "  0%|          | 0/240 [00:00<?, ?it/s]"
     ]
    },
    {
     "name": "stdout",
     "output_type": "stream",
     "text": [
      "epoch: 0 validation: rmse: 2.166281074312106\n"
     ]
    },
    {
     "name": "stderr",
     "output_type": "stream",
     "text": [
      "100%|██████████| 240/240 [00:01<00:00, 203.06it/s]\n",
      "\u001b[32m[I 2022-11-08 04:38:10,721]\u001b[0m Trial 74 finished with value: 2.166281074312106 and parameters: {'BATCH_SIZE': 256, 'LR': 0.008117709065003089, 'WEIGHT_DECAY': 5.241326760687446e-07, 'FFM_EMBED_DIM': 15, 'DCN_EMBED_DIM': 7, 'DCN_MLP_DIM_LAYERS': 3, 'DCN_MLP_DIM_NUM': 3, 'DCN_DROPOUT': 0.3, 'DCN_NUM_LAYERS': 3}. Best is trial 64 with value: 2.1628770801609694.\u001b[0m\n"
     ]
    },
    {
     "name": "stdout",
     "output_type": "stream",
     "text": [
      "42\n"
     ]
    },
    {
     "name": "stderr",
     "output_type": "stream",
     "text": [
      "100%|██████████| 959/959 [00:26<00:00, 36.84it/s, loss=2.17]\n",
      "100%|██████████| 240/240 [00:01<00:00, 200.14it/s]\n",
      "  0%|          | 0/240 [00:00<?, ?it/s]"
     ]
    },
    {
     "name": "stdout",
     "output_type": "stream",
     "text": [
      "epoch: 0 validation: rmse: 2.167152054099454\n"
     ]
    },
    {
     "name": "stderr",
     "output_type": "stream",
     "text": [
      "100%|██████████| 240/240 [00:01<00:00, 200.03it/s]\n",
      "\u001b[32m[I 2022-11-08 04:38:40,216]\u001b[0m Trial 75 finished with value: 2.167152054099454 and parameters: {'BATCH_SIZE': 256, 'LR': 0.008585616799757893, 'WEIGHT_DECAY': 5.244223472178661e-07, 'FFM_EMBED_DIM': 15, 'DCN_EMBED_DIM': 7, 'DCN_MLP_DIM_LAYERS': 3, 'DCN_MLP_DIM_NUM': 3, 'DCN_DROPOUT': 0.3, 'DCN_NUM_LAYERS': 3}. Best is trial 64 with value: 2.1628770801609694.\u001b[0m\n"
     ]
    },
    {
     "name": "stdout",
     "output_type": "stream",
     "text": [
      "42\n"
     ]
    },
    {
     "name": "stderr",
     "output_type": "stream",
     "text": [
      "100%|██████████| 959/959 [00:26<00:00, 36.41it/s, loss=2.18]\n",
      "100%|██████████| 240/240 [00:01<00:00, 203.57it/s]\n",
      "  0%|          | 0/240 [00:00<?, ?it/s]"
     ]
    },
    {
     "name": "stdout",
     "output_type": "stream",
     "text": [
      "epoch: 0 validation: rmse: 2.1676776713871373\n"
     ]
    },
    {
     "name": "stderr",
     "output_type": "stream",
     "text": [
      "100%|██████████| 240/240 [00:01<00:00, 202.98it/s]\n",
      "\u001b[32m[I 2022-11-08 04:39:10,120]\u001b[0m Trial 76 finished with value: 2.1676776713871373 and parameters: {'BATCH_SIZE': 256, 'LR': 0.007876714241273218, 'WEIGHT_DECAY': 6.154164560058509e-07, 'FFM_EMBED_DIM': 17, 'DCN_EMBED_DIM': 9, 'DCN_MLP_DIM_LAYERS': 3, 'DCN_MLP_DIM_NUM': 4, 'DCN_DROPOUT': 0.3, 'DCN_NUM_LAYERS': 3}. Best is trial 64 with value: 2.1628770801609694.\u001b[0m\n"
     ]
    },
    {
     "name": "stdout",
     "output_type": "stream",
     "text": [
      "42\n"
     ]
    },
    {
     "name": "stderr",
     "output_type": "stream",
     "text": [
      "100%|██████████| 959/959 [00:27<00:00, 35.28it/s, loss=2.17]\n",
      "100%|██████████| 240/240 [00:01<00:00, 208.21it/s]\n",
      "  0%|          | 0/240 [00:00<?, ?it/s]"
     ]
    },
    {
     "name": "stdout",
     "output_type": "stream",
     "text": [
      "epoch: 0 validation: rmse: 2.1663451542605805\n"
     ]
    },
    {
     "name": "stderr",
     "output_type": "stream",
     "text": [
      "100%|██████████| 240/240 [00:01<00:00, 208.32it/s]\n",
      "\u001b[32m[I 2022-11-08 04:39:40,924]\u001b[0m Trial 77 finished with value: 2.1663451542605805 and parameters: {'BATCH_SIZE': 256, 'LR': 0.009424578286312555, 'WEIGHT_DECAY': 7.980580085020114e-07, 'FFM_EMBED_DIM': 19, 'DCN_EMBED_DIM': 8, 'DCN_MLP_DIM_LAYERS': 2, 'DCN_MLP_DIM_NUM': 8, 'DCN_DROPOUT': 0.3, 'DCN_NUM_LAYERS': 3}. Best is trial 64 with value: 2.1628770801609694.\u001b[0m\n"
     ]
    },
    {
     "name": "stdout",
     "output_type": "stream",
     "text": [
      "42\n"
     ]
    },
    {
     "name": "stderr",
     "output_type": "stream",
     "text": [
      "100%|██████████| 240/240 [00:08<00:00, 28.15it/s, loss=2.24]\n",
      "100%|██████████| 60/60 [00:00<00:00, 77.26it/s]\n",
      "  0%|          | 0/60 [00:00<?, ?it/s]"
     ]
    },
    {
     "name": "stdout",
     "output_type": "stream",
     "text": [
      "epoch: 0 validation: rmse: 2.1894773124013636\n"
     ]
    },
    {
     "name": "stderr",
     "output_type": "stream",
     "text": [
      "100%|██████████| 60/60 [00:00<00:00, 76.96it/s]\n",
      "\u001b[32m[I 2022-11-08 04:39:52,082]\u001b[0m Trial 78 finished with value: 2.1894773124013636 and parameters: {'BATCH_SIZE': 1024, 'LR': 0.00883366964631536, 'WEIGHT_DECAY': 1.0007210777018321e-06, 'FFM_EMBED_DIM': 15, 'DCN_EMBED_DIM': 13, 'DCN_MLP_DIM_LAYERS': 3, 'DCN_MLP_DIM_NUM': 5, 'DCN_DROPOUT': 0.3, 'DCN_NUM_LAYERS': 2}. Best is trial 64 with value: 2.1628770801609694.\u001b[0m\n"
     ]
    },
    {
     "name": "stdout",
     "output_type": "stream",
     "text": [
      "42\n"
     ]
    },
    {
     "name": "stderr",
     "output_type": "stream",
     "text": [
      "100%|██████████| 959/959 [00:26<00:00, 36.83it/s, loss=2.18]\n",
      "100%|██████████| 240/240 [00:01<00:00, 210.61it/s]\n",
      "  0%|          | 0/240 [00:00<?, ?it/s]"
     ]
    },
    {
     "name": "stdout",
     "output_type": "stream",
     "text": [
      "epoch: 0 validation: rmse: 2.173147900106129\n"
     ]
    },
    {
     "name": "stderr",
     "output_type": "stream",
     "text": [
      "100%|██████████| 240/240 [00:01<00:00, 188.31it/s]\n",
      "\u001b[32m[I 2022-11-08 04:40:21,786]\u001b[0m Trial 79 finished with value: 2.173147900106129 and parameters: {'BATCH_SIZE': 256, 'LR': 0.008223656426981703, 'WEIGHT_DECAY': 5.713342681779036e-07, 'FFM_EMBED_DIM': 18, 'DCN_EMBED_DIM': 7, 'DCN_MLP_DIM_LAYERS': 2, 'DCN_MLP_DIM_NUM': 3, 'DCN_DROPOUT': 0.25, 'DCN_NUM_LAYERS': 2}. Best is trial 64 with value: 2.1628770801609694.\u001b[0m\n"
     ]
    },
    {
     "name": "stdout",
     "output_type": "stream",
     "text": [
      "42\n"
     ]
    },
    {
     "name": "stderr",
     "output_type": "stream",
     "text": [
      "100%|██████████| 959/959 [00:23<00:00, 40.36it/s, loss=2.19]\n",
      "100%|██████████| 240/240 [00:01<00:00, 193.34it/s]\n",
      "  0%|          | 0/240 [00:00<?, ?it/s]"
     ]
    },
    {
     "name": "stdout",
     "output_type": "stream",
     "text": [
      "epoch: 0 validation: rmse: 2.1690011906189617\n"
     ]
    },
    {
     "name": "stderr",
     "output_type": "stream",
     "text": [
      "100%|██████████| 240/240 [00:01<00:00, 216.80it/s]\n",
      "\u001b[32m[I 2022-11-08 04:40:48,840]\u001b[0m Trial 80 finished with value: 2.1690011906189617 and parameters: {'BATCH_SIZE': 256, 'LR': 0.006796365686861451, 'WEIGHT_DECAY': 6.668625001219704e-07, 'FFM_EMBED_DIM': 13, 'DCN_EMBED_DIM': 8, 'DCN_MLP_DIM_LAYERS': 1, 'DCN_MLP_DIM_NUM': 2, 'DCN_DROPOUT': 0.3, 'DCN_NUM_LAYERS': 2}. Best is trial 64 with value: 2.1628770801609694.\u001b[0m\n"
     ]
    },
    {
     "name": "stdout",
     "output_type": "stream",
     "text": [
      "42\n"
     ]
    },
    {
     "name": "stderr",
     "output_type": "stream",
     "text": [
      "100%|██████████| 959/959 [00:27<00:00, 35.29it/s, loss=2.17]\n",
      "100%|██████████| 240/240 [00:01<00:00, 206.56it/s]\n",
      "  0%|          | 0/240 [00:00<?, ?it/s]"
     ]
    },
    {
     "name": "stdout",
     "output_type": "stream",
     "text": [
      "epoch: 0 validation: rmse: 2.1655531994141404\n"
     ]
    },
    {
     "name": "stderr",
     "output_type": "stream",
     "text": [
      "100%|██████████| 240/240 [00:01<00:00, 206.15it/s]\n",
      "\u001b[32m[I 2022-11-08 04:41:19,685]\u001b[0m Trial 81 finished with value: 2.1655531994141404 and parameters: {'BATCH_SIZE': 256, 'LR': 0.009964873358477492, 'WEIGHT_DECAY': 7.736023590992072e-07, 'FFM_EMBED_DIM': 19, 'DCN_EMBED_DIM': 8, 'DCN_MLP_DIM_LAYERS': 2, 'DCN_MLP_DIM_NUM': 8, 'DCN_DROPOUT': 0.3, 'DCN_NUM_LAYERS': 3}. Best is trial 64 with value: 2.1628770801609694.\u001b[0m\n"
     ]
    },
    {
     "name": "stdout",
     "output_type": "stream",
     "text": [
      "42\n"
     ]
    },
    {
     "name": "stderr",
     "output_type": "stream",
     "text": [
      "100%|██████████| 959/959 [00:25<00:00, 37.29it/s, loss=2.18]\n",
      "100%|██████████| 240/240 [00:01<00:00, 208.59it/s]\n",
      "  0%|          | 0/240 [00:00<?, ?it/s]"
     ]
    },
    {
     "name": "stdout",
     "output_type": "stream",
     "text": [
      "epoch: 0 validation: rmse: 2.172130714741151\n"
     ]
    },
    {
     "name": "stderr",
     "output_type": "stream",
     "text": [
      "100%|██████████| 240/240 [00:01<00:00, 208.05it/s]\n",
      "\u001b[32m[I 2022-11-08 04:41:48,909]\u001b[0m Trial 82 finished with value: 2.172130714741151 and parameters: {'BATCH_SIZE': 256, 'LR': 0.008928488165631458, 'WEIGHT_DECAY': 8.88969392748786e-07, 'FFM_EMBED_DIM': 17, 'DCN_EMBED_DIM': 9, 'DCN_MLP_DIM_LAYERS': 2, 'DCN_MLP_DIM_NUM': 5, 'DCN_DROPOUT': 0.3, 'DCN_NUM_LAYERS': 3}. Best is trial 64 with value: 2.1628770801609694.\u001b[0m\n"
     ]
    },
    {
     "name": "stdout",
     "output_type": "stream",
     "text": [
      "42\n"
     ]
    },
    {
     "name": "stderr",
     "output_type": "stream",
     "text": [
      "100%|██████████| 959/959 [00:27<00:00, 34.75it/s, loss=2.18]\n",
      "100%|██████████| 240/240 [00:01<00:00, 207.00it/s]\n",
      "  0%|          | 0/240 [00:00<?, ?it/s]"
     ]
    },
    {
     "name": "stdout",
     "output_type": "stream",
     "text": [
      "epoch: 0 validation: rmse: 2.170198021006809\n"
     ]
    },
    {
     "name": "stderr",
     "output_type": "stream",
     "text": [
      "100%|██████████| 240/240 [00:01<00:00, 206.63it/s]\n",
      "\u001b[32m[I 2022-11-08 04:42:20,138]\u001b[0m Trial 83 finished with value: 2.170198021006809 and parameters: {'BATCH_SIZE': 256, 'LR': 0.009991313678588968, 'WEIGHT_DECAY': 7.54058750266223e-07, 'FFM_EMBED_DIM': 19, 'DCN_EMBED_DIM': 6, 'DCN_MLP_DIM_LAYERS': 2, 'DCN_MLP_DIM_NUM': 3, 'DCN_DROPOUT': 0.3, 'DCN_NUM_LAYERS': 3}. Best is trial 64 with value: 2.1628770801609694.\u001b[0m\n"
     ]
    },
    {
     "name": "stdout",
     "output_type": "stream",
     "text": [
      "42\n"
     ]
    },
    {
     "name": "stderr",
     "output_type": "stream",
     "text": [
      "100%|██████████| 959/959 [00:26<00:00, 36.86it/s, loss=2.16]\n",
      "100%|██████████| 240/240 [00:01<00:00, 206.05it/s]\n",
      "  0%|          | 0/240 [00:00<?, ?it/s]"
     ]
    },
    {
     "name": "stdout",
     "output_type": "stream",
     "text": [
      "epoch: 0 validation: rmse: 2.1688887749695875\n"
     ]
    },
    {
     "name": "stderr",
     "output_type": "stream",
     "text": [
      "100%|██████████| 240/240 [00:01<00:00, 184.82it/s]\n",
      "\u001b[32m[I 2022-11-08 04:42:49,751]\u001b[0m Trial 84 finished with value: 2.1688887749695875 and parameters: {'BATCH_SIZE': 256, 'LR': 0.007597973312049619, 'WEIGHT_DECAY': 1.4602714848154908e-07, 'FFM_EMBED_DIM': 16, 'DCN_EMBED_DIM': 7, 'DCN_MLP_DIM_LAYERS': 2, 'DCN_MLP_DIM_NUM': 4, 'DCN_DROPOUT': 0.3, 'DCN_NUM_LAYERS': 3}. Best is trial 64 with value: 2.1628770801609694.\u001b[0m\n"
     ]
    },
    {
     "name": "stdout",
     "output_type": "stream",
     "text": [
      "42\n"
     ]
    },
    {
     "name": "stderr",
     "output_type": "stream",
     "text": [
      "100%|██████████| 959/959 [00:21<00:00, 45.55it/s, loss=2.18]\n",
      "100%|██████████| 240/240 [00:01<00:00, 185.44it/s]\n",
      "  0%|          | 0/240 [00:00<?, ?it/s]"
     ]
    },
    {
     "name": "stdout",
     "output_type": "stream",
     "text": [
      "epoch: 0 validation: rmse: 2.171320512067942\n"
     ]
    },
    {
     "name": "stderr",
     "output_type": "stream",
     "text": [
      "100%|██████████| 240/240 [00:01<00:00, 205.24it/s]\n",
      "\u001b[32m[I 2022-11-08 04:43:13,614]\u001b[0m Trial 85 finished with value: 2.171320512067942 and parameters: {'BATCH_SIZE': 256, 'LR': 0.00832389312297123, 'WEIGHT_DECAY': 1.2043524568950173e-06, 'FFM_EMBED_DIM': 3, 'DCN_EMBED_DIM': 8, 'DCN_MLP_DIM_LAYERS': 2, 'DCN_MLP_DIM_NUM': 6, 'DCN_DROPOUT': 0.3, 'DCN_NUM_LAYERS': 3}. Best is trial 64 with value: 2.1628770801609694.\u001b[0m\n"
     ]
    },
    {
     "name": "stdout",
     "output_type": "stream",
     "text": [
      "42\n"
     ]
    },
    {
     "name": "stderr",
     "output_type": "stream",
     "text": [
      "100%|██████████| 959/959 [00:24<00:00, 39.16it/s, loss=2.18]\n",
      "100%|██████████| 240/240 [00:01<00:00, 216.88it/s]\n",
      "  0%|          | 0/240 [00:00<?, ?it/s]"
     ]
    },
    {
     "name": "stdout",
     "output_type": "stream",
     "text": [
      "epoch: 0 validation: rmse: 2.165390665241527\n"
     ]
    },
    {
     "name": "stderr",
     "output_type": "stream",
     "text": [
      "100%|██████████| 240/240 [00:01<00:00, 216.43it/s]\n",
      "\u001b[32m[I 2022-11-08 04:43:41,383]\u001b[0m Trial 86 finished with value: 2.165390665241527 and parameters: {'BATCH_SIZE': 256, 'LR': 0.00936990033364425, 'WEIGHT_DECAY': 1.048283258195004e-06, 'FFM_EMBED_DIM': 15, 'DCN_EMBED_DIM': 7, 'DCN_MLP_DIM_LAYERS': 1, 'DCN_MLP_DIM_NUM': 9, 'DCN_DROPOUT': 0.3, 'DCN_NUM_LAYERS': 2}. Best is trial 64 with value: 2.1628770801609694.\u001b[0m\n"
     ]
    },
    {
     "name": "stdout",
     "output_type": "stream",
     "text": [
      "42\n"
     ]
    },
    {
     "name": "stderr",
     "output_type": "stream",
     "text": [
      "100%|██████████| 959/959 [00:26<00:00, 35.87it/s, loss=2.18]\n",
      "100%|██████████| 240/240 [00:01<00:00, 217.39it/s]\n",
      "  0%|          | 0/240 [00:00<?, ?it/s]"
     ]
    },
    {
     "name": "stdout",
     "output_type": "stream",
     "text": [
      "epoch: 0 validation: rmse: 2.1718865414493593\n"
     ]
    },
    {
     "name": "stderr",
     "output_type": "stream",
     "text": [
      "100%|██████████| 240/240 [00:01<00:00, 216.69it/s]\n",
      "\u001b[32m[I 2022-11-08 04:44:11,698]\u001b[0m Trial 87 finished with value: 2.1718865414493593 and parameters: {'BATCH_SIZE': 256, 'LR': 0.0033213654651728566, 'WEIGHT_DECAY': 1.0808240062127623e-06, 'FFM_EMBED_DIM': 20, 'DCN_EMBED_DIM': 6, 'DCN_MLP_DIM_LAYERS': 1, 'DCN_MLP_DIM_NUM': 9, 'DCN_DROPOUT': 0.2, 'DCN_NUM_LAYERS': 2}. Best is trial 64 with value: 2.1628770801609694.\u001b[0m\n"
     ]
    },
    {
     "name": "stdout",
     "output_type": "stream",
     "text": [
      "42\n"
     ]
    },
    {
     "name": "stderr",
     "output_type": "stream",
     "text": [
      "100%|██████████| 480/480 [00:12<00:00, 38.97it/s, loss=2.2] \n",
      "100%|██████████| 120/120 [00:00<00:00, 153.63it/s]\n",
      "  0%|          | 0/120 [00:00<?, ?it/s]"
     ]
    },
    {
     "name": "stdout",
     "output_type": "stream",
     "text": [
      "epoch: 0 validation: rmse: 2.1775746540243603\n"
     ]
    },
    {
     "name": "stderr",
     "output_type": "stream",
     "text": [
      "100%|██████████| 120/120 [00:00<00:00, 153.29it/s]\n",
      "\u001b[32m[I 2022-11-08 04:44:26,354]\u001b[0m Trial 88 finished with value: 2.1775746540243603 and parameters: {'BATCH_SIZE': 512, 'LR': 0.009441613987222583, 'WEIGHT_DECAY': 9.079773300095011e-07, 'FFM_EMBED_DIM': 10, 'DCN_EMBED_DIM': 10, 'DCN_MLP_DIM_LAYERS': 1, 'DCN_MLP_DIM_NUM': 9, 'DCN_DROPOUT': 0.3, 'DCN_NUM_LAYERS': 2}. Best is trial 64 with value: 2.1628770801609694.\u001b[0m\n"
     ]
    },
    {
     "name": "stdout",
     "output_type": "stream",
     "text": [
      "42\n"
     ]
    },
    {
     "name": "stderr",
     "output_type": "stream",
     "text": [
      "100%|██████████| 959/959 [00:25<00:00, 37.52it/s, loss=2.18]\n",
      "100%|██████████| 240/240 [00:01<00:00, 217.04it/s]\n",
      "  0%|          | 0/240 [00:00<?, ?it/s]"
     ]
    },
    {
     "name": "stdout",
     "output_type": "stream",
     "text": [
      "epoch: 0 validation: rmse: 2.1677055114592423\n"
     ]
    },
    {
     "name": "stderr",
     "output_type": "stream",
     "text": [
      "100%|██████████| 240/240 [00:01<00:00, 192.88it/s]\n",
      "\u001b[32m[I 2022-11-08 04:44:55,507]\u001b[0m Trial 89 finished with value: 2.1677055114592423 and parameters: {'BATCH_SIZE': 256, 'LR': 0.008858416415294144, 'WEIGHT_DECAY': 6.817454731686816e-07, 'FFM_EMBED_DIM': 18, 'DCN_EMBED_DIM': 8, 'DCN_MLP_DIM_LAYERS': 1, 'DCN_MLP_DIM_NUM': 8, 'DCN_DROPOUT': 0.3, 'DCN_NUM_LAYERS': 2}. Best is trial 64 with value: 2.1628770801609694.\u001b[0m\n"
     ]
    },
    {
     "name": "stdout",
     "output_type": "stream",
     "text": [
      "42\n"
     ]
    },
    {
     "name": "stderr",
     "output_type": "stream",
     "text": [
      "100%|██████████| 959/959 [00:23<00:00, 40.97it/s, loss=2.17]\n",
      "100%|██████████| 240/240 [00:01<00:00, 197.86it/s]\n",
      "  0%|          | 0/240 [00:00<?, ?it/s]"
     ]
    },
    {
     "name": "stdout",
     "output_type": "stream",
     "text": [
      "epoch: 0 validation: rmse: 2.1668950375810794\n"
     ]
    },
    {
     "name": "stderr",
     "output_type": "stream",
     "text": [
      "100%|██████████| 240/240 [00:01<00:00, 220.36it/s]\n",
      "\u001b[32m[I 2022-11-08 04:45:22,223]\u001b[0m Trial 90 finished with value: 2.1668950375810794 and parameters: {'BATCH_SIZE': 256, 'LR': 0.007186922338148835, 'WEIGHT_DECAY': 1.2728079990063091e-06, 'FFM_EMBED_DIM': 14, 'DCN_EMBED_DIM': 7, 'DCN_MLP_DIM_LAYERS': 1, 'DCN_MLP_DIM_NUM': 8, 'DCN_DROPOUT': 0.3, 'DCN_NUM_LAYERS': 1}. Best is trial 64 with value: 2.1628770801609694.\u001b[0m\n"
     ]
    },
    {
     "name": "stdout",
     "output_type": "stream",
     "text": [
      "42\n"
     ]
    },
    {
     "name": "stderr",
     "output_type": "stream",
     "text": [
      "100%|██████████| 959/959 [00:24<00:00, 39.17it/s, loss=2.17]\n",
      "100%|██████████| 240/240 [00:01<00:00, 216.67it/s]\n",
      "  0%|          | 0/240 [00:00<?, ?it/s]"
     ]
    },
    {
     "name": "stdout",
     "output_type": "stream",
     "text": [
      "epoch: 0 validation: rmse: 2.1640976466640462\n"
     ]
    },
    {
     "name": "stderr",
     "output_type": "stream",
     "text": [
      "100%|██████████| 240/240 [00:01<00:00, 216.26it/s]\n",
      "\u001b[32m[I 2022-11-08 04:45:49,993]\u001b[0m Trial 91 finished with value: 2.1640976466640462 and parameters: {'BATCH_SIZE': 256, 'LR': 0.007898580960588727, 'WEIGHT_DECAY': 5.35959285524246e-07, 'FFM_EMBED_DIM': 15, 'DCN_EMBED_DIM': 7, 'DCN_MLP_DIM_LAYERS': 1, 'DCN_MLP_DIM_NUM': 10, 'DCN_DROPOUT': 0.3, 'DCN_NUM_LAYERS': 2}. Best is trial 64 with value: 2.1628770801609694.\u001b[0m\n"
     ]
    },
    {
     "name": "stdout",
     "output_type": "stream",
     "text": [
      "42\n"
     ]
    },
    {
     "name": "stderr",
     "output_type": "stream",
     "text": [
      "100%|██████████| 959/959 [00:24<00:00, 38.87it/s, loss=2.17]\n",
      "100%|██████████| 240/240 [00:01<00:00, 216.19it/s]\n",
      "  0%|          | 0/240 [00:00<?, ?it/s]"
     ]
    },
    {
     "name": "stdout",
     "output_type": "stream",
     "text": [
      "epoch: 0 validation: rmse: 2.1857284675925657\n"
     ]
    },
    {
     "name": "stderr",
     "output_type": "stream",
     "text": [
      "100%|██████████| 240/240 [00:01<00:00, 215.94it/s]\n",
      "\u001b[32m[I 2022-11-08 04:46:18,021]\u001b[0m Trial 92 finished with value: 2.1857284675925657 and parameters: {'BATCH_SIZE': 256, 'LR': 0.009438171149325129, 'WEIGHT_DECAY': 9.793515508541342e-07, 'FFM_EMBED_DIM': 16, 'DCN_EMBED_DIM': 9, 'DCN_MLP_DIM_LAYERS': 1, 'DCN_MLP_DIM_NUM': 10, 'DCN_DROPOUT': 0.3, 'DCN_NUM_LAYERS': 2}. Best is trial 64 with value: 2.1628770801609694.\u001b[0m\n"
     ]
    },
    {
     "name": "stdout",
     "output_type": "stream",
     "text": [
      "42\n"
     ]
    },
    {
     "name": "stderr",
     "output_type": "stream",
     "text": [
      "100%|██████████| 959/959 [00:25<00:00, 38.20it/s, loss=2.19]\n",
      "100%|██████████| 240/240 [00:01<00:00, 216.88it/s]\n",
      "  0%|          | 0/240 [00:00<?, ?it/s]"
     ]
    },
    {
     "name": "stdout",
     "output_type": "stream",
     "text": [
      "epoch: 0 validation: rmse: 2.2058581478971946\n"
     ]
    },
    {
     "name": "stderr",
     "output_type": "stream",
     "text": [
      "100%|██████████| 240/240 [00:01<00:00, 216.98it/s]\n",
      "\u001b[32m[I 2022-11-08 04:46:46,539]\u001b[0m Trial 93 finished with value: 2.2058581478971946 and parameters: {'BATCH_SIZE': 256, 'LR': 0.0078099763889696834, 'WEIGHT_DECAY': 4.882286772490827e-07, 'FFM_EMBED_DIM': 17, 'DCN_EMBED_DIM': 5, 'DCN_MLP_DIM_LAYERS': 1, 'DCN_MLP_DIM_NUM': 10, 'DCN_DROPOUT': 0.3, 'DCN_NUM_LAYERS': 2}. Best is trial 64 with value: 2.1628770801609694.\u001b[0m\n"
     ]
    },
    {
     "name": "stdout",
     "output_type": "stream",
     "text": [
      "42\n"
     ]
    },
    {
     "name": "stderr",
     "output_type": "stream",
     "text": [
      "100%|██████████| 959/959 [00:23<00:00, 40.62it/s, loss=2.2] \n",
      "100%|██████████| 240/240 [00:01<00:00, 217.57it/s]\n",
      "  0%|          | 0/240 [00:00<?, ?it/s]"
     ]
    },
    {
     "name": "stdout",
     "output_type": "stream",
     "text": [
      "epoch: 0 validation: rmse: 2.170250436454032\n"
     ]
    },
    {
     "name": "stderr",
     "output_type": "stream",
     "text": [
      "100%|██████████| 240/240 [00:01<00:00, 216.79it/s]\n",
      "\u001b[32m[I 2022-11-08 04:47:13,293]\u001b[0m Trial 94 finished with value: 2.170250436454032 and parameters: {'BATCH_SIZE': 256, 'LR': 0.008673636398432804, 'WEIGHT_DECAY': 1.8070625378733912e-07, 'FFM_EMBED_DIM': 13, 'DCN_EMBED_DIM': 6, 'DCN_MLP_DIM_LAYERS': 1, 'DCN_MLP_DIM_NUM': 7, 'DCN_DROPOUT': 0.3, 'DCN_NUM_LAYERS': 2}. Best is trial 64 with value: 2.1628770801609694.\u001b[0m\n"
     ]
    },
    {
     "name": "stdout",
     "output_type": "stream",
     "text": [
      "42\n"
     ]
    },
    {
     "name": "stderr",
     "output_type": "stream",
     "text": [
      "100%|██████████| 959/959 [00:24<00:00, 39.42it/s, loss=2.17]\n",
      "100%|██████████| 240/240 [00:01<00:00, 213.78it/s]\n",
      "  0%|          | 0/240 [00:00<?, ?it/s]"
     ]
    },
    {
     "name": "stdout",
     "output_type": "stream",
     "text": [
      "epoch: 0 validation: rmse: 2.1812251530678783\n"
     ]
    },
    {
     "name": "stderr",
     "output_type": "stream",
     "text": [
      "100%|██████████| 240/240 [00:01<00:00, 192.70it/s]\n",
      "\u001b[32m[I 2022-11-08 04:47:40,989]\u001b[0m Trial 95 finished with value: 2.1812251530678783 and parameters: {'BATCH_SIZE': 256, 'LR': 0.006960676841092403, 'WEIGHT_DECAY': 7.867942220398251e-07, 'FFM_EMBED_DIM': 14, 'DCN_EMBED_DIM': 7, 'DCN_MLP_DIM_LAYERS': 1, 'DCN_MLP_DIM_NUM': 10, 'DCN_DROPOUT': 0.3, 'DCN_NUM_LAYERS': 2}. Best is trial 64 with value: 2.1628770801609694.\u001b[0m\n"
     ]
    },
    {
     "name": "stdout",
     "output_type": "stream",
     "text": [
      "42\n"
     ]
    },
    {
     "name": "stderr",
     "output_type": "stream",
     "text": [
      "100%|██████████| 959/959 [00:23<00:00, 40.12it/s, loss=2.17]\n",
      "100%|██████████| 240/240 [00:01<00:00, 192.79it/s]\n",
      "  0%|          | 0/240 [00:00<?, ?it/s]"
     ]
    },
    {
     "name": "stdout",
     "output_type": "stream",
     "text": [
      "epoch: 0 validation: rmse: 2.1863085857441305\n"
     ]
    },
    {
     "name": "stderr",
     "output_type": "stream",
     "text": [
      "100%|██████████| 240/240 [00:01<00:00, 215.48it/s]\n",
      "\u001b[32m[I 2022-11-08 04:48:08,318]\u001b[0m Trial 96 finished with value: 2.1863085857441305 and parameters: {'BATCH_SIZE': 256, 'LR': 0.009979678791253188, 'WEIGHT_DECAY': 3.734032244579398e-07, 'FFM_EMBED_DIM': 15, 'DCN_EMBED_DIM': 5, 'DCN_MLP_DIM_LAYERS': 1, 'DCN_MLP_DIM_NUM': 9, 'DCN_DROPOUT': 0.3, 'DCN_NUM_LAYERS': 2}. Best is trial 64 with value: 2.1628770801609694.\u001b[0m\n"
     ]
    },
    {
     "name": "stdout",
     "output_type": "stream",
     "text": [
      "42\n"
     ]
    },
    {
     "name": "stderr",
     "output_type": "stream",
     "text": [
      "100%|██████████| 240/240 [00:08<00:00, 28.36it/s, loss=2.24]\n",
      "100%|██████████| 60/60 [00:00<00:00, 95.67it/s]\n",
      "  0%|          | 0/60 [00:00<?, ?it/s]"
     ]
    },
    {
     "name": "stdout",
     "output_type": "stream",
     "text": [
      "epoch: 0 validation: rmse: 2.1905593675382113\n"
     ]
    },
    {
     "name": "stderr",
     "output_type": "stream",
     "text": [
      "100%|██████████| 60/60 [00:00<00:00, 78.67it/s]\n",
      "\u001b[32m[I 2022-11-08 04:48:19,481]\u001b[0m Trial 97 finished with value: 2.1905593675382113 and parameters: {'BATCH_SIZE': 1024, 'LR': 0.007382605758108834, 'WEIGHT_DECAY': 1.520656675793663e-06, 'FFM_EMBED_DIM': 19, 'DCN_EMBED_DIM': 6, 'DCN_MLP_DIM_LAYERS': 1, 'DCN_MLP_DIM_NUM': 12, 'DCN_DROPOUT': 0.3, 'DCN_NUM_LAYERS': 2}. Best is trial 64 with value: 2.1628770801609694.\u001b[0m\n"
     ]
    },
    {
     "name": "stdout",
     "output_type": "stream",
     "text": [
      "42\n"
     ]
    },
    {
     "name": "stderr",
     "output_type": "stream",
     "text": [
      "100%|██████████| 959/959 [00:27<00:00, 35.24it/s, loss=2.17]\n",
      "100%|██████████| 240/240 [00:01<00:00, 217.58it/s]\n",
      "  0%|          | 0/240 [00:00<?, ?it/s]"
     ]
    },
    {
     "name": "stdout",
     "output_type": "stream",
     "text": [
      "epoch: 0 validation: rmse: 2.1674064381786438\n"
     ]
    },
    {
     "name": "stderr",
     "output_type": "stream",
     "text": [
      "100%|██████████| 240/240 [00:01<00:00, 217.76it/s]\n",
      "\u001b[32m[I 2022-11-08 04:48:50,311]\u001b[0m Trial 98 finished with value: 2.1674064381786438 and parameters: {'BATCH_SIZE': 256, 'LR': 0.006054755772326628, 'WEIGHT_DECAY': 2.596611160967885e-07, 'FFM_EMBED_DIM': 20, 'DCN_EMBED_DIM': 8, 'DCN_MLP_DIM_LAYERS': 1, 'DCN_MLP_DIM_NUM': 11, 'DCN_DROPOUT': 0.25, 'DCN_NUM_LAYERS': 2}. Best is trial 64 with value: 2.1628770801609694.\u001b[0m\n"
     ]
    },
    {
     "name": "stdout",
     "output_type": "stream",
     "text": [
      "42\n"
     ]
    },
    {
     "name": "stderr",
     "output_type": "stream",
     "text": [
      "100%|██████████| 959/959 [00:23<00:00, 41.54it/s, loss=2.16]\n",
      "100%|██████████| 240/240 [00:01<00:00, 217.18it/s]\n",
      "  0%|          | 0/240 [00:00<?, ?it/s]"
     ]
    },
    {
     "name": "stdout",
     "output_type": "stream",
     "text": [
      "epoch: 0 validation: rmse: 2.164857856712633\n"
     ]
    },
    {
     "name": "stderr",
     "output_type": "stream",
     "text": [
      "100%|██████████| 240/240 [00:01<00:00, 216.12it/s]\n",
      "\u001b[32m[I 2022-11-08 04:49:16,499]\u001b[0m Trial 99 finished with value: 2.164857856712633 and parameters: {'BATCH_SIZE': 256, 'LR': 0.009050635217094236, 'WEIGHT_DECAY': 5.67181003524624e-07, 'FFM_EMBED_DIM': 12, 'DCN_EMBED_DIM': 7, 'DCN_MLP_DIM_LAYERS': 1, 'DCN_MLP_DIM_NUM': 14, 'DCN_DROPOUT': 0.3, 'DCN_NUM_LAYERS': 2}. Best is trial 64 with value: 2.1628770801609694.\u001b[0m\n"
     ]
    },
    {
     "name": "stdout",
     "output_type": "stream",
     "text": [
      "42\n"
     ]
    },
    {
     "name": "stderr",
     "output_type": "stream",
     "text": [
      "100%|██████████| 959/959 [00:23<00:00, 40.56it/s, loss=2.18]\n",
      "100%|██████████| 240/240 [00:01<00:00, 210.91it/s]\n",
      "  0%|          | 0/240 [00:00<?, ?it/s]"
     ]
    },
    {
     "name": "stdout",
     "output_type": "stream",
     "text": [
      "epoch: 0 validation: rmse: 2.1879471574020752\n"
     ]
    },
    {
     "name": "stderr",
     "output_type": "stream",
     "text": [
      "100%|██████████| 240/240 [00:01<00:00, 187.41it/s]\n",
      "\u001b[32m[I 2022-11-08 04:49:43,445]\u001b[0m Trial 100 finished with value: 2.1879471574020752 and parameters: {'BATCH_SIZE': 256, 'LR': 0.009012235921422453, 'WEIGHT_DECAY': 6.110093557837468e-07, 'FFM_EMBED_DIM': 12, 'DCN_EMBED_DIM': 7, 'DCN_MLP_DIM_LAYERS': 2, 'DCN_MLP_DIM_NUM': 15, 'DCN_DROPOUT': 0.3, 'DCN_NUM_LAYERS': 2}. Best is trial 64 with value: 2.1628770801609694.\u001b[0m\n"
     ]
    },
    {
     "name": "stdout",
     "output_type": "stream",
     "text": [
      "42\n"
     ]
    },
    {
     "name": "stderr",
     "output_type": "stream",
     "text": [
      "100%|██████████| 959/959 [00:25<00:00, 38.01it/s, loss=2.17]\n",
      "100%|██████████| 240/240 [00:01<00:00, 193.27it/s]\n",
      "  0%|          | 0/240 [00:00<?, ?it/s]"
     ]
    },
    {
     "name": "stdout",
     "output_type": "stream",
     "text": [
      "epoch: 0 validation: rmse: 2.185677822534729\n"
     ]
    },
    {
     "name": "stderr",
     "output_type": "stream",
     "text": [
      "100%|██████████| 240/240 [00:01<00:00, 215.74it/s]\n",
      "\u001b[32m[I 2022-11-08 04:50:12,213]\u001b[0m Trial 101 finished with value: 2.185677822534729 and parameters: {'BATCH_SIZE': 256, 'LR': 0.008508321308439242, 'WEIGHT_DECAY': 5.528882934497761e-07, 'FFM_EMBED_DIM': 17, 'DCN_EMBED_DIM': 6, 'DCN_MLP_DIM_LAYERS': 1, 'DCN_MLP_DIM_NUM': 15, 'DCN_DROPOUT': 0.3, 'DCN_NUM_LAYERS': 2}. Best is trial 64 with value: 2.1628770801609694.\u001b[0m\n"
     ]
    },
    {
     "name": "stdout",
     "output_type": "stream",
     "text": [
      "42\n"
     ]
    },
    {
     "name": "stderr",
     "output_type": "stream",
     "text": [
      "100%|██████████| 959/959 [00:20<00:00, 47.77it/s, loss=2.18]\n",
      "100%|██████████| 240/240 [00:01<00:00, 216.49it/s]\n",
      "  0%|          | 0/240 [00:00<?, ?it/s]"
     ]
    },
    {
     "name": "stdout",
     "output_type": "stream",
     "text": [
      "epoch: 0 validation: rmse: 2.1748263845071643\n"
     ]
    },
    {
     "name": "stderr",
     "output_type": "stream",
     "text": [
      "100%|██████████| 240/240 [00:01<00:00, 216.47it/s]\n",
      "\u001b[32m[I 2022-11-08 04:50:34,968]\u001b[0m Trial 102 finished with value: 2.1748263845071643 and parameters: {'BATCH_SIZE': 256, 'LR': 0.00925631526605828, 'WEIGHT_DECAY': 8.475616671897243e-07, 'FFM_EMBED_DIM': 5, 'DCN_EMBED_DIM': 7, 'DCN_MLP_DIM_LAYERS': 1, 'DCN_MLP_DIM_NUM': 13, 'DCN_DROPOUT': 0.3, 'DCN_NUM_LAYERS': 2}. Best is trial 64 with value: 2.1628770801609694.\u001b[0m\n"
     ]
    },
    {
     "name": "stdout",
     "output_type": "stream",
     "text": [
      "42\n"
     ]
    },
    {
     "name": "stderr",
     "output_type": "stream",
     "text": [
      "100%|██████████| 959/959 [00:24<00:00, 39.21it/s, loss=2.17]\n",
      "100%|██████████| 240/240 [00:01<00:00, 217.33it/s]\n",
      "  0%|          | 0/240 [00:00<?, ?it/s]"
     ]
    },
    {
     "name": "stdout",
     "output_type": "stream",
     "text": [
      "epoch: 0 validation: rmse: 2.1688635677180197\n"
     ]
    },
    {
     "name": "stderr",
     "output_type": "stream",
     "text": [
      "100%|██████████| 240/240 [00:01<00:00, 216.71it/s]\n",
      "\u001b[32m[I 2022-11-08 04:51:02,760]\u001b[0m Trial 103 finished with value: 2.1688635677180197 and parameters: {'BATCH_SIZE': 256, 'LR': 0.007701258330984143, 'WEIGHT_DECAY': 1.5273557004351926e-07, 'FFM_EMBED_DIM': 16, 'DCN_EMBED_DIM': 6, 'DCN_MLP_DIM_LAYERS': 1, 'DCN_MLP_DIM_NUM': 15, 'DCN_DROPOUT': 0.3, 'DCN_NUM_LAYERS': 2}. Best is trial 64 with value: 2.1628770801609694.\u001b[0m\n"
     ]
    },
    {
     "name": "stdout",
     "output_type": "stream",
     "text": [
      "42\n"
     ]
    },
    {
     "name": "stderr",
     "output_type": "stream",
     "text": [
      "100%|██████████| 959/959 [00:22<00:00, 43.22it/s, loss=2.22]\n",
      "100%|██████████| 240/240 [00:01<00:00, 215.93it/s]\n",
      "  0%|          | 0/240 [00:00<?, ?it/s]"
     ]
    },
    {
     "name": "stdout",
     "output_type": "stream",
     "text": [
      "epoch: 0 validation: rmse: 2.198912485577556\n"
     ]
    },
    {
     "name": "stderr",
     "output_type": "stream",
     "text": [
      "100%|██████████| 240/240 [00:01<00:00, 214.98it/s]\n",
      "\u001b[32m[I 2022-11-08 04:51:27,945]\u001b[0m Trial 104 finished with value: 2.198912485577556 and parameters: {'BATCH_SIZE': 256, 'LR': 0.0024441215143097073, 'WEIGHT_DECAY': 1.0276576502256508e-07, 'FFM_EMBED_DIM': 10, 'DCN_EMBED_DIM': 8, 'DCN_MLP_DIM_LAYERS': 1, 'DCN_MLP_DIM_NUM': 2, 'DCN_DROPOUT': 0.3, 'DCN_NUM_LAYERS': 2}. Best is trial 64 with value: 2.1628770801609694.\u001b[0m\n"
     ]
    },
    {
     "name": "stdout",
     "output_type": "stream",
     "text": [
      "42\n"
     ]
    },
    {
     "name": "stderr",
     "output_type": "stream",
     "text": [
      "100%|██████████| 959/959 [00:25<00:00, 37.25it/s, loss=2.17]\n",
      "100%|██████████| 240/240 [00:01<00:00, 215.77it/s]\n",
      "  0%|          | 0/240 [00:00<?, ?it/s]"
     ]
    },
    {
     "name": "stdout",
     "output_type": "stream",
     "text": [
      "epoch: 0 validation: rmse: 2.1665238211604163\n"
     ]
    },
    {
     "name": "stderr",
     "output_type": "stream",
     "text": [
      "100%|██████████| 240/240 [00:01<00:00, 215.01it/s]\n",
      "\u001b[32m[I 2022-11-08 04:51:57,172]\u001b[0m Trial 105 finished with value: 2.1665238211604163 and parameters: {'BATCH_SIZE': 256, 'LR': 0.008095289652602958, 'WEIGHT_DECAY': 1.3280568906007265e-07, 'FFM_EMBED_DIM': 18, 'DCN_EMBED_DIM': 7, 'DCN_MLP_DIM_LAYERS': 1, 'DCN_MLP_DIM_NUM': 14, 'DCN_DROPOUT': 0.3, 'DCN_NUM_LAYERS': 2}. Best is trial 64 with value: 2.1628770801609694.\u001b[0m\n"
     ]
    },
    {
     "name": "stdout",
     "output_type": "stream",
     "text": [
      "42\n"
     ]
    },
    {
     "name": "stderr",
     "output_type": "stream",
     "text": [
      "100%|██████████| 959/959 [00:23<00:00, 41.36it/s, loss=2.16]\n",
      "100%|██████████| 240/240 [00:01<00:00, 213.25it/s]\n",
      "  0%|          | 0/240 [00:00<?, ?it/s]"
     ]
    },
    {
     "name": "stdout",
     "output_type": "stream",
     "text": [
      "epoch: 0 validation: rmse: 2.1658020236344453\n"
     ]
    },
    {
     "name": "stderr",
     "output_type": "stream",
     "text": [
      "100%|██████████| 240/240 [00:01<00:00, 192.62it/s]\n",
      "\u001b[32m[I 2022-11-08 04:52:23,612]\u001b[0m Trial 106 finished with value: 2.1658020236344453 and parameters: {'BATCH_SIZE': 256, 'LR': 0.00840285699473898, 'WEIGHT_DECAY': 7.158994569369696e-07, 'FFM_EMBED_DIM': 12, 'DCN_EMBED_DIM': 6, 'DCN_MLP_DIM_LAYERS': 1, 'DCN_MLP_DIM_NUM': 8, 'DCN_DROPOUT': 0.2, 'DCN_NUM_LAYERS': 2}. Best is trial 64 with value: 2.1628770801609694.\u001b[0m\n"
     ]
    },
    {
     "name": "stdout",
     "output_type": "stream",
     "text": [
      "42\n"
     ]
    },
    {
     "name": "stderr",
     "output_type": "stream",
     "text": [
      "100%|██████████| 959/959 [00:23<00:00, 41.53it/s, loss=2.17]\n",
      "100%|██████████| 240/240 [00:01<00:00, 193.71it/s]\n",
      "  0%|          | 0/240 [00:00<?, ?it/s]"
     ]
    },
    {
     "name": "stdout",
     "output_type": "stream",
     "text": [
      "epoch: 0 validation: rmse: 2.1697623378474415\n"
     ]
    },
    {
     "name": "stderr",
     "output_type": "stream",
     "text": [
      "100%|██████████| 240/240 [00:01<00:00, 216.45it/s]\n",
      "\u001b[32m[I 2022-11-08 04:52:49,931]\u001b[0m Trial 107 finished with value: 2.1697623378474415 and parameters: {'BATCH_SIZE': 256, 'LR': 0.009579229001912916, 'WEIGHT_DECAY': 4.800096756149307e-07, 'FFM_EMBED_DIM': 12, 'DCN_EMBED_DIM': 6, 'DCN_MLP_DIM_LAYERS': 1, 'DCN_MLP_DIM_NUM': 8, 'DCN_DROPOUT': 0.2, 'DCN_NUM_LAYERS': 2}. Best is trial 64 with value: 2.1628770801609694.\u001b[0m\n"
     ]
    },
    {
     "name": "stdout",
     "output_type": "stream",
     "text": [
      "42\n"
     ]
    },
    {
     "name": "stderr",
     "output_type": "stream",
     "text": [
      "100%|██████████| 959/959 [00:23<00:00, 41.13it/s, loss=2.16]\n",
      "100%|██████████| 240/240 [00:01<00:00, 218.52it/s]\n",
      "  0%|          | 0/240 [00:00<?, ?it/s]"
     ]
    },
    {
     "name": "stdout",
     "output_type": "stream",
     "text": [
      "epoch: 0 validation: rmse: 2.168856487746477\n"
     ]
    },
    {
     "name": "stderr",
     "output_type": "stream",
     "text": [
      "100%|██████████| 240/240 [00:01<00:00, 217.93it/s]\n",
      "\u001b[32m[I 2022-11-08 04:53:16,388]\u001b[0m Trial 108 finished with value: 2.168856487746477 and parameters: {'BATCH_SIZE': 256, 'LR': 0.006628751285339493, 'WEIGHT_DECAY': 7.168253992509626e-07, 'FFM_EMBED_DIM': 13, 'DCN_EMBED_DIM': 7, 'DCN_MLP_DIM_LAYERS': 1, 'DCN_MLP_DIM_NUM': 9, 'DCN_DROPOUT': 0.2, 'DCN_NUM_LAYERS': 2}. Best is trial 64 with value: 2.1628770801609694.\u001b[0m\n"
     ]
    },
    {
     "name": "stdout",
     "output_type": "stream",
     "text": [
      "42\n"
     ]
    },
    {
     "name": "stderr",
     "output_type": "stream",
     "text": [
      "100%|██████████| 959/959 [00:22<00:00, 41.80it/s, loss=2.18]\n",
      "100%|██████████| 240/240 [00:01<00:00, 217.80it/s]\n",
      "  0%|          | 0/240 [00:00<?, ?it/s]"
     ]
    },
    {
     "name": "stdout",
     "output_type": "stream",
     "text": [
      "epoch: 0 validation: rmse: 2.164368910124843\n"
     ]
    },
    {
     "name": "stderr",
     "output_type": "stream",
     "text": [
      "100%|██████████| 240/240 [00:01<00:00, 218.20it/s]\n",
      "\u001b[32m[I 2022-11-08 04:53:42,364]\u001b[0m Trial 109 finished with value: 2.164368910124843 and parameters: {'BATCH_SIZE': 256, 'LR': 0.00844490961982123, 'WEIGHT_DECAY': 6.596018095192924e-07, 'FFM_EMBED_DIM': 11, 'DCN_EMBED_DIM': 8, 'DCN_MLP_DIM_LAYERS': 1, 'DCN_MLP_DIM_NUM': 7, 'DCN_DROPOUT': 0.2, 'DCN_NUM_LAYERS': 2}. Best is trial 64 with value: 2.1628770801609694.\u001b[0m\n"
     ]
    },
    {
     "name": "stdout",
     "output_type": "stream",
     "text": [
      "42\n"
     ]
    },
    {
     "name": "stderr",
     "output_type": "stream",
     "text": [
      "100%|██████████| 480/480 [00:12<00:00, 38.20it/s, loss=2.23]\n",
      "100%|██████████| 120/120 [00:00<00:00, 153.27it/s]\n",
      "  0%|          | 0/120 [00:00<?, ?it/s]"
     ]
    },
    {
     "name": "stdout",
     "output_type": "stream",
     "text": [
      "epoch: 0 validation: rmse: 2.1794635502539115\n"
     ]
    },
    {
     "name": "stderr",
     "output_type": "stream",
     "text": [
      "100%|██████████| 120/120 [00:00<00:00, 152.87it/s]\n",
      "\u001b[32m[I 2022-11-08 04:53:57,269]\u001b[0m Trial 110 finished with value: 2.1794635502539115 and parameters: {'BATCH_SIZE': 512, 'LR': 0.008517259280841993, 'WEIGHT_DECAY': 5.678071647309554e-07, 'FFM_EMBED_DIM': 10, 'DCN_EMBED_DIM': 11, 'DCN_MLP_DIM_LAYERS': 1, 'DCN_MLP_DIM_NUM': 7, 'DCN_DROPOUT': 0.2, 'DCN_NUM_LAYERS': 2}. Best is trial 64 with value: 2.1628770801609694.\u001b[0m\n"
     ]
    },
    {
     "name": "stdout",
     "output_type": "stream",
     "text": [
      "42\n"
     ]
    },
    {
     "name": "stderr",
     "output_type": "stream",
     "text": [
      "100%|██████████| 959/959 [00:21<00:00, 44.40it/s, loss=2.19]\n",
      "100%|██████████| 240/240 [00:01<00:00, 219.04it/s]\n",
      "  0%|          | 0/240 [00:00<?, ?it/s]"
     ]
    },
    {
     "name": "stdout",
     "output_type": "stream",
     "text": [
      "epoch: 0 validation: rmse: 2.1758111201463786\n"
     ]
    },
    {
     "name": "stderr",
     "output_type": "stream",
     "text": [
      "100%|██████████| 240/240 [00:01<00:00, 194.07it/s]\n",
      "\u001b[32m[I 2022-11-08 04:54:21,843]\u001b[0m Trial 111 finished with value: 2.1758111201463786 and parameters: {'BATCH_SIZE': 256, 'LR': 0.009079626271499854, 'WEIGHT_DECAY': 6.385033442072432e-07, 'FFM_EMBED_DIM': 8, 'DCN_EMBED_DIM': 8, 'DCN_MLP_DIM_LAYERS': 1, 'DCN_MLP_DIM_NUM': 8, 'DCN_DROPOUT': 0.2, 'DCN_NUM_LAYERS': 2}. Best is trial 64 with value: 2.1628770801609694.\u001b[0m\n"
     ]
    },
    {
     "name": "stdout",
     "output_type": "stream",
     "text": [
      "42\n"
     ]
    },
    {
     "name": "stderr",
     "output_type": "stream",
     "text": [
      "100%|██████████| 959/959 [00:22<00:00, 42.30it/s, loss=2.17]\n",
      "100%|██████████| 240/240 [00:01<00:00, 195.71it/s]\n",
      "  0%|          | 0/240 [00:00<?, ?it/s]"
     ]
    },
    {
     "name": "stdout",
     "output_type": "stream",
     "text": [
      "epoch: 0 validation: rmse: 2.1636642214939426\n"
     ]
    },
    {
     "name": "stderr",
     "output_type": "stream",
     "text": [
      "100%|██████████| 240/240 [00:01<00:00, 217.98it/s]\n",
      "\u001b[32m[I 2022-11-08 04:54:47,672]\u001b[0m Trial 112 finished with value: 2.1636642214939426 and parameters: {'BATCH_SIZE': 256, 'LR': 0.007485979546252441, 'WEIGHT_DECAY': 8.304400961415313e-07, 'FFM_EMBED_DIM': 11, 'DCN_EMBED_DIM': 9, 'DCN_MLP_DIM_LAYERS': 1, 'DCN_MLP_DIM_NUM': 7, 'DCN_DROPOUT': 0.2, 'DCN_NUM_LAYERS': 2}. Best is trial 64 with value: 2.1628770801609694.\u001b[0m\n"
     ]
    },
    {
     "name": "stdout",
     "output_type": "stream",
     "text": [
      "42\n"
     ]
    },
    {
     "name": "stderr",
     "output_type": "stream",
     "text": [
      "100%|██████████| 959/959 [00:22<00:00, 42.15it/s, loss=2.17]\n",
      "100%|██████████| 240/240 [00:01<00:00, 215.77it/s]\n",
      "  0%|          | 0/240 [00:00<?, ?it/s]"
     ]
    },
    {
     "name": "stdout",
     "output_type": "stream",
     "text": [
      "epoch: 0 validation: rmse: 2.163753490100145\n"
     ]
    },
    {
     "name": "stderr",
     "output_type": "stream",
     "text": [
      "100%|██████████| 240/240 [00:01<00:00, 215.25it/s]\n",
      "\u001b[32m[I 2022-11-08 04:55:13,478]\u001b[0m Trial 113 finished with value: 2.163753490100145 and parameters: {'BATCH_SIZE': 256, 'LR': 0.007493856500513722, 'WEIGHT_DECAY': 6.684148239222037e-07, 'FFM_EMBED_DIM': 11, 'DCN_EMBED_DIM': 9, 'DCN_MLP_DIM_LAYERS': 1, 'DCN_MLP_DIM_NUM': 7, 'DCN_DROPOUT': 0.2, 'DCN_NUM_LAYERS': 2}. Best is trial 64 with value: 2.1628770801609694.\u001b[0m\n"
     ]
    },
    {
     "name": "stdout",
     "output_type": "stream",
     "text": [
      "42\n"
     ]
    },
    {
     "name": "stderr",
     "output_type": "stream",
     "text": [
      "100%|██████████| 959/959 [00:22<00:00, 42.57it/s, loss=2.17]\n",
      "100%|██████████| 240/240 [00:01<00:00, 217.42it/s]\n",
      "  0%|          | 0/240 [00:00<?, ?it/s]"
     ]
    },
    {
     "name": "stdout",
     "output_type": "stream",
     "text": [
      "epoch: 0 validation: rmse: 2.1643163898102316\n"
     ]
    },
    {
     "name": "stderr",
     "output_type": "stream",
     "text": [
      "100%|██████████| 240/240 [00:01<00:00, 216.49it/s]\n",
      "\u001b[32m[I 2022-11-08 04:55:39,056]\u001b[0m Trial 114 finished with value: 2.1643163898102316 and parameters: {'BATCH_SIZE': 256, 'LR': 0.007413048795714049, 'WEIGHT_DECAY': 4.107070143154554e-07, 'FFM_EMBED_DIM': 11, 'DCN_EMBED_DIM': 9, 'DCN_MLP_DIM_LAYERS': 1, 'DCN_MLP_DIM_NUM': 7, 'DCN_DROPOUT': 0.2, 'DCN_NUM_LAYERS': 2}. Best is trial 64 with value: 2.1628770801609694.\u001b[0m\n"
     ]
    },
    {
     "name": "stdout",
     "output_type": "stream",
     "text": [
      "42\n"
     ]
    },
    {
     "name": "stderr",
     "output_type": "stream",
     "text": [
      "100%|██████████| 959/959 [00:22<00:00, 42.35it/s, loss=2.17]\n",
      "100%|██████████| 240/240 [00:01<00:00, 218.34it/s]\n",
      "  0%|          | 0/240 [00:00<?, ?it/s]"
     ]
    },
    {
     "name": "stdout",
     "output_type": "stream",
     "text": [
      "epoch: 0 validation: rmse: 2.1645998961556767\n"
     ]
    },
    {
     "name": "stderr",
     "output_type": "stream",
     "text": [
      "100%|██████████| 240/240 [00:01<00:00, 217.68it/s]\n",
      "\u001b[32m[I 2022-11-08 04:56:04,738]\u001b[0m Trial 115 finished with value: 2.1645998961556767 and parameters: {'BATCH_SIZE': 256, 'LR': 0.006930887203584413, 'WEIGHT_DECAY': 4.4097903904162895e-07, 'FFM_EMBED_DIM': 11, 'DCN_EMBED_DIM': 9, 'DCN_MLP_DIM_LAYERS': 1, 'DCN_MLP_DIM_NUM': 7, 'DCN_DROPOUT': 0.2, 'DCN_NUM_LAYERS': 2}. Best is trial 64 with value: 2.1628770801609694.\u001b[0m\n"
     ]
    },
    {
     "name": "stdout",
     "output_type": "stream",
     "text": [
      "42\n"
     ]
    },
    {
     "name": "stderr",
     "output_type": "stream",
     "text": [
      "100%|██████████| 959/959 [00:23<00:00, 41.59it/s, loss=2.17]\n",
      "100%|██████████| 240/240 [00:01<00:00, 218.93it/s]\n",
      "  0%|          | 0/240 [00:00<?, ?it/s]"
     ]
    },
    {
     "name": "stdout",
     "output_type": "stream",
     "text": [
      "epoch: 0 validation: rmse: 2.1658446471072326\n"
     ]
    },
    {
     "name": "stderr",
     "output_type": "stream",
     "text": [
      "100%|██████████| 240/240 [00:01<00:00, 195.78it/s]\n",
      "\u001b[32m[I 2022-11-08 04:56:30,952]\u001b[0m Trial 116 finished with value: 2.1658446471072326 and parameters: {'BATCH_SIZE': 256, 'LR': 0.0063527111097558125, 'WEIGHT_DECAY': 5.82456054754575e-07, 'FFM_EMBED_DIM': 11, 'DCN_EMBED_DIM': 9, 'DCN_MLP_DIM_LAYERS': 1, 'DCN_MLP_DIM_NUM': 7, 'DCN_DROPOUT': 0.2, 'DCN_NUM_LAYERS': 2}. Best is trial 64 with value: 2.1628770801609694.\u001b[0m\n"
     ]
    },
    {
     "name": "stdout",
     "output_type": "stream",
     "text": [
      "42\n"
     ]
    },
    {
     "name": "stderr",
     "output_type": "stream",
     "text": [
      "100%|██████████| 959/959 [00:22<00:00, 41.83it/s, loss=2.16]\n",
      "100%|██████████| 240/240 [00:01<00:00, 196.56it/s]\n",
      "  0%|          | 0/240 [00:00<?, ?it/s]"
     ]
    },
    {
     "name": "stdout",
     "output_type": "stream",
     "text": [
      "epoch: 0 validation: rmse: 2.1656888610850107\n"
     ]
    },
    {
     "name": "stderr",
     "output_type": "stream",
     "text": [
      "100%|██████████| 240/240 [00:01<00:00, 217.56it/s]\n",
      "\u001b[32m[I 2022-11-08 04:56:57,034]\u001b[0m Trial 117 finished with value: 2.1656888610850107 and parameters: {'BATCH_SIZE': 256, 'LR': 0.00787857707858762, 'WEIGHT_DECAY': 4.095949887596744e-07, 'FFM_EMBED_DIM': 11, 'DCN_EMBED_DIM': 10, 'DCN_MLP_DIM_LAYERS': 1, 'DCN_MLP_DIM_NUM': 6, 'DCN_DROPOUT': 0.2, 'DCN_NUM_LAYERS': 2}. Best is trial 64 with value: 2.1628770801609694.\u001b[0m\n"
     ]
    },
    {
     "name": "stdout",
     "output_type": "stream",
     "text": [
      "42\n"
     ]
    },
    {
     "name": "stderr",
     "output_type": "stream",
     "text": [
      "100%|██████████| 959/959 [00:22<00:00, 42.50it/s, loss=2.17]\n",
      "100%|██████████| 240/240 [00:01<00:00, 193.90it/s]\n",
      "  0%|          | 0/240 [00:00<?, ?it/s]"
     ]
    },
    {
     "name": "stdout",
     "output_type": "stream",
     "text": [
      "epoch: 0 validation: rmse: 2.1646919077896984\n"
     ]
    },
    {
     "name": "stderr",
     "output_type": "stream",
     "text": [
      "100%|██████████| 240/240 [00:01<00:00, 218.58it/s]\n",
      "\u001b[32m[I 2022-11-08 04:57:22,765]\u001b[0m Trial 118 finished with value: 2.1646919077896984 and parameters: {'BATCH_SIZE': 256, 'LR': 0.006828857106137462, 'WEIGHT_DECAY': 4.311414848681681e-07, 'FFM_EMBED_DIM': 11, 'DCN_EMBED_DIM': 9, 'DCN_MLP_DIM_LAYERS': 1, 'DCN_MLP_DIM_NUM': 7, 'DCN_DROPOUT': 0.2, 'DCN_NUM_LAYERS': 2}. Best is trial 64 with value: 2.1628770801609694.\u001b[0m\n"
     ]
    },
    {
     "name": "stdout",
     "output_type": "stream",
     "text": [
      "42\n"
     ]
    },
    {
     "name": "stderr",
     "output_type": "stream",
     "text": [
      "100%|██████████| 959/959 [00:22<00:00, 42.78it/s, loss=2.16]\n",
      "100%|██████████| 240/240 [00:01<00:00, 218.23it/s]\n",
      "  0%|          | 0/240 [00:00<?, ?it/s]"
     ]
    },
    {
     "name": "stdout",
     "output_type": "stream",
     "text": [
      "epoch: 0 validation: rmse: 2.1732659026840375\n"
     ]
    },
    {
     "name": "stderr",
     "output_type": "stream",
     "text": [
      "100%|██████████| 240/240 [00:01<00:00, 217.99it/s]\n",
      "\u001b[32m[I 2022-11-08 04:57:48,094]\u001b[0m Trial 119 finished with value: 2.1732659026840375 and parameters: {'BATCH_SIZE': 256, 'LR': 0.007376669014173709, 'WEIGHT_DECAY': 3.3079202460605265e-07, 'FFM_EMBED_DIM': 9, 'DCN_EMBED_DIM': 9, 'DCN_MLP_DIM_LAYERS': 1, 'DCN_MLP_DIM_NUM': 7, 'DCN_DROPOUT': 0.2, 'DCN_NUM_LAYERS': 2}. Best is trial 64 with value: 2.1628770801609694.\u001b[0m\n"
     ]
    },
    {
     "name": "stdout",
     "output_type": "stream",
     "text": [
      "42\n"
     ]
    },
    {
     "name": "stderr",
     "output_type": "stream",
     "text": [
      "100%|██████████| 240/240 [00:07<00:00, 30.92it/s, loss=2.29]\n",
      "100%|██████████| 60/60 [00:00<00:00, 79.66it/s]\n",
      "  0%|          | 0/60 [00:00<?, ?it/s]"
     ]
    },
    {
     "name": "stdout",
     "output_type": "stream",
     "text": [
      "epoch: 0 validation: rmse: 2.2012416656017018\n"
     ]
    },
    {
     "name": "stderr",
     "output_type": "stream",
     "text": [
      "100%|██████████| 60/60 [00:00<00:00, 96.11it/s]\n",
      "\u001b[32m[I 2022-11-08 04:57:58,061]\u001b[0m Trial 120 finished with value: 2.2012416656017018 and parameters: {'BATCH_SIZE': 1024, 'LR': 0.005970114009338119, 'WEIGHT_DECAY': 3.7438065510233046e-07, 'FFM_EMBED_DIM': 11, 'DCN_EMBED_DIM': 9, 'DCN_MLP_DIM_LAYERS': 1, 'DCN_MLP_DIM_NUM': 6, 'DCN_DROPOUT': 0.2, 'DCN_NUM_LAYERS': 2}. Best is trial 64 with value: 2.1628770801609694.\u001b[0m\n"
     ]
    },
    {
     "name": "stdout",
     "output_type": "stream",
     "text": [
      "42\n"
     ]
    },
    {
     "name": "stderr",
     "output_type": "stream",
     "text": [
      "100%|██████████| 959/959 [00:22<00:00, 42.97it/s, loss=2.18]\n",
      "100%|██████████| 240/240 [00:01<00:00, 217.50it/s]\n",
      "  0%|          | 0/240 [00:00<?, ?it/s]"
     ]
    },
    {
     "name": "stdout",
     "output_type": "stream",
     "text": [
      "epoch: 0 validation: rmse: 2.1692470511706086\n"
     ]
    },
    {
     "name": "stderr",
     "output_type": "stream",
     "text": [
      "100%|██████████| 240/240 [00:01<00:00, 217.19it/s]\n",
      "\u001b[32m[I 2022-11-08 04:58:23,297]\u001b[0m Trial 121 finished with value: 2.1692470511706086 and parameters: {'BATCH_SIZE': 256, 'LR': 0.006819687484602663, 'WEIGHT_DECAY': 4.3788342151968555e-07, 'FFM_EMBED_DIM': 9, 'DCN_EMBED_DIM': 10, 'DCN_MLP_DIM_LAYERS': 1, 'DCN_MLP_DIM_NUM': 7, 'DCN_DROPOUT': 0.2, 'DCN_NUM_LAYERS': 2}. Best is trial 64 with value: 2.1628770801609694.\u001b[0m\n"
     ]
    },
    {
     "name": "stdout",
     "output_type": "stream",
     "text": [
      "42\n"
     ]
    },
    {
     "name": "stderr",
     "output_type": "stream",
     "text": [
      "100%|██████████| 959/959 [00:23<00:00, 41.11it/s, loss=2.17]\n",
      "100%|██████████| 240/240 [00:01<00:00, 217.03it/s]\n",
      "  0%|          | 0/240 [00:00<?, ?it/s]"
     ]
    },
    {
     "name": "stdout",
     "output_type": "stream",
     "text": [
      "epoch: 0 validation: rmse: 2.1687103892913124\n"
     ]
    },
    {
     "name": "stderr",
     "output_type": "stream",
     "text": [
      "100%|██████████| 240/240 [00:01<00:00, 193.09it/s]\n",
      "\u001b[32m[I 2022-11-08 04:58:49,864]\u001b[0m Trial 122 finished with value: 2.1687103892913124 and parameters: {'BATCH_SIZE': 256, 'LR': 0.006510561776385944, 'WEIGHT_DECAY': 6.434857789829636e-07, 'FFM_EMBED_DIM': 12, 'DCN_EMBED_DIM': 9, 'DCN_MLP_DIM_LAYERS': 1, 'DCN_MLP_DIM_NUM': 6, 'DCN_DROPOUT': 0.2, 'DCN_NUM_LAYERS': 2}. Best is trial 64 with value: 2.1628770801609694.\u001b[0m\n"
     ]
    },
    {
     "name": "stdout",
     "output_type": "stream",
     "text": [
      "42\n"
     ]
    },
    {
     "name": "stderr",
     "output_type": "stream",
     "text": [
      "100%|██████████| 959/959 [00:22<00:00, 42.98it/s, loss=2.2] \n",
      "100%|██████████| 240/240 [00:01<00:00, 193.94it/s]\n",
      "  0%|          | 0/240 [00:00<?, ?it/s]"
     ]
    },
    {
     "name": "stdout",
     "output_type": "stream",
     "text": [
      "epoch: 0 validation: rmse: 2.1766791808384625\n"
     ]
    },
    {
     "name": "stderr",
     "output_type": "stream",
     "text": [
      "100%|██████████| 240/240 [00:01<00:00, 215.49it/s]\n",
      "\u001b[32m[I 2022-11-08 04:59:15,308]\u001b[0m Trial 123 finished with value: 2.1766791808384625 and parameters: {'BATCH_SIZE': 256, 'LR': 0.005439850882719588, 'WEIGHT_DECAY': 5.078255117294477e-07, 'FFM_EMBED_DIM': 10, 'DCN_EMBED_DIM': 11, 'DCN_MLP_DIM_LAYERS': 1, 'DCN_MLP_DIM_NUM': 7, 'DCN_DROPOUT': 0.2, 'DCN_NUM_LAYERS': 2}. Best is trial 64 with value: 2.1628770801609694.\u001b[0m\n"
     ]
    },
    {
     "name": "stdout",
     "output_type": "stream",
     "text": [
      "42\n"
     ]
    },
    {
     "name": "stderr",
     "output_type": "stream",
     "text": [
      "100%|██████████| 959/959 [00:22<00:00, 41.98it/s, loss=2.17]\n",
      "100%|██████████| 240/240 [00:01<00:00, 214.07it/s]\n",
      "  0%|          | 0/240 [00:00<?, ?it/s]"
     ]
    },
    {
     "name": "stdout",
     "output_type": "stream",
     "text": [
      "epoch: 0 validation: rmse: 2.16367420050576\n"
     ]
    },
    {
     "name": "stderr",
     "output_type": "stream",
     "text": [
      "100%|██████████| 240/240 [00:01<00:00, 216.45it/s]\n",
      "\u001b[32m[I 2022-11-08 04:59:41,218]\u001b[0m Trial 124 finished with value: 2.16367420050576 and parameters: {'BATCH_SIZE': 256, 'LR': 0.0074566597120905975, 'WEIGHT_DECAY': 4.729365380334883e-07, 'FFM_EMBED_DIM': 11, 'DCN_EMBED_DIM': 9, 'DCN_MLP_DIM_LAYERS': 1, 'DCN_MLP_DIM_NUM': 7, 'DCN_DROPOUT': 0.2, 'DCN_NUM_LAYERS': 2}. Best is trial 64 with value: 2.1628770801609694.\u001b[0m\n"
     ]
    },
    {
     "name": "stdout",
     "output_type": "stream",
     "text": [
      "42\n"
     ]
    },
    {
     "name": "stderr",
     "output_type": "stream",
     "text": [
      "100%|██████████| 959/959 [00:22<00:00, 42.06it/s, loss=2.17]\n",
      "100%|██████████| 240/240 [00:01<00:00, 216.44it/s]\n",
      "  0%|          | 0/240 [00:00<?, ?it/s]"
     ]
    },
    {
     "name": "stdout",
     "output_type": "stream",
     "text": [
      "epoch: 0 validation: rmse: 2.1740601808267637\n"
     ]
    },
    {
     "name": "stderr",
     "output_type": "stream",
     "text": [
      "100%|██████████| 240/240 [00:01<00:00, 215.73it/s]\n",
      "\u001b[32m[I 2022-11-08 05:00:07,078]\u001b[0m Trial 125 finished with value: 2.1740601808267637 and parameters: {'BATCH_SIZE': 256, 'LR': 0.007706900360158617, 'WEIGHT_DECAY': 4.0247658486315144e-07, 'FFM_EMBED_DIM': 11, 'DCN_EMBED_DIM': 10, 'DCN_MLP_DIM_LAYERS': 1, 'DCN_MLP_DIM_NUM': 7, 'DCN_DROPOUT': 0.2, 'DCN_NUM_LAYERS': 2}. Best is trial 64 with value: 2.1628770801609694.\u001b[0m\n"
     ]
    },
    {
     "name": "stdout",
     "output_type": "stream",
     "text": [
      "42\n"
     ]
    },
    {
     "name": "stderr",
     "output_type": "stream",
     "text": [
      "100%|██████████| 959/959 [00:23<00:00, 40.60it/s, loss=2.18]\n",
      "100%|██████████| 240/240 [00:01<00:00, 216.66it/s]\n",
      "  0%|          | 0/240 [00:00<?, ?it/s]"
     ]
    },
    {
     "name": "stdout",
     "output_type": "stream",
     "text": [
      "epoch: 0 validation: rmse: 2.1661673557425676\n"
     ]
    },
    {
     "name": "stderr",
     "output_type": "stream",
     "text": [
      "100%|██████████| 240/240 [00:01<00:00, 215.95it/s]\n",
      "\u001b[32m[I 2022-11-08 05:00:33,873]\u001b[0m Trial 126 finished with value: 2.1661673557425676 and parameters: {'BATCH_SIZE': 256, 'LR': 0.007299954253224316, 'WEIGHT_DECAY': 4.914978997167434e-07, 'FFM_EMBED_DIM': 13, 'DCN_EMBED_DIM': 9, 'DCN_MLP_DIM_LAYERS': 1, 'DCN_MLP_DIM_NUM': 7, 'DCN_DROPOUT': 0.2, 'DCN_NUM_LAYERS': 2}. Best is trial 64 with value: 2.1628770801609694.\u001b[0m\n"
     ]
    },
    {
     "name": "stdout",
     "output_type": "stream",
     "text": [
      "42\n"
     ]
    },
    {
     "name": "stderr",
     "output_type": "stream",
     "text": [
      "100%|██████████| 959/959 [00:21<00:00, 44.22it/s, loss=2.18]\n",
      "100%|██████████| 240/240 [00:01<00:00, 215.27it/s]\n",
      "  0%|          | 0/240 [00:00<?, ?it/s]"
     ]
    },
    {
     "name": "stdout",
     "output_type": "stream",
     "text": [
      "epoch: 0 validation: rmse: 2.183973935577544\n"
     ]
    },
    {
     "name": "stderr",
     "output_type": "stream",
     "text": [
      "100%|██████████| 240/240 [00:01<00:00, 215.98it/s]\n",
      "\u001b[32m[I 2022-11-08 05:00:58,450]\u001b[0m Trial 127 finished with value: 2.183973935577544 and parameters: {'BATCH_SIZE': 256, 'LR': 0.006918910489255792, 'WEIGHT_DECAY': 4.4774765916232185e-07, 'FFM_EMBED_DIM': 8, 'DCN_EMBED_DIM': 10, 'DCN_MLP_DIM_LAYERS': 1, 'DCN_MLP_DIM_NUM': 6, 'DCN_DROPOUT': 0.2, 'DCN_NUM_LAYERS': 2}. Best is trial 64 with value: 2.1628770801609694.\u001b[0m\n"
     ]
    },
    {
     "name": "stdout",
     "output_type": "stream",
     "text": [
      "42\n"
     ]
    },
    {
     "name": "stderr",
     "output_type": "stream",
     "text": [
      "100%|██████████| 959/959 [00:23<00:00, 40.64it/s, loss=2.16]\n",
      "100%|██████████| 240/240 [00:01<00:00, 218.66it/s]\n",
      "  0%|          | 0/240 [00:00<?, ?it/s]"
     ]
    },
    {
     "name": "stdout",
     "output_type": "stream",
     "text": [
      "epoch: 0 validation: rmse: 2.181500021076387\n"
     ]
    },
    {
     "name": "stderr",
     "output_type": "stream",
     "text": [
      "100%|██████████| 240/240 [00:01<00:00, 195.32it/s]\n",
      "\u001b[32m[I 2022-11-08 05:01:25,149]\u001b[0m Trial 128 finished with value: 2.181500021076387 and parameters: {'BATCH_SIZE': 256, 'LR': 0.00737854179160983, 'WEIGHT_DECAY': 4.2434981660001186e-07, 'FFM_EMBED_DIM': 10, 'DCN_EMBED_DIM': 9, 'DCN_MLP_DIM_LAYERS': 1, 'DCN_MLP_DIM_NUM': 6, 'DCN_DROPOUT': 0.2, 'DCN_NUM_LAYERS': 2}. Best is trial 64 with value: 2.1628770801609694.\u001b[0m\n"
     ]
    },
    {
     "name": "stdout",
     "output_type": "stream",
     "text": [
      "42\n"
     ]
    },
    {
     "name": "stderr",
     "output_type": "stream",
     "text": [
      "100%|██████████| 959/959 [00:22<00:00, 42.07it/s, loss=2.19]\n",
      "100%|██████████| 240/240 [00:01<00:00, 192.87it/s]\n",
      "  0%|          | 0/240 [00:00<?, ?it/s]"
     ]
    },
    {
     "name": "stdout",
     "output_type": "stream",
     "text": [
      "epoch: 0 validation: rmse: 2.1749194587356286\n"
     ]
    },
    {
     "name": "stderr",
     "output_type": "stream",
     "text": [
      "100%|██████████| 240/240 [00:01<00:00, 214.32it/s]\n",
      "\u001b[32m[I 2022-11-08 05:01:51,198]\u001b[0m Trial 129 finished with value: 2.1749194587356286 and parameters: {'BATCH_SIZE': 256, 'LR': 0.006577127602506765, 'WEIGHT_DECAY': 1.1898657938231583e-07, 'FFM_EMBED_DIM': 12, 'DCN_EMBED_DIM': 8, 'DCN_MLP_DIM_LAYERS': 1, 'DCN_MLP_DIM_NUM': 7, 'DCN_DROPOUT': 0.2, 'DCN_NUM_LAYERS': 2}. Best is trial 64 with value: 2.1628770801609694.\u001b[0m\n"
     ]
    },
    {
     "name": "stdout",
     "output_type": "stream",
     "text": [
      "42\n"
     ]
    },
    {
     "name": "stderr",
     "output_type": "stream",
     "text": [
      "100%|██████████| 959/959 [00:22<00:00, 43.55it/s, loss=2.17]\n",
      "100%|██████████| 240/240 [00:01<00:00, 217.14it/s]\n",
      "  0%|          | 0/240 [00:00<?, ?it/s]"
     ]
    },
    {
     "name": "stdout",
     "output_type": "stream",
     "text": [
      "epoch: 0 validation: rmse: 2.16829229424054\n"
     ]
    },
    {
     "name": "stderr",
     "output_type": "stream",
     "text": [
      "100%|██████████| 240/240 [00:01<00:00, 213.29it/s]\n",
      "\u001b[32m[I 2022-11-08 05:02:16,240]\u001b[0m Trial 130 finished with value: 2.16829229424054 and parameters: {'BATCH_SIZE': 256, 'LR': 0.00616895790223565, 'WEIGHT_DECAY': 5.844131617654686e-07, 'FFM_EMBED_DIM': 10, 'DCN_EMBED_DIM': 11, 'DCN_MLP_DIM_LAYERS': 1, 'DCN_MLP_DIM_NUM': 8, 'DCN_DROPOUT': 0.2, 'DCN_NUM_LAYERS': 2}. Best is trial 64 with value: 2.1628770801609694.\u001b[0m\n"
     ]
    },
    {
     "name": "stdout",
     "output_type": "stream",
     "text": [
      "42\n"
     ]
    },
    {
     "name": "stderr",
     "output_type": "stream",
     "text": [
      "100%|██████████| 959/959 [00:23<00:00, 40.36it/s, loss=2.17]\n",
      "100%|██████████| 240/240 [00:01<00:00, 217.82it/s]\n",
      "  0%|          | 0/240 [00:00<?, ?it/s]"
     ]
    },
    {
     "name": "stdout",
     "output_type": "stream",
     "text": [
      "epoch: 0 validation: rmse: 2.165927130729117\n"
     ]
    },
    {
     "name": "stderr",
     "output_type": "stream",
     "text": [
      "100%|██████████| 240/240 [00:01<00:00, 217.52it/s]\n",
      "\u001b[32m[I 2022-11-08 05:02:43,217]\u001b[0m Trial 131 finished with value: 2.165927130729117 and parameters: {'BATCH_SIZE': 256, 'LR': 0.007846125984910968, 'WEIGHT_DECAY': 6.569258372659921e-07, 'FFM_EMBED_DIM': 14, 'DCN_EMBED_DIM': 9, 'DCN_MLP_DIM_LAYERS': 1, 'DCN_MLP_DIM_NUM': 9, 'DCN_DROPOUT': 0.2, 'DCN_NUM_LAYERS': 2}. Best is trial 64 with value: 2.1628770801609694.\u001b[0m\n"
     ]
    },
    {
     "name": "stdout",
     "output_type": "stream",
     "text": [
      "42\n"
     ]
    },
    {
     "name": "stderr",
     "output_type": "stream",
     "text": [
      "100%|██████████| 959/959 [00:23<00:00, 40.16it/s, loss=2.18]\n",
      "100%|██████████| 240/240 [00:01<00:00, 217.85it/s]\n",
      "  0%|          | 0/240 [00:00<?, ?it/s]"
     ]
    },
    {
     "name": "stdout",
     "output_type": "stream",
     "text": [
      "epoch: 0 validation: rmse: 2.176334093566173\n"
     ]
    },
    {
     "name": "stderr",
     "output_type": "stream",
     "text": [
      "100%|██████████| 240/240 [00:01<00:00, 215.23it/s]\n",
      "\u001b[32m[I 2022-11-08 05:03:10,257]\u001b[0m Trial 132 finished with value: 2.176334093566173 and parameters: {'BATCH_SIZE': 256, 'LR': 0.008334900732818371, 'WEIGHT_DECAY': 4.7463854791649954e-07, 'FFM_EMBED_DIM': 13, 'DCN_EMBED_DIM': 8, 'DCN_MLP_DIM_LAYERS': 1, 'DCN_MLP_DIM_NUM': 7, 'DCN_DROPOUT': 0.2, 'DCN_NUM_LAYERS': 2}. Best is trial 64 with value: 2.1628770801609694.\u001b[0m\n"
     ]
    },
    {
     "name": "stdout",
     "output_type": "stream",
     "text": [
      "42\n"
     ]
    },
    {
     "name": "stderr",
     "output_type": "stream",
     "text": [
      "100%|██████████| 959/959 [00:23<00:00, 41.63it/s, loss=2.18]\n",
      "100%|██████████| 240/240 [00:01<00:00, 214.47it/s]\n",
      "  0%|          | 0/240 [00:00<?, ?it/s]"
     ]
    },
    {
     "name": "stdout",
     "output_type": "stream",
     "text": [
      "epoch: 0 validation: rmse: 2.1727949133343287\n"
     ]
    },
    {
     "name": "stderr",
     "output_type": "stream",
     "text": [
      "100%|██████████| 240/240 [00:01<00:00, 189.63it/s]\n",
      "\u001b[32m[I 2022-11-08 05:03:36,514]\u001b[0m Trial 133 finished with value: 2.1727949133343287 and parameters: {'BATCH_SIZE': 256, 'LR': 0.006995925931754459, 'WEIGHT_DECAY': 5.248820927400907e-07, 'FFM_EMBED_DIM': 11, 'DCN_EMBED_DIM': 10, 'DCN_MLP_DIM_LAYERS': 1, 'DCN_MLP_DIM_NUM': 5, 'DCN_DROPOUT': 0.2, 'DCN_NUM_LAYERS': 2}. Best is trial 64 with value: 2.1628770801609694.\u001b[0m\n"
     ]
    },
    {
     "name": "stdout",
     "output_type": "stream",
     "text": [
      "42\n"
     ]
    },
    {
     "name": "stderr",
     "output_type": "stream",
     "text": [
      "100%|██████████| 959/959 [00:21<00:00, 43.88it/s, loss=2.19]\n",
      "100%|██████████| 240/240 [00:01<00:00, 217.49it/s]\n",
      "  0%|          | 0/240 [00:00<?, ?it/s]"
     ]
    },
    {
     "name": "stdout",
     "output_type": "stream",
     "text": [
      "epoch: 0 validation: rmse: 2.1821705832558203\n"
     ]
    },
    {
     "name": "stderr",
     "output_type": "stream",
     "text": [
      "100%|██████████| 240/240 [00:01<00:00, 193.54it/s]\n",
      "\u001b[32m[I 2022-11-08 05:04:01,435]\u001b[0m Trial 134 finished with value: 2.1821705832558203 and parameters: {'BATCH_SIZE': 256, 'LR': 0.003706606161201411, 'WEIGHT_DECAY': 4.982477037357513e-06, 'FFM_EMBED_DIM': 9, 'DCN_EMBED_DIM': 9, 'DCN_MLP_DIM_LAYERS': 1, 'DCN_MLP_DIM_NUM': 6, 'DCN_DROPOUT': 0.2, 'DCN_NUM_LAYERS': 2}. Best is trial 64 with value: 2.1628770801609694.\u001b[0m\n"
     ]
    },
    {
     "name": "stdout",
     "output_type": "stream",
     "text": [
      "42\n"
     ]
    },
    {
     "name": "stderr",
     "output_type": "stream",
     "text": [
      "100%|██████████| 959/959 [00:23<00:00, 40.09it/s, loss=2.16]\n",
      "100%|██████████| 240/240 [00:01<00:00, 193.66it/s]\n",
      "  0%|          | 0/240 [00:00<?, ?it/s]"
     ]
    },
    {
     "name": "stdout",
     "output_type": "stream",
     "text": [
      "epoch: 0 validation: rmse: 2.1597074451334053\n"
     ]
    },
    {
     "name": "stderr",
     "output_type": "stream",
     "text": [
      "100%|██████████| 240/240 [00:01<00:00, 215.61it/s]\n",
      "\u001b[32m[I 2022-11-08 05:04:28,721]\u001b[0m Trial 135 finished with value: 2.1597074451334053 and parameters: {'BATCH_SIZE': 256, 'LR': 0.007575242873346176, 'WEIGHT_DECAY': 3.6717845167182305e-07, 'FFM_EMBED_DIM': 14, 'DCN_EMBED_DIM': 8, 'DCN_MLP_DIM_LAYERS': 1, 'DCN_MLP_DIM_NUM': 8, 'DCN_DROPOUT': 0.2, 'DCN_NUM_LAYERS': 2}. Best is trial 135 with value: 2.1597074451334053.\u001b[0m\n"
     ]
    },
    {
     "name": "stdout",
     "output_type": "stream",
     "text": [
      "42\n"
     ]
    },
    {
     "name": "stderr",
     "output_type": "stream",
     "text": [
      "100%|██████████| 480/480 [00:12<00:00, 37.06it/s, loss=2.22]\n",
      "100%|██████████| 120/120 [00:00<00:00, 152.71it/s]\n",
      "  0%|          | 0/120 [00:00<?, ?it/s]"
     ]
    },
    {
     "name": "stdout",
     "output_type": "stream",
     "text": [
      "epoch: 0 validation: rmse: 2.169777944256745\n"
     ]
    },
    {
     "name": "stderr",
     "output_type": "stream",
     "text": [
      "100%|██████████| 120/120 [00:00<00:00, 128.08it/s]\n",
      "\u001b[32m[I 2022-11-08 05:04:44,410]\u001b[0m Trial 136 finished with value: 2.169777944256745 and parameters: {'BATCH_SIZE': 512, 'LR': 0.0075504109759466755, 'WEIGHT_DECAY': 3.6734055677475034e-07, 'FFM_EMBED_DIM': 14, 'DCN_EMBED_DIM': 8, 'DCN_MLP_DIM_LAYERS': 1, 'DCN_MLP_DIM_NUM': 8, 'DCN_DROPOUT': 0.2, 'DCN_NUM_LAYERS': 2}. Best is trial 135 with value: 2.1597074451334053.\u001b[0m\n"
     ]
    },
    {
     "name": "stdout",
     "output_type": "stream",
     "text": [
      "42\n"
     ]
    },
    {
     "name": "stderr",
     "output_type": "stream",
     "text": [
      "100%|██████████| 959/959 [00:24<00:00, 39.24it/s, loss=2.17]\n",
      "100%|██████████| 240/240 [00:01<00:00, 193.49it/s]\n",
      "  0%|          | 0/240 [00:00<?, ?it/s]"
     ]
    },
    {
     "name": "stdout",
     "output_type": "stream",
     "text": [
      "epoch: 0 validation: rmse: 2.1698431023056926\n"
     ]
    },
    {
     "name": "stderr",
     "output_type": "stream",
     "text": [
      "100%|██████████| 240/240 [00:01<00:00, 215.17it/s]\n",
      "\u001b[32m[I 2022-11-08 05:05:12,092]\u001b[0m Trial 137 finished with value: 2.1698431023056926 and parameters: {'BATCH_SIZE': 256, 'LR': 0.007926382852136597, 'WEIGHT_DECAY': 2.1076074095709053e-07, 'FFM_EMBED_DIM': 12, 'DCN_EMBED_DIM': 9, 'DCN_MLP_DIM_LAYERS': 1, 'DCN_MLP_DIM_NUM': 7, 'DCN_DROPOUT': 0.2, 'DCN_NUM_LAYERS': 2}. Best is trial 135 with value: 2.1597074451334053.\u001b[0m\n"
     ]
    },
    {
     "name": "stdout",
     "output_type": "stream",
     "text": [
      "42\n"
     ]
    },
    {
     "name": "stderr",
     "output_type": "stream",
     "text": [
      "100%|██████████| 959/959 [00:23<00:00, 41.31it/s, loss=2.17]\n",
      "100%|██████████| 240/240 [00:01<00:00, 195.53it/s]\n",
      "  0%|          | 0/240 [00:00<?, ?it/s]"
     ]
    },
    {
     "name": "stdout",
     "output_type": "stream",
     "text": [
      "epoch: 0 validation: rmse: 2.168903085794697\n"
     ]
    },
    {
     "name": "stderr",
     "output_type": "stream",
     "text": [
      "100%|██████████| 240/240 [00:01<00:00, 218.35it/s]\n",
      "\u001b[32m[I 2022-11-08 05:05:38,469]\u001b[0m Trial 138 finished with value: 2.168903085794697 and parameters: {'BATCH_SIZE': 256, 'LR': 0.0057772700655064286, 'WEIGHT_DECAY': 3.2883809111327253e-07, 'FFM_EMBED_DIM': 11, 'DCN_EMBED_DIM': 10, 'DCN_MLP_DIM_LAYERS': 1, 'DCN_MLP_DIM_NUM': 16, 'DCN_DROPOUT': 0.2, 'DCN_NUM_LAYERS': 2}. Best is trial 135 with value: 2.1597074451334053.\u001b[0m\n"
     ]
    },
    {
     "name": "stdout",
     "output_type": "stream",
     "text": [
      "42\n"
     ]
    },
    {
     "name": "stderr",
     "output_type": "stream",
     "text": [
      "100%|██████████| 959/959 [00:23<00:00, 40.16it/s, loss=2.16]\n",
      "100%|██████████| 240/240 [00:01<00:00, 216.40it/s]\n",
      "  0%|          | 0/240 [00:00<?, ?it/s]"
     ]
    },
    {
     "name": "stdout",
     "output_type": "stream",
     "text": [
      "epoch: 0 validation: rmse: 2.1639003503232908\n"
     ]
    },
    {
     "name": "stderr",
     "output_type": "stream",
     "text": [
      "100%|██████████| 240/240 [00:01<00:00, 218.39it/s]\n",
      "\u001b[32m[I 2022-11-08 05:06:05,506]\u001b[0m Trial 139 finished with value: 2.1639003503232908 and parameters: {'BATCH_SIZE': 256, 'LR': 0.00706870620477352, 'WEIGHT_DECAY': 2.8929960943063937e-07, 'FFM_EMBED_DIM': 13, 'DCN_EMBED_DIM': 8, 'DCN_MLP_DIM_LAYERS': 1, 'DCN_MLP_DIM_NUM': 8, 'DCN_DROPOUT': 0.2, 'DCN_NUM_LAYERS': 2}. Best is trial 135 with value: 2.1597074451334053.\u001b[0m\n"
     ]
    },
    {
     "name": "stdout",
     "output_type": "stream",
     "text": [
      "42\n"
     ]
    },
    {
     "name": "stderr",
     "output_type": "stream",
     "text": [
      "100%|██████████| 959/959 [00:23<00:00, 41.68it/s, loss=2.16]\n",
      "100%|██████████| 240/240 [00:01<00:00, 218.54it/s]\n",
      "  0%|          | 0/240 [00:00<?, ?it/s]"
     ]
    },
    {
     "name": "stdout",
     "output_type": "stream",
     "text": [
      "epoch: 0 validation: rmse: 2.164759904768966\n"
     ]
    },
    {
     "name": "stderr",
     "output_type": "stream",
     "text": [
      "100%|██████████| 240/240 [00:01<00:00, 217.48it/s]\n",
      "\u001b[32m[I 2022-11-08 05:06:31,665]\u001b[0m Trial 140 finished with value: 2.164759904768966 and parameters: {'BATCH_SIZE': 256, 'LR': 0.007001672049600807, 'WEIGHT_DECAY': 3.835798311010948e-07, 'FFM_EMBED_DIM': 13, 'DCN_EMBED_DIM': 8, 'DCN_MLP_DIM_LAYERS': 1, 'DCN_MLP_DIM_NUM': 8, 'DCN_DROPOUT': 0.2, 'DCN_NUM_LAYERS': 2}. Best is trial 135 with value: 2.1597074451334053.\u001b[0m\n"
     ]
    },
    {
     "name": "stdout",
     "output_type": "stream",
     "text": [
      "42\n"
     ]
    },
    {
     "name": "stderr",
     "output_type": "stream",
     "text": [
      "100%|██████████| 959/959 [00:23<00:00, 40.60it/s, loss=2.16]\n",
      "100%|██████████| 240/240 [00:01<00:00, 216.22it/s]\n",
      "  0%|          | 0/240 [00:00<?, ?it/s]"
     ]
    },
    {
     "name": "stdout",
     "output_type": "stream",
     "text": [
      "epoch: 0 validation: rmse: 2.1641410697056003\n"
     ]
    },
    {
     "name": "stderr",
     "output_type": "stream",
     "text": [
      "100%|██████████| 240/240 [00:01<00:00, 215.85it/s]\n",
      "\u001b[32m[I 2022-11-08 05:06:58,455]\u001b[0m Trial 141 finished with value: 2.1641410697056003 and parameters: {'BATCH_SIZE': 256, 'LR': 0.007108602621638333, 'WEIGHT_DECAY': 3.8113568095003807e-07, 'FFM_EMBED_DIM': 13, 'DCN_EMBED_DIM': 8, 'DCN_MLP_DIM_LAYERS': 1, 'DCN_MLP_DIM_NUM': 8, 'DCN_DROPOUT': 0.2, 'DCN_NUM_LAYERS': 2}. Best is trial 135 with value: 2.1597074451334053.\u001b[0m\n"
     ]
    },
    {
     "name": "stdout",
     "output_type": "stream",
     "text": [
      "42\n"
     ]
    },
    {
     "name": "stderr",
     "output_type": "stream",
     "text": [
      "100%|██████████| 959/959 [00:24<00:00, 39.95it/s, loss=2.16]\n",
      "100%|██████████| 240/240 [00:01<00:00, 218.14it/s]\n",
      "  0%|          | 0/240 [00:00<?, ?it/s]"
     ]
    },
    {
     "name": "stdout",
     "output_type": "stream",
     "text": [
      "epoch: 0 validation: rmse: 2.1634315941982196\n"
     ]
    },
    {
     "name": "stderr",
     "output_type": "stream",
     "text": [
      "100%|██████████| 240/240 [00:01<00:00, 195.10it/s]\n",
      "\u001b[32m[I 2022-11-08 05:07:25,747]\u001b[0m Trial 142 finished with value: 2.1634315941982196 and parameters: {'BATCH_SIZE': 256, 'LR': 0.00712721647000161, 'WEIGHT_DECAY': 3.0206048801918484e-07, 'FFM_EMBED_DIM': 13, 'DCN_EMBED_DIM': 8, 'DCN_MLP_DIM_LAYERS': 1, 'DCN_MLP_DIM_NUM': 8, 'DCN_DROPOUT': 0.2, 'DCN_NUM_LAYERS': 2}. Best is trial 135 with value: 2.1597074451334053.\u001b[0m\n"
     ]
    },
    {
     "name": "stdout",
     "output_type": "stream",
     "text": [
      "42\n"
     ]
    },
    {
     "name": "stderr",
     "output_type": "stream",
     "text": [
      "100%|██████████| 959/959 [00:23<00:00, 41.08it/s, loss=2.16]\n",
      "100%|██████████| 240/240 [00:01<00:00, 192.83it/s]\n",
      "  0%|          | 0/240 [00:00<?, ?it/s]"
     ]
    },
    {
     "name": "stdout",
     "output_type": "stream",
     "text": [
      "epoch: 0 validation: rmse: 2.163374037218553\n"
     ]
    },
    {
     "name": "stderr",
     "output_type": "stream",
     "text": [
      "100%|██████████| 240/240 [00:01<00:00, 215.06it/s]\n",
      "\u001b[32m[I 2022-11-08 05:07:52,404]\u001b[0m Trial 143 finished with value: 2.163374037218553 and parameters: {'BATCH_SIZE': 256, 'LR': 0.007066865211924921, 'WEIGHT_DECAY': 2.794522621931895e-07, 'FFM_EMBED_DIM': 13, 'DCN_EMBED_DIM': 8, 'DCN_MLP_DIM_LAYERS': 1, 'DCN_MLP_DIM_NUM': 8, 'DCN_DROPOUT': 0.2, 'DCN_NUM_LAYERS': 2}. Best is trial 135 with value: 2.1597074451334053.\u001b[0m\n"
     ]
    },
    {
     "name": "stdout",
     "output_type": "stream",
     "text": [
      "42\n"
     ]
    },
    {
     "name": "stderr",
     "output_type": "stream",
     "text": [
      "100%|██████████| 959/959 [00:22<00:00, 42.97it/s, loss=2.18]\n",
      "100%|██████████| 240/240 [00:01<00:00, 218.63it/s]\n",
      "  0%|          | 0/240 [00:00<?, ?it/s]"
     ]
    },
    {
     "name": "stdout",
     "output_type": "stream",
     "text": [
      "epoch: 0 validation: rmse: 2.168157062005832\n"
     ]
    },
    {
     "name": "stderr",
     "output_type": "stream",
     "text": [
      "100%|██████████| 240/240 [00:01<00:00, 218.63it/s]\n",
      "\u001b[32m[I 2022-11-08 05:08:17,760]\u001b[0m Trial 144 finished with value: 2.168157062005832 and parameters: {'BATCH_SIZE': 256, 'LR': 0.006627769100169148, 'WEIGHT_DECAY': 2.848506732217782e-07, 'FFM_EMBED_DIM': 11, 'DCN_EMBED_DIM': 8, 'DCN_MLP_DIM_LAYERS': 1, 'DCN_MLP_DIM_NUM': 8, 'DCN_DROPOUT': 0.2, 'DCN_NUM_LAYERS': 2}. Best is trial 135 with value: 2.1597074451334053.\u001b[0m\n"
     ]
    },
    {
     "name": "stdout",
     "output_type": "stream",
     "text": [
      "42\n"
     ]
    },
    {
     "name": "stderr",
     "output_type": "stream",
     "text": [
      "100%|██████████| 959/959 [00:23<00:00, 41.33it/s, loss=2.19]\n",
      "100%|██████████| 240/240 [00:01<00:00, 215.63it/s]\n",
      "  0%|          | 0/240 [00:00<?, ?it/s]"
     ]
    },
    {
     "name": "stdout",
     "output_type": "stream",
     "text": [
      "epoch: 0 validation: rmse: 2.1651685892953956\n"
     ]
    },
    {
     "name": "stderr",
     "output_type": "stream",
     "text": [
      "100%|██████████| 240/240 [00:01<00:00, 215.01it/s]\n",
      "\u001b[32m[I 2022-11-08 05:08:44,085]\u001b[0m Trial 145 finished with value: 2.1651685892953956 and parameters: {'BATCH_SIZE': 256, 'LR': 0.007232581392638561, 'WEIGHT_DECAY': 3.018140580192644e-07, 'FFM_EMBED_DIM': 12, 'DCN_EMBED_DIM': 9, 'DCN_MLP_DIM_LAYERS': 1, 'DCN_MLP_DIM_NUM': 8, 'DCN_DROPOUT': 0.2, 'DCN_NUM_LAYERS': 2}. Best is trial 135 with value: 2.1597074451334053.\u001b[0m\n"
     ]
    },
    {
     "name": "stdout",
     "output_type": "stream",
     "text": [
      "42\n"
     ]
    },
    {
     "name": "stderr",
     "output_type": "stream",
     "text": [
      "100%|██████████| 959/959 [00:23<00:00, 40.66it/s, loss=2.17]\n",
      "100%|██████████| 240/240 [00:01<00:00, 218.81it/s]\n",
      "  0%|          | 0/240 [00:00<?, ?it/s]"
     ]
    },
    {
     "name": "stdout",
     "output_type": "stream",
     "text": [
      "epoch: 0 validation: rmse: 2.16957913254162\n"
     ]
    },
    {
     "name": "stderr",
     "output_type": "stream",
     "text": [
      "100%|██████████| 240/240 [00:01<00:00, 218.51it/s]\n",
      "\u001b[32m[I 2022-11-08 05:09:10,885]\u001b[0m Trial 146 finished with value: 2.16957913254162 and parameters: {'BATCH_SIZE': 256, 'LR': 0.006324342529252011, 'WEIGHT_DECAY': 2.6832417137316126e-07, 'FFM_EMBED_DIM': 14, 'DCN_EMBED_DIM': 8, 'DCN_MLP_DIM_LAYERS': 1, 'DCN_MLP_DIM_NUM': 7, 'DCN_DROPOUT': 0.2, 'DCN_NUM_LAYERS': 2}. Best is trial 135 with value: 2.1597074451334053.\u001b[0m\n"
     ]
    },
    {
     "name": "stdout",
     "output_type": "stream",
     "text": [
      "42\n"
     ]
    },
    {
     "name": "stderr",
     "output_type": "stream",
     "text": [
      "100%|██████████| 959/959 [00:22<00:00, 41.86it/s, loss=2.18]\n",
      "100%|██████████| 240/240 [00:01<00:00, 218.83it/s]\n",
      "  0%|          | 0/240 [00:00<?, ?it/s]"
     ]
    },
    {
     "name": "stdout",
     "output_type": "stream",
     "text": [
      "epoch: 0 validation: rmse: 2.16428601787773\n"
     ]
    },
    {
     "name": "stderr",
     "output_type": "stream",
     "text": [
      "100%|██████████| 240/240 [00:01<00:00, 216.50it/s]\n",
      "\u001b[32m[I 2022-11-08 05:09:36,954]\u001b[0m Trial 147 finished with value: 2.16428601787773 and parameters: {'BATCH_SIZE': 256, 'LR': 0.0068635937631128085, 'WEIGHT_DECAY': 3.3628146790038487e-07, 'FFM_EMBED_DIM': 13, 'DCN_EMBED_DIM': 9, 'DCN_MLP_DIM_LAYERS': 1, 'DCN_MLP_DIM_NUM': 8, 'DCN_DROPOUT': 0.2, 'DCN_NUM_LAYERS': 2}. Best is trial 135 with value: 2.1597074451334053.\u001b[0m\n"
     ]
    },
    {
     "name": "stdout",
     "output_type": "stream",
     "text": [
      "42\n"
     ]
    },
    {
     "name": "stderr",
     "output_type": "stream",
     "text": [
      "100%|██████████| 240/240 [00:07<00:00, 31.20it/s, loss=2.26]\n",
      "100%|██████████| 60/60 [00:00<00:00, 79.74it/s]\n",
      "  0%|          | 0/60 [00:00<?, ?it/s]"
     ]
    },
    {
     "name": "stdout",
     "output_type": "stream",
     "text": [
      "epoch: 0 validation: rmse: 2.190468226554175\n"
     ]
    },
    {
     "name": "stderr",
     "output_type": "stream",
     "text": [
      "100%|██████████| 60/60 [00:00<00:00, 79.02it/s]\n",
      "\u001b[32m[I 2022-11-08 05:09:47,109]\u001b[0m Trial 148 finished with value: 2.190468226554175 and parameters: {'BATCH_SIZE': 1024, 'LR': 0.007569737334268596, 'WEIGHT_DECAY': 3.4546918965397106e-07, 'FFM_EMBED_DIM': 13, 'DCN_EMBED_DIM': 8, 'DCN_MLP_DIM_LAYERS': 1, 'DCN_MLP_DIM_NUM': 8, 'DCN_DROPOUT': 0.2, 'DCN_NUM_LAYERS': 2}. Best is trial 135 with value: 2.1597074451334053.\u001b[0m\n"
     ]
    },
    {
     "name": "stdout",
     "output_type": "stream",
     "text": [
      "42\n"
     ]
    },
    {
     "name": "stderr",
     "output_type": "stream",
     "text": [
      "100%|██████████| 959/959 [00:23<00:00, 40.40it/s, loss=2.18]\n",
      "100%|██████████| 240/240 [00:01<00:00, 192.77it/s]\n",
      "  0%|          | 0/240 [00:00<?, ?it/s]"
     ]
    },
    {
     "name": "stdout",
     "output_type": "stream",
     "text": [
      "epoch: 0 validation: rmse: 2.1682712355424942\n"
     ]
    },
    {
     "name": "stderr",
     "output_type": "stream",
     "text": [
      "100%|██████████| 240/240 [00:01<00:00, 213.96it/s]\n",
      "\u001b[32m[I 2022-11-08 05:10:14,285]\u001b[0m Trial 149 finished with value: 2.1682712355424942 and parameters: {'BATCH_SIZE': 256, 'LR': 0.007236202963369089, 'WEIGHT_DECAY': 2.338116601564176e-07, 'FFM_EMBED_DIM': 15, 'DCN_EMBED_DIM': 9, 'DCN_MLP_DIM_LAYERS': 1, 'DCN_MLP_DIM_NUM': 9, 'DCN_DROPOUT': 0.2, 'DCN_NUM_LAYERS': 2}. Best is trial 135 with value: 2.1597074451334053.\u001b[0m\n"
     ]
    },
    {
     "name": "stdout",
     "output_type": "stream",
     "text": [
      "42\n"
     ]
    },
    {
     "name": "stderr",
     "output_type": "stream",
     "text": [
      "100%|██████████| 959/959 [00:23<00:00, 40.69it/s, loss=2.16]\n",
      "100%|██████████| 240/240 [00:01<00:00, 213.38it/s]\n",
      "  0%|          | 0/240 [00:00<?, ?it/s]"
     ]
    },
    {
     "name": "stdout",
     "output_type": "stream",
     "text": [
      "epoch: 0 validation: rmse: 2.1629982306026077\n"
     ]
    },
    {
     "name": "stderr",
     "output_type": "stream",
     "text": [
      "100%|██████████| 240/240 [00:01<00:00, 216.81it/s]\n",
      "\u001b[32m[I 2022-11-08 05:10:41,039]\u001b[0m Trial 150 finished with value: 2.1629982306026077 and parameters: {'BATCH_SIZE': 256, 'LR': 0.007927422985097314, 'WEIGHT_DECAY': 3.5259364014969833e-07, 'FFM_EMBED_DIM': 13, 'DCN_EMBED_DIM': 8, 'DCN_MLP_DIM_LAYERS': 1, 'DCN_MLP_DIM_NUM': 8, 'DCN_DROPOUT': 0.2, 'DCN_NUM_LAYERS': 2}. Best is trial 135 with value: 2.1597074451334053.\u001b[0m\n"
     ]
    },
    {
     "name": "stdout",
     "output_type": "stream",
     "text": [
      "42\n"
     ]
    },
    {
     "name": "stderr",
     "output_type": "stream",
     "text": [
      "100%|██████████| 959/959 [00:23<00:00, 40.59it/s, loss=2.16]\n",
      "100%|██████████| 240/240 [00:01<00:00, 216.49it/s]\n",
      "  0%|          | 0/240 [00:00<?, ?it/s]"
     ]
    },
    {
     "name": "stdout",
     "output_type": "stream",
     "text": [
      "epoch: 0 validation: rmse: 2.1627674284840395\n"
     ]
    },
    {
     "name": "stderr",
     "output_type": "stream",
     "text": [
      "100%|██████████| 240/240 [00:01<00:00, 212.71it/s]\n",
      "\u001b[32m[I 2022-11-08 05:11:07,873]\u001b[0m Trial 151 finished with value: 2.1627674284840395 and parameters: {'BATCH_SIZE': 256, 'LR': 0.007669728178873236, 'WEIGHT_DECAY': 3.1308414281483456e-07, 'FFM_EMBED_DIM': 13, 'DCN_EMBED_DIM': 8, 'DCN_MLP_DIM_LAYERS': 1, 'DCN_MLP_DIM_NUM': 8, 'DCN_DROPOUT': 0.2, 'DCN_NUM_LAYERS': 2}. Best is trial 135 with value: 2.1597074451334053.\u001b[0m\n"
     ]
    },
    {
     "name": "stdout",
     "output_type": "stream",
     "text": [
      "42\n"
     ]
    },
    {
     "name": "stderr",
     "output_type": "stream",
     "text": [
      "100%|██████████| 959/959 [00:23<00:00, 41.33it/s, loss=2.16]\n",
      "100%|██████████| 240/240 [00:01<00:00, 216.72it/s]\n",
      "  0%|          | 0/240 [00:00<?, ?it/s]"
     ]
    },
    {
     "name": "stdout",
     "output_type": "stream",
     "text": [
      "epoch: 0 validation: rmse: 2.16382702467545\n"
     ]
    },
    {
     "name": "stderr",
     "output_type": "stream",
     "text": [
      "100%|██████████| 240/240 [00:01<00:00, 215.68it/s]\n",
      "\u001b[32m[I 2022-11-08 05:11:34,259]\u001b[0m Trial 152 finished with value: 2.16382702467545 and parameters: {'BATCH_SIZE': 256, 'LR': 0.008129309046892987, 'WEIGHT_DECAY': 3.2348956170857794e-07, 'FFM_EMBED_DIM': 13, 'DCN_EMBED_DIM': 8, 'DCN_MLP_DIM_LAYERS': 1, 'DCN_MLP_DIM_NUM': 8, 'DCN_DROPOUT': 0.2, 'DCN_NUM_LAYERS': 2}. Best is trial 135 with value: 2.1597074451334053.\u001b[0m\n"
     ]
    },
    {
     "name": "stdout",
     "output_type": "stream",
     "text": [
      "42\n"
     ]
    },
    {
     "name": "stderr",
     "output_type": "stream",
     "text": [
      "100%|██████████| 959/959 [00:24<00:00, 39.81it/s, loss=2.16]\n",
      "100%|██████████| 240/240 [00:01<00:00, 212.99it/s]\n",
      "  0%|          | 0/240 [00:00<?, ?it/s]"
     ]
    },
    {
     "name": "stdout",
     "output_type": "stream",
     "text": [
      "epoch: 0 validation: rmse: 2.160135889976704\n"
     ]
    },
    {
     "name": "stderr",
     "output_type": "stream",
     "text": [
      "100%|██████████| 240/240 [00:01<00:00, 217.54it/s]\n",
      "\u001b[32m[I 2022-11-08 05:12:01,589]\u001b[0m Trial 153 finished with value: 2.160135889976704 and parameters: {'BATCH_SIZE': 256, 'LR': 0.007944583921525045, 'WEIGHT_DECAY': 3.3993598962519334e-07, 'FFM_EMBED_DIM': 14, 'DCN_EMBED_DIM': 8, 'DCN_MLP_DIM_LAYERS': 1, 'DCN_MLP_DIM_NUM': 8, 'DCN_DROPOUT': 0.2, 'DCN_NUM_LAYERS': 2}. Best is trial 135 with value: 2.1597074451334053.\u001b[0m\n"
     ]
    },
    {
     "name": "stdout",
     "output_type": "stream",
     "text": [
      "42\n"
     ]
    },
    {
     "name": "stderr",
     "output_type": "stream",
     "text": [
      "100%|██████████| 959/959 [00:24<00:00, 39.81it/s, loss=2.17]\n",
      "100%|██████████| 240/240 [00:01<00:00, 217.36it/s]\n",
      "  0%|          | 0/240 [00:00<?, ?it/s]"
     ]
    },
    {
     "name": "stdout",
     "output_type": "stream",
     "text": [
      "epoch: 0 validation: rmse: 2.1735487014618036\n"
     ]
    },
    {
     "name": "stderr",
     "output_type": "stream",
     "text": [
      "100%|██████████| 240/240 [00:01<00:00, 193.18it/s]\n",
      "\u001b[32m[I 2022-11-08 05:12:29,038]\u001b[0m Trial 154 finished with value: 2.1735487014618036 and parameters: {'BATCH_SIZE': 256, 'LR': 0.007777232475417903, 'WEIGHT_DECAY': 3.0658026156989544e-07, 'FFM_EMBED_DIM': 14, 'DCN_EMBED_DIM': 8, 'DCN_MLP_DIM_LAYERS': 1, 'DCN_MLP_DIM_NUM': 9, 'DCN_DROPOUT': 0.2, 'DCN_NUM_LAYERS': 2}. Best is trial 135 with value: 2.1597074451334053.\u001b[0m\n"
     ]
    },
    {
     "name": "stdout",
     "output_type": "stream",
     "text": [
      "42\n"
     ]
    },
    {
     "name": "stderr",
     "output_type": "stream",
     "text": [
      "100%|██████████| 959/959 [00:23<00:00, 40.31it/s, loss=2.16]\n",
      "100%|██████████| 240/240 [00:01<00:00, 190.25it/s]\n",
      "  0%|          | 0/240 [00:00<?, ?it/s]"
     ]
    },
    {
     "name": "stdout",
     "output_type": "stream",
     "text": [
      "epoch: 0 validation: rmse: 2.1605775698105103\n"
     ]
    },
    {
     "name": "stderr",
     "output_type": "stream",
     "text": [
      "100%|██████████| 240/240 [00:01<00:00, 216.11it/s]\n",
      "\u001b[32m[I 2022-11-08 05:12:56,214]\u001b[0m Trial 155 finished with value: 2.1605775698105103 and parameters: {'BATCH_SIZE': 256, 'LR': 0.008190615079844216, 'WEIGHT_DECAY': 2.795612359591087e-07, 'FFM_EMBED_DIM': 14, 'DCN_EMBED_DIM': 8, 'DCN_MLP_DIM_LAYERS': 1, 'DCN_MLP_DIM_NUM': 8, 'DCN_DROPOUT': 0.2, 'DCN_NUM_LAYERS': 2}. Best is trial 135 with value: 2.1597074451334053.\u001b[0m\n"
     ]
    },
    {
     "name": "stdout",
     "output_type": "stream",
     "text": [
      "42\n"
     ]
    },
    {
     "name": "stderr",
     "output_type": "stream",
     "text": [
      "100%|██████████| 959/959 [00:23<00:00, 40.83it/s, loss=2.16]\n",
      "100%|██████████| 240/240 [00:01<00:00, 216.85it/s]\n",
      "  0%|          | 0/240 [00:00<?, ?it/s]"
     ]
    },
    {
     "name": "stdout",
     "output_type": "stream",
     "text": [
      "epoch: 0 validation: rmse: 2.1600815676820915\n"
     ]
    },
    {
     "name": "stderr",
     "output_type": "stream",
     "text": [
      "100%|██████████| 240/240 [00:01<00:00, 216.04it/s]\n",
      "\u001b[32m[I 2022-11-08 05:13:22,929]\u001b[0m Trial 156 finished with value: 2.1600815676820915 and parameters: {'BATCH_SIZE': 256, 'LR': 0.008101094696306144, 'WEIGHT_DECAY': 2.49097023502322e-07, 'FFM_EMBED_DIM': 14, 'DCN_EMBED_DIM': 8, 'DCN_MLP_DIM_LAYERS': 1, 'DCN_MLP_DIM_NUM': 8, 'DCN_DROPOUT': 0.2, 'DCN_NUM_LAYERS': 2}. Best is trial 135 with value: 2.1597074451334053.\u001b[0m\n"
     ]
    },
    {
     "name": "stdout",
     "output_type": "stream",
     "text": [
      "42\n"
     ]
    },
    {
     "name": "stderr",
     "output_type": "stream",
     "text": [
      "100%|██████████| 959/959 [00:26<00:00, 36.75it/s, loss=2.16]\n",
      "100%|██████████| 240/240 [00:01<00:00, 163.57it/s]\n",
      "  0%|          | 0/240 [00:00<?, ?it/s]"
     ]
    },
    {
     "name": "stdout",
     "output_type": "stream",
     "text": [
      "epoch: 0 validation: rmse: 2.168959705560552\n"
     ]
    },
    {
     "name": "stderr",
     "output_type": "stream",
     "text": [
      "100%|██████████| 240/240 [00:01<00:00, 162.85it/s]\n",
      "\u001b[32m[I 2022-11-08 05:13:53,045]\u001b[0m Trial 157 finished with value: 2.168959705560552 and parameters: {'BATCH_SIZE': 256, 'LR': 0.007980300428676961, 'WEIGHT_DECAY': 2.4290636892653155e-07, 'FFM_EMBED_DIM': 15, 'DCN_EMBED_DIM': 8, 'DCN_MLP_DIM_LAYERS': 1, 'DCN_MLP_DIM_NUM': 9, 'DCN_DROPOUT': 0.2, 'DCN_NUM_LAYERS': 2}. Best is trial 135 with value: 2.1597074451334053.\u001b[0m\n"
     ]
    },
    {
     "name": "stdout",
     "output_type": "stream",
     "text": [
      "42\n"
     ]
    },
    {
     "name": "stderr",
     "output_type": "stream",
     "text": [
      "100%|██████████| 959/959 [00:24<00:00, 39.39it/s, loss=2.16]\n",
      "100%|██████████| 240/240 [00:01<00:00, 215.95it/s]\n",
      "  0%|          | 0/240 [00:00<?, ?it/s]"
     ]
    },
    {
     "name": "stdout",
     "output_type": "stream",
     "text": [
      "epoch: 0 validation: rmse: 2.1605003377284144\n"
     ]
    },
    {
     "name": "stderr",
     "output_type": "stream",
     "text": [
      "100%|██████████| 240/240 [00:01<00:00, 215.43it/s]\n",
      "\u001b[32m[I 2022-11-08 05:14:20,637]\u001b[0m Trial 158 finished with value: 2.1605003377284144 and parameters: {'BATCH_SIZE': 256, 'LR': 0.008223388768973095, 'WEIGHT_DECAY': 2.757424079512065e-07, 'FFM_EMBED_DIM': 14, 'DCN_EMBED_DIM': 8, 'DCN_MLP_DIM_LAYERS': 1, 'DCN_MLP_DIM_NUM': 8, 'DCN_DROPOUT': 0.2, 'DCN_NUM_LAYERS': 2}. Best is trial 135 with value: 2.1597074451334053.\u001b[0m\n"
     ]
    },
    {
     "name": "stdout",
     "output_type": "stream",
     "text": [
      "42\n"
     ]
    },
    {
     "name": "stderr",
     "output_type": "stream",
     "text": [
      "100%|██████████| 959/959 [00:23<00:00, 40.18it/s, loss=2.16]\n",
      "100%|██████████| 240/240 [00:01<00:00, 217.75it/s]\n",
      "  0%|          | 0/240 [00:00<?, ?it/s]"
     ]
    },
    {
     "name": "stdout",
     "output_type": "stream",
     "text": [
      "epoch: 0 validation: rmse: 2.1605113345911633\n"
     ]
    },
    {
     "name": "stderr",
     "output_type": "stream",
     "text": [
      "100%|██████████| 240/240 [00:01<00:00, 216.79it/s]\n",
      "\u001b[32m[I 2022-11-08 05:14:47,725]\u001b[0m Trial 159 finished with value: 2.1605113345911633 and parameters: {'BATCH_SIZE': 256, 'LR': 0.008206813643975226, 'WEIGHT_DECAY': 2.7826114781124833e-07, 'FFM_EMBED_DIM': 14, 'DCN_EMBED_DIM': 8, 'DCN_MLP_DIM_LAYERS': 1, 'DCN_MLP_DIM_NUM': 8, 'DCN_DROPOUT': 0.2, 'DCN_NUM_LAYERS': 2}. Best is trial 135 with value: 2.1597074451334053.\u001b[0m\n"
     ]
    },
    {
     "name": "stdout",
     "output_type": "stream",
     "text": [
      "42\n"
     ]
    },
    {
     "name": "stderr",
     "output_type": "stream",
     "text": [
      "100%|██████████| 959/959 [00:24<00:00, 39.73it/s, loss=2.16]\n",
      "100%|██████████| 240/240 [00:01<00:00, 215.76it/s]\n",
      "  0%|          | 0/240 [00:00<?, ?it/s]"
     ]
    },
    {
     "name": "stdout",
     "output_type": "stream",
     "text": [
      "epoch: 0 validation: rmse: 2.160303943409456\n"
     ]
    },
    {
     "name": "stderr",
     "output_type": "stream",
     "text": [
      "100%|██████████| 240/240 [00:01<00:00, 191.55it/s]\n",
      "\u001b[32m[I 2022-11-08 05:15:15,242]\u001b[0m Trial 160 finished with value: 2.160303943409456 and parameters: {'BATCH_SIZE': 256, 'LR': 0.008309382929437165, 'WEIGHT_DECAY': 2.6969787634521364e-07, 'FFM_EMBED_DIM': 14, 'DCN_EMBED_DIM': 8, 'DCN_MLP_DIM_LAYERS': 1, 'DCN_MLP_DIM_NUM': 8, 'DCN_DROPOUT': 0.2, 'DCN_NUM_LAYERS': 2}. Best is trial 135 with value: 2.1597074451334053.\u001b[0m\n"
     ]
    },
    {
     "name": "stdout",
     "output_type": "stream",
     "text": [
      "42\n"
     ]
    },
    {
     "name": "stderr",
     "output_type": "stream",
     "text": [
      "100%|██████████| 959/959 [00:23<00:00, 40.92it/s, loss=2.16]\n",
      "100%|██████████| 240/240 [00:01<00:00, 193.04it/s]\n",
      "  0%|          | 0/240 [00:00<?, ?it/s]"
     ]
    },
    {
     "name": "stdout",
     "output_type": "stream",
     "text": [
      "epoch: 0 validation: rmse: 2.159989893695999\n"
     ]
    },
    {
     "name": "stderr",
     "output_type": "stream",
     "text": [
      "100%|██████████| 240/240 [00:01<00:00, 215.22it/s]\n",
      "\u001b[32m[I 2022-11-08 05:15:42,057]\u001b[0m Trial 161 finished with value: 2.159989893695999 and parameters: {'BATCH_SIZE': 256, 'LR': 0.008262401031529181, 'WEIGHT_DECAY': 2.7033606727111566e-07, 'FFM_EMBED_DIM': 14, 'DCN_EMBED_DIM': 8, 'DCN_MLP_DIM_LAYERS': 1, 'DCN_MLP_DIM_NUM': 8, 'DCN_DROPOUT': 0.2, 'DCN_NUM_LAYERS': 2}. Best is trial 135 with value: 2.1597074451334053.\u001b[0m\n"
     ]
    },
    {
     "name": "stdout",
     "output_type": "stream",
     "text": [
      "42\n"
     ]
    },
    {
     "name": "stderr",
     "output_type": "stream",
     "text": [
      "100%|██████████| 959/959 [00:24<00:00, 39.91it/s, loss=2.16]\n",
      "100%|██████████| 240/240 [00:01<00:00, 216.81it/s]\n",
      "  0%|          | 0/240 [00:00<?, ?it/s]"
     ]
    },
    {
     "name": "stdout",
     "output_type": "stream",
     "text": [
      "epoch: 0 validation: rmse: 2.1600812671128864\n"
     ]
    },
    {
     "name": "stderr",
     "output_type": "stream",
     "text": [
      "100%|██████████| 240/240 [00:01<00:00, 216.27it/s]\n",
      "\u001b[32m[I 2022-11-08 05:16:09,317]\u001b[0m Trial 162 finished with value: 2.1600812671128864 and parameters: {'BATCH_SIZE': 256, 'LR': 0.00866139461778487, 'WEIGHT_DECAY': 2.6437221682179737e-07, 'FFM_EMBED_DIM': 14, 'DCN_EMBED_DIM': 8, 'DCN_MLP_DIM_LAYERS': 1, 'DCN_MLP_DIM_NUM': 8, 'DCN_DROPOUT': 0.2, 'DCN_NUM_LAYERS': 2}. Best is trial 135 with value: 2.1597074451334053.\u001b[0m\n"
     ]
    },
    {
     "name": "stdout",
     "output_type": "stream",
     "text": [
      "42\n"
     ]
    },
    {
     "name": "stderr",
     "output_type": "stream",
     "text": [
      "100%|██████████| 959/959 [00:23<00:00, 40.08it/s, loss=2.16]\n",
      "100%|██████████| 240/240 [00:01<00:00, 217.78it/s]\n",
      "  0%|          | 0/240 [00:00<?, ?it/s]"
     ]
    },
    {
     "name": "stdout",
     "output_type": "stream",
     "text": [
      "epoch: 0 validation: rmse: 2.159359143111239\n"
     ]
    },
    {
     "name": "stderr",
     "output_type": "stream",
     "text": [
      "100%|██████████| 240/240 [00:01<00:00, 216.83it/s]\n",
      "\u001b[32m[I 2022-11-08 05:16:36,466]\u001b[0m Trial 163 finished with value: 2.159359143111239 and parameters: {'BATCH_SIZE': 256, 'LR': 0.008719690745888213, 'WEIGHT_DECAY': 2.6851259707160855e-07, 'FFM_EMBED_DIM': 14, 'DCN_EMBED_DIM': 8, 'DCN_MLP_DIM_LAYERS': 1, 'DCN_MLP_DIM_NUM': 8, 'DCN_DROPOUT': 0.2, 'DCN_NUM_LAYERS': 2}. Best is trial 163 with value: 2.159359143111239.\u001b[0m\n"
     ]
    },
    {
     "name": "stdout",
     "output_type": "stream",
     "text": [
      "42\n"
     ]
    },
    {
     "name": "stderr",
     "output_type": "stream",
     "text": [
      "100%|██████████| 959/959 [00:24<00:00, 39.69it/s, loss=2.16]\n",
      "100%|██████████| 240/240 [00:01<00:00, 214.10it/s]\n",
      "  0%|          | 0/240 [00:00<?, ?it/s]"
     ]
    },
    {
     "name": "stdout",
     "output_type": "stream",
     "text": [
      "epoch: 0 validation: rmse: 2.159385544882402\n"
     ]
    },
    {
     "name": "stderr",
     "output_type": "stream",
     "text": [
      "100%|██████████| 240/240 [00:01<00:00, 215.20it/s]\n",
      "\u001b[32m[I 2022-11-08 05:17:03,894]\u001b[0m Trial 164 finished with value: 2.159385544882402 and parameters: {'BATCH_SIZE': 256, 'LR': 0.008745485013605756, 'WEIGHT_DECAY': 2.5623949637163665e-07, 'FFM_EMBED_DIM': 14, 'DCN_EMBED_DIM': 8, 'DCN_MLP_DIM_LAYERS': 1, 'DCN_MLP_DIM_NUM': 8, 'DCN_DROPOUT': 0.2, 'DCN_NUM_LAYERS': 2}. Best is trial 163 with value: 2.159359143111239.\u001b[0m\n"
     ]
    },
    {
     "name": "stdout",
     "output_type": "stream",
     "text": [
      "42\n"
     ]
    },
    {
     "name": "stderr",
     "output_type": "stream",
     "text": [
      "100%|██████████| 959/959 [00:23<00:00, 41.04it/s, loss=2.16]\n",
      "100%|██████████| 240/240 [00:01<00:00, 215.48it/s]\n",
      "  0%|          | 0/240 [00:00<?, ?it/s]"
     ]
    },
    {
     "name": "stdout",
     "output_type": "stream",
     "text": [
      "epoch: 0 validation: rmse: 2.16012785116392\n"
     ]
    },
    {
     "name": "stderr",
     "output_type": "stream",
     "text": [
      "100%|██████████| 240/240 [00:01<00:00, 194.93it/s]\n",
      "\u001b[32m[I 2022-11-08 05:17:30,612]\u001b[0m Trial 165 finished with value: 2.16012785116392 and parameters: {'BATCH_SIZE': 256, 'LR': 0.008866776112910998, 'WEIGHT_DECAY': 2.670695179290445e-07, 'FFM_EMBED_DIM': 14, 'DCN_EMBED_DIM': 8, 'DCN_MLP_DIM_LAYERS': 1, 'DCN_MLP_DIM_NUM': 8, 'DCN_DROPOUT': 0.2, 'DCN_NUM_LAYERS': 2}. Best is trial 163 with value: 2.159359143111239.\u001b[0m\n"
     ]
    },
    {
     "name": "stdout",
     "output_type": "stream",
     "text": [
      "42\n"
     ]
    },
    {
     "name": "stderr",
     "output_type": "stream",
     "text": [
      "100%|██████████| 959/959 [00:24<00:00, 39.91it/s, loss=2.16]\n",
      "100%|██████████| 240/240 [00:01<00:00, 195.96it/s]\n",
      "  0%|          | 0/240 [00:00<?, ?it/s]"
     ]
    },
    {
     "name": "stdout",
     "output_type": "stream",
     "text": [
      "epoch: 0 validation: rmse: 2.1654867909481568\n"
     ]
    },
    {
     "name": "stderr",
     "output_type": "stream",
     "text": [
      "100%|██████████| 240/240 [00:01<00:00, 218.11it/s]\n",
      "\u001b[32m[I 2022-11-08 05:17:57,975]\u001b[0m Trial 166 finished with value: 2.1654867909481568 and parameters: {'BATCH_SIZE': 256, 'LR': 0.008755599492976945, 'WEIGHT_DECAY': 2.665646733501935e-07, 'FFM_EMBED_DIM': 14, 'DCN_EMBED_DIM': 7, 'DCN_MLP_DIM_LAYERS': 1, 'DCN_MLP_DIM_NUM': 8, 'DCN_DROPOUT': 0.2, 'DCN_NUM_LAYERS': 2}. Best is trial 163 with value: 2.159359143111239.\u001b[0m\n"
     ]
    },
    {
     "name": "stdout",
     "output_type": "stream",
     "text": [
      "42\n"
     ]
    },
    {
     "name": "stderr",
     "output_type": "stream",
     "text": [
      "100%|██████████| 959/959 [00:24<00:00, 39.43it/s, loss=2.16]\n",
      "100%|██████████| 240/240 [00:01<00:00, 188.54it/s]\n",
      "  0%|          | 0/240 [00:00<?, ?it/s]"
     ]
    },
    {
     "name": "stdout",
     "output_type": "stream",
     "text": [
      "epoch: 0 validation: rmse: 2.1691905308604054\n"
     ]
    },
    {
     "name": "stderr",
     "output_type": "stream",
     "text": [
      "100%|██████████| 240/240 [00:01<00:00, 213.95it/s]\n",
      "\u001b[32m[I 2022-11-08 05:18:25,757]\u001b[0m Trial 167 finished with value: 2.1691905308604054 and parameters: {'BATCH_SIZE': 256, 'LR': 0.00865000436886674, 'WEIGHT_DECAY': 2.2700673887425607e-07, 'FFM_EMBED_DIM': 15, 'DCN_EMBED_DIM': 8, 'DCN_MLP_DIM_LAYERS': 1, 'DCN_MLP_DIM_NUM': 9, 'DCN_DROPOUT': 0.2, 'DCN_NUM_LAYERS': 2}. Best is trial 163 with value: 2.159359143111239.\u001b[0m\n"
     ]
    },
    {
     "name": "stdout",
     "output_type": "stream",
     "text": [
      "42\n"
     ]
    },
    {
     "name": "stderr",
     "output_type": "stream",
     "text": [
      "100%|██████████| 480/480 [00:12<00:00, 37.10it/s, loss=2.21]\n",
      "100%|██████████| 120/120 [00:00<00:00, 151.46it/s]\n",
      "  0%|          | 0/120 [00:00<?, ?it/s]"
     ]
    },
    {
     "name": "stdout",
     "output_type": "stream",
     "text": [
      "epoch: 0 validation: rmse: 2.171866548689365\n"
     ]
    },
    {
     "name": "stderr",
     "output_type": "stream",
     "text": [
      "100%|██████████| 120/120 [00:00<00:00, 153.00it/s]\n",
      "\u001b[32m[I 2022-11-08 05:18:41,282]\u001b[0m Trial 168 finished with value: 2.171866548689365 and parameters: {'BATCH_SIZE': 512, 'LR': 0.008253572497726729, 'WEIGHT_DECAY': 1.967175018155573e-07, 'FFM_EMBED_DIM': 14, 'DCN_EMBED_DIM': 8, 'DCN_MLP_DIM_LAYERS': 1, 'DCN_MLP_DIM_NUM': 9, 'DCN_DROPOUT': 0.2, 'DCN_NUM_LAYERS': 2}. Best is trial 163 with value: 2.159359143111239.\u001b[0m\n"
     ]
    },
    {
     "name": "stdout",
     "output_type": "stream",
     "text": [
      "42\n"
     ]
    },
    {
     "name": "stderr",
     "output_type": "stream",
     "text": [
      "100%|██████████| 959/959 [00:24<00:00, 39.82it/s, loss=2.16]\n",
      "100%|██████████| 240/240 [00:01<00:00, 217.00it/s]\n",
      "  0%|          | 0/240 [00:00<?, ?it/s]"
     ]
    },
    {
     "name": "stdout",
     "output_type": "stream",
     "text": [
      "epoch: 0 validation: rmse: 2.1657670833454197\n"
     ]
    },
    {
     "name": "stderr",
     "output_type": "stream",
     "text": [
      "100%|██████████| 240/240 [00:01<00:00, 216.67it/s]\n",
      "\u001b[32m[I 2022-11-08 05:19:08,582]\u001b[0m Trial 169 finished with value: 2.1657670833454197 and parameters: {'BATCH_SIZE': 256, 'LR': 0.008981860668196319, 'WEIGHT_DECAY': 2.462008386511786e-07, 'FFM_EMBED_DIM': 14, 'DCN_EMBED_DIM': 7, 'DCN_MLP_DIM_LAYERS': 1, 'DCN_MLP_DIM_NUM': 8, 'DCN_DROPOUT': 0.2, 'DCN_NUM_LAYERS': 2}. Best is trial 163 with value: 2.159359143111239.\u001b[0m\n"
     ]
    },
    {
     "name": "stdout",
     "output_type": "stream",
     "text": [
      "42\n"
     ]
    },
    {
     "name": "stderr",
     "output_type": "stream",
     "text": [
      "100%|██████████| 959/959 [00:25<00:00, 37.42it/s, loss=2.17]\n",
      "100%|██████████| 240/240 [00:01<00:00, 215.65it/s]\n",
      "  0%|          | 0/240 [00:00<?, ?it/s]"
     ]
    },
    {
     "name": "stdout",
     "output_type": "stream",
     "text": [
      "epoch: 0 validation: rmse: 2.173779660039105\n"
     ]
    },
    {
     "name": "stderr",
     "output_type": "stream",
     "text": [
      "100%|██████████| 240/240 [00:01<00:00, 215.98it/s]\n",
      "\u001b[32m[I 2022-11-08 05:19:37,568]\u001b[0m Trial 170 finished with value: 2.173779660039105 and parameters: {'BATCH_SIZE': 256, 'LR': 0.008182893658721591, 'WEIGHT_DECAY': 2.7186911902024567e-07, 'FFM_EMBED_DIM': 16, 'DCN_EMBED_DIM': 8, 'DCN_MLP_DIM_LAYERS': 1, 'DCN_MLP_DIM_NUM': 9, 'DCN_DROPOUT': 0.25, 'DCN_NUM_LAYERS': 2}. Best is trial 163 with value: 2.159359143111239.\u001b[0m\n"
     ]
    },
    {
     "name": "stdout",
     "output_type": "stream",
     "text": [
      "42\n"
     ]
    },
    {
     "name": "stderr",
     "output_type": "stream",
     "text": [
      "100%|██████████| 959/959 [00:24<00:00, 39.63it/s, loss=2.17]\n",
      "100%|██████████| 240/240 [00:01<00:00, 216.47it/s]\n",
      "  0%|          | 0/240 [00:00<?, ?it/s]"
     ]
    },
    {
     "name": "stdout",
     "output_type": "stream",
     "text": [
      "epoch: 0 validation: rmse: 2.164792361928763\n"
     ]
    },
    {
     "name": "stderr",
     "output_type": "stream",
     "text": [
      "100%|██████████| 240/240 [00:01<00:00, 189.88it/s]\n",
      "\u001b[32m[I 2022-11-08 05:20:05,215]\u001b[0m Trial 171 finished with value: 2.164792361928763 and parameters: {'BATCH_SIZE': 256, 'LR': 0.008600454096134974, 'WEIGHT_DECAY': 2.5113415692714494e-07, 'FFM_EMBED_DIM': 15, 'DCN_EMBED_DIM': 8, 'DCN_MLP_DIM_LAYERS': 1, 'DCN_MLP_DIM_NUM': 8, 'DCN_DROPOUT': 0.2, 'DCN_NUM_LAYERS': 2}. Best is trial 163 with value: 2.159359143111239.\u001b[0m\n"
     ]
    },
    {
     "name": "stdout",
     "output_type": "stream",
     "text": [
      "42\n"
     ]
    },
    {
     "name": "stderr",
     "output_type": "stream",
     "text": [
      "100%|██████████| 959/959 [00:24<00:00, 39.51it/s, loss=2.16]\n",
      "100%|██████████| 240/240 [00:01<00:00, 194.99it/s]\n",
      "  0%|          | 0/240 [00:00<?, ?it/s]"
     ]
    },
    {
     "name": "stdout",
     "output_type": "stream",
     "text": [
      "epoch: 0 validation: rmse: 2.1603043192410936\n"
     ]
    },
    {
     "name": "stderr",
     "output_type": "stream",
     "text": [
      "100%|██████████| 240/240 [00:01<00:00, 216.88it/s]\n",
      "\u001b[32m[I 2022-11-08 05:20:32,835]\u001b[0m Trial 172 finished with value: 2.1603043192410936 and parameters: {'BATCH_SIZE': 256, 'LR': 0.00893557535081456, 'WEIGHT_DECAY': 2.832471367040691e-07, 'FFM_EMBED_DIM': 14, 'DCN_EMBED_DIM': 8, 'DCN_MLP_DIM_LAYERS': 1, 'DCN_MLP_DIM_NUM': 8, 'DCN_DROPOUT': 0.2, 'DCN_NUM_LAYERS': 2}. Best is trial 163 with value: 2.159359143111239.\u001b[0m\n"
     ]
    },
    {
     "name": "stdout",
     "output_type": "stream",
     "text": [
      "42\n"
     ]
    },
    {
     "name": "stderr",
     "output_type": "stream",
     "text": [
      "100%|██████████| 959/959 [00:24<00:00, 39.56it/s, loss=2.16]\n",
      "100%|██████████| 240/240 [00:01<00:00, 217.91it/s]\n",
      "  0%|          | 0/240 [00:00<?, ?it/s]"
     ]
    },
    {
     "name": "stdout",
     "output_type": "stream",
     "text": [
      "epoch: 0 validation: rmse: 2.165238703118678\n"
     ]
    },
    {
     "name": "stderr",
     "output_type": "stream",
     "text": [
      "100%|██████████| 240/240 [00:01<00:00, 218.13it/s]\n",
      "\u001b[32m[I 2022-11-08 05:21:00,284]\u001b[0m Trial 173 finished with value: 2.165238703118678 and parameters: {'BATCH_SIZE': 256, 'LR': 0.009328556027195858, 'WEIGHT_DECAY': 2.1511935014554025e-07, 'FFM_EMBED_DIM': 14, 'DCN_EMBED_DIM': 7, 'DCN_MLP_DIM_LAYERS': 1, 'DCN_MLP_DIM_NUM': 8, 'DCN_DROPOUT': 0.2, 'DCN_NUM_LAYERS': 2}. Best is trial 163 with value: 2.159359143111239.\u001b[0m\n"
     ]
    },
    {
     "name": "stdout",
     "output_type": "stream",
     "text": [
      "42\n"
     ]
    },
    {
     "name": "stderr",
     "output_type": "stream",
     "text": [
      "100%|██████████| 959/959 [00:24<00:00, 39.40it/s, loss=2.17]\n",
      "100%|██████████| 240/240 [00:01<00:00, 218.06it/s]\n",
      "  0%|          | 0/240 [00:00<?, ?it/s]"
     ]
    },
    {
     "name": "stdout",
     "output_type": "stream",
     "text": [
      "epoch: 0 validation: rmse: 2.1642509572207254\n"
     ]
    },
    {
     "name": "stderr",
     "output_type": "stream",
     "text": [
      "100%|██████████| 240/240 [00:01<00:00, 217.44it/s]\n",
      "\u001b[32m[I 2022-11-08 05:21:27,896]\u001b[0m Trial 174 finished with value: 2.1642509572207254 and parameters: {'BATCH_SIZE': 256, 'LR': 0.008749569253179228, 'WEIGHT_DECAY': 2.8050176667937024e-07, 'FFM_EMBED_DIM': 15, 'DCN_EMBED_DIM': 8, 'DCN_MLP_DIM_LAYERS': 1, 'DCN_MLP_DIM_NUM': 8, 'DCN_DROPOUT': 0.2, 'DCN_NUM_LAYERS': 2}. Best is trial 163 with value: 2.159359143111239.\u001b[0m\n"
     ]
    },
    {
     "name": "stdout",
     "output_type": "stream",
     "text": [
      "42\n"
     ]
    },
    {
     "name": "stderr",
     "output_type": "stream",
     "text": [
      "100%|██████████| 959/959 [00:24<00:00, 39.86it/s, loss=2.16]\n",
      "100%|██████████| 240/240 [00:01<00:00, 216.28it/s]\n",
      "  0%|          | 0/240 [00:00<?, ?it/s]"
     ]
    },
    {
     "name": "stdout",
     "output_type": "stream",
     "text": [
      "epoch: 0 validation: rmse: 2.1597783971315905\n"
     ]
    },
    {
     "name": "stderr",
     "output_type": "stream",
     "text": [
      "100%|██████████| 240/240 [00:01<00:00, 215.68it/s]\n",
      "\u001b[32m[I 2022-11-08 05:21:55,182]\u001b[0m Trial 175 finished with value: 2.1597783971315905 and parameters: {'BATCH_SIZE': 256, 'LR': 0.008253096608586932, 'WEIGHT_DECAY': 2.588134372987504e-07, 'FFM_EMBED_DIM': 14, 'DCN_EMBED_DIM': 8, 'DCN_MLP_DIM_LAYERS': 1, 'DCN_MLP_DIM_NUM': 8, 'DCN_DROPOUT': 0.2, 'DCN_NUM_LAYERS': 2}. Best is trial 163 with value: 2.159359143111239.\u001b[0m\n"
     ]
    },
    {
     "name": "stdout",
     "output_type": "stream",
     "text": [
      "42\n"
     ]
    },
    {
     "name": "stderr",
     "output_type": "stream",
     "text": [
      "100%|██████████| 959/959 [00:23<00:00, 40.65it/s, loss=2.17]\n",
      "100%|██████████| 240/240 [00:01<00:00, 209.06it/s]\n",
      "  0%|          | 0/240 [00:00<?, ?it/s]"
     ]
    },
    {
     "name": "stdout",
     "output_type": "stream",
     "text": [
      "epoch: 0 validation: rmse: 2.167581670224078\n"
     ]
    },
    {
     "name": "stderr",
     "output_type": "stream",
     "text": [
      "100%|██████████| 240/240 [00:01<00:00, 216.06it/s]\n",
      "\u001b[32m[I 2022-11-08 05:22:22,052]\u001b[0m Trial 176 finished with value: 2.167581670224078 and parameters: {'BATCH_SIZE': 256, 'LR': 0.008443159424657534, 'WEIGHT_DECAY': 2.5213481554149616e-07, 'FFM_EMBED_DIM': 14, 'DCN_EMBED_DIM': 8, 'DCN_MLP_DIM_LAYERS': 1, 'DCN_MLP_DIM_NUM': 9, 'DCN_DROPOUT': 0.2, 'DCN_NUM_LAYERS': 2}. Best is trial 163 with value: 2.159359143111239.\u001b[0m\n"
     ]
    },
    {
     "name": "stdout",
     "output_type": "stream",
     "text": [
      "42\n"
     ]
    },
    {
     "name": "stderr",
     "output_type": "stream",
     "text": [
      "100%|██████████| 959/959 [00:24<00:00, 38.54it/s, loss=2.18]\n",
      "100%|██████████| 240/240 [00:01<00:00, 212.25it/s]\n",
      "  0%|          | 0/240 [00:00<?, ?it/s]"
     ]
    },
    {
     "name": "stdout",
     "output_type": "stream",
     "text": [
      "epoch: 0 validation: rmse: 2.1682534231826387\n"
     ]
    },
    {
     "name": "stderr",
     "output_type": "stream",
     "text": [
      "100%|██████████| 240/240 [00:01<00:00, 193.84it/s]\n",
      "\u001b[32m[I 2022-11-08 05:22:50,438]\u001b[0m Trial 177 finished with value: 2.1682534231826387 and parameters: {'BATCH_SIZE': 256, 'LR': 0.009166962851032351, 'WEIGHT_DECAY': 1.8230472172354956e-07, 'FFM_EMBED_DIM': 16, 'DCN_EMBED_DIM': 7, 'DCN_MLP_DIM_LAYERS': 1, 'DCN_MLP_DIM_NUM': 8, 'DCN_DROPOUT': 0.2, 'DCN_NUM_LAYERS': 2}. Best is trial 163 with value: 2.159359143111239.\u001b[0m\n"
     ]
    },
    {
     "name": "stdout",
     "output_type": "stream",
     "text": [
      "42\n"
     ]
    },
    {
     "name": "stderr",
     "output_type": "stream",
     "text": [
      "100%|██████████| 959/959 [00:24<00:00, 39.65it/s, loss=2.17]\n",
      "100%|██████████| 240/240 [00:01<00:00, 192.36it/s]\n",
      "  0%|          | 0/240 [00:00<?, ?it/s]"
     ]
    },
    {
     "name": "stdout",
     "output_type": "stream",
     "text": [
      "epoch: 0 validation: rmse: 2.1726671630632968\n"
     ]
    },
    {
     "name": "stderr",
     "output_type": "stream",
     "text": [
      "100%|██████████| 240/240 [00:01<00:00, 214.48it/s]\n",
      "\u001b[32m[I 2022-11-08 05:23:18,001]\u001b[0m Trial 178 finished with value: 2.1726671630632968 and parameters: {'BATCH_SIZE': 256, 'LR': 0.008185013119985114, 'WEIGHT_DECAY': 3.1329216380345864e-07, 'FFM_EMBED_DIM': 14, 'DCN_EMBED_DIM': 8, 'DCN_MLP_DIM_LAYERS': 1, 'DCN_MLP_DIM_NUM': 9, 'DCN_DROPOUT': 0.2, 'DCN_NUM_LAYERS': 2}. Best is trial 163 with value: 2.159359143111239.\u001b[0m\n"
     ]
    },
    {
     "name": "stdout",
     "output_type": "stream",
     "text": [
      "42\n"
     ]
    },
    {
     "name": "stderr",
     "output_type": "stream",
     "text": [
      "100%|██████████| 240/240 [00:08<00:00, 29.33it/s, loss=2.24]\n",
      "100%|██████████| 60/60 [00:00<00:00, 96.42it/s]\n",
      "  0%|          | 0/60 [00:00<?, ?it/s]"
     ]
    },
    {
     "name": "stdout",
     "output_type": "stream",
     "text": [
      "epoch: 0 validation: rmse: 2.1871986670793446\n"
     ]
    },
    {
     "name": "stderr",
     "output_type": "stream",
     "text": [
      "100%|██████████| 60/60 [00:00<00:00, 79.84it/s]\n",
      "\u001b[32m[I 2022-11-08 05:23:28,620]\u001b[0m Trial 179 finished with value: 2.1871986670793446 and parameters: {'BATCH_SIZE': 1024, 'LR': 0.008961468187062383, 'WEIGHT_DECAY': 2.25811441878254e-07, 'FFM_EMBED_DIM': 15, 'DCN_EMBED_DIM': 7, 'DCN_MLP_DIM_LAYERS': 1, 'DCN_MLP_DIM_NUM': 8, 'DCN_DROPOUT': 0.2, 'DCN_NUM_LAYERS': 2}. Best is trial 163 with value: 2.159359143111239.\u001b[0m\n"
     ]
    },
    {
     "name": "stdout",
     "output_type": "stream",
     "text": [
      "42\n"
     ]
    },
    {
     "name": "stderr",
     "output_type": "stream",
     "text": [
      "100%|██████████| 959/959 [00:25<00:00, 38.11it/s, loss=2.18]\n",
      "100%|██████████| 240/240 [00:01<00:00, 217.98it/s]\n",
      "  0%|          | 0/240 [00:00<?, ?it/s]"
     ]
    },
    {
     "name": "stdout",
     "output_type": "stream",
     "text": [
      "epoch: 0 validation: rmse: 2.1671127343843515\n"
     ]
    },
    {
     "name": "stderr",
     "output_type": "stream",
     "text": [
      "100%|██████████| 240/240 [00:01<00:00, 218.62it/s]\n",
      "\u001b[32m[I 2022-11-08 05:23:57,112]\u001b[0m Trial 180 finished with value: 2.1671127343843515 and parameters: {'BATCH_SIZE': 256, 'LR': 0.008448615649976902, 'WEIGHT_DECAY': 2.65603351228832e-07, 'FFM_EMBED_DIM': 16, 'DCN_EMBED_DIM': 8, 'DCN_MLP_DIM_LAYERS': 1, 'DCN_MLP_DIM_NUM': 8, 'DCN_DROPOUT': 0.2, 'DCN_NUM_LAYERS': 2}. Best is trial 163 with value: 2.159359143111239.\u001b[0m\n"
     ]
    },
    {
     "name": "stdout",
     "output_type": "stream",
     "text": [
      "42\n"
     ]
    },
    {
     "name": "stderr",
     "output_type": "stream",
     "text": [
      "100%|██████████| 959/959 [00:24<00:00, 39.75it/s, loss=2.16]\n",
      "100%|██████████| 240/240 [00:01<00:00, 215.42it/s]\n",
      "  0%|          | 0/240 [00:00<?, ?it/s]"
     ]
    },
    {
     "name": "stdout",
     "output_type": "stream",
     "text": [
      "epoch: 0 validation: rmse: 2.1605762836442954\n"
     ]
    },
    {
     "name": "stderr",
     "output_type": "stream",
     "text": [
      "100%|██████████| 240/240 [00:01<00:00, 215.25it/s]\n",
      "\u001b[32m[I 2022-11-08 05:24:24,472]\u001b[0m Trial 181 finished with value: 2.1605762836442954 and parameters: {'BATCH_SIZE': 256, 'LR': 0.00791620729712983, 'WEIGHT_DECAY': 2.863326240366138e-07, 'FFM_EMBED_DIM': 14, 'DCN_EMBED_DIM': 8, 'DCN_MLP_DIM_LAYERS': 1, 'DCN_MLP_DIM_NUM': 8, 'DCN_DROPOUT': 0.2, 'DCN_NUM_LAYERS': 2}. Best is trial 163 with value: 2.159359143111239.\u001b[0m\n"
     ]
    },
    {
     "name": "stdout",
     "output_type": "stream",
     "text": [
      "42\n"
     ]
    },
    {
     "name": "stderr",
     "output_type": "stream",
     "text": [
      "100%|██████████| 959/959 [00:23<00:00, 40.12it/s, loss=2.16]\n",
      "100%|██████████| 240/240 [00:01<00:00, 217.60it/s]\n",
      "  0%|          | 0/240 [00:00<?, ?it/s]"
     ]
    },
    {
     "name": "stdout",
     "output_type": "stream",
     "text": [
      "epoch: 0 validation: rmse: 2.160278737529356\n"
     ]
    },
    {
     "name": "stderr",
     "output_type": "stream",
     "text": [
      "100%|██████████| 240/240 [00:01<00:00, 190.02it/s]\n",
      "\u001b[32m[I 2022-11-08 05:24:51,763]\u001b[0m Trial 182 finished with value: 2.160278737529356 and parameters: {'BATCH_SIZE': 256, 'LR': 0.007999753314957607, 'WEIGHT_DECAY': 2.944112758158905e-07, 'FFM_EMBED_DIM': 14, 'DCN_EMBED_DIM': 8, 'DCN_MLP_DIM_LAYERS': 1, 'DCN_MLP_DIM_NUM': 8, 'DCN_DROPOUT': 0.2, 'DCN_NUM_LAYERS': 2}. Best is trial 163 with value: 2.159359143111239.\u001b[0m\n"
     ]
    },
    {
     "name": "stdout",
     "output_type": "stream",
     "text": [
      "42\n"
     ]
    },
    {
     "name": "stderr",
     "output_type": "stream",
     "text": [
      "100%|██████████| 959/959 [00:23<00:00, 40.60it/s, loss=2.18]\n",
      "100%|██████████| 240/240 [00:01<00:00, 196.00it/s]\n",
      "  0%|          | 0/240 [00:00<?, ?it/s]"
     ]
    },
    {
     "name": "stdout",
     "output_type": "stream",
     "text": [
      "epoch: 0 validation: rmse: 2.1778972419130875\n"
     ]
    },
    {
     "name": "stderr",
     "output_type": "stream",
     "text": [
      "100%|██████████| 240/240 [00:01<00:00, 217.14it/s]\n",
      "\u001b[32m[I 2022-11-08 05:25:18,766]\u001b[0m Trial 183 finished with value: 2.1778972419130875 and parameters: {'BATCH_SIZE': 256, 'LR': 0.0029318009923239353, 'WEIGHT_DECAY': 2.8435929865318494e-07, 'FFM_EMBED_DIM': 14, 'DCN_EMBED_DIM': 8, 'DCN_MLP_DIM_LAYERS': 1, 'DCN_MLP_DIM_NUM': 8, 'DCN_DROPOUT': 0.2, 'DCN_NUM_LAYERS': 2}. Best is trial 163 with value: 2.159359143111239.\u001b[0m\n"
     ]
    },
    {
     "name": "stdout",
     "output_type": "stream",
     "text": [
      "42\n"
     ]
    },
    {
     "name": "stderr",
     "output_type": "stream",
     "text": [
      "100%|██████████| 959/959 [00:24<00:00, 39.04it/s, loss=2.17]\n",
      "100%|██████████| 240/240 [00:01<00:00, 215.46it/s]\n",
      "  0%|          | 0/240 [00:00<?, ?it/s]"
     ]
    },
    {
     "name": "stdout",
     "output_type": "stream",
     "text": [
      "epoch: 0 validation: rmse: 2.164052030508233\n"
     ]
    },
    {
     "name": "stderr",
     "output_type": "stream",
     "text": [
      "100%|██████████| 240/240 [00:01<00:00, 214.32it/s]\n",
      "\u001b[32m[I 2022-11-08 05:25:46,631]\u001b[0m Trial 184 finished with value: 2.164052030508233 and parameters: {'BATCH_SIZE': 256, 'LR': 0.008017094080323773, 'WEIGHT_DECAY': 2.46081095724915e-07, 'FFM_EMBED_DIM': 15, 'DCN_EMBED_DIM': 8, 'DCN_MLP_DIM_LAYERS': 1, 'DCN_MLP_DIM_NUM': 8, 'DCN_DROPOUT': 0.2, 'DCN_NUM_LAYERS': 2}. Best is trial 163 with value: 2.159359143111239.\u001b[0m\n"
     ]
    },
    {
     "name": "stdout",
     "output_type": "stream",
     "text": [
      "42\n"
     ]
    },
    {
     "name": "stderr",
     "output_type": "stream",
     "text": [
      "100%|██████████| 959/959 [00:23<00:00, 40.07it/s, loss=2.16]\n",
      "100%|██████████| 240/240 [00:01<00:00, 218.28it/s]\n",
      "  0%|          | 0/240 [00:00<?, ?it/s]"
     ]
    },
    {
     "name": "stdout",
     "output_type": "stream",
     "text": [
      "epoch: 0 validation: rmse: 2.1628333251154515\n"
     ]
    },
    {
     "name": "stderr",
     "output_type": "stream",
     "text": [
      "100%|██████████| 240/240 [00:01<00:00, 217.93it/s]\n",
      "\u001b[32m[I 2022-11-08 05:26:13,783]\u001b[0m Trial 185 finished with value: 2.1628333251154515 and parameters: {'BATCH_SIZE': 256, 'LR': 0.009596259727670276, 'WEIGHT_DECAY': 3.1144534809066e-07, 'FFM_EMBED_DIM': 14, 'DCN_EMBED_DIM': 8, 'DCN_MLP_DIM_LAYERS': 1, 'DCN_MLP_DIM_NUM': 8, 'DCN_DROPOUT': 0.2, 'DCN_NUM_LAYERS': 2}. Best is trial 163 with value: 2.159359143111239.\u001b[0m\n"
     ]
    },
    {
     "name": "stdout",
     "output_type": "stream",
     "text": [
      "42\n"
     ]
    },
    {
     "name": "stderr",
     "output_type": "stream",
     "text": [
      "100%|██████████| 959/959 [00:23<00:00, 40.98it/s, loss=2.17]\n",
      "100%|██████████| 240/240 [00:01<00:00, 217.21it/s]\n",
      "  0%|          | 0/240 [00:00<?, ?it/s]"
     ]
    },
    {
     "name": "stdout",
     "output_type": "stream",
     "text": [
      "epoch: 0 validation: rmse: 2.1673640685320663\n"
     ]
    },
    {
     "name": "stderr",
     "output_type": "stream",
     "text": [
      "100%|██████████| 240/240 [00:01<00:00, 215.75it/s]\n",
      "\u001b[32m[I 2022-11-08 05:26:40,417]\u001b[0m Trial 186 finished with value: 2.1673640685320663 and parameters: {'BATCH_SIZE': 256, 'LR': 0.009355249545805622, 'WEIGHT_DECAY': 3.112838817786889e-07, 'FFM_EMBED_DIM': 14, 'DCN_EMBED_DIM': 8, 'DCN_MLP_DIM_LAYERS': 1, 'DCN_MLP_DIM_NUM': 9, 'DCN_DROPOUT': 0.2, 'DCN_NUM_LAYERS': 2}. Best is trial 163 with value: 2.159359143111239.\u001b[0m\n"
     ]
    },
    {
     "name": "stdout",
     "output_type": "stream",
     "text": [
      "42\n"
     ]
    },
    {
     "name": "stderr",
     "output_type": "stream",
     "text": [
      "100%|██████████| 959/959 [00:24<00:00, 39.91it/s, loss=2.17]\n",
      "100%|██████████| 240/240 [00:01<00:00, 217.61it/s]\n",
      "  0%|          | 0/240 [00:00<?, ?it/s]"
     ]
    },
    {
     "name": "stdout",
     "output_type": "stream",
     "text": [
      "epoch: 0 validation: rmse: 2.1696322482396253\n"
     ]
    },
    {
     "name": "stderr",
     "output_type": "stream",
     "text": [
      "100%|██████████| 240/240 [00:01<00:00, 217.23it/s]\n",
      "\u001b[32m[I 2022-11-08 05:27:07,725]\u001b[0m Trial 187 finished with value: 2.1696322482396253 and parameters: {'BATCH_SIZE': 256, 'LR': 0.008830894698367613, 'WEIGHT_DECAY': 2.614291164734517e-07, 'FFM_EMBED_DIM': 15, 'DCN_EMBED_DIM': 7, 'DCN_MLP_DIM_LAYERS': 1, 'DCN_MLP_DIM_NUM': 8, 'DCN_DROPOUT': 0.2, 'DCN_NUM_LAYERS': 2}. Best is trial 163 with value: 2.159359143111239.\u001b[0m\n"
     ]
    },
    {
     "name": "stdout",
     "output_type": "stream",
     "text": [
      "42\n"
     ]
    },
    {
     "name": "stderr",
     "output_type": "stream",
     "text": [
      "100%|██████████| 959/959 [00:23<00:00, 39.98it/s, loss=2.16]\n",
      "100%|██████████| 240/240 [00:01<00:00, 214.36it/s]\n",
      "  0%|          | 0/240 [00:00<?, ?it/s]"
     ]
    },
    {
     "name": "stdout",
     "output_type": "stream",
     "text": [
      "epoch: 0 validation: rmse: 2.1650944108913417\n"
     ]
    },
    {
     "name": "stderr",
     "output_type": "stream",
     "text": [
      "100%|██████████| 240/240 [00:01<00:00, 191.39it/s]\n",
      "\u001b[32m[I 2022-11-08 05:27:35,091]\u001b[0m Trial 188 finished with value: 2.1650944108913417 and parameters: {'BATCH_SIZE': 256, 'LR': 0.009642698308335541, 'WEIGHT_DECAY': 2.3477414554562575e-07, 'FFM_EMBED_DIM': 14, 'DCN_EMBED_DIM': 8, 'DCN_MLP_DIM_LAYERS': 1, 'DCN_MLP_DIM_NUM': 8, 'DCN_DROPOUT': 0.2, 'DCN_NUM_LAYERS': 2}. Best is trial 163 with value: 2.159359143111239.\u001b[0m\n"
     ]
    },
    {
     "name": "stdout",
     "output_type": "stream",
     "text": [
      "42\n"
     ]
    },
    {
     "name": "stderr",
     "output_type": "stream",
     "text": [
      "100%|██████████| 959/959 [00:25<00:00, 36.92it/s, loss=2.17]\n",
      "100%|██████████| 240/240 [00:01<00:00, 150.43it/s]\n",
      "  0%|          | 0/240 [00:00<?, ?it/s]"
     ]
    },
    {
     "name": "stdout",
     "output_type": "stream",
     "text": [
      "epoch: 0 validation: rmse: 2.163933570403823\n"
     ]
    },
    {
     "name": "stderr",
     "output_type": "stream",
     "text": [
      "100%|██████████| 240/240 [00:01<00:00, 176.20it/s]\n",
      "\u001b[32m[I 2022-11-08 05:28:05,105]\u001b[0m Trial 189 finished with value: 2.163933570403823 and parameters: {'BATCH_SIZE': 256, 'LR': 0.008554859613630882, 'WEIGHT_DECAY': 2.9280389112327247e-07, 'FFM_EMBED_DIM': 15, 'DCN_EMBED_DIM': 8, 'DCN_MLP_DIM_LAYERS': 1, 'DCN_MLP_DIM_NUM': 8, 'DCN_DROPOUT': 0.2, 'DCN_NUM_LAYERS': 2}. Best is trial 163 with value: 2.159359143111239.\u001b[0m\n"
     ]
    },
    {
     "name": "stdout",
     "output_type": "stream",
     "text": [
      "42\n"
     ]
    },
    {
     "name": "stderr",
     "output_type": "stream",
     "text": [
      "100%|██████████| 959/959 [00:25<00:00, 37.66it/s, loss=2.22]\n",
      "100%|██████████| 240/240 [00:01<00:00, 163.69it/s]\n",
      "  0%|          | 0/240 [00:00<?, ?it/s]"
     ]
    },
    {
     "name": "stdout",
     "output_type": "stream",
     "text": [
      "epoch: 0 validation: rmse: 2.208005367636605\n"
     ]
    },
    {
     "name": "stderr",
     "output_type": "stream",
     "text": [
      "100%|██████████| 240/240 [00:01<00:00, 163.10it/s]\n",
      "\u001b[32m[I 2022-11-08 05:28:34,517]\u001b[0m Trial 190 finished with value: 2.208005367636605 and parameters: {'BATCH_SIZE': 256, 'LR': 0.0016435915968257744, 'WEIGHT_DECAY': 2.071445415270006e-07, 'FFM_EMBED_DIM': 14, 'DCN_EMBED_DIM': 7, 'DCN_MLP_DIM_LAYERS': 1, 'DCN_MLP_DIM_NUM': 9, 'DCN_DROPOUT': 0.2, 'DCN_NUM_LAYERS': 2}. Best is trial 163 with value: 2.159359143111239.\u001b[0m\n"
     ]
    },
    {
     "name": "stdout",
     "output_type": "stream",
     "text": [
      "42\n"
     ]
    },
    {
     "name": "stderr",
     "output_type": "stream",
     "text": [
      "100%|██████████| 959/959 [00:23<00:00, 40.48it/s, loss=2.24]\n",
      "100%|██████████| 240/240 [00:01<00:00, 215.28it/s]\n",
      "  0%|          | 0/240 [00:00<?, ?it/s]"
     ]
    },
    {
     "name": "stdout",
     "output_type": "stream",
     "text": [
      "epoch: 0 validation: rmse: 2.218919953128788\n"
     ]
    },
    {
     "name": "stderr",
     "output_type": "stream",
     "text": [
      "100%|██████████| 240/240 [00:01<00:00, 214.96it/s]\n",
      "\u001b[32m[I 2022-11-08 05:29:01,401]\u001b[0m Trial 191 finished with value: 2.218919953128788 and parameters: {'BATCH_SIZE': 256, 'LR': 0.0012171849372453305, 'WEIGHT_DECAY': 3.553726033652937e-07, 'FFM_EMBED_DIM': 13, 'DCN_EMBED_DIM': 8, 'DCN_MLP_DIM_LAYERS': 1, 'DCN_MLP_DIM_NUM': 8, 'DCN_DROPOUT': 0.2, 'DCN_NUM_LAYERS': 2}. Best is trial 163 with value: 2.159359143111239.\u001b[0m\n"
     ]
    },
    {
     "name": "stdout",
     "output_type": "stream",
     "text": [
      "42\n"
     ]
    },
    {
     "name": "stderr",
     "output_type": "stream",
     "text": [
      "100%|██████████| 959/959 [00:23<00:00, 40.17it/s, loss=2.16]\n",
      "100%|██████████| 240/240 [00:01<00:00, 216.07it/s]\n",
      "  0%|          | 0/240 [00:00<?, ?it/s]"
     ]
    },
    {
     "name": "stdout",
     "output_type": "stream",
     "text": [
      "epoch: 0 validation: rmse: 2.159267557051403\n"
     ]
    },
    {
     "name": "stderr",
     "output_type": "stream",
     "text": [
      "100%|██████████| 240/240 [00:01<00:00, 215.47it/s]\n",
      "\u001b[32m[I 2022-11-08 05:29:28,512]\u001b[0m Trial 192 finished with value: 2.159267557051403 and parameters: {'BATCH_SIZE': 256, 'LR': 0.008076100444004818, 'WEIGHT_DECAY': 3.2164837228677867e-07, 'FFM_EMBED_DIM': 14, 'DCN_EMBED_DIM': 8, 'DCN_MLP_DIM_LAYERS': 1, 'DCN_MLP_DIM_NUM': 8, 'DCN_DROPOUT': 0.2, 'DCN_NUM_LAYERS': 2}. Best is trial 192 with value: 2.159267557051403.\u001b[0m\n"
     ]
    },
    {
     "name": "stdout",
     "output_type": "stream",
     "text": [
      "42\n"
     ]
    },
    {
     "name": "stderr",
     "output_type": "stream",
     "text": [
      "100%|██████████| 959/959 [00:24<00:00, 39.47it/s, loss=2.16]\n",
      "100%|██████████| 240/240 [00:01<00:00, 211.90it/s]\n",
      "  0%|          | 0/240 [00:00<?, ?it/s]"
     ]
    },
    {
     "name": "stdout",
     "output_type": "stream",
     "text": [
      "epoch: 0 validation: rmse: 2.1600459966502346\n"
     ]
    },
    {
     "name": "stderr",
     "output_type": "stream",
     "text": [
      "100%|██████████| 240/240 [00:01<00:00, 215.35it/s]\n",
      "\u001b[32m[I 2022-11-08 05:29:56,072]\u001b[0m Trial 193 finished with value: 2.1600459966502346 and parameters: {'BATCH_SIZE': 256, 'LR': 0.008257784948986178, 'WEIGHT_DECAY': 3.1262111458373325e-07, 'FFM_EMBED_DIM': 14, 'DCN_EMBED_DIM': 8, 'DCN_MLP_DIM_LAYERS': 1, 'DCN_MLP_DIM_NUM': 8, 'DCN_DROPOUT': 0.2, 'DCN_NUM_LAYERS': 2}. Best is trial 192 with value: 2.159267557051403.\u001b[0m\n"
     ]
    },
    {
     "name": "stdout",
     "output_type": "stream",
     "text": [
      "42\n"
     ]
    },
    {
     "name": "stderr",
     "output_type": "stream",
     "text": [
      "100%|██████████| 959/959 [00:24<00:00, 39.57it/s, loss=2.16]\n",
      "100%|██████████| 240/240 [00:01<00:00, 218.67it/s]\n",
      "  0%|          | 0/240 [00:00<?, ?it/s]"
     ]
    },
    {
     "name": "stdout",
     "output_type": "stream",
     "text": [
      "epoch: 0 validation: rmse: 2.160871083485849\n"
     ]
    },
    {
     "name": "stderr",
     "output_type": "stream",
     "text": [
      "100%|██████████| 240/240 [00:01<00:00, 191.46it/s]\n",
      "\u001b[32m[I 2022-11-08 05:30:23,682]\u001b[0m Trial 194 finished with value: 2.160871083485849 and parameters: {'BATCH_SIZE': 256, 'LR': 0.009089724138691168, 'WEIGHT_DECAY': 3.253603473027894e-07, 'FFM_EMBED_DIM': 14, 'DCN_EMBED_DIM': 8, 'DCN_MLP_DIM_LAYERS': 1, 'DCN_MLP_DIM_NUM': 8, 'DCN_DROPOUT': 0.2, 'DCN_NUM_LAYERS': 2}. Best is trial 192 with value: 2.159267557051403.\u001b[0m\n"
     ]
    },
    {
     "name": "stdout",
     "output_type": "stream",
     "text": [
      "42\n"
     ]
    },
    {
     "name": "stderr",
     "output_type": "stream",
     "text": [
      "100%|██████████| 959/959 [00:23<00:00, 40.11it/s, loss=2.16]\n",
      "100%|██████████| 240/240 [00:01<00:00, 195.91it/s]\n",
      "  0%|          | 0/240 [00:00<?, ?it/s]"
     ]
    },
    {
     "name": "stdout",
     "output_type": "stream",
     "text": [
      "epoch: 0 validation: rmse: 2.1603739827614343\n"
     ]
    },
    {
     "name": "stderr",
     "output_type": "stream",
     "text": [
      "100%|██████████| 240/240 [00:01<00:00, 217.68it/s]\n",
      "\u001b[32m[I 2022-11-08 05:30:50,945]\u001b[0m Trial 195 finished with value: 2.1603739827614343 and parameters: {'BATCH_SIZE': 256, 'LR': 0.008261873954349814, 'WEIGHT_DECAY': 2.84905723262545e-07, 'FFM_EMBED_DIM': 14, 'DCN_EMBED_DIM': 8, 'DCN_MLP_DIM_LAYERS': 1, 'DCN_MLP_DIM_NUM': 8, 'DCN_DROPOUT': 0.2, 'DCN_NUM_LAYERS': 2}. Best is trial 192 with value: 2.159267557051403.\u001b[0m\n"
     ]
    },
    {
     "name": "stdout",
     "output_type": "stream",
     "text": [
      "42\n"
     ]
    },
    {
     "name": "stderr",
     "output_type": "stream",
     "text": [
      "100%|██████████| 959/959 [00:24<00:00, 39.58it/s, loss=2.16]\n",
      "100%|██████████| 240/240 [00:01<00:00, 217.43it/s]\n",
      "  0%|          | 0/240 [00:00<?, ?it/s]"
     ]
    },
    {
     "name": "stdout",
     "output_type": "stream",
     "text": [
      "epoch: 0 validation: rmse: 2.1693269334060115\n"
     ]
    },
    {
     "name": "stderr",
     "output_type": "stream",
     "text": [
      "100%|██████████| 240/240 [00:01<00:00, 216.86it/s]\n",
      "\u001b[32m[I 2022-11-08 05:31:18,454]\u001b[0m Trial 196 finished with value: 2.1693269334060115 and parameters: {'BATCH_SIZE': 256, 'LR': 0.009022777019445248, 'WEIGHT_DECAY': 2.672429719747729e-07, 'FFM_EMBED_DIM': 15, 'DCN_EMBED_DIM': 8, 'DCN_MLP_DIM_LAYERS': 1, 'DCN_MLP_DIM_NUM': 9, 'DCN_DROPOUT': 0.2, 'DCN_NUM_LAYERS': 2}. Best is trial 192 with value: 2.159267557051403.\u001b[0m\n"
     ]
    },
    {
     "name": "stdout",
     "output_type": "stream",
     "text": [
      "42\n"
     ]
    },
    {
     "name": "stderr",
     "output_type": "stream",
     "text": [
      "100%|██████████| 959/959 [00:23<00:00, 41.08it/s, loss=2.16]\n",
      "100%|██████████| 240/240 [00:01<00:00, 212.08it/s]\n",
      "  0%|          | 0/240 [00:00<?, ?it/s]"
     ]
    },
    {
     "name": "stdout",
     "output_type": "stream",
     "text": [
      "epoch: 0 validation: rmse: 2.1594580367301335\n"
     ]
    },
    {
     "name": "stderr",
     "output_type": "stream",
     "text": [
      "100%|██████████| 240/240 [00:01<00:00, 216.46it/s]\n",
      "\u001b[32m[I 2022-11-08 05:31:45,045]\u001b[0m Trial 197 finished with value: 2.1594580367301335 and parameters: {'BATCH_SIZE': 256, 'LR': 0.008250099683962717, 'WEIGHT_DECAY': 2.863431245420448e-07, 'FFM_EMBED_DIM': 14, 'DCN_EMBED_DIM': 8, 'DCN_MLP_DIM_LAYERS': 1, 'DCN_MLP_DIM_NUM': 8, 'DCN_DROPOUT': 0.2, 'DCN_NUM_LAYERS': 2}. Best is trial 192 with value: 2.159267557051403.\u001b[0m\n"
     ]
    },
    {
     "name": "stdout",
     "output_type": "stream",
     "text": [
      "42\n"
     ]
    },
    {
     "name": "stderr",
     "output_type": "stream",
     "text": [
      "100%|██████████| 959/959 [00:24<00:00, 39.11it/s, loss=2.16]\n",
      "100%|██████████| 240/240 [00:01<00:00, 216.41it/s]\n",
      "  0%|          | 0/240 [00:00<?, ?it/s]"
     ]
    },
    {
     "name": "stdout",
     "output_type": "stream",
     "text": [
      "epoch: 0 validation: rmse: 2.1657847508710417\n"
     ]
    },
    {
     "name": "stderr",
     "output_type": "stream",
     "text": [
      "100%|██████████| 240/240 [00:01<00:00, 215.36it/s]\n",
      "\u001b[32m[I 2022-11-08 05:32:12,861]\u001b[0m Trial 198 finished with value: 2.1657847508710417 and parameters: {'BATCH_SIZE': 256, 'LR': 0.00821802918488569, 'WEIGHT_DECAY': 2.8630968248974957e-07, 'FFM_EMBED_DIM': 15, 'DCN_EMBED_DIM': 9, 'DCN_MLP_DIM_LAYERS': 1, 'DCN_MLP_DIM_NUM': 8, 'DCN_DROPOUT': 0.2, 'DCN_NUM_LAYERS': 2}. Best is trial 192 with value: 2.159267557051403.\u001b[0m\n"
     ]
    },
    {
     "name": "stdout",
     "output_type": "stream",
     "text": [
      "42\n"
     ]
    },
    {
     "name": "stderr",
     "output_type": "stream",
     "text": [
      "100%|██████████| 959/959 [00:24<00:00, 39.59it/s, loss=2.17]\n",
      "100%|██████████| 240/240 [00:01<00:00, 218.46it/s]\n",
      "  0%|          | 0/240 [00:00<?, ?it/s]"
     ]
    },
    {
     "name": "stdout",
     "output_type": "stream",
     "text": [
      "epoch: 0 validation: rmse: 2.167270675153166\n"
     ]
    },
    {
     "name": "stderr",
     "output_type": "stream",
     "text": [
      "100%|██████████| 240/240 [00:01<00:00, 217.89it/s]\n",
      "\u001b[32m[I 2022-11-08 05:32:40,302]\u001b[0m Trial 199 finished with value: 2.167270675153166 and parameters: {'BATCH_SIZE': 256, 'LR': 0.008526869867156435, 'WEIGHT_DECAY': 2.566910559963766e-07, 'FFM_EMBED_DIM': 14, 'DCN_EMBED_DIM': 8, 'DCN_MLP_DIM_LAYERS': 1, 'DCN_MLP_DIM_NUM': 7, 'DCN_DROPOUT': 0.2, 'DCN_NUM_LAYERS': 2}. Best is trial 192 with value: 2.159267557051403.\u001b[0m\n"
     ]
    },
    {
     "name": "stdout",
     "output_type": "stream",
     "text": [
      "Best Score: 2.159267557051403\n",
      "Best trial {'BATCH_SIZE': 256, 'LR': 0.008076100444004818, 'WEIGHT_DECAY': 3.2164837228677867e-07, 'FFM_EMBED_DIM': 14, 'DCN_EMBED_DIM': 8, 'DCN_MLP_DIM_LAYERS': 1, 'DCN_MLP_DIM_NUM': 8, 'DCN_DROPOUT': 0.2, 'DCN_NUM_LAYERS': 2}\n"
     ]
    }
   ],
   "source": [
    "sampler = optuna.samplers.TPESampler(seed=49)\n",
    "study = optuna.create_study(\n",
    "    study_name = 'FFDCN_parameter_opt',\n",
    "    direction = 'minimize',\n",
    "    sampler = sampler,\n",
    ")\n",
    "study.optimize(objective, n_trials=200)\n",
    "print(\"Best Score:\",study.best_value)\n",
    "print(\"Best trial\",study.best_trial.params)"
   ]
  },
  {
   "cell_type": "code",
   "execution_count": 7,
   "metadata": {},
   "outputs": [
    {
     "data": {
      "text/plain": [
       "{'BATCH_SIZE': 256,\n",
       " 'LR': 0.008526869867156435,\n",
       " 'WEIGHT_DECAY': 2.566910559963766e-07,\n",
       " 'FFM_EMBED_DIM': 14,\n",
       " 'DCN_EMBED_DIM': 8,\n",
       " 'DCN_MLP_DIM_LAYERS': 1,\n",
       " 'DCN_MLP_DIM_NUM': 7,\n",
       " 'DCN_DROPOUT': 0.2,\n",
       " 'DCN_NUM_LAYERS': 2}"
      ]
     },
     "execution_count": 7,
     "metadata": {},
     "output_type": "execute_result"
    }
   ],
   "source": [
    "study.get_trials()[-1].params"
   ]
  },
  {
   "cell_type": "code",
   "execution_count": 8,
   "metadata": {},
   "outputs": [
    {
     "ename": "FileNotFoundError",
     "evalue": "[Errno 2] No such file or directory: './valid/studysave1003.pkl'",
     "output_type": "error",
     "traceback": [
      "\u001b[0;31m---------------------------------------------------------------------------\u001b[0m",
      "\u001b[0;31mFileNotFoundError\u001b[0m                         Traceback (most recent call last)",
      "Cell \u001b[0;32mIn [8], line 1\u001b[0m\n\u001b[0;32m----> 1\u001b[0m joblib\u001b[39m.\u001b[39;49mdump(study,\u001b[39m'\u001b[39;49m\u001b[39m./valid/studysave1003.pkl\u001b[39;49m\u001b[39m'\u001b[39;49m)\n",
      "File \u001b[0;32m/opt/conda/lib/python3.8/site-packages/joblib/numpy_pickle.py:552\u001b[0m, in \u001b[0;36mdump\u001b[0;34m(value, filename, compress, protocol, cache_size)\u001b[0m\n\u001b[1;32m    550\u001b[0m         NumpyPickler(f, protocol\u001b[39m=\u001b[39mprotocol)\u001b[39m.\u001b[39mdump(value)\n\u001b[1;32m    551\u001b[0m \u001b[39melif\u001b[39;00m is_filename:\n\u001b[0;32m--> 552\u001b[0m     \u001b[39mwith\u001b[39;00m \u001b[39mopen\u001b[39;49m(filename, \u001b[39m'\u001b[39;49m\u001b[39mwb\u001b[39;49m\u001b[39m'\u001b[39;49m) \u001b[39mas\u001b[39;00m f:\n\u001b[1;32m    553\u001b[0m         NumpyPickler(f, protocol\u001b[39m=\u001b[39mprotocol)\u001b[39m.\u001b[39mdump(value)\n\u001b[1;32m    554\u001b[0m \u001b[39melse\u001b[39;00m:\n",
      "\u001b[0;31mFileNotFoundError\u001b[0m: [Errno 2] No such file or directory: './valid/studysave1003.pkl'"
     ]
    }
   ],
   "source": [
    "joblib.dump(study,'./valid/studysave1003.pkl')"
   ]
  },
  {
   "cell_type": "code",
   "execution_count": null,
   "metadata": {},
   "outputs": [],
   "source": [
    "jl = joblib.load('./valid/studysave1003.pkl')"
   ]
  },
  {
   "cell_type": "code",
   "execution_count": null,
   "metadata": {},
   "outputs": [
    {
     "data": {
      "text/plain": [
       "{'BATCH_SIZE': 858,\n",
       " 'LR': 0.004313538772296255,\n",
       " 'WEIGHT_DECAY': 2.64921217501965e-07,\n",
       " 'FFM_EMBED_DIM': 25,\n",
       " 'DCN_EMBED_DIM': 6,\n",
       " 'DCN_MLP_DIM_LAYERS': 3,\n",
       " 'DCN_MLP_DIM_NUM': 1,\n",
       " 'DCN_DROPOUT': 0.25,\n",
       " 'DCN_NUM_LAYERS': 3}"
      ]
     },
     "execution_count": 9,
     "metadata": {},
     "output_type": "execute_result"
    }
   ],
   "source": [
    "jl.best_params"
   ]
  },
  {
   "cell_type": "markdown",
   "metadata": {},
   "source": [
    "## K-Fold for FFDCN"
   ]
  },
  {
   "cell_type": "code",
   "execution_count": 9,
   "metadata": {},
   "outputs": [],
   "source": [
    "import time\n",
    "import argparse\n",
    "import json\n",
    "import pandas as pd\n",
    "import numpy as np\n",
    "import tqdm\n",
    "import argparse\n",
    "import warnings\n",
    "import joblib\n",
    "from src import seed_everything\n",
    "\n",
    "from src.data import context_data_load, context_data_split, context_data_loader\n",
    "\n",
    "from src import FFDCNModel\n",
    "\n",
    "import optuna\n",
    "from optuna import Trial, visualization\n",
    "from optuna.samplers import TPESampler\n",
    "\n",
    "from sklearn.metrics import mean_absolute_error\n",
    "from sklearn.model_selection import train_test_split\n",
    "from sklearn.model_selection import StratifiedKFold\n",
    "\n",
    "warnings.filterwarnings(action='ignore')"
   ]
  },
  {
   "cell_type": "code",
   "execution_count": 10,
   "metadata": {},
   "outputs": [],
   "source": [
    "parser = argparse.ArgumentParser()\n",
    "args = argparse.Namespace()\n",
    "with open('config.json','rt') as f:\n",
    "    args.__dict__.update(json.load(f))"
   ]
  },
  {
   "cell_type": "code",
   "execution_count": 11,
   "metadata": {},
   "outputs": [],
   "source": [
    "seed_everything(42)"
   ]
  },
  {
   "cell_type": "code",
   "execution_count": 12,
   "metadata": {},
   "outputs": [],
   "source": [
    "data = context_data_load(args)"
   ]
  },
  {
   "cell_type": "code",
   "execution_count": 13,
   "metadata": {},
   "outputs": [],
   "source": [
    "skf = StratifiedKFold(n_splits=5, shuffle=True, random_state=42)\n",
    "folds = []\n",
    "for train_idx, valid_idx in skf.split(data['train'].drop(['rating'], axis=1), data['train']['rating']):\n",
    "    folds.append((train_idx, valid_idx))"
   ]
  },
  {
   "cell_type": "code",
   "execution_count": 14,
   "metadata": {},
   "outputs": [
    {
     "name": "stdout",
     "output_type": "stream",
     "text": [
      "=============== 1 ===============\n",
      "--------------- FFDCN TRAINING ---------------\n"
     ]
    },
    {
     "name": "stderr",
     "output_type": "stream",
     "text": [
      "100%|██████████| 959/959 [00:29<00:00, 32.10it/s, loss=2.19]\n",
      "100%|██████████| 240/240 [00:01<00:00, 214.89it/s]\n",
      "  0%|          | 0/240 [00:00<?, ?it/s]"
     ]
    },
    {
     "name": "stdout",
     "output_type": "stream",
     "text": [
      "epoch: 0 validation: rmse: 2.1640109036934394\n"
     ]
    },
    {
     "name": "stderr",
     "output_type": "stream",
     "text": [
      "100%|██████████| 240/240 [00:01<00:00, 214.26it/s]\n",
      "  0%|          | 0/300 [00:00<?, ?it/s]"
     ]
    },
    {
     "name": "stdout",
     "output_type": "stream",
     "text": [
      "--------------- FFDCN PREDICT ---------------\n"
     ]
    },
    {
     "name": "stderr",
     "output_type": "stream",
     "text": [
      "100%|██████████| 300/300 [00:01<00:00, 248.75it/s]\n"
     ]
    },
    {
     "name": "stdout",
     "output_type": "stream",
     "text": [
      "=============== 2 ===============\n",
      "--------------- FFDCN TRAINING ---------------\n"
     ]
    },
    {
     "name": "stderr",
     "output_type": "stream",
     "text": [
      "100%|██████████| 959/959 [00:26<00:00, 36.21it/s, loss=2.17]\n",
      "100%|██████████| 240/240 [00:01<00:00, 213.09it/s]\n",
      "  0%|          | 0/240 [00:00<?, ?it/s]"
     ]
    },
    {
     "name": "stdout",
     "output_type": "stream",
     "text": [
      "epoch: 0 validation: rmse: 2.165730645553602\n"
     ]
    },
    {
     "name": "stderr",
     "output_type": "stream",
     "text": [
      "100%|██████████| 240/240 [00:01<00:00, 212.69it/s]\n",
      "  0%|          | 0/300 [00:00<?, ?it/s]"
     ]
    },
    {
     "name": "stdout",
     "output_type": "stream",
     "text": [
      "--------------- FFDCN PREDICT ---------------\n"
     ]
    },
    {
     "name": "stderr",
     "output_type": "stream",
     "text": [
      "100%|██████████| 300/300 [00:01<00:00, 227.27it/s]\n"
     ]
    },
    {
     "name": "stdout",
     "output_type": "stream",
     "text": [
      "=============== 3 ===============\n",
      "--------------- FFDCN TRAINING ---------------\n"
     ]
    },
    {
     "name": "stderr",
     "output_type": "stream",
     "text": [
      "100%|██████████| 959/959 [00:26<00:00, 36.71it/s, loss=2.17]\n",
      "100%|██████████| 240/240 [00:01<00:00, 214.26it/s]\n",
      "  0%|          | 0/240 [00:00<?, ?it/s]"
     ]
    },
    {
     "name": "stdout",
     "output_type": "stream",
     "text": [
      "epoch: 0 validation: rmse: 2.181752089298212\n"
     ]
    },
    {
     "name": "stderr",
     "output_type": "stream",
     "text": [
      "100%|██████████| 240/240 [00:01<00:00, 187.62it/s]\n",
      "  0%|          | 0/300 [00:00<?, ?it/s]"
     ]
    },
    {
     "name": "stdout",
     "output_type": "stream",
     "text": [
      "--------------- FFDCN PREDICT ---------------\n"
     ]
    },
    {
     "name": "stderr",
     "output_type": "stream",
     "text": [
      "100%|██████████| 300/300 [00:01<00:00, 258.62it/s]\n"
     ]
    },
    {
     "name": "stdout",
     "output_type": "stream",
     "text": [
      "=============== 4 ===============\n",
      "--------------- FFDCN TRAINING ---------------\n"
     ]
    },
    {
     "name": "stderr",
     "output_type": "stream",
     "text": [
      "100%|██████████| 959/959 [00:26<00:00, 36.21it/s, loss=2.17]\n",
      "100%|██████████| 240/240 [00:01<00:00, 188.51it/s]\n",
      "  0%|          | 0/240 [00:00<?, ?it/s]"
     ]
    },
    {
     "name": "stdout",
     "output_type": "stream",
     "text": [
      "epoch: 0 validation: rmse: 2.160661193155635\n"
     ]
    },
    {
     "name": "stderr",
     "output_type": "stream",
     "text": [
      "100%|██████████| 240/240 [00:01<00:00, 214.21it/s]\n",
      "  0%|          | 0/300 [00:00<?, ?it/s]"
     ]
    },
    {
     "name": "stdout",
     "output_type": "stream",
     "text": [
      "--------------- FFDCN PREDICT ---------------\n"
     ]
    },
    {
     "name": "stderr",
     "output_type": "stream",
     "text": [
      "100%|██████████| 300/300 [00:01<00:00, 259.34it/s]\n"
     ]
    },
    {
     "name": "stdout",
     "output_type": "stream",
     "text": [
      "=============== 5 ===============\n",
      "--------------- FFDCN TRAINING ---------------\n"
     ]
    },
    {
     "name": "stderr",
     "output_type": "stream",
     "text": [
      "100%|██████████| 959/959 [00:27<00:00, 35.12it/s, loss=2.17]\n",
      "100%|██████████| 240/240 [00:01<00:00, 210.61it/s]\n",
      "  0%|          | 0/240 [00:00<?, ?it/s]"
     ]
    },
    {
     "name": "stdout",
     "output_type": "stream",
     "text": [
      "epoch: 0 validation: rmse: 2.1739715771745107\n"
     ]
    },
    {
     "name": "stderr",
     "output_type": "stream",
     "text": [
      "100%|██████████| 240/240 [00:01<00:00, 212.29it/s]\n",
      "  0%|          | 0/300 [00:00<?, ?it/s]"
     ]
    },
    {
     "name": "stdout",
     "output_type": "stream",
     "text": [
      "--------------- FFDCN PREDICT ---------------\n"
     ]
    },
    {
     "name": "stderr",
     "output_type": "stream",
     "text": [
      "100%|██████████| 300/300 [00:01<00:00, 256.63it/s]\n"
     ]
    }
   ],
   "source": [
    "ffdcn_predicts = []\n",
    "for fold in range(5):\n",
    "    seed_everything(42)\n",
    "    print('='*15,fold+1,'='*15)\n",
    "    train_idx, valid_idx = folds[fold]\n",
    "    # Fold i Data Split\n",
    "    X_train = data['train'].drop(['rating'], axis=1).iloc[train_idx]\n",
    "    X_valid = data['train'].drop(['rating'], axis=1).iloc[valid_idx]\n",
    "    y_train = data['train']['rating'][train_idx]\n",
    "    y_valid = data['train']['rating'][valid_idx]\n",
    "    # Create Fold i Dataloader\n",
    "    fold_data = {\n",
    "            'X_train':X_train,\n",
    "            'X_valid':X_valid,\n",
    "            'y_train':y_train,\n",
    "            'y_valid':y_valid,\n",
    "            'test':data['test'],\n",
    "            'field_dims':data['field_dims'],\n",
    "            'sub':data['sub'],\n",
    "            'idx2user':data['idx2user'],\n",
    "            'idx2isbn':data['idx2isbn']\n",
    "    }\n",
    "    fold_data = context_data_loader(args,fold_data)\n",
    "    # Create Fold i FFDCN Model and train\n",
    "    print(f'--------------- {args.MODEL} TRAINING ---------------')\n",
    "    model = FFDCNModel(args,fold_data)\n",
    "    model.train()\n",
    "    log_score = model.predict_train()\n",
    "\n",
    "    # Fold i Model's Predict Test data\n",
    "    print(f'--------------- {args.MODEL} PREDICT ---------------')\n",
    "    predicts = model.predict(fold_data['test_dataloader'])\n",
    "    ffdcn_predicts.append(predicts)\n",
    "\n"
   ]
  },
  {
   "cell_type": "code",
   "execution_count": 17,
   "metadata": {},
   "outputs": [
    {
     "name": "stdout",
     "output_type": "stream",
     "text": [
      "--------------- SAVE FFDCN PREDICT ---------------\n"
     ]
    }
   ],
   "source": [
    "# Fold i Save Predicted test data\n",
    "print(f'--------------- SAVE {args.MODEL} PREDICT ---------------')\n",
    "submission = pd.read_csv(args.DATA_PATH + 'sample_submission.csv')\n",
    "for fold_predict in ffdcn_predicts:\n",
    "    submission['rating'] += np.array(fold_predict) / 5\n",
    "submission.loc[submission['rating']>10,'rating'] = 10.0\n",
    "now = time.localtime()\n",
    "now_date = time.strftime('%Y%m%d', now)\n",
    "now_hour = time.strftime('%X', now)\n",
    "save_time = now_date + '_' + now_hour.replace(':', '')\n",
    "#submission.to_csv('submit/5fold_{}_{}.csv'.format(save_time, args.MODEL), index=False)\n",
    "submission.to_csv('submit/FFDCN.csv', index=False)"
   ]
  },
  {
   "cell_type": "code",
   "execution_count": null,
   "metadata": {},
   "outputs": [],
   "source": []
  }
 ],
 "metadata": {
  "kernelspec": {
   "display_name": "Python 3.8.5 ('base')",
   "language": "python",
   "name": "python3"
  },
  "language_info": {
   "codemirror_mode": {
    "name": "ipython",
    "version": 3
   },
   "file_extension": ".py",
   "mimetype": "text/x-python",
   "name": "python",
   "nbconvert_exporter": "python",
   "pygments_lexer": "ipython3",
   "version": "3.8.5"
  },
  "orig_nbformat": 4,
  "vscode": {
   "interpreter": {
    "hash": "d4d1e4263499bec80672ea0156c357c1ee493ec2b1c70f0acce89fc37c4a6abe"
   }
  }
 },
 "nbformat": 4,
 "nbformat_minor": 2
}
