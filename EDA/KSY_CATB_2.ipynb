{
 "cells": [
  {
   "cell_type": "code",
   "execution_count": 24,
   "metadata": {},
   "outputs": [],
   "source": [
    "import pandas as pd\n",
    "import numpy as np\n",
    "import seaborn as sns\n",
    "import matplotlib.pyplot as plt\n",
    "import math\n",
    "import tqdm\n",
    "import pdb\n",
    "from scipy.sparse import csr_matrix, linalg\n",
    "from sklearn.model_selection import train_test_split\n",
    "from sklearn.metrics import mean_squared_error\n",
    "import warnings\n",
    "\n",
    "import pandas as pd\n",
    "import numpy as np\n",
    "from sklearn.linear_model import LinearRegression\n",
    "from sklearn.model_selection import train_test_split\n",
    "from sklearn.preprocessing import OneHotEncoder\n",
    "from sklearn.metrics import mean_squared_error, r2_score\n",
    "#import lightgbm as lgb\n",
    "\n",
    "import random\n",
    "import os\n",
    "import re\n",
    "\n",
    "import optuna\n",
    "from optuna import Trial, visualization\n",
    "from optuna.samplers import TPESampler\n",
    "\n",
    "from sklearn.model_selection import train_test_split\n",
    "from catboost import CatBoostRegressor\n",
    "\n",
    "from sklearn.metrics import mean_absolute_error\n",
    "\n",
    "warnings.filterwarnings(action='ignore')"
   ]
  },
  {
   "cell_type": "code",
   "execution_count": 53,
   "metadata": {},
   "outputs": [
    {
     "name": "stdout",
     "output_type": "stream",
     "text": [
      "users shape:  (68092, 3)\n",
      "books shape:  (149570, 10)\n",
      "train_ratings shape:  (306795, 3)\n"
     ]
    }
   ],
   "source": [
    "path= '../data/'\n",
    "\n",
    "users = pd.read_csv(path+'users.csv')\n",
    "books = pd.read_csv(path+'books.csv')\n",
    "train_ratings = pd.read_csv(path+'train_ratings.csv')\n",
    "test_ratings = pd.read_csv(path+'test_ratings.csv')\n",
    "submit = pd.read_csv(path + 'sample_submission.csv')\n",
    "\n",
    "\n",
    "def rmse(real: list, predict: list) -> float:\n",
    "    pred = np.array(predict)\n",
    "    return np.sqrt(np.mean((real-pred) ** 2))\n",
    "\n",
    "SEED = 42\n",
    "def seed_everything(seed: int = 42):\n",
    "    random.seed(seed)\n",
    "    np.random.seed(seed)\n",
    "    os.environ[\"PYTHONHASHSEED\"] = str(seed)\n",
    "\n",
    "seed_everything(SEED)\n",
    "\n",
    "print('users shape: ', users.shape)\n",
    "print('books shape: ', books.shape)\n",
    "print('train_ratings shape: ', train_ratings.shape)"
   ]
  },
  {
   "cell_type": "markdown",
   "metadata": {},
   "source": [
    "# 데이터 전처리"
   ]
  },
  {
   "cell_type": "markdown",
   "metadata": {},
   "source": [
    "## book 테이블"
   ]
  },
  {
   "cell_type": "code",
   "execution_count": 55,
   "metadata": {},
   "outputs": [],
   "source": [
    "# books 테이블 전처리 부분 입니다.\n",
    "# books의 이미지 변수를 지워줍니다.\n",
    "# 제목과 요약 내용 변수를 지웁니다. \n",
    "# (이 변수들은 추후 사용 가능할수도 있으나 일단 지웁니다.)\n",
    "# books의 publisher 변수 중 이름이 비슷한 변수들을 찾아 하나로 통일해줍니다.\n",
    "books.drop(['book_title', 'summary', 'img_url', 'img_path'], axis = 1, inplace = True)\n",
    "\n",
    "books_publishers = books.groupby('publisher')['isbn'].count().sort_values(ascending=False)\n",
    "for i in books_publishers[books_publishers > 20].index: # 20 말고 10으로 하면 오류가 남..\n",
    "    books['publisher'][books['publisher'].str.contains(i)] = i"
   ]
  },
  {
   "cell_type": "code",
   "execution_count": 56,
   "metadata": {},
   "outputs": [],
   "source": [
    "# books의 카테고리 부분.\n",
    "\n",
    "# 대괄호 써있는 카테고리 전치리\n",
    "books.loc[books[books['category'].notnull()].index, 'category'] = books[books['category'].notnull()]['category'].apply(lambda x: re.sub('[\\W_]+',' ',x).strip())\n",
    "# 모두 소문자로 통일\n",
    "books['category'] = books['category'].str.lower()\n",
    "\n",
    "# 수작업으로 higt 카테고리로 통합\n",
    "categories = ['garden','crafts','physics','adventure','music','fiction','nonfiction','science','science fiction','social','homicide',\n",
    " 'sociology','disease','religion','christian','philosophy','psycholog','mathemat','agricult','environmental',\n",
    " 'business','poetry','drama','literary','travel','motion picture','children','cook','literature','electronic',\n",
    " 'humor','animal','bird','photograph','computer','house','ecology','family','architect','camp','criminal','language','india']\n",
    "\n",
    "books['category_high'] = books['category'].copy()\n",
    "for category in categories:\n",
    "    books.loc[books[books['category'].str.contains(category,na=False)].index,'category_high'] = category"
   ]
  },
  {
   "cell_type": "code",
   "execution_count": 57,
   "metadata": {},
   "outputs": [],
   "source": [
    "# language와 category_high NULL 값을 최빈값으로 채웁니다.\n",
    "# 근거 : language == en일 때, category_high == fiction 일 때와\n",
    "# 근거 : 값이 NULL 일 때 rating 평균이 7.0x로 유사한 형태.\n",
    "books['language'].fillna('en', inplace = True)\n",
    "books['category_high'].fillna('fiction', inplace = True)"
   ]
  },
  {
   "cell_type": "code",
   "execution_count": 58,
   "metadata": {},
   "outputs": [],
   "source": [
    "# 출판연도 1970, 1980, 1990, 2000, 2020 으로 범주화 시킵니다.\n",
    "# 딥러닝 과정에서 범주화 시키는 것이 유리합니다.\n",
    "# 근거 : develop 파일에서 여러번 실험 결과 본 기준이 가장 rating을 잘 구분함.\n",
    "\n",
    "books['years'] = books['year_of_publication'].copy()\n",
    "books['years'][books['year_of_publication'] < 1970] = 1970\n",
    "books['years'][(books['year_of_publication'] < 1980) * (books['year_of_publication'] >= 1970)] = 1980\n",
    "books['years'][(books['year_of_publication'] < 1990) * (books['year_of_publication'] >= 1980)] = 1990\n",
    "books['years'][(books['year_of_publication'] < 2000) * (books['year_of_publication'] >= 1990)] = 2000\n",
    "books['years'][(books['year_of_publication'] >= 2000)] = 2020\n",
    "books['years'] = books['years'].astype('str')\n",
    "#books['years'] = books['years'].astype('int')\n",
    "books.drop(['year_of_publication', 'category'], axis = 1, inplace = True)"
   ]
  },
  {
   "cell_type": "markdown",
   "metadata": {},
   "source": [
    "## user 테이블"
   ]
  },
  {
   "cell_type": "code",
   "execution_count": 59,
   "metadata": {},
   "outputs": [],
   "source": [
    "# users 테이블 전처리 입니다.\n",
    "# location이 지역, 주, 국가로 되어있어 이 부분 기초 전처리 진행 과정입니다.\n",
    "\n",
    "users['location'] = users['location'].str.replace(r'[^0-9a-zA-Z:,]', '') # 특수문자 제거\n",
    "\n",
    "# 지역, 주, 국가\n",
    "users['location_city'] = users['location'].apply(lambda x: x.split(',')[0].strip())\n",
    "users['location_state'] = users['location'].apply(lambda x: x.split(',')[1].strip())\n",
    "users['location_country'] = users['location'].apply(lambda x: x.split(',')[2].strip())\n",
    "\n",
    "users = users.replace('na', np.nan) #특수문자 제거로 n/a가 na로 바뀌게 되었습니다. 따라서 이를 컴퓨터가 인식할 수 있는 결측값으로 변환합니다.\n",
    "users = users.replace('', np.nan) # 일부 경우 , , ,으로 입력된 경우가 있었으므로 이런 경우에도 결측값으로 변환합니다.\n",
    "\n",
    "# 도시는 존재하는데 나라 정보가 없는 경우 채워주는 코드\n",
    "modify_location = users[(users['location_country'].isna())&(users['location_city'].notnull())]['location_city'].values\n",
    "location = users[(users['location'].str.contains('seattle'))&(users['location_country'].notnull())]['location'].value_counts().index[0]\n",
    "\n",
    "location_list = []\n",
    "for location in modify_location:\n",
    "    try:\n",
    "        right_location = users[(users['location'].str.contains(location))&(users['location_country'].notnull())]['location'].value_counts().index[0]\n",
    "        location_list.append(right_location)\n",
    "    except:\n",
    "        pass\n",
    "\n",
    "for location in location_list:\n",
    "    users.loc[users[users['location_city']==location.split(',')[0]].index,'location_state'] = location.split(',')[1]\n",
    "    users.loc[users[users['location_city']==location.split(',')[0]].index,'location_country'] = location.split(',')[2]"
   ]
  },
  {
   "cell_type": "code",
   "execution_count": 60,
   "metadata": {},
   "outputs": [],
   "source": [
    "# 저는 도시, 주, 국가 중 주를 선택했습니다.\n",
    "# 우선 모든 변수를 다 쓰는 건 아니라고 생각했어요. 도시 < 주 < 국가로 포함관계가 있기 때문이죠.\n",
    "# 데이터 분석 결과 주와 국가 단위가 비슷한 경우가 많은 것을 확인했습니다.\n",
    "# 조그만 섬 국가 < 미국 켈리포니아 주 < 미국 같은 경우죠.\n",
    "# 미국 같은 경우 미국으로 뭉뚱그리기 보다 주 단위로 나누는 것이 맞다고 판단했습니다.\n",
    "# 실제 미국 주 별로 rating 차이가 꽤 존재합니다.\n",
    "# 다만 도시 기준으로 나누면 너무 세분화 될 것 같다는 생각이 들었습니다.\n",
    "# 결론적으로 주를 지역을 나타내는 변수로 사용하기로 하고 결측값을 도시, 나라에서 채우기로 했습니다.\n",
    "\n",
    "def _fillna(x):\n",
    "    if pd.isna(x['location_country']):\n",
    "        # 만약 나라가 기록 안되있는 경우        \n",
    "        if pd.isna(x['location_city']):\n",
    "            # 도시까지 없다면 모든 정보가 없음. 최빈값 california 사용.\n",
    "            return 'california'\n",
    "        else:\n",
    "            tem = users['location_state'][users['location_city'] == x['location_city']].value_counts()\n",
    "            if len(tem) == 0: \n",
    "                # 만약 주 이름이 없는 도시이면 도시 이름을 주 이름으로 사용.\n",
    "                return x['location_city'] \n",
    "            else:\n",
    "                # 그 도시에서 가장 자주 쓰이는 주 이름 사용.\n",
    "                return tem.index[0]\n",
    "\n",
    "    else:\n",
    "        tem = users['location_state'][users['location_country'] == x['location_country']].value_counts()\n",
    "        if len(tem) == 0: \n",
    "            # 만약 주 이름이 없는 나라이면 나라이름을 주 이름으로 사용.\n",
    "            return x['location_country'] \n",
    "        else:\n",
    "            # 그 나라에서 가장 자주 쓰이는 주 이름 사용.\n",
    "            return tem.index[0]\n",
    "\n",
    "users['fix_location_state'] = users.apply(lambda x : _fillna(x) if pd.isna(x['location_state']) else x['location_state'], axis = 1)"
   ]
  },
  {
   "cell_type": "code",
   "execution_count": 61,
   "metadata": {},
   "outputs": [],
   "source": [
    "users['fix_age'] = users['age'].copy()\n",
    "users['fix_age'][users['age'] < 10] = 10\n",
    "users['fix_age'][(users['age'] < 20) & (users['age'] >= 10)] = 20\n",
    "users['fix_age'][(users['age'] < 30) & (users['age'] >= 20)] = 30\n",
    "users['fix_age'][(users['age'] < 35) & (users['age'] >= 30)] = 35\n",
    "users['fix_age'][(users['age'] < 40) & (users['age'] >= 35)] = 40\n",
    "users['fix_age'][(users['age'] < 50) & (users['age'] >= 40)] = 50\n",
    "users['fix_age'][users['age'] >= 50] = 100\n",
    "users['fix_age'].fillna(10, inplace = True)\n",
    "users['fix_age'] = users['fix_age'].astype('str') # users['fix_age'] = users['fix_age'].astype('int')"
   ]
  },
  {
   "cell_type": "code",
   "execution_count": 38,
   "metadata": {},
   "outputs": [],
   "source": [
    "# users2 = pd.read_csv(path+'users.csv')\n",
    "# users['age'] = users2['age']"
   ]
  },
  {
   "cell_type": "code",
   "execution_count": 41,
   "metadata": {},
   "outputs": [
    {
     "data": {
      "text/plain": [
       "3    38657\n",
       "2    10969\n",
       "4     6858\n",
       "5     4960\n",
       "1     4050\n",
       "6     2598\n",
       "Name: age, dtype: int64"
      ]
     },
     "execution_count": 41,
     "metadata": {},
     "output_type": "execute_result"
    }
   ],
   "source": [
    "# def age_map(x: int) -> int:\n",
    "#     x = int(x)\n",
    "#     if x < 20:\n",
    "#         return 1\n",
    "#     elif x >= 20 and x < 30:\n",
    "#         return 2\n",
    "#     elif x >= 30 and x < 40:\n",
    "#         return 3\n",
    "#     elif x >= 40 and x < 50:\n",
    "#         return 4\n",
    "#     elif x >= 50 and x < 60:\n",
    "#         return 5\n",
    "#     else:\n",
    "#         return 6\n",
    "\n",
    "# users['age'] = users['age'].fillna(users['age'].mean())\n",
    "# users['age'] = users['age'].apply(age_map)\n",
    "\n",
    "# users['age'].value_counts()"
   ]
  },
  {
   "cell_type": "code",
   "execution_count": 62,
   "metadata": {},
   "outputs": [
    {
     "name": "stdout",
     "output_type": "stream",
     "text": [
      "<class 'pandas.core.frame.DataFrame'>\n",
      "RangeIndex: 68092 entries, 0 to 68091\n",
      "Data columns (total 3 columns):\n",
      " #   Column              Non-Null Count  Dtype \n",
      "---  ------              --------------  ----- \n",
      " 0   user_id             68092 non-null  int64 \n",
      " 1   fix_location_state  68092 non-null  object\n",
      " 2   fix_age             68092 non-null  object\n",
      "dtypes: int64(1), object(2)\n",
      "memory usage: 1.6+ MB\n"
     ]
    }
   ],
   "source": [
    "users = users[['user_id', 'fix_location_state', 'fix_age']]\n",
    "users.info()"
   ]
  },
  {
   "cell_type": "markdown",
   "metadata": {},
   "source": [
    "## rating 테이블과 merge"
   ]
  },
  {
   "cell_type": "code",
   "execution_count": 63,
   "metadata": {},
   "outputs": [],
   "source": [
    "# 전처리 완료한 books와 users 테이블을 이용해 rating 테이블과 merge 하기.\n",
    "\n",
    "train_ratings = pd.merge(train_ratings,books, how='right',on='isbn')\n",
    "train_ratings.dropna(subset=['rating'], inplace = True)\n",
    "train_ratings = pd.merge(train_ratings, users, how='right',on='user_id')\n",
    "train_ratings.dropna(subset=['rating'], inplace = True)\n",
    "\n",
    "test_ratings['index'] = test_ratings.index\n",
    "test_ratings = pd.merge(test_ratings,books, how='right',on='isbn')\n",
    "test_ratings.dropna(subset=['rating'], inplace = True)\n",
    "test_ratings = pd.merge(test_ratings, users, how='right',on='user_id')\n",
    "test_ratings.dropna(subset=['rating'], inplace = True)\n",
    "test_ratings = test_ratings.sort_values('index')\n",
    "test_ratings.drop(['index'], axis=1, inplace=True)\n",
    "\n",
    "train_ratings['user_id'] = train_ratings['user_id'].astype('str')\n",
    "test_ratings['user_id'] = test_ratings['user_id'].astype('str')\n"
   ]
  },
  {
   "cell_type": "markdown",
   "metadata": {},
   "source": [
    "# 모델링"
   ]
  },
  {
   "cell_type": "code",
   "execution_count": 64,
   "metadata": {},
   "outputs": [
    {
     "name": "stdout",
     "output_type": "stream",
     "text": [
      "2.141027794444738\n"
     ]
    }
   ],
   "source": [
    "# params_cat = {\n",
    "#             \"task_type\" : \"GPU\",\n",
    "#             \"devices\" : '0',\n",
    "#             \"random_state\": SEED,\n",
    "#             \"learning_rate\": 0.05,\n",
    "#             \"n_estimators\": 2000,\n",
    "#             \"verbose\" : 1,\n",
    "#             \"objective\" : \"RMSE\",\n",
    "#             \"max_depth\": 10,#trial.suggest_int(\"max_depth\", 1, 16),\n",
    "#             \"colsample_bylevel\": 1,#trial.suggest_float(\"colsample_bylevel\", 0.8, 1.0),\n",
    "#             #\"subsample\": 0.8, #trial.suggest_float(\"subsample\", 0.3, 1.0), GPU 사용시 안될수도.\n",
    "#             \"min_child_samples\": 50, #trial.suggest_int(\"min_child_samples\", 5, 100),\n",
    "#             \"max_bin\": 300, #trial.suggest_int(\"max_bin\", 200, 500),\n",
    "#             \"cat_features\" : list(train_ratings.drop(['rating'],axis = 1).columns)\n",
    "#     }\n",
    "\n",
    "params_cat = {\n",
    "    \"task_type\" : \"GPU\",\n",
    "    \"devices\" : '0',\n",
    "    \"random_state\": SEED,\n",
    "    'learning_rate': 0.04574578205475402, \n",
    "    'bagging_temperature': 0.12172958098369972, \n",
    "    'n_estimators': 8459, \n",
    "    'max_depth': 8, \n",
    "    'random_strength': 28, \n",
    "    'l2_leaf_reg': 1.6285455533915874e-05, \n",
    "    'min_child_samples': 18, \n",
    "    'max_bin': 441, \n",
    "    'od_type': 'Iter',\n",
    "    \"cat_features\" : list(train_ratings.drop(['rating'],axis = 1).columns),\n",
    "}\n",
    "\n",
    "X_tr, X_val, y_tr, y_val = train_test_split(train_ratings.drop(['rating'],axis = 1), train_ratings['rating'], test_size=0.2)\n",
    "\n",
    "model = CatBoostRegressor(**params_cat)\n",
    "model.fit(\n",
    "    X_tr,\n",
    "    y_tr,\n",
    "    eval_set=[(X_val, y_val)],\n",
    "    #early_stopping_rounds=10,\n",
    "    verbose=False,\n",
    ")\n",
    "\n",
    "cat_pred = model.predict(X_val)\n",
    "log_score = rmse(y_val, cat_pred)\n",
    "\n",
    "print(log_score)"
   ]
  },
  {
   "cell_type": "code",
   "execution_count": 66,
   "metadata": {},
   "outputs": [],
   "source": [
    "X_val['cat_pred'] = cat_pred\n",
    "X_val['y'] = y_val"
   ]
  },
  {
   "cell_type": "code",
   "execution_count": 68,
   "metadata": {},
   "outputs": [
    {
     "data": {
      "text/html": [
       "<div>\n",
       "<style scoped>\n",
       "    .dataframe tbody tr th:only-of-type {\n",
       "        vertical-align: middle;\n",
       "    }\n",
       "\n",
       "    .dataframe tbody tr th {\n",
       "        vertical-align: top;\n",
       "    }\n",
       "\n",
       "    .dataframe thead th {\n",
       "        text-align: right;\n",
       "    }\n",
       "</style>\n",
       "<table border=\"1\" class=\"dataframe\">\n",
       "  <thead>\n",
       "    <tr style=\"text-align: right;\">\n",
       "      <th></th>\n",
       "      <th>user_id</th>\n",
       "      <th>isbn</th>\n",
       "      <th>book_author</th>\n",
       "      <th>publisher</th>\n",
       "      <th>language</th>\n",
       "      <th>category_high</th>\n",
       "      <th>years</th>\n",
       "      <th>fix_location_state</th>\n",
       "      <th>fix_age</th>\n",
       "    </tr>\n",
       "  </thead>\n",
       "  <tbody>\n",
       "    <tr>\n",
       "      <th>121471</th>\n",
       "      <td>18082.0</td>\n",
       "      <td>0671027646</td>\n",
       "      <td>Richard Paul Evans</td>\n",
       "      <td>Pocket</td>\n",
       "      <td>en</td>\n",
       "      <td>fiction</td>\n",
       "      <td>2000.0</td>\n",
       "      <td>california</td>\n",
       "      <td>40.0</td>\n",
       "    </tr>\n",
       "    <tr>\n",
       "      <th>267856</th>\n",
       "      <td>135409.0</td>\n",
       "      <td>0972380698</td>\n",
       "      <td>Marie Watts</td>\n",
       "      <td>Turnkey Press</td>\n",
       "      <td>en</td>\n",
       "      <td>fiction</td>\n",
       "      <td>2020.0</td>\n",
       "      <td>texas</td>\n",
       "      <td>50.0</td>\n",
       "    </tr>\n",
       "    <tr>\n",
       "      <th>60304</th>\n",
       "      <td>171118.0</td>\n",
       "      <td>015694877X</td>\n",
       "      <td>T. S. Eliot</td>\n",
       "      <td>Harvest Books</td>\n",
       "      <td>en</td>\n",
       "      <td>poetry</td>\n",
       "      <td>1970.0</td>\n",
       "      <td>ontario</td>\n",
       "      <td>50.0</td>\n",
       "    </tr>\n",
       "    <tr>\n",
       "      <th>111358</th>\n",
       "      <td>98391.0</td>\n",
       "      <td>0425186377</td>\n",
       "      <td>Stephen J. Clark</td>\n",
       "      <td>Berkley Publishing Group</td>\n",
       "      <td>en</td>\n",
       "      <td>fiction</td>\n",
       "      <td>2020.0</td>\n",
       "      <td>georgia</td>\n",
       "      <td>100.0</td>\n",
       "    </tr>\n",
       "    <tr>\n",
       "      <th>314119</th>\n",
       "      <td>223232.0</td>\n",
       "      <td>1578563852</td>\n",
       "      <td>LINDA ANDERSEN</td>\n",
       "      <td>WaterBrook Press</td>\n",
       "      <td>en</td>\n",
       "      <td>religion</td>\n",
       "      <td>2020.0</td>\n",
       "      <td>michigan</td>\n",
       "      <td>100.0</td>\n",
       "    </tr>\n",
       "    <tr>\n",
       "      <th>...</th>\n",
       "      <td>...</td>\n",
       "      <td>...</td>\n",
       "      <td>...</td>\n",
       "      <td>...</td>\n",
       "      <td>...</td>\n",
       "      <td>...</td>\n",
       "      <td>...</td>\n",
       "      <td>...</td>\n",
       "      <td>...</td>\n",
       "    </tr>\n",
       "    <tr>\n",
       "      <th>120033</th>\n",
       "      <td>51883.0</td>\n",
       "      <td>0786015772</td>\n",
       "      <td>Steve Jackson</td>\n",
       "      <td>Pinnacle Books</td>\n",
       "      <td>en</td>\n",
       "      <td>social</td>\n",
       "      <td>2020.0</td>\n",
       "      <td>missouri</td>\n",
       "      <td>35.0</td>\n",
       "    </tr>\n",
       "    <tr>\n",
       "      <th>261557</th>\n",
       "      <td>11456.0</td>\n",
       "      <td>0515126098</td>\n",
       "      <td>Dick Francis</td>\n",
       "      <td>Jove Books</td>\n",
       "      <td>en</td>\n",
       "      <td>detective and mystery stories</td>\n",
       "      <td>2000.0</td>\n",
       "      <td>kentucky</td>\n",
       "      <td>10.0</td>\n",
       "    </tr>\n",
       "    <tr>\n",
       "      <th>132118</th>\n",
       "      <td>101336.0</td>\n",
       "      <td>0130952842</td>\n",
       "      <td>Edward Yourdon</td>\n",
       "      <td>Prentice Hall</td>\n",
       "      <td>en</td>\n",
       "      <td>software maintenance</td>\n",
       "      <td>2000.0</td>\n",
       "      <td>florida</td>\n",
       "      <td>50.0</td>\n",
       "    </tr>\n",
       "    <tr>\n",
       "      <th>147110</th>\n",
       "      <td>21370.0</td>\n",
       "      <td>0140082255</td>\n",
       "      <td>Linda Tschirhart Sanford</td>\n",
       "      <td>Penguin</td>\n",
       "      <td>en</td>\n",
       "      <td>fiction</td>\n",
       "      <td>1990.0</td>\n",
       "      <td>tennessee</td>\n",
       "      <td>40.0</td>\n",
       "    </tr>\n",
       "    <tr>\n",
       "      <th>122117</th>\n",
       "      <td>63389.0</td>\n",
       "      <td>0060921145</td>\n",
       "      <td>Barbara Kingsolver</td>\n",
       "      <td>Perennial</td>\n",
       "      <td>en</td>\n",
       "      <td>fiction</td>\n",
       "      <td>2000.0</td>\n",
       "      <td>california</td>\n",
       "      <td>30.0</td>\n",
       "    </tr>\n",
       "  </tbody>\n",
       "</table>\n",
       "<p>245436 rows × 9 columns</p>\n",
       "</div>"
      ],
      "text/plain": [
       "         user_id        isbn               book_author  \\\n",
       "121471   18082.0  0671027646        Richard Paul Evans   \n",
       "267856  135409.0  0972380698               Marie Watts   \n",
       "60304   171118.0  015694877X               T. S. Eliot   \n",
       "111358   98391.0  0425186377          Stephen J. Clark   \n",
       "314119  223232.0  1578563852            LINDA ANDERSEN   \n",
       "...          ...         ...                       ...   \n",
       "120033   51883.0  0786015772             Steve Jackson   \n",
       "261557   11456.0  0515126098              Dick Francis   \n",
       "132118  101336.0  0130952842            Edward Yourdon   \n",
       "147110   21370.0  0140082255  Linda Tschirhart Sanford   \n",
       "122117   63389.0  0060921145        Barbara Kingsolver   \n",
       "\n",
       "                       publisher language                  category_high  \\\n",
       "121471                    Pocket       en                        fiction   \n",
       "267856             Turnkey Press       en                        fiction   \n",
       "60304              Harvest Books       en                         poetry   \n",
       "111358  Berkley Publishing Group       en                        fiction   \n",
       "314119          WaterBrook Press       en                       religion   \n",
       "...                          ...      ...                            ...   \n",
       "120033            Pinnacle Books       en                         social   \n",
       "261557                Jove Books       en  detective and mystery stories   \n",
       "132118             Prentice Hall       en           software maintenance   \n",
       "147110                   Penguin       en                        fiction   \n",
       "122117                 Perennial       en                        fiction   \n",
       "\n",
       "         years fix_location_state fix_age  \n",
       "121471  2000.0         california    40.0  \n",
       "267856  2020.0              texas    50.0  \n",
       "60304   1970.0            ontario    50.0  \n",
       "111358  2020.0            georgia   100.0  \n",
       "314119  2020.0           michigan   100.0  \n",
       "...        ...                ...     ...  \n",
       "120033  2020.0           missouri    35.0  \n",
       "261557  2000.0           kentucky    10.0  \n",
       "132118  2000.0            florida    50.0  \n",
       "147110  1990.0          tennessee    40.0  \n",
       "122117  2000.0         california    30.0  \n",
       "\n",
       "[245436 rows x 9 columns]"
      ]
     },
     "execution_count": 68,
     "metadata": {},
     "output_type": "execute_result"
    }
   ],
   "source": [
    "X_tr"
   ]
  },
  {
   "cell_type": "code",
   "execution_count": 70,
   "metadata": {},
   "outputs": [],
   "source": [
    "X_tr[['user_id', 'isbn']].to_csv(path+'ksy_train.csv', index = False)\n",
    "\n",
    "X_val[['user_id', 'isbn', 'cat_pred', 'y']].to_csv(path+'ksy_valid.csv', index = False)"
   ]
  },
  {
   "cell_type": "code",
   "execution_count": 51,
   "metadata": {},
   "outputs": [],
   "source": [
    "X_val.to_csv(path+'ksy_valid.csv', index = False)"
   ]
  },
  {
   "cell_type": "code",
   "execution_count": 46,
   "metadata": {},
   "outputs": [
    {
     "data": {
      "text/plain": [
       "31346      9.0\n",
       "114336     2.0\n",
       "310060    10.0\n",
       "283542     2.0\n",
       "19105      8.0\n",
       "          ... \n",
       "89277      7.0\n",
       "8961       8.0\n",
       "2188       1.0\n",
       "93433      9.0\n",
       "2856       7.0\n",
       "Name: rating, Length: 61359, dtype: float64"
      ]
     },
     "execution_count": 46,
     "metadata": {},
     "output_type": "execute_result"
    }
   ],
   "source": [
    "y_val"
   ]
  },
  {
   "cell_type": "code",
   "execution_count": 36,
   "metadata": {},
   "outputs": [],
   "source": [
    "def objective(trial):\n",
    "    param = {\n",
    "        \"random_state\":42,\n",
    "        \"objective\" : \"RMSE\",\n",
    "        'learning_rate' : trial.suggest_loguniform('learning_rate', 0.01, 0.5),\n",
    "        'bagging_temperature' :trial.suggest_loguniform('bagging_temperature', 0.01, 100.00),\n",
    "        \"n_estimators\":trial.suggest_int(\"n_estimators\", 1000, 10000),\n",
    "        \"max_depth\":trial.suggest_int(\"max_depth\", 4, 16),\n",
    "        'random_strength' :trial.suggest_int('random_strength', 0, 100),\n",
    "    #   \"colsample_bylevel\":trial.suggest_float(\"colsample_bylevel\", 0.4, 1.0), 이거 때메 GPU 안돌아감\n",
    "        \"l2_leaf_reg\":trial.suggest_float(\"l2_leaf_reg\",1e-8,3e-5),\n",
    "        \"min_child_samples\": trial.suggest_int(\"min_child_samples\", 5, 100),\n",
    "        \"max_bin\": trial.suggest_int(\"max_bin\", 200, 500),\n",
    "        'od_type': trial.suggest_categorical('od_type', ['IncToDec', 'Iter']),\n",
    "    }\n",
    "    train_x, val_x, train_y, val_y = train_test_split(train_ratings.drop(['rating'],axis = 1), train_ratings['rating'], test_size=0.2)\n",
    "\n",
    "    model = CatBoostRegressor(**param, task_type = 'GPU')\n",
    "\n",
    "    model.fit(\n",
    "        train_x,\n",
    "        train_y,\n",
    "        eval_set=[(val_x, val_y)],\n",
    "        cat_features = list(train_ratings.drop(['rating'],axis = 1).columns),\n",
    "        verbose=100\n",
    "    )\n",
    "\n",
    "    cat_pred = model.predict(val_x)\n",
    "    log_score = rmse(val_y, cat_pred)\n",
    "\n",
    "    return log_score"
   ]
  },
  {
   "cell_type": "code",
   "execution_count": 37,
   "metadata": {},
   "outputs": [
    {
     "name": "stderr",
     "output_type": "stream",
     "text": [
      "\u001b[32m[I 2022-10-31 06:52:02,076]\u001b[0m A new study created in memory with name: cat_parameter_opt\u001b[0m\n"
     ]
    },
    {
     "name": "stdout",
     "output_type": "stream",
     "text": [
      "0:\tlearn: 2.4299163\ttest: 2.4436516\tbest: 2.4436516 (0)\ttotal: 12.2ms\tremaining: 1m 32s\n",
      "100:\tlearn: 2.4241328\ttest: 2.4367401\tbest: 2.4367401 (100)\ttotal: 1.1s\tremaining: 1m 21s\n",
      "200:\tlearn: 2.4241323\ttest: 2.4367285\tbest: 2.4367283 (195)\ttotal: 2.13s\tremaining: 1m 18s\n",
      "bestTest = 2.436728266\n",
      "bestIteration = 195\n",
      "Shrink model to first 196 iterations.\n"
     ]
    },
    {
     "name": "stderr",
     "output_type": "stream",
     "text": [
      "\u001b[32m[I 2022-10-31 06:52:07,008]\u001b[0m Trial 0 finished with value: 2.436728570644674 and parameters: {'learning_rate': 0.043284502212938815, 'bagging_temperature': 63.512210106407046, 'n_estimators': 7588, 'max_depth': 11, 'random_strength': 15, 'l2_leaf_reg': 4.688275664882717e-06, 'min_child_samples': 10, 'max_bin': 460, 'od_type': 'Iter'}. Best is trial 0 with value: 2.436728570644674.\u001b[0m\n"
     ]
    },
    {
     "name": "stdout",
     "output_type": "stream",
     "text": [
      "0:\tlearn: 2.4371201\ttest: 2.4168686\tbest: 2.4168686 (0)\ttotal: 11.5ms\tremaining: 1m 38s\n",
      "100:\tlearn: 2.4318873\ttest: 2.4108430\tbest: 2.4108430 (100)\ttotal: 1.09s\tremaining: 1m 30s\n",
      "200:\tlearn: 2.4312950\ttest: 2.4100490\tbest: 2.4100490 (200)\ttotal: 2.12s\tremaining: 1m 27s\n",
      "300:\tlearn: 2.4312282\ttest: 2.4099218\tbest: 2.4099218 (300)\ttotal: 3.15s\tremaining: 1m 25s\n",
      "400:\tlearn: 2.4312206\ttest: 2.4098947\tbest: 2.4098947 (399)\ttotal: 4.17s\tremaining: 1m 24s\n",
      "500:\tlearn: 2.4312196\ttest: 2.4098874\tbest: 2.4098873 (498)\ttotal: 5.19s\tremaining: 1m 22s\n",
      "600:\tlearn: 2.4312198\ttest: 2.4098851\tbest: 2.4098851 (600)\ttotal: 6.21s\tremaining: 1m 21s\n",
      "700:\tlearn: 2.4312198\ttest: 2.4098845\tbest: 2.4098843 (677)\ttotal: 7.36s\tremaining: 1m 21s\n",
      "800:\tlearn: 2.4312197\ttest: 2.4098842\tbest: 2.4098841 (749)\ttotal: 8.44s\tremaining: 1m 21s\n",
      "900:\tlearn: 2.4312197\ttest: 2.4098842\tbest: 2.4098841 (749)\ttotal: 9.53s\tremaining: 1m 20s\n",
      "1000:\tlearn: 2.4312197\ttest: 2.4098842\tbest: 2.4098841 (749)\ttotal: 10.6s\tremaining: 1m 19s\n",
      "1100:\tlearn: 2.4312197\ttest: 2.4098842\tbest: 2.4098841 (749)\ttotal: 11.7s\tremaining: 1m 18s\n",
      "1200:\tlearn: 2.4312197\ttest: 2.4098842\tbest: 2.4098841 (749)\ttotal: 12.8s\tremaining: 1m 17s\n",
      "1300:\tlearn: 2.4312197\ttest: 2.4098842\tbest: 2.4098841 (749)\ttotal: 13.8s\tremaining: 1m 16s\n",
      "1400:\tlearn: 2.4312197\ttest: 2.4098842\tbest: 2.4098841 (749)\ttotal: 14.8s\tremaining: 1m 15s\n",
      "1500:\tlearn: 2.4312197\ttest: 2.4098842\tbest: 2.4098841 (749)\ttotal: 15.9s\tremaining: 1m 13s\n",
      "1600:\tlearn: 2.4312197\ttest: 2.4098842\tbest: 2.4098841 (749)\ttotal: 16.9s\tremaining: 1m 12s\n",
      "1700:\tlearn: 2.4312197\ttest: 2.4098842\tbest: 2.4098841 (749)\ttotal: 17.9s\tremaining: 1m 11s\n",
      "1800:\tlearn: 2.4312197\ttest: 2.4098842\tbest: 2.4098841 (749)\ttotal: 18.9s\tremaining: 1m 10s\n",
      "1900:\tlearn: 2.4312197\ttest: 2.4098842\tbest: 2.4098841 (749)\ttotal: 19.9s\tremaining: 1m 9s\n",
      "2000:\tlearn: 2.4312197\ttest: 2.4098842\tbest: 2.4098841 (749)\ttotal: 20.9s\tremaining: 1m 7s\n",
      "2100:\tlearn: 2.4312197\ttest: 2.4098842\tbest: 2.4098841 (749)\ttotal: 22s\tremaining: 1m 6s\n",
      "2200:\tlearn: 2.4312197\ttest: 2.4098842\tbest: 2.4098841 (749)\ttotal: 23s\tremaining: 1m 5s\n",
      "2300:\tlearn: 2.4312197\ttest: 2.4098842\tbest: 2.4098841 (749)\ttotal: 24s\tremaining: 1m 4s\n",
      "2400:\tlearn: 2.4312197\ttest: 2.4098842\tbest: 2.4098841 (749)\ttotal: 25s\tremaining: 1m 3s\n",
      "2500:\tlearn: 2.4312197\ttest: 2.4098842\tbest: 2.4098841 (749)\ttotal: 26s\tremaining: 1m 2s\n",
      "2600:\tlearn: 2.4312197\ttest: 2.4098842\tbest: 2.4098841 (749)\ttotal: 27s\tremaining: 1m 1s\n",
      "2700:\tlearn: 2.4312197\ttest: 2.4098842\tbest: 2.4098841 (749)\ttotal: 28.1s\tremaining: 1m\n",
      "2800:\tlearn: 2.4312197\ttest: 2.4098842\tbest: 2.4098841 (749)\ttotal: 29.1s\tremaining: 59.1s\n",
      "2900:\tlearn: 2.4312197\ttest: 2.4098842\tbest: 2.4098841 (749)\ttotal: 30.1s\tremaining: 58s\n",
      "3000:\tlearn: 2.4312197\ttest: 2.4098842\tbest: 2.4098841 (749)\ttotal: 31.1s\tremaining: 56.9s\n",
      "3100:\tlearn: 2.4312197\ttest: 2.4098842\tbest: 2.4098841 (749)\ttotal: 32.1s\tremaining: 55.8s\n",
      "3200:\tlearn: 2.4312197\ttest: 2.4098842\tbest: 2.4098841 (749)\ttotal: 33.1s\tremaining: 54.8s\n",
      "3300:\tlearn: 2.4312197\ttest: 2.4098842\tbest: 2.4098841 (749)\ttotal: 34.2s\tremaining: 53.7s\n",
      "3400:\tlearn: 2.4312197\ttest: 2.4098842\tbest: 2.4098841 (749)\ttotal: 35.2s\tremaining: 52.7s\n",
      "3500:\tlearn: 2.4312197\ttest: 2.4098842\tbest: 2.4098841 (749)\ttotal: 36.2s\tremaining: 51.6s\n",
      "3600:\tlearn: 2.4312197\ttest: 2.4098842\tbest: 2.4098841 (749)\ttotal: 37.2s\tremaining: 50.6s\n",
      "3700:\tlearn: 2.4312197\ttest: 2.4098842\tbest: 2.4098841 (749)\ttotal: 38.3s\tremaining: 49.5s\n",
      "3800:\tlearn: 2.4312197\ttest: 2.4098842\tbest: 2.4098841 (749)\ttotal: 39.3s\tremaining: 48.5s\n",
      "3900:\tlearn: 2.4312197\ttest: 2.4098842\tbest: 2.4098841 (749)\ttotal: 40.3s\tremaining: 47.4s\n",
      "4000:\tlearn: 2.4312197\ttest: 2.4098842\tbest: 2.4098841 (749)\ttotal: 41.3s\tremaining: 46.4s\n",
      "4100:\tlearn: 2.4312197\ttest: 2.4098842\tbest: 2.4098841 (749)\ttotal: 42.4s\tremaining: 45.4s\n",
      "4200:\tlearn: 2.4312197\ttest: 2.4098842\tbest: 2.4098841 (749)\ttotal: 43.4s\tremaining: 44.3s\n",
      "4300:\tlearn: 2.4312197\ttest: 2.4098842\tbest: 2.4098841 (749)\ttotal: 44.4s\tremaining: 43.3s\n",
      "4400:\tlearn: 2.4312197\ttest: 2.4098842\tbest: 2.4098841 (749)\ttotal: 45.4s\tremaining: 42.2s\n",
      "4500:\tlearn: 2.4312197\ttest: 2.4098842\tbest: 2.4098841 (749)\ttotal: 46.5s\tremaining: 41.2s\n",
      "4600:\tlearn: 2.4312197\ttest: 2.4098842\tbest: 2.4098841 (749)\ttotal: 47.5s\tremaining: 40.2s\n",
      "4700:\tlearn: 2.4312197\ttest: 2.4098842\tbest: 2.4098841 (749)\ttotal: 48.5s\tremaining: 39.1s\n",
      "4800:\tlearn: 2.4312197\ttest: 2.4098842\tbest: 2.4098841 (749)\ttotal: 49.5s\tremaining: 38.1s\n",
      "4900:\tlearn: 2.4312197\ttest: 2.4098842\tbest: 2.4098841 (749)\ttotal: 50.6s\tremaining: 37.1s\n",
      "5000:\tlearn: 2.4312197\ttest: 2.4098842\tbest: 2.4098841 (749)\ttotal: 51.6s\tremaining: 36s\n",
      "5100:\tlearn: 2.4312197\ttest: 2.4098842\tbest: 2.4098841 (749)\ttotal: 52.6s\tremaining: 35s\n",
      "5200:\tlearn: 2.4312197\ttest: 2.4098842\tbest: 2.4098841 (749)\ttotal: 53.6s\tremaining: 33.9s\n",
      "5300:\tlearn: 2.4312197\ttest: 2.4098842\tbest: 2.4098841 (749)\ttotal: 54.7s\tremaining: 32.9s\n",
      "5400:\tlearn: 2.4312197\ttest: 2.4098842\tbest: 2.4098841 (749)\ttotal: 55.7s\tremaining: 31.9s\n",
      "5500:\tlearn: 2.4312197\ttest: 2.4098842\tbest: 2.4098841 (749)\ttotal: 56.7s\tremaining: 30.8s\n",
      "5600:\tlearn: 2.4312197\ttest: 2.4098842\tbest: 2.4098841 (749)\ttotal: 57.8s\tremaining: 29.8s\n",
      "5700:\tlearn: 2.4312197\ttest: 2.4098842\tbest: 2.4098841 (749)\ttotal: 58.8s\tremaining: 28.8s\n",
      "5800:\tlearn: 2.4312197\ttest: 2.4098842\tbest: 2.4098841 (749)\ttotal: 59.8s\tremaining: 27.8s\n",
      "5900:\tlearn: 2.4312197\ttest: 2.4098842\tbest: 2.4098841 (749)\ttotal: 1m\tremaining: 26.7s\n",
      "6000:\tlearn: 2.4312197\ttest: 2.4098842\tbest: 2.4098841 (749)\ttotal: 1m 1s\tremaining: 25.7s\n",
      "6100:\tlearn: 2.4312197\ttest: 2.4098842\tbest: 2.4098841 (749)\ttotal: 1m 2s\tremaining: 24.7s\n",
      "6200:\tlearn: 2.4312197\ttest: 2.4098842\tbest: 2.4098841 (749)\ttotal: 1m 3s\tremaining: 23.6s\n",
      "6300:\tlearn: 2.4312197\ttest: 2.4098842\tbest: 2.4098841 (749)\ttotal: 1m 5s\tremaining: 22.6s\n",
      "6400:\tlearn: 2.4312197\ttest: 2.4098842\tbest: 2.4098841 (749)\ttotal: 1m 6s\tremaining: 21.6s\n",
      "6500:\tlearn: 2.4312197\ttest: 2.4098842\tbest: 2.4098841 (749)\ttotal: 1m 7s\tremaining: 20.5s\n",
      "6600:\tlearn: 2.4312197\ttest: 2.4098842\tbest: 2.4098841 (749)\ttotal: 1m 8s\tremaining: 19.5s\n",
      "6700:\tlearn: 2.4312197\ttest: 2.4098842\tbest: 2.4098841 (749)\ttotal: 1m 9s\tremaining: 18.5s\n",
      "6800:\tlearn: 2.4312197\ttest: 2.4098842\tbest: 2.4098841 (749)\ttotal: 1m 10s\tremaining: 17.4s\n",
      "6900:\tlearn: 2.4312197\ttest: 2.4098842\tbest: 2.4098841 (749)\ttotal: 1m 11s\tremaining: 16.4s\n",
      "7000:\tlearn: 2.4312197\ttest: 2.4098842\tbest: 2.4098841 (749)\ttotal: 1m 12s\tremaining: 15.4s\n",
      "7100:\tlearn: 2.4312197\ttest: 2.4098842\tbest: 2.4098841 (749)\ttotal: 1m 13s\tremaining: 14.3s\n",
      "7200:\tlearn: 2.4312197\ttest: 2.4098842\tbest: 2.4098841 (749)\ttotal: 1m 14s\tremaining: 13.3s\n",
      "7300:\tlearn: 2.4312197\ttest: 2.4098842\tbest: 2.4098841 (749)\ttotal: 1m 15s\tremaining: 12.3s\n",
      "7400:\tlearn: 2.4312197\ttest: 2.4098842\tbest: 2.4098841 (749)\ttotal: 1m 16s\tremaining: 11.3s\n",
      "7500:\tlearn: 2.4312197\ttest: 2.4098842\tbest: 2.4098841 (749)\ttotal: 1m 17s\tremaining: 10.2s\n",
      "7600:\tlearn: 2.4312197\ttest: 2.4098842\tbest: 2.4098841 (749)\ttotal: 1m 18s\tremaining: 9.19s\n",
      "7700:\tlearn: 2.4312197\ttest: 2.4098842\tbest: 2.4098841 (749)\ttotal: 1m 19s\tremaining: 8.16s\n",
      "7800:\tlearn: 2.4312197\ttest: 2.4098842\tbest: 2.4098841 (749)\ttotal: 1m 20s\tremaining: 7.13s\n",
      "7900:\tlearn: 2.4312197\ttest: 2.4098842\tbest: 2.4098841 (749)\ttotal: 1m 21s\tremaining: 6.09s\n",
      "8000:\tlearn: 2.4312197\ttest: 2.4098842\tbest: 2.4098841 (749)\ttotal: 1m 22s\tremaining: 5.06s\n",
      "8100:\tlearn: 2.4312197\ttest: 2.4098842\tbest: 2.4098841 (749)\ttotal: 1m 23s\tremaining: 4.03s\n",
      "8200:\tlearn: 2.4312197\ttest: 2.4098842\tbest: 2.4098841 (749)\ttotal: 1m 24s\tremaining: 3s\n",
      "8300:\tlearn: 2.4312197\ttest: 2.4098842\tbest: 2.4098841 (749)\ttotal: 1m 25s\tremaining: 1.97s\n",
      "8400:\tlearn: 2.4312197\ttest: 2.4098842\tbest: 2.4098841 (749)\ttotal: 1m 26s\tremaining: 938ms\n",
      "8491:\tlearn: 2.4312197\ttest: 2.4098842\tbest: 2.4098841 (749)\ttotal: 1m 27s\tremaining: 0us\n",
      "bestTest = 2.409884121\n",
      "bestIteration = 749\n",
      "Shrink model to first 750 iterations.\n"
     ]
    },
    {
     "name": "stderr",
     "output_type": "stream",
     "text": [
      "\u001b[32m[I 2022-10-31 06:53:37,674]\u001b[0m Trial 1 finished with value: 2.4098842347953213 and parameters: {'learning_rate': 0.01083858126934475, 'bagging_temperature': 75.7947995334801, 'n_estimators': 8492, 'max_depth': 6, 'random_strength': 18, 'l2_leaf_reg': 5.51030125050448e-06, 'min_child_samples': 34, 'max_bin': 357, 'od_type': 'IncToDec'}. Best is trial 1 with value: 2.4098842347953213.\u001b[0m\n"
     ]
    },
    {
     "name": "stdout",
     "output_type": "stream",
     "text": [
      "0:\tlearn: 2.4032016\ttest: 2.3994301\tbest: 2.3994301 (0)\ttotal: 24ms\tremaining: 1m 26s\n",
      "100:\tlearn: 2.1866128\ttest: 2.1590962\tbest: 2.1590962 (100)\ttotal: 2.29s\tremaining: 1m 20s\n",
      "200:\tlearn: 2.1655923\ttest: 2.1524100\tbest: 2.1524063 (199)\ttotal: 4.38s\tremaining: 1m 14s\n",
      "300:\tlearn: 2.1489794\ttest: 2.1501780\tbest: 2.1501333 (299)\ttotal: 6.42s\tremaining: 1m 10s\n",
      "400:\tlearn: 2.1353622\ttest: 2.1496276\tbest: 2.1496099 (395)\ttotal: 8.5s\tremaining: 1m 8s\n",
      "500:\tlearn: 2.1230593\ttest: 2.1490664\tbest: 2.1490596 (499)\ttotal: 10.5s\tremaining: 1m 5s\n",
      "600:\tlearn: 2.1126525\ttest: 2.1489714\tbest: 2.1484382 (557)\ttotal: 12.6s\tremaining: 1m 3s\n",
      "700:\tlearn: 2.1020280\ttest: 2.1488732\tbest: 2.1484382 (557)\ttotal: 14.7s\tremaining: 1m 1s\n",
      "800:\tlearn: 2.0922564\ttest: 2.1488451\tbest: 2.1484382 (557)\ttotal: 16.9s\tremaining: 59.5s\n",
      "900:\tlearn: 2.0823179\ttest: 2.1490355\tbest: 2.1484382 (557)\ttotal: 19s\tremaining: 57.5s\n",
      "1000:\tlearn: 2.0723083\ttest: 2.1494827\tbest: 2.1484382 (557)\ttotal: 21.1s\tremaining: 55.4s\n",
      "1100:\tlearn: 2.0626376\ttest: 2.1499558\tbest: 2.1484382 (557)\ttotal: 23.3s\tremaining: 53.4s\n",
      "1200:\tlearn: 2.0536775\ttest: 2.1508461\tbest: 2.1484382 (557)\ttotal: 25.3s\tremaining: 51.2s\n",
      "1300:\tlearn: 2.0443723\ttest: 2.1515622\tbest: 2.1484382 (557)\ttotal: 27.4s\tremaining: 49s\n",
      "1400:\tlearn: 2.0357373\ttest: 2.1519936\tbest: 2.1484382 (557)\ttotal: 29.5s\tremaining: 46.9s\n",
      "1500:\tlearn: 2.0279676\ttest: 2.1524521\tbest: 2.1484382 (557)\ttotal: 31.6s\tremaining: 44.8s\n",
      "1600:\tlearn: 2.0195207\ttest: 2.1530060\tbest: 2.1484382 (557)\ttotal: 33.7s\tremaining: 42.7s\n",
      "1700:\tlearn: 2.0103405\ttest: 2.1537242\tbest: 2.1484382 (557)\ttotal: 35.9s\tremaining: 40.7s\n",
      "1800:\tlearn: 2.0026011\ttest: 2.1544417\tbest: 2.1484382 (557)\ttotal: 38s\tremaining: 38.6s\n",
      "1900:\tlearn: 1.9938459\ttest: 2.1553133\tbest: 2.1484382 (557)\ttotal: 40.2s\tremaining: 36.5s\n",
      "2000:\tlearn: 1.9857736\ttest: 2.1561458\tbest: 2.1484382 (557)\ttotal: 42.3s\tremaining: 34.4s\n",
      "2100:\tlearn: 1.9771431\ttest: 2.1569080\tbest: 2.1484382 (557)\ttotal: 44.3s\tremaining: 32.2s\n",
      "2200:\tlearn: 1.9685991\ttest: 2.1574654\tbest: 2.1484382 (557)\ttotal: 46.4s\tremaining: 30.1s\n",
      "2300:\tlearn: 1.9599876\ttest: 2.1577541\tbest: 2.1484382 (557)\ttotal: 48.5s\tremaining: 28s\n",
      "2400:\tlearn: 1.9518209\ttest: 2.1583312\tbest: 2.1484382 (557)\ttotal: 50.6s\tremaining: 25.9s\n",
      "2500:\tlearn: 1.9439282\ttest: 2.1589156\tbest: 2.1484382 (557)\ttotal: 52.7s\tremaining: 23.8s\n",
      "2600:\tlearn: 1.9361812\ttest: 2.1597612\tbest: 2.1484382 (557)\ttotal: 54.8s\tremaining: 21.7s\n",
      "2700:\tlearn: 1.9287974\ttest: 2.1602502\tbest: 2.1484382 (557)\ttotal: 57s\tremaining: 19.6s\n",
      "2800:\tlearn: 1.9213314\ttest: 2.1608712\tbest: 2.1484382 (557)\ttotal: 59.1s\tremaining: 17.5s\n",
      "2900:\tlearn: 1.9144329\ttest: 2.1615829\tbest: 2.1484382 (557)\ttotal: 1m 1s\tremaining: 15.4s\n",
      "3000:\tlearn: 1.9072013\ttest: 2.1622068\tbest: 2.1484382 (557)\ttotal: 1m 3s\tremaining: 13.3s\n",
      "3100:\tlearn: 1.8999312\ttest: 2.1631157\tbest: 2.1484382 (557)\ttotal: 1m 5s\tremaining: 11.2s\n",
      "3200:\tlearn: 1.8930109\ttest: 2.1640387\tbest: 2.1484382 (557)\ttotal: 1m 7s\tremaining: 9.04s\n",
      "3300:\tlearn: 1.8850980\ttest: 2.1649234\tbest: 2.1484382 (557)\ttotal: 1m 9s\tremaining: 6.93s\n",
      "3400:\tlearn: 1.8774403\ttest: 2.1654194\tbest: 2.1484382 (557)\ttotal: 1m 11s\tremaining: 4.82s\n",
      "3500:\tlearn: 1.8700596\ttest: 2.1659946\tbest: 2.1484382 (557)\ttotal: 1m 14s\tremaining: 2.71s\n",
      "3600:\tlearn: 1.8628903\ttest: 2.1666625\tbest: 2.1484382 (557)\ttotal: 1m 16s\tremaining: 593ms\n",
      "3628:\tlearn: 1.8608981\ttest: 2.1668269\tbest: 2.1484382 (557)\ttotal: 1m 16s\tremaining: 0us\n",
      "bestTest = 2.148438224\n",
      "bestIteration = 557\n",
      "Shrink model to first 558 iterations.\n"
     ]
    },
    {
     "name": "stderr",
     "output_type": "stream",
     "text": [
      "\u001b[32m[I 2022-10-31 06:54:58,119]\u001b[0m Trial 2 finished with value: 2.1484382507709117 and parameters: {'learning_rate': 0.10952662748632554, 'bagging_temperature': 0.03613894271216528, 'n_estimators': 3629, 'max_depth': 8, 'random_strength': 46, 'l2_leaf_reg': 2.355742708217648e-05, 'min_child_samples': 24, 'max_bin': 354, 'od_type': 'IncToDec'}. Best is trial 2 with value: 2.1484382507709117.\u001b[0m\n"
     ]
    },
    {
     "name": "stdout",
     "output_type": "stream",
     "text": [
      "0:\tlearn: 2.3980752\ttest: 2.3969462\tbest: 2.3969462 (0)\ttotal: 449ms\tremaining: 11m 51s\n",
      "100:\tlearn: 2.0410441\ttest: 2.1582968\tbest: 2.1582656 (99)\ttotal: 44.2s\tremaining: 10m 48s\n",
      "200:\tlearn: 1.7228577\ttest: 2.1743537\tbest: 2.1582656 (99)\ttotal: 1m 28s\tremaining: 10m 11s\n",
      "300:\tlearn: 1.3727758\ttest: 2.2054256\tbest: 2.1582656 (99)\ttotal: 2m 14s\tremaining: 9m 32s\n",
      "400:\tlearn: 1.1330356\ttest: 2.2282211\tbest: 2.1582656 (99)\ttotal: 2m 59s\tremaining: 8m 50s\n",
      "500:\tlearn: 0.9555684\ttest: 2.2413233\tbest: 2.1582656 (99)\ttotal: 3m 44s\tremaining: 8m 6s\n",
      "600:\tlearn: 0.8218940\ttest: 2.2526077\tbest: 2.1582656 (99)\ttotal: 4m 29s\tremaining: 7m 21s\n",
      "700:\tlearn: 0.7230621\ttest: 2.2606388\tbest: 2.1582656 (99)\ttotal: 5m 14s\tremaining: 6m 37s\n",
      "800:\tlearn: 0.6353900\ttest: 2.2668833\tbest: 2.1582656 (99)\ttotal: 5m 59s\tremaining: 5m 52s\n",
      "900:\tlearn: 0.5620606\ttest: 2.2721376\tbest: 2.1582656 (99)\ttotal: 6m 45s\tremaining: 5m 7s\n",
      "1000:\tlearn: 0.4979032\ttest: 2.2766698\tbest: 2.1582656 (99)\ttotal: 7m 30s\tremaining: 4m 22s\n",
      "1100:\tlearn: 0.4464729\ttest: 2.2801167\tbest: 2.1582656 (99)\ttotal: 8m 15s\tremaining: 3m 37s\n",
      "1200:\tlearn: 0.4021788\ttest: 2.2834429\tbest: 2.1582656 (99)\ttotal: 9m\tremaining: 2m 52s\n",
      "1300:\tlearn: 0.3655663\ttest: 2.2858003\tbest: 2.1582656 (99)\ttotal: 9m 46s\tremaining: 2m 7s\n",
      "1400:\tlearn: 0.3344804\ttest: 2.2878539\tbest: 2.1582656 (99)\ttotal: 10m 31s\tremaining: 1m 22s\n",
      "1500:\tlearn: 0.3067946\ttest: 2.2895919\tbest: 2.1582656 (99)\ttotal: 11m 16s\tremaining: 37.8s\n",
      "1584:\tlearn: 0.2854922\ttest: 2.2908935\tbest: 2.1582656 (99)\ttotal: 11m 53s\tremaining: 0us\n",
      "bestTest = 2.158265615\n",
      "bestIteration = 99\n",
      "Shrink model to first 100 iterations.\n"
     ]
    },
    {
     "name": "stderr",
     "output_type": "stream",
     "text": [
      "\u001b[32m[I 2022-10-31 07:06:55,919]\u001b[0m Trial 3 finished with value: 2.1582656509395948 and parameters: {'learning_rate': 0.10769622478263129, 'bagging_temperature': 0.04809461967501574, 'n_estimators': 1585, 'max_depth': 16, 'random_strength': 97, 'l2_leaf_reg': 2.425383647001267e-05, 'min_child_samples': 34, 'max_bin': 229, 'od_type': 'IncToDec'}. Best is trial 2 with value: 2.1484382507709117.\u001b[0m\n"
     ]
    },
    {
     "name": "stdout",
     "output_type": "stream",
     "text": [
      "0:\tlearn: 2.4254027\ttest: 2.4377824\tbest: 2.4377824 (0)\ttotal: 239ms\tremaining: 5m 12s\n",
      "100:\tlearn: 2.2052319\ttest: 2.2068377\tbest: 2.2068377 (100)\ttotal: 24s\tremaining: 4m 46s\n",
      "200:\tlearn: 2.1481846\ttest: 2.1674578\tbest: 2.1674578 (200)\ttotal: 47.9s\tremaining: 4m 24s\n",
      "300:\tlearn: 2.1171201\ttest: 2.1570493\tbest: 2.1570493 (300)\ttotal: 1m 12s\tremaining: 4m 2s\n",
      "400:\tlearn: 2.0913372\ttest: 2.1527164\tbest: 2.1527164 (400)\ttotal: 1m 36s\tremaining: 3m 38s\n",
      "500:\tlearn: 2.0635245\ttest: 2.1498113\tbest: 2.1498113 (500)\ttotal: 2m 1s\tremaining: 3m 15s\n",
      "600:\tlearn: 2.0417858\ttest: 2.1482712\tbest: 2.1482712 (600)\ttotal: 2m 25s\tremaining: 2m 51s\n",
      "700:\tlearn: 2.0167233\ttest: 2.1471554\tbest: 2.1471554 (700)\ttotal: 2m 50s\tremaining: 2m 27s\n",
      "800:\tlearn: 1.9887362\ttest: 2.1462491\tbest: 2.1462313 (798)\ttotal: 3m 14s\tremaining: 2m 3s\n",
      "900:\tlearn: 1.9547306\ttest: 2.1458039\tbest: 2.1458013 (882)\ttotal: 3m 38s\tremaining: 1m 38s\n",
      "1000:\tlearn: 1.9108126\ttest: 2.1461154\tbest: 2.1457226 (952)\ttotal: 4m 2s\tremaining: 1m 14s\n",
      "1100:\tlearn: 1.8637355\ttest: 2.1471052\tbest: 2.1457226 (952)\ttotal: 4m 26s\tremaining: 50.4s\n",
      "1200:\tlearn: 1.8158198\ttest: 2.1483589\tbest: 2.1457226 (952)\ttotal: 4m 50s\tremaining: 26.2s\n",
      "1300:\tlearn: 1.7743301\ttest: 2.1503047\tbest: 2.1457226 (952)\ttotal: 5m 15s\tremaining: 1.94s\n",
      "1308:\tlearn: 1.7712631\ttest: 2.1504176\tbest: 2.1457226 (952)\ttotal: 5m 17s\tremaining: 0us\n",
      "bestTest = 2.145722585\n",
      "bestIteration = 952\n",
      "Shrink model to first 953 iterations.\n"
     ]
    },
    {
     "name": "stderr",
     "output_type": "stream",
     "text": [
      "\u001b[32m[I 2022-10-31 07:12:20,104]\u001b[0m Trial 4 finished with value: 2.145722487694836 and parameters: {'learning_rate': 0.016119044727609194, 'bagging_temperature': 0.9565499215943827, 'n_estimators': 1309, 'max_depth': 15, 'random_strength': 26, 'l2_leaf_reg': 1.987904330777592e-05, 'min_child_samples': 34, 'max_bin': 356, 'od_type': 'IncToDec'}. Best is trial 4 with value: 2.145722487694836.\u001b[0m\n"
     ]
    },
    {
     "name": "stdout",
     "output_type": "stream",
     "text": [
      "0:\tlearn: 2.3818199\ttest: 2.3998469\tbest: 2.3998469 (0)\ttotal: 265ms\tremaining: 41m 43s\n",
      "bestTest = 2.299899188\n",
      "bestIteration = 21\n",
      "Shrink model to first 22 iterations.\n"
     ]
    },
    {
     "name": "stderr",
     "output_type": "stream",
     "text": [
      "\u001b[32m[I 2022-10-31 07:12:32,532]\u001b[0m Trial 5 finished with value: 2.2998992793618434 and parameters: {'learning_rate': 0.4439102767051397, 'bagging_temperature': 12.60466458564947, 'n_estimators': 9456, 'max_depth': 15, 'random_strength': 60, 'l2_leaf_reg': 2.7657008308343274e-05, 'min_child_samples': 13, 'max_bin': 258, 'od_type': 'Iter'}. Best is trial 4 with value: 2.145722487694836.\u001b[0m\n"
     ]
    },
    {
     "name": "stdout",
     "output_type": "stream",
     "text": [
      "0:\tlearn: 2.4187281\ttest: 2.4249871\tbest: 2.4249871 (0)\ttotal: 24.3ms\tremaining: 3m 25s\n",
      "100:\tlearn: 2.2032605\ttest: 2.1662743\tbest: 2.1662743 (100)\ttotal: 2.23s\tremaining: 3m 4s\n",
      "200:\tlearn: 2.1916086\ttest: 2.1565030\tbest: 2.1565030 (200)\ttotal: 4.51s\tremaining: 3m 5s\n",
      "300:\tlearn: 2.1843973\ttest: 2.1532900\tbest: 2.1532900 (300)\ttotal: 6.79s\tremaining: 3m 4s\n",
      "400:\tlearn: 2.1743721\ttest: 2.1497784\tbest: 2.1497784 (400)\ttotal: 8.8s\tremaining: 2m 56s\n",
      "500:\tlearn: 2.1657125\ttest: 2.1476126\tbest: 2.1476062 (499)\ttotal: 10.8s\tremaining: 2m 51s\n",
      "600:\tlearn: 2.1581979\ttest: 2.1463094\tbest: 2.1463094 (600)\ttotal: 12.8s\tremaining: 2m 47s\n",
      "700:\tlearn: 2.1514206\ttest: 2.1455678\tbest: 2.1455436 (697)\ttotal: 14.8s\tremaining: 2m 43s\n",
      "bestTest = 2.145091959\n",
      "bestIteration = 771\n",
      "Shrink model to first 772 iterations.\n"
     ]
    },
    {
     "name": "stderr",
     "output_type": "stream",
     "text": [
      "\u001b[32m[I 2022-10-31 07:12:52,668]\u001b[0m Trial 6 finished with value: 2.1450919437183678 and parameters: {'learning_rate': 0.04574578205475402, 'bagging_temperature': 0.12172958098369972, 'n_estimators': 8459, 'max_depth': 8, 'random_strength': 28, 'l2_leaf_reg': 1.6285455533915874e-05, 'min_child_samples': 18, 'max_bin': 441, 'od_type': 'Iter'}. Best is trial 6 with value: 2.1450919437183678.\u001b[0m\n"
     ]
    },
    {
     "name": "stdout",
     "output_type": "stream",
     "text": [
      "0:\tlearn: 2.3781804\ttest: 2.3594666\tbest: 2.3594666 (0)\ttotal: 134ms\tremaining: 2m 20s\n",
      "100:\tlearn: 1.8928360\ttest: 2.1676795\tbest: 2.1518258 (62)\ttotal: 13.7s\tremaining: 2m 8s\n",
      "200:\tlearn: 1.4978165\ttest: 2.2176742\tbest: 2.1518258 (62)\ttotal: 27.1s\tremaining: 1m 54s\n",
      "300:\tlearn: 1.2166578\ttest: 2.2536540\tbest: 2.1518258 (62)\ttotal: 40.8s\tremaining: 1m 41s\n",
      "400:\tlearn: 1.0224806\ttest: 2.2769944\tbest: 2.1518258 (62)\ttotal: 54.4s\tremaining: 1m 27s\n",
      "500:\tlearn: 0.8685584\ttest: 2.2948327\tbest: 2.1518258 (62)\ttotal: 1m 7s\tremaining: 1m 14s\n",
      "600:\tlearn: 0.7403358\ttest: 2.3075726\tbest: 2.1518258 (62)\ttotal: 1m 21s\tremaining: 1m\n",
      "700:\tlearn: 0.6475227\ttest: 2.3161157\tbest: 2.1518258 (62)\ttotal: 1m 34s\tremaining: 47s\n",
      "800:\tlearn: 0.5625975\ttest: 2.3240147\tbest: 2.1518258 (62)\ttotal: 1m 48s\tremaining: 33.5s\n",
      "900:\tlearn: 0.4947697\ttest: 2.3294457\tbest: 2.1518258 (62)\ttotal: 2m 1s\tremaining: 20s\n",
      "1000:\tlearn: 0.4369528\ttest: 2.3338170\tbest: 2.1518258 (62)\ttotal: 2m 14s\tremaining: 6.47s\n",
      "1048:\tlearn: 0.4139617\ttest: 2.3354238\tbest: 2.1518258 (62)\ttotal: 2m 21s\tremaining: 0us\n",
      "bestTest = 2.151825794\n",
      "bestIteration = 62\n",
      "Shrink model to first 63 iterations.\n"
     ]
    },
    {
     "name": "stderr",
     "output_type": "stream",
     "text": [
      "\u001b[32m[I 2022-10-31 07:15:17,232]\u001b[0m Trial 7 finished with value: 2.151825733495834 and parameters: {'learning_rate': 0.20512599422151362, 'bagging_temperature': 0.06235377135673159, 'n_estimators': 1049, 'max_depth': 14, 'random_strength': 71, 'l2_leaf_reg': 2.187292496954921e-05, 'min_child_samples': 79, 'max_bin': 222, 'od_type': 'IncToDec'}. Best is trial 6 with value: 2.1450919437183678.\u001b[0m\n"
     ]
    },
    {
     "name": "stdout",
     "output_type": "stream",
     "text": [
      "0:\tlearn: 2.3705635\ttest: 2.3667270\tbest: 2.3667270 (0)\ttotal: 11.3ms\tremaining: 45.1s\n",
      "100:\tlearn: 2.2041611\ttest: 2.1673184\tbest: 2.1672987 (99)\ttotal: 1.27s\tremaining: 48.7s\n",
      "200:\tlearn: 2.1994718\ttest: 2.1653153\tbest: 2.1653074 (199)\ttotal: 2.5s\tremaining: 46.9s\n",
      "300:\tlearn: 2.1953848\ttest: 2.1639017\tbest: 2.1637995 (293)\ttotal: 3.73s\tremaining: 45.5s\n",
      "400:\tlearn: 2.1924654\ttest: 2.1630872\tbest: 2.1630872 (400)\ttotal: 4.95s\tremaining: 44.2s\n",
      "500:\tlearn: 2.1893333\ttest: 2.1618568\tbest: 2.1618415 (498)\ttotal: 6.22s\tremaining: 43.2s\n",
      "600:\tlearn: 2.1865830\ttest: 2.1613065\tbest: 2.1612617 (594)\ttotal: 7.46s\tremaining: 41.9s\n",
      "700:\tlearn: 2.1842099\ttest: 2.1606597\tbest: 2.1606597 (700)\ttotal: 8.69s\tremaining: 40.6s\n",
      "800:\tlearn: 2.1821936\ttest: 2.1602780\tbest: 2.1601598 (791)\ttotal: 9.95s\tremaining: 39.5s\n",
      "900:\tlearn: 2.1803486\ttest: 2.1601175\tbest: 2.1601132 (877)\ttotal: 11.1s\tremaining: 38s\n",
      "1000:\tlearn: 2.1786785\ttest: 2.1600787\tbest: 2.1600406 (946)\ttotal: 12.3s\tremaining: 36.7s\n",
      "1100:\tlearn: 2.1765018\ttest: 2.1597912\tbest: 2.1596473 (1082)\ttotal: 13.5s\tremaining: 35.3s\n",
      "1200:\tlearn: 2.1747863\ttest: 2.1598436\tbest: 2.1596473 (1082)\ttotal: 14.7s\tremaining: 34.1s\n",
      "1300:\tlearn: 2.1728917\ttest: 2.1597172\tbest: 2.1595314 (1209)\ttotal: 15.9s\tremaining: 32.8s\n",
      "1400:\tlearn: 2.1712592\ttest: 2.1598159\tbest: 2.1595314 (1209)\ttotal: 17.2s\tremaining: 31.6s\n",
      "1500:\tlearn: 2.1697765\ttest: 2.1599112\tbest: 2.1595314 (1209)\ttotal: 18.4s\tremaining: 30.3s\n",
      "1600:\tlearn: 2.1683329\ttest: 2.1597506\tbest: 2.1595314 (1209)\ttotal: 19.6s\tremaining: 29.1s\n",
      "1700:\tlearn: 2.1668307\ttest: 2.1597382\tbest: 2.1595314 (1209)\ttotal: 20.8s\tremaining: 27.8s\n",
      "1800:\tlearn: 2.1654134\ttest: 2.1599767\tbest: 2.1595314 (1209)\ttotal: 22s\tremaining: 26.6s\n",
      "1900:\tlearn: 2.1640717\ttest: 2.1599618\tbest: 2.1595314 (1209)\ttotal: 23.3s\tremaining: 25.4s\n",
      "2000:\tlearn: 2.1625507\ttest: 2.1603397\tbest: 2.1595314 (1209)\ttotal: 24.5s\tremaining: 24.2s\n",
      "2100:\tlearn: 2.1610045\ttest: 2.1603827\tbest: 2.1595314 (1209)\ttotal: 25.8s\tremaining: 23s\n",
      "2200:\tlearn: 2.1596068\ttest: 2.1605171\tbest: 2.1595314 (1209)\ttotal: 27.1s\tremaining: 21.9s\n",
      "2300:\tlearn: 2.1582204\ttest: 2.1604871\tbest: 2.1595314 (1209)\ttotal: 28.3s\tremaining: 20.6s\n",
      "2400:\tlearn: 2.1570532\ttest: 2.1604552\tbest: 2.1595314 (1209)\ttotal: 29.5s\tremaining: 19.4s\n",
      "2500:\tlearn: 2.1559096\ttest: 2.1605098\tbest: 2.1595314 (1209)\ttotal: 30.8s\tremaining: 18.2s\n",
      "2600:\tlearn: 2.1545385\ttest: 2.1607061\tbest: 2.1595314 (1209)\ttotal: 32s\tremaining: 16.9s\n",
      "2700:\tlearn: 2.1530753\ttest: 2.1605078\tbest: 2.1595314 (1209)\ttotal: 33.2s\tremaining: 15.7s\n",
      "2800:\tlearn: 2.1519261\ttest: 2.1606117\tbest: 2.1595314 (1209)\ttotal: 34.4s\tremaining: 14.4s\n",
      "2900:\tlearn: 2.1508359\ttest: 2.1605604\tbest: 2.1595314 (1209)\ttotal: 35.6s\tremaining: 13.2s\n",
      "3000:\tlearn: 2.1496150\ttest: 2.1607591\tbest: 2.1595314 (1209)\ttotal: 36.8s\tremaining: 12s\n",
      "3100:\tlearn: 2.1483246\ttest: 2.1608438\tbest: 2.1595314 (1209)\ttotal: 38s\tremaining: 10.7s\n",
      "3200:\tlearn: 2.1471124\ttest: 2.1611083\tbest: 2.1595314 (1209)\ttotal: 39.2s\tremaining: 9.51s\n",
      "3300:\tlearn: 2.1459055\ttest: 2.1612727\tbest: 2.1595314 (1209)\ttotal: 40.4s\tremaining: 8.29s\n",
      "3400:\tlearn: 2.1449945\ttest: 2.1613084\tbest: 2.1595314 (1209)\ttotal: 41.6s\tremaining: 7.06s\n",
      "3500:\tlearn: 2.1440080\ttest: 2.1613477\tbest: 2.1595314 (1209)\ttotal: 42.8s\tremaining: 5.84s\n",
      "3600:\tlearn: 2.1428472\ttest: 2.1616139\tbest: 2.1595314 (1209)\ttotal: 44s\tremaining: 4.61s\n",
      "3700:\tlearn: 2.1417320\ttest: 2.1615712\tbest: 2.1595314 (1209)\ttotal: 45.2s\tremaining: 3.38s\n",
      "3800:\tlearn: 2.1406579\ttest: 2.1617516\tbest: 2.1595314 (1209)\ttotal: 46.4s\tremaining: 2.16s\n",
      "3900:\tlearn: 2.1396017\ttest: 2.1618549\tbest: 2.1595314 (1209)\ttotal: 47.6s\tremaining: 941ms\n",
      "3977:\tlearn: 2.1387926\ttest: 2.1618446\tbest: 2.1595314 (1209)\ttotal: 48.6s\tremaining: 0us\n",
      "bestTest = 2.15953137\n",
      "bestIteration = 1209\n",
      "Shrink model to first 1210 iterations.\n"
     ]
    },
    {
     "name": "stderr",
     "output_type": "stream",
     "text": [
      "\u001b[32m[I 2022-10-31 07:16:08,822]\u001b[0m Trial 8 finished with value: 2.159531189900444 and parameters: {'learning_rate': 0.29267581150621286, 'bagging_temperature': 3.1130959561221245, 'n_estimators': 3978, 'max_depth': 4, 'random_strength': 31, 'l2_leaf_reg': 9.762247827582143e-06, 'min_child_samples': 75, 'max_bin': 391, 'od_type': 'IncToDec'}. Best is trial 6 with value: 2.1450919437183678.\u001b[0m\n"
     ]
    },
    {
     "name": "stdout",
     "output_type": "stream",
     "text": [
      "0:\tlearn: 2.4311235\ttest: 2.4237038\tbest: 2.4237038 (0)\ttotal: 35.7ms\tremaining: 4m 40s\n",
      "100:\tlearn: 2.2797815\ttest: 2.2669957\tbest: 2.2669957 (100)\ttotal: 3.55s\tremaining: 4m 31s\n",
      "200:\tlearn: 2.2372897\ttest: 2.2321416\tbest: 2.2321416 (200)\ttotal: 7.07s\tremaining: 4m 29s\n",
      "300:\tlearn: 2.2113205\ttest: 2.2149554\tbest: 2.2149554 (300)\ttotal: 10.8s\tremaining: 4m 29s\n",
      "400:\tlearn: 2.1945456\ttest: 2.2074028\tbest: 2.2074028 (400)\ttotal: 14.3s\tremaining: 4m 26s\n",
      "500:\tlearn: 2.1801404\ttest: 2.2014325\tbest: 2.2014325 (500)\ttotal: 17.9s\tremaining: 4m 22s\n",
      "600:\tlearn: 2.1662037\ttest: 2.1963250\tbest: 2.1963250 (600)\ttotal: 21.5s\tremaining: 4m 18s\n",
      "700:\tlearn: 2.1554821\ttest: 2.1930382\tbest: 2.1930382 (700)\ttotal: 25s\tremaining: 4m 14s\n",
      "800:\tlearn: 2.1448090\ttest: 2.1906944\tbest: 2.1906944 (800)\ttotal: 28.6s\tremaining: 4m 11s\n",
      "900:\tlearn: 2.1355061\ttest: 2.1887517\tbest: 2.1887517 (900)\ttotal: 32.1s\tremaining: 4m 7s\n",
      "1000:\tlearn: 2.1273721\ttest: 2.1877531\tbest: 2.1877449 (999)\ttotal: 35.6s\tremaining: 4m 3s\n",
      "1100:\tlearn: 2.1189995\ttest: 2.1864891\tbest: 2.1864891 (1100)\ttotal: 39.2s\tremaining: 4m\n",
      "1200:\tlearn: 2.1112849\ttest: 2.1856137\tbest: 2.1855923 (1197)\ttotal: 42.8s\tremaining: 3m 56s\n",
      "1300:\tlearn: 2.1040578\ttest: 2.1852454\tbest: 2.1852371 (1294)\ttotal: 46.5s\tremaining: 3m 53s\n",
      "bestTest = 2.18497943\n",
      "bestIteration = 1330\n",
      "Shrink model to first 1331 iterations.\n"
     ]
    },
    {
     "name": "stderr",
     "output_type": "stream",
     "text": [
      "\u001b[32m[I 2022-10-31 07:17:00,294]\u001b[0m Trial 9 finished with value: 2.1849794259331072 and parameters: {'learning_rate': 0.015965665886173763, 'bagging_temperature': 7.128188058401368, 'n_estimators': 7847, 'max_depth': 11, 'random_strength': 77, 'l2_leaf_reg': 1.4818929934968078e-05, 'min_child_samples': 55, 'max_bin': 328, 'od_type': 'Iter'}. Best is trial 6 with value: 2.1450919437183678.\u001b[0m\n"
     ]
    },
    {
     "name": "stdout",
     "output_type": "stream",
     "text": [
      "Best Score: 2.1450919437183678\n",
      "Best trial {'learning_rate': 0.04574578205475402, 'bagging_temperature': 0.12172958098369972, 'n_estimators': 8459, 'max_depth': 8, 'random_strength': 28, 'l2_leaf_reg': 1.6285455533915874e-05, 'min_child_samples': 18, 'max_bin': 441, 'od_type': 'Iter'}\n"
     ]
    }
   ],
   "source": [
    "sampler = optuna.samplers.TPESampler(seed=42)\n",
    "study = optuna.create_study(\n",
    "    study_name = 'cat_parameter_opt',\n",
    "    direction = 'minimize',\n",
    "    sampler = sampler,\n",
    ")\n",
    "study.optimize(objective, n_trials=10)\n",
    "print(\"Best Score:\",study.best_value)\n",
    "print(\"Best trial\",study.best_trial.params)"
   ]
  },
  {
   "cell_type": "code",
   "execution_count": 22,
   "metadata": {},
   "outputs": [
    {
     "data": {
      "image/png": "[encoded data removed]",
      "text/plain": [
       "<Figure size 2000x900 with 1 Axes>"
      ]
     },
     "metadata": {},
     "output_type": "display_data"
    }
   ],
   "source": [
    "def plot_feature_importance(importance,names,model_type):\n",
    "    \n",
    "    feature_importance = np.array(importance)\n",
    "    feature_names = np.array(names)\n",
    "    \n",
    "    data={'feature_names':feature_names,'feature_importance':feature_importance}\n",
    "    fi_df = pd.DataFrame(data)\n",
    "    \n",
    "    fi_df.sort_values(by=['feature_importance'], ascending=False,inplace=True)\n",
    "\n",
    "    plt.figure(figsize=(20,9))\n",
    "\n",
    "    sns.barplot(x=fi_df['feature_importance'], y=fi_df['feature_names'])\n",
    "\n",
    "    plt.title(model_type + ' Feature Importance')\n",
    "    plt.xlabel('Feature Importance')\n",
    "    plt.ylabel('Feature Names')\n",
    "    \n",
    "    plt.show()\n",
    "\n",
    "\n",
    "plot_feature_importance(model.get_feature_importance(), train_ratings.drop(['rating'],axis = 1).columns, 'CATBOOST')"
   ]
  },
  {
   "cell_type": "code",
   "execution_count": null,
   "metadata": {},
   "outputs": [],
   "source": []
  }
 ],
 "metadata": {
  "kernelspec": {
   "display_name": "Python 3.8.5 ('base')",
   "language": "python",
   "name": "python3"
  },
  "language_info": {
   "codemirror_mode": {
    "name": "ipython",
    "version": 3
   },
   "file_extension": ".py",
   "mimetype": "text/x-python",
   "name": "python",
   "nbconvert_exporter": "python",
   "pygments_lexer": "ipython3",
   "version": "3.8.5"
  },
  "orig_nbformat": 4,
  "vscode": {
   "interpreter": {
    "hash": "d4d1e4263499bec80672ea0156c357c1ee493ec2b1c70f0acce89fc37c4a6abe"
   }
  }
 },
 "nbformat": 4,
 "nbformat_minor": 2
}
