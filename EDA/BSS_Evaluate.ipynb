{
 "cells": [
  {
   "cell_type": "code",
   "execution_count": 2,
   "metadata": {},
   "outputs": [],
   "source": [
    "import pandas as pd\n",
    "import numpy as np"
   ]
  },
  {
   "cell_type": "code",
   "execution_count": 3,
   "metadata": {},
   "outputs": [],
   "source": [
    "book_counts = pd.read_csv('../data/book_review_count.csv',index_col=0)\n",
    "user_counts = pd.read_csv('../data/user_review_count.csv',index_col=0)\n",
    "#valid_df = pd.read_csv('../valid/valid_FM.csv')"
   ]
  },
  {
   "cell_type": "code",
   "execution_count": 4,
   "metadata": {},
   "outputs": [],
   "source": [
    "def cold_users(n: int=1)->set():\n",
    "    cold_users = set(user_counts[user_counts['count']<=n]['user_id'])\n",
    "    return cold_users\n",
    "\n",
    "def cold_books(n:int=0)->set():\n",
    "    cold_books = set(book_counts[book_counts['count']<=n]['isbn'])\n",
    "    return cold_books\n",
    "\n",
    "def df_rmse(df:pd.DataFrame):\n",
    "    return ((df.target - df.rating)**2).mean()**.5 , len(df)\n",
    "\n",
    "def conditional_rmse(df:pd.DataFrame, userset:set={}, bookset:set={}):\n",
    "    is_colduser = df['user_id'].isin(userset)\n",
    "    is_coldbook = df['isbn'].isin(bookset)\n",
    "    \n",
    "    print(\"-*\"*10+\"두가지로 나눈 경우\"+\"-*\"*10)\n",
    "    print(\"----------유저 기준으로 나눴을 때----------\")\n",
    "    error,length = df_rmse(df[is_colduser])\n",
    "    print(f'RMSE = {error}, {length}개 - 유저 COLD')\n",
    "    error,length = df_rmse(df[~is_colduser])\n",
    "    print(f'RMSE = {error}, {length}개 - 유저 데이터가 {n+1}개 이상인 경우')\n",
    "    print()\n",
    "\n",
    "    print(\"----------책 기준으로 나눴을 때----------\")\n",
    "    error,length = df_rmse(df[is_coldbook])\n",
    "    print(f'RMSE = {error}, {length}개 - 책 COLD')\n",
    "    error,length = df_rmse(df[~is_coldbook])\n",
    "    print(f'RMSE = {error}, {length}개 - 책 데이터가 {n+1}개 이상인 경우')\n",
    "    print()\n",
    "\n",
    "    print(\"----------유저,책 둘 기준으로 나눴을 때----------\")\n",
    "    error,length = df_rmse(df[is_colduser&is_coldbook])\n",
    "    print(f'RMSE = {error}, {length}개 - 유저 COLD, 책 COLD')\n",
    "    error,length = df_rmse(df[~(is_colduser&is_coldbook)])\n",
    "    print(f'RMSE = {error}, {length}개 - 유저와 책 둘 다 데이터가 {n+1}개 이상인 경우')\n",
    "    print('\\n')\n",
    "    \n",
    "    print(\"-*\"*10+\"네가지로 나눈 경우\"+\"-*\"*10)\n",
    "    error,length = df_rmse(df[is_colduser&is_coldbook])\n",
    "    print(f'RMSE = {error}, {length}개 - 유저 COLD, 책 COLD')\n",
    "    print()\n",
    "    error,length = df_rmse(df[is_colduser&~is_coldbook])\n",
    "    print(f'RMSE = {error}, {length}개 - 유저 COLD, 책 HOT')\n",
    "    print()\n",
    "    error,length = df_rmse(df[~is_colduser&is_coldbook])\n",
    "    print(f'RMSE = {error}, {length}개 - 유저 HOT, 책 COLD')\n",
    "    print()\n",
    "    error,length = df_rmse(df[~is_colduser&~is_coldbook])\n",
    "    print(f'RMSE = {error}, {length}개 - 유저 HOT, 책 HOT')\n",
    "    print()\n",
    "\n",
    "    print(\"-\"*20)\n",
    "    error,length = df_rmse(df)\n",
    "    print(f'RMSE = {error}, {length}개 - 총 데이터')\n"
   ]
  },
  {
   "cell_type": "code",
   "execution_count": 53,
   "metadata": {},
   "outputs": [],
   "source": [
    "# COLD의 기준 설정\n",
    "n = 10\n",
    "cu_n = cold_users(n)\n",
    "cb_n = cold_books(n)"
   ]
  },
  {
   "cell_type": "markdown",
   "metadata": {},
   "source": [
    "### FM Default"
   ]
  },
  {
   "cell_type": "code",
   "execution_count": 15,
   "metadata": {},
   "outputs": [
    {
     "name": "stdout",
     "output_type": "stream",
     "text": [
      "Cold Start 10개 기준\n",
      "-*-*-*-*-*-*-*-*-*-*두가지로 나눈 경우-*-*-*-*-*-*-*-*-*-*\n",
      "----------유저 기준으로 나눴을 때----------\n",
      "RMSE = 2.528396104209113, 22369개 - 유저 COLD\n",
      "RMSE = 2.2207112530439166, 38990개 - 유저 데이터가 11개 이상인 경우\n",
      "\n",
      "----------책 기준으로 나눴을 때----------\n",
      "RMSE = 2.397914950695296, 42466개 - 책 COLD\n",
      "RMSE = 2.1959092953544728, 18893개 - 책 데이터가 11개 이상인 경우\n",
      "\n",
      "----------유저,책 둘 기준으로 나눴을 때----------\n",
      "RMSE = 2.621382532056494, 14122개 - 유저 COLD, 책 COLD\n",
      "RMSE = 2.2457762328529385, 47237개 - 유저와 책 둘 다 데이터가 11개 이상인 경우\n",
      "\n",
      "\n",
      "-*-*-*-*-*-*-*-*-*-*네가지로 나눈 경우-*-*-*-*-*-*-*-*-*-*\n",
      "RMSE = 2.621382532056494, 14122개 - 유저 COLD, 책 COLD\n",
      "\n",
      "RMSE = 2.360677290813678, 8247개 - 유저 COLD, 책 HOT\n",
      "\n",
      "RMSE = 2.278409448364003, 28344개 - 유저 HOT, 책 COLD\n",
      "\n",
      "RMSE = 2.0592282098283383, 10646개 - 유저 HOT, 책 HOT\n",
      "\n",
      "--------------------\n",
      "RMSE = 2.337576310905986, 61359개 - 총 데이터\n"
     ]
    }
   ],
   "source": [
    "FM_valid = pd.read_csv('../valid/valid_FM_base.csv')\n",
    "print(f\"Cold Start {n}개 기준\")\n",
    "conditional_rmse(FM_valid,cu_n,cb_n)"
   ]
  },
  {
   "cell_type": "markdown",
   "metadata": {},
   "source": [
    "## FFM Default"
   ]
  },
  {
   "cell_type": "code",
   "execution_count": 7,
   "metadata": {},
   "outputs": [
    {
     "name": "stdout",
     "output_type": "stream",
     "text": [
      "Cold Start 10개 기준\n",
      "-*-*-*-*-*-*-*-*-*-*두가지로 나눈 경우-*-*-*-*-*-*-*-*-*-*\n",
      "----------유저 기준으로 나눴을 때----------\n",
      "RMSE = 2.687057886896314, 22369개 - 유저 COLD\n",
      "RMSE = 2.2960969177864916, 38990개 - 유저 데이터가 11개 이상인 경우\n",
      "\n",
      "----------책 기준으로 나눴을 때----------\n",
      "RMSE = 2.4930577878633455, 42466개 - 책 COLD\n",
      "RMSE = 2.3363450935634464, 18893개 - 책 데이터가 11개 이상인 경우\n",
      "\n",
      "----------유저,책 둘 기준으로 나눴을 때----------\n",
      "RMSE = 2.777428834694131, 14122개 - 유저 COLD, 책 COLD\n",
      "RMSE = 2.3376398831493366, 47237개 - 유저와 책 둘 다 데이터가 11개 이상인 경우\n",
      "\n",
      "\n",
      "-*-*-*-*-*-*-*-*-*-*네가지로 나눈 경우-*-*-*-*-*-*-*-*-*-*\n",
      "RMSE = 2.777428834694131, 14122개 - 유저 COLD, 책 COLD\n",
      "\n",
      "RMSE = 2.5248076953099017, 8247개 - 유저 COLD, 책 HOT\n",
      "\n",
      "RMSE = 2.3385025409717306, 28344개 - 유저 HOT, 책 COLD\n",
      "\n",
      "RMSE = 2.1791763889641733, 10646개 - 유저 HOT, 책 HOT\n",
      "\n",
      "--------------------\n",
      "RMSE = 2.445874610438865, 61359개 - 총 데이터\n"
     ]
    }
   ],
   "source": [
    "FFM_valid = pd.read_csv('../valid/valid_FFM.csv')\n",
    "\n",
    "print(f\"Cold Start {n}개 기준\")\n",
    "conditional_rmse(FFM_valid,cu_n,cb_n)"
   ]
  },
  {
   "cell_type": "markdown",
   "metadata": {},
   "source": [
    "## FFM Epoch 20 기준"
   ]
  },
  {
   "cell_type": "code",
   "execution_count": 8,
   "metadata": {},
   "outputs": [
    {
     "name": "stdout",
     "output_type": "stream",
     "text": [
      "Cold Start 10개 기준\n",
      "-*-*-*-*-*-*-*-*-*-*두가지로 나눈 경우-*-*-*-*-*-*-*-*-*-*\n",
      "----------유저 기준으로 나눴을 때----------\n",
      "RMSE = 2.6152274089085292, 22369개 - 유저 COLD\n",
      "RMSE = 2.2728082160862524, 38990개 - 유저 데이터가 11개 이상인 경우\n",
      "\n",
      "----------책 기준으로 나눴을 때----------\n",
      "RMSE = 2.4275437602972465, 42466개 - 책 COLD\n",
      "RMSE = 2.3478867374199415, 18893개 - 책 데이터가 11개 이상인 경우\n",
      "\n",
      "----------유저,책 둘 기준으로 나눴을 때----------\n",
      "RMSE = 2.6816378342753078, 14122개 - 유저 COLD, 책 COLD\n",
      "RMSE = 2.3135924785044395, 47237개 - 유저와 책 둘 다 데이터가 11개 이상인 경우\n",
      "\n",
      "\n",
      "-*-*-*-*-*-*-*-*-*-*네가지로 나눈 경우-*-*-*-*-*-*-*-*-*-*\n",
      "RMSE = 2.6816378342753078, 14122개 - 유저 COLD, 책 COLD\n",
      "\n",
      "RMSE = 2.497409739510903, 8247개 - 유저 COLD, 책 HOT\n",
      "\n",
      "RMSE = 2.2904480842572044, 28344개 - 유저 HOT, 책 COLD\n",
      "\n",
      "RMSE = 2.225162012935091, 10646개 - 유저 HOT, 책 HOT\n",
      "\n",
      "--------------------\n",
      "RMSE = 2.403297964542015, 61359개 - 총 데이터\n"
     ]
    }
   ],
   "source": [
    "FFM_valid = pd.read_csv('../valid/valid_FFM.csv')\n",
    "\n",
    "print(f\"Cold Start {n}개 기준\")\n",
    "conditional_rmse(FFM_valid,cu_n,cb_n)"
   ]
  },
  {
   "cell_type": "code",
   "execution_count": 9,
   "metadata": {},
   "outputs": [
    {
     "name": "stdout",
     "output_type": "stream",
     "text": [
      "Cold Start 10개 기준\n",
      "-*-*-*-*-*-*-*-*-*-*두가지로 나눈 경우-*-*-*-*-*-*-*-*-*-*\n",
      "----------유저 기준으로 나눴을 때----------\n",
      "RMSE = 2.6497637307749, 22469개 - 유저 COLD\n",
      "RMSE = 2.2889477942226106, 38890개 - 유저 데이터가 11개 이상인 경우\n",
      "\n",
      "----------책 기준으로 나눴을 때----------\n",
      "RMSE = 2.4784783840999665, 42192개 - 책 COLD\n",
      "RMSE = 2.3106743509565515, 19167개 - 책 데이터가 11개 이상인 경우\n",
      "\n",
      "----------유저,책 둘 기준으로 나눴을 때----------\n",
      "RMSE = 2.7603868414569526, 14228개 - 유저 COLD, 책 COLD\n",
      "RMSE = 2.3173673738703315, 47131개 - 유저와 책 둘 다 데이터가 11개 이상인 경우\n",
      "\n",
      "\n",
      "-*-*-*-*-*-*-*-*-*-*네가지로 나눈 경우-*-*-*-*-*-*-*-*-*-*\n",
      "RMSE = 2.7603868414569526, 14228개 - 유저 COLD, 책 COLD\n",
      "\n",
      "RMSE = 2.447031900429242, 8241개 - 유저 COLD, 책 HOT\n",
      "\n",
      "RMSE = 2.321943741756535, 27964개 - 유저 HOT, 책 COLD\n",
      "\n",
      "RMSE = 2.202247276819497, 10926개 - 유저 HOT, 책 HOT\n",
      "\n",
      "--------------------\n",
      "RMSE = 2.4273068519650596, 61359개 - 총 데이터\n"
     ]
    }
   ],
   "source": [
    "FFM_valid = pd.read_csv('../valid/valid_FFM.csv')\n",
    "\n",
    "print(f\"Cold Start {n}개 기준\")\n",
    "conditional_rmse(FFM_valid,cu_n,cb_n)"
   ]
  },
  {
   "cell_type": "markdown",
   "metadata": {},
   "source": [
    "## FM for COLD USERS & BOOKS"
   ]
  },
  {
   "cell_type": "code",
   "execution_count": 20,
   "metadata": {},
   "outputs": [
    {
     "name": "stdout",
     "output_type": "stream",
     "text": [
      "Cold Start 1개 기준\n",
      "-*-*-*-*-*-*-*-*-*-*두가지로 나눈 경우-*-*-*-*-*-*-*-*-*-*\n",
      "----------유저 기준으로 나눴을 때----------\n",
      "RMSE = 2.534397368985674, 6975개 - 유저 COLD\n",
      "RMSE = 2.3274689347715904, 54384개 - 유저 데이터가 2개 이상인 경우\n",
      "\n",
      "----------책 기준으로 나눴을 때----------\n",
      "RMSE = 2.4739710994600896, 17591개 - 책 COLD\n",
      "RMSE = 2.301026898244882, 43768개 - 책 데이터가 2개 이상인 경우\n",
      "\n",
      "----------유저,책 둘 기준으로 나눴을 때----------\n",
      "RMSE = 2.782891749472071, 1602개 - 유저 COLD, 책 COLD\n",
      "RMSE = 2.3392622592793906, 59757개 - 유저와 책 둘 다 데이터가 2개 이상인 경우\n",
      "\n",
      "\n",
      "-*-*-*-*-*-*-*-*-*-*네가지로 나눈 경우-*-*-*-*-*-*-*-*-*-*\n",
      "RMSE = 2.782891749472071, 1602개 - 유저 COLD, 책 COLD\n",
      "\n",
      "RMSE = 2.455444902816225, 5373개 - 유저 COLD, 책 HOT\n",
      "\n",
      "RMSE = 2.4408651733922646, 15989개 - 유저 HOT, 책 COLD\n",
      "\n",
      "RMSE = 2.27858309064093, 38395개 - 유저 HOT, 책 HOT\n",
      "\n",
      "--------------------\n",
      "RMSE = 2.351908923803438, 61359개 - 총 데이터\n"
     ]
    }
   ],
   "source": [
    "FM_cold_valid = pd.read_csv('../valid/valid_FM_COLD_USER_BOOK.csv')\n",
    "\n",
    "print(f\"Cold Start {n}개 기준\")\n",
    "conditional_rmse(FM_cold_valid,cu_n,cb_n)"
   ]
  },
  {
   "cell_type": "markdown",
   "metadata": {},
   "source": [
    "## FM COLD using KSY Data preprocess"
   ]
  },
  {
   "cell_type": "code",
   "execution_count": 17,
   "metadata": {},
   "outputs": [
    {
     "name": "stdout",
     "output_type": "stream",
     "text": [
      "Cold Start 10개 기준\n",
      "-*-*-*-*-*-*-*-*-*-*두가지로 나눈 경우-*-*-*-*-*-*-*-*-*-*\n",
      "----------유저 기준으로 나눴을 때----------\n",
      "RMSE = 2.47259633880198, 22469개 - 유저 COLD\n",
      "RMSE = 2.3377882607182143, 38890개 - 유저 데이터가 11개 이상인 경우\n",
      "\n",
      "----------책 기준으로 나눴을 때----------\n",
      "RMSE = 2.4264786962377083, 42192개 - 책 COLD\n",
      "RMSE = 2.3011537045873762, 19167개 - 책 데이터가 11개 이상인 경우\n",
      "\n",
      "----------유저,책 둘 기준으로 나눴을 때----------\n",
      "RMSE = 2.552652452123525, 14228개 - 유저 COLD, 책 COLD\n",
      "RMSE = 2.33606394386848, 47131개 - 유저와 책 둘 다 데이터가 11개 이상인 경우\n",
      "\n",
      "\n",
      "-*-*-*-*-*-*-*-*-*-*네가지로 나눈 경우-*-*-*-*-*-*-*-*-*-*\n",
      "RMSE = 2.552652452123525, 14228개 - 유저 COLD, 책 COLD\n",
      "\n",
      "RMSE = 2.3279095064010775, 8241개 - 유저 COLD, 책 HOT\n",
      "\n",
      "RMSE = 2.359693713063371, 27964개 - 유저 HOT, 책 COLD\n",
      "\n",
      "RMSE = 2.28076534014844, 10926개 - 유저 HOT, 책 HOT\n",
      "\n",
      "--------------------\n",
      "RMSE = 2.388036812176338, 61359개 - 총 데이터\n"
     ]
    }
   ],
   "source": [
    "FM_cold_valid = pd.read_csv('../valid/valid_FM_COLD_KSY.csv')\n",
    "\n",
    "print(f\"Cold Start {n}개 기준\")\n",
    "conditional_rmse(FM_cold_valid,cu_n,cb_n)"
   ]
  },
  {
   "cell_type": "code",
   "execution_count": 7,
   "metadata": {},
   "outputs": [
    {
     "name": "stdout",
     "output_type": "stream",
     "text": [
      "Cold Start 5개 기준\n",
      "-*-*-*-*-*-*-*-*-*-*두가지로 나눈 경우-*-*-*-*-*-*-*-*-*-*\n",
      "----------유저 기준으로 나눴을 때----------\n",
      "RMSE = 2.358177891704434, 16301개 - 유저 COLD\n",
      "RMSE = 2.0764297435943204, 45058개 - 유저 데이터가 6개 이상인 경우\n",
      "\n",
      "----------책 기준으로 나눴을 때----------\n",
      "RMSE = 2.1830919472525614, 35450개 - 책 COLD\n",
      "RMSE = 2.11566232139261, 25909개 - 책 데이터가 6개 이상인 경우\n",
      "\n",
      "----------유저,책 둘 기준으로 나눴을 때----------\n",
      "RMSE = 2.4502766910751577, 8405개 - 유저 COLD, 책 COLD\n",
      "RMSE = 2.104180302102925, 52954개 - 유저와 책 둘 다 데이터가 6개 이상인 경우\n",
      "\n",
      "\n",
      "-*-*-*-*-*-*-*-*-*-*네가지로 나눈 경우-*-*-*-*-*-*-*-*-*-*\n",
      "RMSE = 2.4502766910751577, 8405개 - 유저 COLD, 책 COLD\n",
      "\n",
      "RMSE = 2.256014725217074, 7896개 - 유저 COLD, 책 HOT\n",
      "\n",
      "RMSE = 2.0931215023572527, 27045개 - 유저 HOT, 책 COLD\n",
      "\n",
      "RMSE = 2.051113414700901, 18013개 - 유저 HOT, 책 HOT\n",
      "\n",
      "--------------------\n",
      "RMSE = 2.154876995656447, 61359개 - 총 데이터\n"
     ]
    }
   ],
   "source": [
    "n = 5\n",
    "cu_n = cold_users(n)\n",
    "cb_n = cold_books(n)\n",
    "FM_cold_valid = pd.read_csv('../valid/Catboost_1.csv')\n",
    "\n",
    "print(f\"Cold Start {n}개 기준\")\n",
    "conditional_rmse(FM_cold_valid,cu_n,cb_n)"
   ]
  },
  {
   "cell_type": "code",
   "execution_count": 85,
   "metadata": {},
   "outputs": [
    {
     "name": "stdout",
     "output_type": "stream",
     "text": [
      "Cold Start 10개 기준\n",
      "-*-*-*-*-*-*-*-*-*-*두가지로 나눈 경우-*-*-*-*-*-*-*-*-*-*\n",
      "----------유저 기준으로 나눴을 때----------\n",
      "RMSE = 2.431421881502245, 22469개 - 유저 COLD\n",
      "RMSE = 2.24499130008986, 38890개 - 유저 데이터가 11개 이상인 경우\n",
      "\n",
      "----------책 기준으로 나눴을 때----------\n",
      "RMSE = 2.3434711861998365, 42192개 - 책 COLD\n",
      "RMSE = 2.2510685815908733, 19167개 - 책 데이터가 11개 이상인 경우\n",
      "\n",
      "----------유저,책 둘 기준으로 나눴을 때----------\n",
      "RMSE = 2.506295710020419, 14228개 - 유저 COLD, 책 COLD\n",
      "RMSE = 2.254067420473206, 47131개 - 유저와 책 둘 다 데이터가 11개 이상인 경우\n",
      "\n",
      "\n",
      "-*-*-*-*-*-*-*-*-*-*네가지로 나눈 경우-*-*-*-*-*-*-*-*-*-*\n",
      "RMSE = 2.506295710020419, 14228개 - 유저 COLD, 책 COLD\n",
      "\n",
      "RMSE = 2.296414411159894, 8241개 - 유저 COLD, 책 HOT\n",
      "\n",
      "RMSE = 2.25612057314305, 27964개 - 유저 HOT, 책 COLD\n",
      "\n",
      "RMSE = 2.2162524924360905, 10926개 - 유저 HOT, 책 HOT\n",
      "\n",
      "--------------------\n",
      "RMSE = 2.3150030918881432, 61359개 - 총 데이터\n"
     ]
    }
   ],
   "source": [
    "# COLD의 기준 설정\n",
    "n = 10\n",
    "cu_n = cold_users(n)\n",
    "cb_n = cold_books(n)\n",
    "FM_cold_valid = pd.read_csv('../valid/Catboost_cold_1.csv')\n",
    "\n",
    "print(f\"Cold Start {n}개 기준\")\n",
    "conditional_rmse(FM_cold_valid,cu_n,cb_n)"
   ]
  },
  {
   "cell_type": "code",
   "execution_count": 48,
   "metadata": {},
   "outputs": [
    {
     "name": "stdout",
     "output_type": "stream",
     "text": [
      "Cold Start 4개 기준\n",
      "-*-*-*-*-*-*-*-*-*-*두가지로 나눈 경우-*-*-*-*-*-*-*-*-*-*\n",
      "----------유저 기준으로 나눴을 때----------\n",
      "RMSE = 2.5009829149511096, 14498개 - 유저 COLD\n",
      "RMSE = 2.313950604173958, 46861개 - 유저 데이터가 5개 이상인 경우\n",
      "\n",
      "----------책 기준으로 나눴을 때----------\n",
      "RMSE = 2.44425380704349, 33308개 - 책 COLD\n",
      "RMSE = 2.254685391626183, 28051개 - 책 데이터가 5개 이상인 경우\n",
      "\n",
      "----------유저,책 둘 기준으로 나눴을 때----------\n",
      "RMSE = 2.6163245155797408, 6889개 - 유저 COLD, 책 COLD\n",
      "RMSE = 2.324976772026185, 54470개 - 유저와 책 둘 다 데이터가 5개 이상인 경우\n",
      "\n",
      "\n",
      "-*-*-*-*-*-*-*-*-*-*네가지로 나눈 경우-*-*-*-*-*-*-*-*-*-*\n",
      "RMSE = 2.6163245155797408, 6889개 - 유저 COLD, 책 COLD\n",
      "\n",
      "RMSE = 2.391762591962571, 7609개 - 유저 COLD, 책 HOT\n",
      "\n",
      "RMSE = 2.3973554999035036, 26419개 - 유저 HOT, 책 COLD\n",
      "\n",
      "RMSE = 2.201483278205651, 20442개 - 유저 HOT, 책 HOT\n",
      "\n",
      "--------------------\n",
      "RMSE = 2.3594809418507783, 61359개 - 총 데이터\n"
     ]
    }
   ],
   "source": [
    "# COLD의 기준 설정\n",
    "n = 4\n",
    "cu_n = cold_users(n)\n",
    "cb_n = cold_books(n)\n",
    "FM_cold_valid = pd.read_csv('../valid/valid_.csv')\n",
    "\n",
    "print(f\"Cold Start {n}개 기준\")\n",
    "conditional_rmse(FM_cold_valid,cu_n,cb_n)"
   ]
  },
  {
   "cell_type": "code",
   "execution_count": 13,
   "metadata": {},
   "outputs": [
    {
     "name": "stdout",
     "output_type": "stream",
     "text": [
      "Cold Start 10개 기준\n",
      "-*-*-*-*-*-*-*-*-*-*두가지로 나눈 경우-*-*-*-*-*-*-*-*-*-*\n",
      "----------유저 기준으로 나눴을 때----------\n",
      "RMSE = 2.5333407606322336, 22369개 - 유저 COLD\n",
      "RMSE = 2.2251244953023983, 38990개 - 유저 데이터가 11개 이상인 경우\n",
      "\n",
      "----------책 기준으로 나눴을 때----------\n",
      "RMSE = 2.400615363575713, 42466개 - 책 COLD\n",
      "RMSE = 2.2052248462095014, 18893개 - 책 데이터가 11개 이상인 경우\n",
      "\n",
      "----------유저,책 둘 기준으로 나눴을 때----------\n",
      "RMSE = 2.6309574944869047, 14122개 - 유저 COLD, 책 COLD\n",
      "RMSE = 2.2486714176731315, 47237개 - 유저와 책 둘 다 데이터가 11개 이상인 경우\n",
      "\n",
      "\n",
      "-*-*-*-*-*-*-*-*-*-*네가지로 나눈 경우-*-*-*-*-*-*-*-*-*-*\n",
      "RMSE = 2.6309574944869047, 14122개 - 유저 COLD, 책 COLD\n",
      "\n",
      "RMSE = 2.356812884184194, 8247개 - 유저 COLD, 책 HOT\n",
      "\n",
      "RMSE = 2.2771708349744375, 28344개 - 유저 HOT, 책 COLD\n",
      "\n",
      "RMSE = 2.0802168640188987, 10646개 - 유저 HOT, 책 HOT\n",
      "\n",
      "--------------------\n",
      "RMSE = 2.3421902349172314, 61359개 - 총 데이터\n"
     ]
    }
   ],
   "source": [
    "# COLD의 기준 설정\n",
    "n = 10\n",
    "cu_n = cold_users(n)\n",
    "cb_n = cold_books(n)\n",
    "FM_cold_valid = pd.read_csv('../valid/valid_.csv')\n",
    "\n",
    "print(f\"Cold Start {n}개 기준\")\n",
    "conditional_rmse(FM_cold_valid,cu_n,cb_n)"
   ]
  },
  {
   "cell_type": "code",
   "execution_count": 15,
   "metadata": {},
   "outputs": [
    {
     "name": "stdout",
     "output_type": "stream",
     "text": [
      "Cold Start 1개 기준\n",
      "-*-*-*-*-*-*-*-*-*-*두가지로 나눈 경우-*-*-*-*-*-*-*-*-*-*\n",
      "----------유저 기준으로 나눴을 때----------\n",
      "RMSE = 2.559295441950906, 6975개 - 유저 COLD\n",
      "RMSE = 2.310099324354838, 54384개 - 유저 데이터가 2개 이상인 경우\n",
      "\n",
      "----------책 기준으로 나눴을 때----------\n",
      "RMSE = 2.4141816021489464, 17591개 - 책 COLD\n",
      "RMSE = 2.309179160787295, 43768개 - 책 데이터가 2개 이상인 경우\n",
      "\n",
      "----------유저,책 둘 기준으로 나눴을 때----------\n",
      "RMSE = 2.8308075188574784, 1602개 - 유저 COLD, 책 COLD\n",
      "RMSE = 2.3251731207763653, 59757개 - 유저와 책 둘 다 데이터가 2개 이상인 경우\n",
      "\n",
      "\n",
      "-*-*-*-*-*-*-*-*-*-*네가지로 나눈 경우-*-*-*-*-*-*-*-*-*-*\n",
      "RMSE = 2.8308075188574784, 1602개 - 유저 COLD, 책 COLD\n",
      "\n",
      "RMSE = 2.4725788703338694, 5373개 - 유저 COLD, 책 HOT\n",
      "\n",
      "RMSE = 2.3684022662170783, 15989개 - 유저 HOT, 책 COLD\n",
      "\n",
      "RMSE = 2.285381346584136, 38395개 - 유저 HOT, 책 HOT\n",
      "\n",
      "--------------------\n",
      "RMSE = 2.3397641631385193, 61359개 - 총 데이터\n"
     ]
    }
   ],
   "source": [
    "# COLD의 기준 설정\n",
    "n = 1\n",
    "cu_n = cold_users(n)\n",
    "cb_n = cold_books(n)\n",
    "FM_cold_valid = pd.read_csv('../valid/valid_.csv')\n",
    "\n",
    "print(f\"Cold Start {n}개 기준\")\n",
    "conditional_rmse(FM_cold_valid,cu_n,cb_n)"
   ]
  },
  {
   "cell_type": "code",
   "execution_count": 21,
   "metadata": {},
   "outputs": [
    {
     "name": "stdout",
     "output_type": "stream",
     "text": [
      "Cold Start 10개 기준\n",
      "-*-*-*-*-*-*-*-*-*-*두가지로 나눈 경우-*-*-*-*-*-*-*-*-*-*\n",
      "----------유저 기준으로 나눴을 때----------\n",
      "RMSE = 2.49889903311358, 22369개 - 유저 COLD\n",
      "RMSE = 2.2756426096966536, 38990개 - 유저 데이터가 11개 이상인 경우\n",
      "\n",
      "----------책 기준으로 나눴을 때----------\n",
      "RMSE = 2.405448314497078, 42466개 - 책 COLD\n",
      "RMSE = 2.2527386323813623, 18893개 - 책 데이터가 11개 이상인 경우\n",
      "\n",
      "----------유저,책 둘 기준으로 나눴을 때----------\n",
      "RMSE = 2.5741440608410495, 14122개 - 유저 COLD, 책 COLD\n",
      "RMSE = 2.291403707771615, 47237개 - 유저와 책 둘 다 데이터가 11개 이상인 경우\n",
      "\n",
      "\n",
      "-*-*-*-*-*-*-*-*-*-*네가지로 나눈 경우-*-*-*-*-*-*-*-*-*-*\n",
      "RMSE = 2.5741440608410495, 14122개 - 유저 COLD, 책 COLD\n",
      "\n",
      "RMSE = 2.3644966511474825, 8247개 - 유저 COLD, 책 HOT\n",
      "\n",
      "RMSE = 2.316817952770573, 28344개 - 유저 HOT, 책 COLD\n",
      "\n",
      "RMSE = 2.1621975244030645, 10646개 - 유저 HOT, 책 HOT\n",
      "\n",
      "--------------------\n",
      "RMSE = 2.3594809418507783, 61359개 - 총 데이터\n"
     ]
    }
   ],
   "source": [
    "# COLD의 기준 설정\n",
    "n = 10\n",
    "cu_n = cold_users(n)\n",
    "cb_n = cold_books(n)\n",
    "FM_cold_valid = pd.read_csv('../valid/valid_.csv')\n",
    "\n",
    "print(f\"Cold Start {n}개 기준\")\n",
    "conditional_rmse(FM_cold_valid,cu_n,cb_n)"
   ]
  },
  {
   "cell_type": "markdown",
   "metadata": {},
   "source": [
    "## FFDCN default "
   ]
  },
  {
   "cell_type": "code",
   "execution_count": 83,
   "metadata": {},
   "outputs": [
    {
     "name": "stdout",
     "output_type": "stream",
     "text": [
      "Cold Start 10개 기준\n",
      "-*-*-*-*-*-*-*-*-*-*두가지로 나눈 경우-*-*-*-*-*-*-*-*-*-*\n",
      "----------유저 기준으로 나눴을 때----------\n",
      "RMSE = 0.3688938135592294, 89739개 - 유저 COLD\n",
      "RMSE = 0.39540297733032553, 155697개 - 유저 데이터가 11개 이상인 경우\n",
      "\n",
      "----------책 기준으로 나눴을 때----------\n",
      "RMSE = 0.36560231654864234, 169290개 - 책 COLD\n",
      "RMSE = 0.4276508428961721, 76146개 - 책 데이터가 11개 이상인 경우\n",
      "\n",
      "----------유저,책 둘 기준으로 나눴을 때----------\n",
      "RMSE = 0.38113831496992884, 56819개 - 유저 COLD, 책 COLD\n",
      "RMSE = 0.38735099471498385, 188617개 - 유저와 책 둘 다 데이터가 11개 이상인 경우\n",
      "\n",
      "\n",
      "-*-*-*-*-*-*-*-*-*-*네가지로 나눈 경우-*-*-*-*-*-*-*-*-*-*\n",
      "RMSE = 0.38113831496992884, 56819개 - 유저 COLD, 책 COLD\n",
      "\n",
      "RMSE = 0.3467444538217894, 32920개 - 유저 COLD, 책 HOT\n",
      "\n",
      "RMSE = 0.3574971123249748, 112471개 - 유저 HOT, 책 COLD\n",
      "\n",
      "RMSE = 0.48020915643156786, 43226개 - 유저 HOT, 책 HOT\n",
      "\n",
      "--------------------\n",
      "RMSE = 0.3859216417833196, 245436개 - 총 데이터\n"
     ]
    }
   ],
   "source": [
    "# COLD의 기준 설정\n",
    "n = 10\n",
    "cu_n = cold_users(n)\n",
    "cb_n = cold_books(n)\n",
    "FFDCN_cold_valid = pd.read_csv('../valid/21_001_1024_valid_FFDCN.csv')\n",
    "\n",
    "print(f\"Cold Start {n}개 기준\")\n",
    "conditional_rmse(FFDCN_cold_valid,cu_n,cb_n)"
   ]
  },
  {
   "cell_type": "markdown",
   "metadata": {},
   "source": [
    "## FFDCN epoch-25 lr-0.0001 batch-512"
   ]
  },
  {
   "cell_type": "code",
   "execution_count": 78,
   "metadata": {},
   "outputs": [
    {
     "name": "stdout",
     "output_type": "stream",
     "text": [
      "Cold Start 10개 기준\n",
      "-*-*-*-*-*-*-*-*-*-*두가지로 나눈 경우-*-*-*-*-*-*-*-*-*-*\n",
      "----------유저 기준으로 나눴을 때----------\n",
      "RMSE = 1.1906747791366186, 89739개 - 유저 COLD\n",
      "RMSE = 1.3475246652152197, 155697개 - 유저 데이터가 11개 이상인 경우\n",
      "\n",
      "----------책 기준으로 나눴을 때----------\n",
      "RMSE = 1.1507559653476018, 169290개 - 책 COLD\n",
      "RMSE = 1.5619027922164443, 76146개 - 책 데이터가 11개 이상인 경우\n",
      "\n",
      "----------유저,책 둘 기준으로 나눴을 때----------\n",
      "RMSE = 1.108560333133586, 56819개 - 유저 COLD, 책 COLD\n",
      "RMSE = 1.3428374118300452, 188617개 - 유저와 책 둘 다 데이터가 11개 이상인 경우\n",
      "\n",
      "\n",
      "-*-*-*-*-*-*-*-*-*-*네가지로 나눈 경우-*-*-*-*-*-*-*-*-*-*\n",
      "RMSE = 1.108560333133586, 56819개 - 유저 COLD, 책 COLD\n",
      "\n",
      "RMSE = 1.3204433626305696, 32920개 - 유저 COLD, 책 HOT\n",
      "\n",
      "RMSE = 1.171494994019836, 112471개 - 유저 HOT, 책 COLD\n",
      "\n",
      "RMSE = 1.7232457705627962, 43226개 - 유저 HOT, 책 HOT\n",
      "\n",
      "--------------------\n",
      "RMSE = 1.2923850359681128, 245436개 - 총 데이터\n"
     ]
    }
   ],
   "source": [
    "# COLD의 기준 설정\n",
    "n = 10\n",
    "cu_n = cold_users(n)\n",
    "cb_n = cold_books(n)\n",
    "FFDCN_cold_valid = pd.read_csv('../valid/25_0001_512_valid_FFDCN.csv')\n",
    "\n",
    "print(f\"Cold Start {n}개 기준\")\n",
    "conditional_rmse(FFDCN_cold_valid,cu_n,cb_n)"
   ]
  },
  {
   "cell_type": "markdown",
   "metadata": {},
   "source": [
    "## FFDCN epoch-15 lr-0.001 batch-512"
   ]
  },
  {
   "cell_type": "code",
   "execution_count": 81,
   "metadata": {},
   "outputs": [
    {
     "name": "stdout",
     "output_type": "stream",
     "text": [
      "Cold Start 10개 기준\n",
      "-*-*-*-*-*-*-*-*-*-*두가지로 나눈 경우-*-*-*-*-*-*-*-*-*-*\n",
      "----------유저 기준으로 나눴을 때----------\n",
      "RMSE = 0.44834007851386554, 89739개 - 유저 COLD\n",
      "RMSE = 0.4939633695772582, 155697개 - 유저 데이터가 11개 이상인 경우\n",
      "\n",
      "----------책 기준으로 나눴을 때----------\n",
      "RMSE = 0.45803297631342793, 169290개 - 책 COLD\n",
      "RMSE = 0.51901955255703, 76146개 - 책 데이터가 11개 이상인 경우\n",
      "\n",
      "----------유저,책 둘 기준으로 나눴을 때----------\n",
      "RMSE = 0.45334929814640185, 56819개 - 유저 COLD, 책 COLD\n",
      "RMSE = 0.48490804379329083, 188617개 - 유저와 책 둘 다 데이터가 11개 이상인 경우\n",
      "\n",
      "\n",
      "-*-*-*-*-*-*-*-*-*-*네가지로 나눈 경우-*-*-*-*-*-*-*-*-*-*\n",
      "RMSE = 0.45334929814640185, 56819개 - 유저 COLD, 책 COLD\n",
      "\n",
      "RMSE = 0.43956003486304346, 32920개 - 유저 COLD, 책 HOT\n",
      "\n",
      "RMSE = 0.46038099835374263, 112471개 - 유저 HOT, 책 COLD\n",
      "\n",
      "RMSE = 0.5721795414974212, 43226개 - 유저 HOT, 책 HOT\n",
      "\n",
      "--------------------\n",
      "RMSE = 0.4777875841927591, 245436개 - 총 데이터\n"
     ]
    }
   ],
   "source": [
    "# COLD의 기준 설정\n",
    "n = 10\n",
    "cu_n = cold_users(n)\n",
    "cb_n = cold_books(n)\n",
    "FFDCN_cold_valid = pd.read_csv('../valid/15_001_512_valid_FFDCN.csv')\n",
    "\n",
    "print(f\"Cold Start {n}개 기준\")\n",
    "conditional_rmse(FFDCN_cold_valid,cu_n,cb_n)"
   ]
  },
  {
   "cell_type": "markdown",
   "metadata": {},
   "source": [
    "## FFDCN epoch-45 lr-0.0001 batch-1024"
   ]
  },
  {
   "cell_type": "code",
   "execution_count": 82,
   "metadata": {},
   "outputs": [
    {
     "name": "stdout",
     "output_type": "stream",
     "text": [
      "Cold Start 10개 기준\n",
      "-*-*-*-*-*-*-*-*-*-*두가지로 나눈 경우-*-*-*-*-*-*-*-*-*-*\n",
      "----------유저 기준으로 나눴을 때----------\n",
      "RMSE = 0.7622465375973354, 89739개 - 유저 COLD\n",
      "RMSE = 1.0052114338195821, 155697개 - 유저 데이터가 11개 이상인 경우\n",
      "\n",
      "----------책 기준으로 나눴을 때----------\n",
      "RMSE = 0.7638899527331783, 169290개 - 책 COLD\n",
      "RMSE = 1.2056147634236853, 76146개 - 책 데이터가 11개 이상인 경우\n",
      "\n",
      "----------유저,책 둘 기준으로 나눴을 때----------\n",
      "RMSE = 0.6651132183252072, 56819개 - 유저 COLD, 책 COLD\n",
      "RMSE = 0.9885672545151354, 188617개 - 유저와 책 둘 다 데이터가 11개 이상인 경우\n",
      "\n",
      "\n",
      "-*-*-*-*-*-*-*-*-*-*네가지로 나눈 경우-*-*-*-*-*-*-*-*-*-*\n",
      "RMSE = 0.6651132183252072, 56819개 - 유저 COLD, 책 COLD\n",
      "\n",
      "RMSE = 0.9057128589831022, 32920개 - 유저 COLD, 책 HOT\n",
      "\n",
      "RMSE = 0.8092195572039372, 112471개 - 유저 HOT, 책 COLD\n",
      "\n",
      "RMSE = 1.3913058098790605, 43226개 - 유저 HOT, 책 HOT\n",
      "\n",
      "--------------------\n",
      "RMSE = 0.9238165593603077, 245436개 - 총 데이터\n"
     ]
    }
   ],
   "source": [
    "# COLD의 기준 설정\n",
    "n = 10\n",
    "cu_n = cold_users(n)\n",
    "cb_n = cold_books(n)\n",
    "FFDCN_cold_valid = pd.read_csv('../valid/45_0001_1024_valid_FFDCN.csv')\n",
    "\n",
    "print(f\"Cold Start {n}개 기준\")\n",
    "conditional_rmse(FFDCN_cold_valid,cu_n,cb_n)"
   ]
  },
  {
   "cell_type": "markdown",
   "metadata": {},
   "source": [
    "## FFDCN epoch "
   ]
  },
  {
   "cell_type": "code",
   "execution_count": 86,
   "metadata": {},
   "outputs": [
    {
     "name": "stdout",
     "output_type": "stream",
     "text": [
      "Cold Start 10개 기준\n",
      "-*-*-*-*-*-*-*-*-*-*두가지로 나눈 경우-*-*-*-*-*-*-*-*-*-*\n",
      "----------유저 기준으로 나눴을 때----------\n",
      "RMSE = 2.6397690583782993, 22369개 - 유저 COLD\n",
      "RMSE = 2.3155669437273536, 38990개 - 유저 데이터가 11개 이상인 경우\n",
      "\n",
      "----------책 기준으로 나눴을 때----------\n",
      "RMSE = 2.4551225616557515, 42466개 - 책 COLD\n",
      "RMSE = 2.4015583843223207, 18893개 - 책 데이터가 11개 이상인 경우\n",
      "\n",
      "----------유저,책 둘 기준으로 나눴을 때----------\n",
      "RMSE = 2.692310588992292, 14122개 - 유저 COLD, 책 COLD\n",
      "RMSE = 2.3576630940361514, 47237개 - 유저와 책 둘 다 데이터가 11개 이상인 경우\n",
      "\n",
      "\n",
      "-*-*-*-*-*-*-*-*-*-*네가지로 나눈 경우-*-*-*-*-*-*-*-*-*-*\n",
      "RMSE = 2.692310588992292, 14122개 - 유저 COLD, 책 COLD\n",
      "\n",
      "RMSE = 2.547282418181193, 8247개 - 유저 COLD, 책 HOT\n",
      "\n",
      "RMSE = 2.3279445377223045, 28344개 - 유저 HOT, 책 COLD\n",
      "\n",
      "RMSE = 2.282285480917741, 10646개 - 유저 HOT, 책 HOT\n",
      "\n",
      "--------------------\n",
      "RMSE = 2.4387550159056617, 61359개 - 총 데이터\n"
     ]
    }
   ],
   "source": [
    "# COLD의 기준 설정\n",
    "n = 10\n",
    "cu_n = cold_users(n)\n",
    "cb_n = cold_books(n)\n",
    "FFDCN_cold_valid = pd.read_csv('../valid/valid_FFDCN.csv')\n",
    "\n",
    "print(f\"Cold Start {n}개 기준\")\n",
    "conditional_rmse(FFDCN_cold_valid,cu_n,cb_n)"
   ]
  },
  {
   "cell_type": "code",
   "execution_count": 8,
   "metadata": {},
   "outputs": [
    {
     "name": "stdout",
     "output_type": "stream",
     "text": [
      "Cold Start 5개 기준\n",
      "-*-*-*-*-*-*-*-*-*-*두가지로 나눈 경우-*-*-*-*-*-*-*-*-*-*\n",
      "----------유저 기준으로 나눴을 때----------\n",
      "RMSE = 2.3410446740327515, 16261개 - 유저 COLD\n",
      "RMSE = 2.104555524562814, 45098개 - 유저 데이터가 6개 이상인 경우\n",
      "\n",
      "----------책 기준으로 나눴을 때----------\n",
      "RMSE = 2.201364420211539, 35505개 - 책 COLD\n",
      "RMSE = 2.1255446031568916, 25854개 - 책 데이터가 6개 이상인 경우\n",
      "\n",
      "----------유저,책 둘 기준으로 나눴을 때----------\n",
      "RMSE = 2.4074850269700097, 8297개 - 유저 COLD, 책 COLD\n",
      "RMSE = 2.1301679577464094, 53062개 - 유저와 책 둘 다 데이터가 6개 이상인 경우\n",
      "\n",
      "\n",
      "-*-*-*-*-*-*-*-*-*-*네가지로 나눈 경우-*-*-*-*-*-*-*-*-*-*\n",
      "RMSE = 2.4074850269700097, 8297개 - 유저 COLD, 책 COLD\n",
      "\n",
      "RMSE = 2.2697586603302216, 7964개 - 유저 COLD, 책 HOT\n",
      "\n",
      "RMSE = 2.1345519532696002, 27208개 - 유저 HOT, 책 COLD\n",
      "\n",
      "RMSE = 2.0580975750026425, 17890개 - 유저 HOT, 책 HOT\n",
      "\n",
      "--------------------\n",
      "RMSE = 2.1697402776933, 61359개 - 총 데이터\n"
     ]
    }
   ],
   "source": [
    "# COLD의 기준 설정\n",
    "n = 5\n",
    "cu_n = cold_users(n)\n",
    "cb_n = cold_books(n)\n",
    "FFDCN_cold_valid = pd.read_csv('../valid/21697_valid_FFDCN.csv')\n",
    "\n",
    "print(f\"Cold Start {n}개 기준\")\n",
    "conditional_rmse(FFDCN_cold_valid,cu_n,cb_n)"
   ]
  },
  {
   "cell_type": "code",
   "execution_count": null,
   "metadata": {},
   "outputs": [],
   "source": []
  }
 ],
 "metadata": {
  "kernelspec": {
   "display_name": "Python 3.8.5 ('base')",
   "language": "python",
   "name": "python3"
  },
  "language_info": {
   "codemirror_mode": {
    "name": "ipython",
    "version": 3
   },
   "file_extension": ".py",
   "mimetype": "text/x-python",
   "name": "python",
   "nbconvert_exporter": "python",
   "pygments_lexer": "ipython3",
   "version": "3.8.5"
  },
  "orig_nbformat": 4,
  "vscode": {
   "interpreter": {
    "hash": "d4d1e4263499bec80672ea0156c357c1ee493ec2b1c70f0acce89fc37c4a6abe"
   }
  }
 },
 "nbformat": 4,
 "nbformat_minor": 2
}
