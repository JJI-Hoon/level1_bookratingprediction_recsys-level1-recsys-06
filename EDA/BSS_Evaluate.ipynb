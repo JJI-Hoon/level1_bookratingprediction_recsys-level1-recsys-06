{
 "cells": [
  {
   "cell_type": "code",
   "execution_count": 1,
   "metadata": {},
   "outputs": [],
   "source": [
    "import pandas as pd\n",
    "import numpy as np"
   ]
  },
  {
   "cell_type": "code",
   "execution_count": 4,
   "metadata": {},
   "outputs": [],
   "source": [
    "book_counts = pd.read_csv('../data/book_review_count.csv',index_col=0)\n",
    "user_counts = pd.read_csv('../data/user_review_count.csv',index_col=0)\n",
    "valid_df = pd.read_csv('../valid/valid_FM.csv')"
   ]
  },
  {
   "cell_type": "code",
   "execution_count": 41,
   "metadata": {},
   "outputs": [],
   "source": [
    "def cold_users(n: int=1)->set():\n",
    "    cold_users = set(user_counts[user_counts['count']<=n]['user_id'])\n",
    "    return cold_users\n",
    "\n",
    "def cold_books(n:int=0)->set():\n",
    "    cold_books = set(book_counts[book_counts['count']<=n]['isbn'])\n",
    "    return cold_books\n",
    "\n",
    "def df_rmse(df:pd.DataFrame):\n",
    "    return ((df.target - df.rating)**2).mean()**.5 , len(df)\n",
    "\n",
    "def conditional_rmse(df:pd.DataFrame, userset:set={}, bookset:set={}):\n",
    "    is_colduser = df['user_id'].isin(userset)\n",
    "    is_coldbook = df['isbn'].isin(bookset)\n",
    "    \n",
    "    print(\"-*\"*10+\"두가지로 나눈 경우\"+\"-*\"*10)\n",
    "    print(\"----------유저 기준으로 나눴을 때----------\")\n",
    "    error,length = df_rmse(df[is_colduser])\n",
    "    print(f'RMSE = {error}, {length}개 - 유저 COLD')\n",
    "    error,length = df_rmse(df[~is_colduser])\n",
    "    print(f'RMSE = {error}, {length}개 - 유저 데이터가 {n+1}개 이상인 경우')\n",
    "    print()\n",
    "\n",
    "    print(\"----------책 기준으로 나눴을 때----------\")\n",
    "    error,length = df_rmse(df[is_coldbook])\n",
    "    print(f'RMSE = {error}, {length}개 - 책 COLD')\n",
    "    error,length = df_rmse(df[~is_coldbook])\n",
    "    print(f'RMSE = {error}, {length}개 - 책 데이터가 {n+1}개 이상인 경우')\n",
    "    print()\n",
    "\n",
    "    print(\"----------유저,책 둘 기준으로 나눴을 때----------\")\n",
    "    error,length = df_rmse(df[is_colduser&is_coldbook])\n",
    "    print(f'RMSE = {error}, {length}개 - 유저 COLD, 책 COLD')\n",
    "    error,length = df_rmse(df[~(is_colduser&is_coldbook)])\n",
    "    print(f'RMSE = {error}, {length}개 - 유저와 책 둘 다 데이터가 {n+1}개 이상인 경우')\n",
    "    print('\\n')\n",
    "    \n",
    "    print(\"-*\"*10+\"네가지로 나눈 경우\"+\"-*\"*10)\n",
    "    error,length = df_rmse(df[is_colduser&is_coldbook])\n",
    "    print(f'RMSE = {error}, {length}개 - 유저 COLD, 책 COLD')\n",
    "    print()\n",
    "    error,length = df_rmse(df[is_colduser&~is_coldbook])\n",
    "    print(f'RMSE = {error}, {length}개 - 유저 COLD, 책 HOT')\n",
    "    print()\n",
    "    error,length = df_rmse(df[~is_colduser&is_coldbook])\n",
    "    print(f'RMSE = {error}, {length}개 - 유저 HOT, 책 COLD')\n",
    "    print()\n",
    "    error,length = df_rmse(df[~is_colduser&~is_coldbook])\n",
    "    print(f'RMSE = {error}, {length}개 - 유저 HOT, 책 HOT')\n",
    "    print()\n",
    "\n",
    "    print(\"-\"*20)\n",
    "    error,length = df_rmse(df)\n",
    "    print(f'RMSE = {error}, {length}개 - 총 데이터')\n"
   ]
  },
  {
   "cell_type": "code",
   "execution_count": 42,
   "metadata": {},
   "outputs": [
    {
     "name": "stdout",
     "output_type": "stream",
     "text": [
      "Cold Start 10개 기준\n",
      "-*-*-*-*-*-*-*-*-*-*두가지로 나눈 경우-*-*-*-*-*-*-*-*-*-*\n",
      "----------유저 기준으로 나눴을 때----------\n",
      "RMSE = 2.528396104209113, 22369개 - 유저 COLD\n",
      "RMSE = 2.2207112530439166, 38990개 - 유저 데이터가 11개 이상인 경우\n",
      "\n",
      "----------책 기준으로 나눴을 때----------\n",
      "RMSE = 2.397914950695296, 42466개 - 책 COLD\n",
      "RMSE = 2.1959092953544728, 18893개 - 책 데이터가 11개 이상인 경우\n",
      "\n",
      "----------유저,책 둘 기준으로 나눴을 때----------\n",
      "RMSE = 2.621382532056494, 14122개 - 유저 COLD, 책 COLD\n",
      "RMSE = 2.2457762328529385, 47237개 - 유저와 책 둘 다 데이터가 11개 이상인 경우\n",
      "\n",
      "\n",
      "-*-*-*-*-*-*-*-*-*-*네가지로 나눈 경우-*-*-*-*-*-*-*-*-*-*\n",
      "RMSE = 2.621382532056494, 14122개 - 유저 COLD, 책 COLD\n",
      "\n",
      "RMSE = 2.360677290813678, 8247개 - 유저 COLD, 책 HOT\n",
      "\n",
      "RMSE = 2.278409448364003, 28344개 - 유저 HOT, 책 COLD\n",
      "\n",
      "RMSE = 2.0592282098283383, 10646개 - 유저 HOT, 책 HOT\n",
      "\n",
      "--------------------\n",
      "RMSE = 2.337576310905986, 61359개 - 총 데이터\n"
     ]
    }
   ],
   "source": [
    "n = 10\n",
    "cu_n = cold_users(n)\n",
    "cb_n = cold_books(n)\n",
    "print(f\"Cold Start {n}개 기준\")\n",
    "conditional_rmse(valid_df,cu_n,cb_n)"
   ]
  },
  {
   "cell_type": "code",
   "execution_count": null,
   "metadata": {},
   "outputs": [],
   "source": []
  }
 ],
 "metadata": {
  "kernelspec": {
   "display_name": "Python 3.8.5 ('base')",
   "language": "python",
   "name": "python3"
  },
  "language_info": {
   "codemirror_mode": {
    "name": "ipython",
    "version": 3
   },
   "file_extension": ".py",
   "mimetype": "text/x-python",
   "name": "python",
   "nbconvert_exporter": "python",
   "pygments_lexer": "ipython3",
   "version": "3.8.5"
  },
  "orig_nbformat": 4,
  "vscode": {
   "interpreter": {
    "hash": "d4d1e4263499bec80672ea0156c357c1ee493ec2b1c70f0acce89fc37c4a6abe"
   }
  }
 },
 "nbformat": 4,
 "nbformat_minor": 2
}
